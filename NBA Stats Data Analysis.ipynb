{
 "cells": [
  {
   "cell_type": "code",
   "execution_count": 1,
   "id": "6fa43f37",
   "metadata": {},
   "outputs": [],
   "source": [
    "from bs4 import BeautifulSoup\n",
    "import requests\n",
    "import time\n",
    "import datetime\n",
    "import pandas as pd\n",
    "import numpy as np"
   ]
  },
  {
   "cell_type": "code",
   "execution_count": 5,
   "id": "dccfdceb",
   "metadata": {},
   "outputs": [],
   "source": [
    "ur = \"https://stats.nba.com/stats/leagueLeaders?LeagueID=00&PerMode=PerGame&Scope=S&Season=2012-13&SeasonType=Playoffs&StatCategory=PTS\""
   ]
  },
  {
   "cell_type": "code",
   "execution_count": 7,
   "id": "b9b89ef6",
   "metadata": {},
   "outputs": [],
   "source": [
    "r = requests.get(url=ur,headers=headers).json()"
   ]
  },
  {
   "cell_type": "code",
   "execution_count": 8,
   "id": "6f999284",
   "metadata": {},
   "outputs": [],
   "source": [
    "table_headers = r['resultSet']['headers']"
   ]
  },
  {
   "cell_type": "code",
   "execution_count": 6,
   "id": "7ac51350",
   "metadata": {},
   "outputs": [],
   "source": [
    "headers = {\n",
    "    'Accept': '*/*',\n",
    "'Accept-Encoding': 'gzip, deflate, br',\n",
    "'Accept-Language': 'en-US,en;q=0.9',\n",
    "'Connection': 'keep-alive',\n",
    "'Host': 'stats.nba.com',\n",
    "'If-Modified-Since': 'Sat, 10 Dec 2022 07:42:00 GMT',\n",
    "'Origin': 'https://www.nba.com',\n",
    "'Referer': 'https://www.nba.com/',\n",
    "'sec-ch-ua': '\"Not?A_Brand\";v=\"8\", \"Chromium\";v=\"108\", \"Google Chrome\";v=\"108\"',\n",
    "'sec-ch-ua-mobile': '?0',\n",
    "'sec-ch-ua-platform': \"Windows\",\n",
    "'Sec-Fetch-Dest': 'empty',\n",
    "'Sec-Fetch-Mode': 'cors',\n",
    "'Sec-Fetch-Site': 'same-site',\n",
    "'User-Agent': 'Mozilla/5.0 (Windows NT 10.0; Win64; x64) AppleWebKit/537.36 (KHTML, like Gecko) Chrome/108.0.0.0 Safari/537.36'\n",
    "}"
   ]
  },
  {
   "cell_type": "code",
   "execution_count": 9,
   "id": "37e11e14",
   "metadata": {},
   "outputs": [],
   "source": [
    "df_cols = ['Year','Season_type'] + table_headers"
   ]
  },
  {
   "cell_type": "code",
   "execution_count": 10,
   "id": "f2b328a2",
   "metadata": {},
   "outputs": [],
   "source": [
    "years = ['2012-13','2013-14','2014-15','2015-16','2016-17','2017-18','2018-19','2019-20','2020-21','2021-22']"
   ]
  },
  {
   "cell_type": "code",
   "execution_count": 11,
   "id": "ddaba0fb",
   "metadata": {},
   "outputs": [],
   "source": [
    "df = pd.DataFrame(columns=df_cols)\n",
    "season_types = ['Regular%20Season','Playoffs']"
   ]
  },
  {
   "cell_type": "code",
   "execution_count": 12,
   "id": "9f27831c",
   "metadata": {},
   "outputs": [
    {
     "name": "stdout",
     "output_type": "stream",
     "text": [
      "Finished scraping data for the 2012-13 Regular%20Season.\n",
      "...waiting 55.5 seconds\n",
      "Finished scraping data for the 2012-13 Playoffs.\n",
      "...waiting 31.3 seconds\n",
      "Finished scraping data for the 2013-14 Regular%20Season.\n",
      "...waiting 22.7 seconds\n",
      "Finished scraping data for the 2013-14 Playoffs.\n",
      "...waiting 57.5 seconds\n",
      "Finished scraping data for the 2014-15 Regular%20Season.\n",
      "...waiting 56.0 seconds\n",
      "Finished scraping data for the 2014-15 Playoffs.\n",
      "...waiting 34.5 seconds\n",
      "Finished scraping data for the 2015-16 Regular%20Season.\n",
      "...waiting 44.9 seconds\n",
      "Finished scraping data for the 2015-16 Playoffs.\n",
      "...waiting 49.6 seconds\n",
      "Finished scraping data for the 2016-17 Regular%20Season.\n",
      "...waiting 15.4 seconds\n",
      "Finished scraping data for the 2016-17 Playoffs.\n",
      "...waiting 51.4 seconds\n",
      "Finished scraping data for the 2017-18 Regular%20Season.\n",
      "...waiting 43.5 seconds\n",
      "Finished scraping data for the 2017-18 Playoffs.\n",
      "...waiting 34.2 seconds\n",
      "Finished scraping data for the 2018-19 Regular%20Season.\n",
      "...waiting 24.5 seconds\n",
      "Finished scraping data for the 2018-19 Playoffs.\n",
      "...waiting 53.7 seconds\n",
      "Finished scraping data for the 2019-20 Regular%20Season.\n",
      "...waiting 49.8 seconds\n",
      "Finished scraping data for the 2019-20 Playoffs.\n",
      "...waiting 27.9 seconds\n",
      "Finished scraping data for the 2020-21 Regular%20Season.\n",
      "...waiting 21.0 seconds\n",
      "Finished scraping data for the 2020-21 Playoffs.\n",
      "...waiting 23.8 seconds\n",
      "Finished scraping data for the 2021-22 Regular%20Season.\n",
      "...waiting 34.7 seconds\n",
      "Finished scraping data for the 2021-22 Playoffs.\n",
      "...waiting 17.1 seconds\n",
      "Process completed! Total run time: 14.75\n"
     ]
    }
   ],
   "source": [
    "begin_loop = time.time()\n",
    "\n",
    "for y in years:\n",
    "    for s in season_types:\n",
    "        api_url =\"https://stats.nba.com/stats/leagueLeaders?LeagueID=00&PerMode=PerGame&Scope=S&Season=\"+y+\"&SeasonType=\"+s+\"&StatCategory=PTS\"\n",
    "        r = requests.get(url=api_url, headers=headers).json()\n",
    "        temp_df1 = pd.DataFrame(r['resultSet']['rowSet'],columns=table_headers)\n",
    "        temp_df2 = pd.DataFrame({'Year': [y for i in range(len(temp_df1))],\n",
    "                                'Season_type':[s for i in range(len(temp_df1))]})\n",
    "        temp_df3 = pd.concat([temp_df2,temp_df1],axis=1)\n",
    "        df = pd.concat([df,temp_df3],axis=0)\n",
    "        print(f'Finished scraping data for the {y} {s}.')\n",
    "        lag = np.random.uniform(low=15,high=60)\n",
    "        print(f'...waiting {round(lag,1)} seconds')\n",
    "        time.sleep(lag)\n",
    "\n",
    "print(f'Process completed! Total run time: {round((time.time() - begin_loop)/60,2)}')\n"
   ]
  },
  {
   "cell_type": "code",
   "execution_count": 14,
   "id": "dbf1df4a",
   "metadata": {},
   "outputs": [],
   "source": [
    "df.to_csv('nba_player_data1.csv',index=False)"
   ]
  },
  {
   "cell_type": "code",
   "execution_count": 36,
   "id": "03058768",
   "metadata": {},
   "outputs": [],
   "source": [
    "import plotly.express as px\n",
    "import plotly.graph_objects as go\n",
    "pd.set_option('display.max_columns',None)\n",
    "\n",
    "data = pd.read_csv('nba_player_data1.csv')"
   ]
  },
  {
   "cell_type": "code",
   "execution_count": 37,
   "id": "8d1fa62c",
   "metadata": {
    "scrolled": true
   },
   "outputs": [
    {
     "data": {
      "text/html": [
       "<div>\n",
       "<style scoped>\n",
       "    .dataframe tbody tr th:only-of-type {\n",
       "        vertical-align: middle;\n",
       "    }\n",
       "\n",
       "    .dataframe tbody tr th {\n",
       "        vertical-align: top;\n",
       "    }\n",
       "\n",
       "    .dataframe thead th {\n",
       "        text-align: right;\n",
       "    }\n",
       "</style>\n",
       "<table border=\"1\" class=\"dataframe\">\n",
       "  <thead>\n",
       "    <tr style=\"text-align: right;\">\n",
       "      <th></th>\n",
       "      <th>Year</th>\n",
       "      <th>Season_type</th>\n",
       "      <th>PLAYER_ID</th>\n",
       "      <th>RANK</th>\n",
       "      <th>PLAYER</th>\n",
       "      <th>TEAM_ID</th>\n",
       "      <th>TEAM</th>\n",
       "      <th>GP</th>\n",
       "      <th>MIN</th>\n",
       "      <th>FGM</th>\n",
       "      <th>FGA</th>\n",
       "      <th>FG_PCT</th>\n",
       "      <th>FG3M</th>\n",
       "      <th>FG3A</th>\n",
       "      <th>FG3_PCT</th>\n",
       "      <th>FTM</th>\n",
       "      <th>FTA</th>\n",
       "      <th>FT_PCT</th>\n",
       "      <th>OREB</th>\n",
       "      <th>DREB</th>\n",
       "      <th>REB</th>\n",
       "      <th>AST</th>\n",
       "      <th>STL</th>\n",
       "      <th>BLK</th>\n",
       "      <th>TOV</th>\n",
       "      <th>PTS</th>\n",
       "      <th>EFF</th>\n",
       "    </tr>\n",
       "  </thead>\n",
       "  <tbody>\n",
       "    <tr>\n",
       "      <th>0</th>\n",
       "      <td>2012-13</td>\n",
       "      <td>Regular%20Season</td>\n",
       "      <td>2546</td>\n",
       "      <td>1</td>\n",
       "      <td>Carmelo Anthony</td>\n",
       "      <td>1610612752</td>\n",
       "      <td>NYK</td>\n",
       "      <td>67</td>\n",
       "      <td>37.0</td>\n",
       "      <td>10.0</td>\n",
       "      <td>22.2</td>\n",
       "      <td>0.449</td>\n",
       "      <td>2.3</td>\n",
       "      <td>6.2</td>\n",
       "      <td>0.379</td>\n",
       "      <td>6.3</td>\n",
       "      <td>7.6</td>\n",
       "      <td>0.830</td>\n",
       "      <td>2.0</td>\n",
       "      <td>4.9</td>\n",
       "      <td>6.9</td>\n",
       "      <td>2.6</td>\n",
       "      <td>0.8</td>\n",
       "      <td>0.5</td>\n",
       "      <td>2.6</td>\n",
       "      <td>28.7</td>\n",
       "      <td>23.2</td>\n",
       "    </tr>\n",
       "    <tr>\n",
       "      <th>1</th>\n",
       "      <td>2012-13</td>\n",
       "      <td>Regular%20Season</td>\n",
       "      <td>201142</td>\n",
       "      <td>2</td>\n",
       "      <td>Kevin Durant</td>\n",
       "      <td>1610612760</td>\n",
       "      <td>OKC</td>\n",
       "      <td>81</td>\n",
       "      <td>38.5</td>\n",
       "      <td>9.0</td>\n",
       "      <td>17.7</td>\n",
       "      <td>0.510</td>\n",
       "      <td>1.7</td>\n",
       "      <td>4.1</td>\n",
       "      <td>0.416</td>\n",
       "      <td>8.4</td>\n",
       "      <td>9.3</td>\n",
       "      <td>0.905</td>\n",
       "      <td>0.6</td>\n",
       "      <td>7.3</td>\n",
       "      <td>7.9</td>\n",
       "      <td>4.6</td>\n",
       "      <td>1.4</td>\n",
       "      <td>1.3</td>\n",
       "      <td>3.5</td>\n",
       "      <td>28.1</td>\n",
       "      <td>30.4</td>\n",
       "    </tr>\n",
       "    <tr>\n",
       "      <th>2</th>\n",
       "      <td>2012-13</td>\n",
       "      <td>Regular%20Season</td>\n",
       "      <td>977</td>\n",
       "      <td>3</td>\n",
       "      <td>Kobe Bryant</td>\n",
       "      <td>1610612747</td>\n",
       "      <td>LAL</td>\n",
       "      <td>78</td>\n",
       "      <td>38.6</td>\n",
       "      <td>9.5</td>\n",
       "      <td>20.4</td>\n",
       "      <td>0.463</td>\n",
       "      <td>1.7</td>\n",
       "      <td>5.2</td>\n",
       "      <td>0.324</td>\n",
       "      <td>6.7</td>\n",
       "      <td>8.0</td>\n",
       "      <td>0.839</td>\n",
       "      <td>0.8</td>\n",
       "      <td>4.7</td>\n",
       "      <td>5.6</td>\n",
       "      <td>6.0</td>\n",
       "      <td>1.4</td>\n",
       "      <td>0.3</td>\n",
       "      <td>3.7</td>\n",
       "      <td>27.3</td>\n",
       "      <td>24.6</td>\n",
       "    </tr>\n",
       "    <tr>\n",
       "      <th>3</th>\n",
       "      <td>2012-13</td>\n",
       "      <td>Regular%20Season</td>\n",
       "      <td>2544</td>\n",
       "      <td>4</td>\n",
       "      <td>LeBron James</td>\n",
       "      <td>1610612748</td>\n",
       "      <td>MIA</td>\n",
       "      <td>76</td>\n",
       "      <td>37.9</td>\n",
       "      <td>10.1</td>\n",
       "      <td>17.8</td>\n",
       "      <td>0.565</td>\n",
       "      <td>1.4</td>\n",
       "      <td>3.3</td>\n",
       "      <td>0.406</td>\n",
       "      <td>5.3</td>\n",
       "      <td>7.0</td>\n",
       "      <td>0.753</td>\n",
       "      <td>1.3</td>\n",
       "      <td>6.8</td>\n",
       "      <td>8.0</td>\n",
       "      <td>7.3</td>\n",
       "      <td>1.7</td>\n",
       "      <td>0.9</td>\n",
       "      <td>3.0</td>\n",
       "      <td>26.8</td>\n",
       "      <td>32.2</td>\n",
       "    </tr>\n",
       "    <tr>\n",
       "      <th>4</th>\n",
       "      <td>2012-13</td>\n",
       "      <td>Regular%20Season</td>\n",
       "      <td>201935</td>\n",
       "      <td>5</td>\n",
       "      <td>James Harden</td>\n",
       "      <td>1610612745</td>\n",
       "      <td>HOU</td>\n",
       "      <td>78</td>\n",
       "      <td>38.3</td>\n",
       "      <td>7.5</td>\n",
       "      <td>17.1</td>\n",
       "      <td>0.438</td>\n",
       "      <td>2.3</td>\n",
       "      <td>6.2</td>\n",
       "      <td>0.368</td>\n",
       "      <td>8.6</td>\n",
       "      <td>10.2</td>\n",
       "      <td>0.851</td>\n",
       "      <td>0.8</td>\n",
       "      <td>4.1</td>\n",
       "      <td>4.9</td>\n",
       "      <td>5.8</td>\n",
       "      <td>1.8</td>\n",
       "      <td>0.5</td>\n",
       "      <td>3.8</td>\n",
       "      <td>25.9</td>\n",
       "      <td>24.0</td>\n",
       "    </tr>\n",
       "    <tr>\n",
       "      <th>...</th>\n",
       "      <td>...</td>\n",
       "      <td>...</td>\n",
       "      <td>...</td>\n",
       "      <td>...</td>\n",
       "      <td>...</td>\n",
       "      <td>...</td>\n",
       "      <td>...</td>\n",
       "      <td>...</td>\n",
       "      <td>...</td>\n",
       "      <td>...</td>\n",
       "      <td>...</td>\n",
       "      <td>...</td>\n",
       "      <td>...</td>\n",
       "      <td>...</td>\n",
       "      <td>...</td>\n",
       "      <td>...</td>\n",
       "      <td>...</td>\n",
       "      <td>...</td>\n",
       "      <td>...</td>\n",
       "      <td>...</td>\n",
       "      <td>...</td>\n",
       "      <td>...</td>\n",
       "      <td>...</td>\n",
       "      <td>...</td>\n",
       "      <td>...</td>\n",
       "      <td>...</td>\n",
       "      <td>...</td>\n",
       "    </tr>\n",
       "    <tr>\n",
       "      <th>3816</th>\n",
       "      <td>2021-22</td>\n",
       "      <td>Playoffs</td>\n",
       "      <td>1629750</td>\n",
       "      <td>144</td>\n",
       "      <td>Javonte Green</td>\n",
       "      <td>1610612741</td>\n",
       "      <td>CHI</td>\n",
       "      <td>5</td>\n",
       "      <td>14.4</td>\n",
       "      <td>0.6</td>\n",
       "      <td>3.4</td>\n",
       "      <td>0.176</td>\n",
       "      <td>0.0</td>\n",
       "      <td>1.2</td>\n",
       "      <td>0.000</td>\n",
       "      <td>0.2</td>\n",
       "      <td>0.4</td>\n",
       "      <td>0.500</td>\n",
       "      <td>1.6</td>\n",
       "      <td>1.4</td>\n",
       "      <td>3.0</td>\n",
       "      <td>0.4</td>\n",
       "      <td>1.8</td>\n",
       "      <td>0.0</td>\n",
       "      <td>0.8</td>\n",
       "      <td>1.4</td>\n",
       "      <td>2.8</td>\n",
       "    </tr>\n",
       "    <tr>\n",
       "      <th>3817</th>\n",
       "      <td>2021-22</td>\n",
       "      <td>Playoffs</td>\n",
       "      <td>1627789</td>\n",
       "      <td>145</td>\n",
       "      <td>Timothe Luwawu-Cabarrot</td>\n",
       "      <td>1610612737</td>\n",
       "      <td>ATL</td>\n",
       "      <td>4</td>\n",
       "      <td>5.5</td>\n",
       "      <td>0.5</td>\n",
       "      <td>1.0</td>\n",
       "      <td>0.500</td>\n",
       "      <td>0.3</td>\n",
       "      <td>0.8</td>\n",
       "      <td>0.333</td>\n",
       "      <td>0.0</td>\n",
       "      <td>0.0</td>\n",
       "      <td>0.000</td>\n",
       "      <td>0.0</td>\n",
       "      <td>0.8</td>\n",
       "      <td>0.8</td>\n",
       "      <td>0.5</td>\n",
       "      <td>0.0</td>\n",
       "      <td>0.0</td>\n",
       "      <td>0.3</td>\n",
       "      <td>1.3</td>\n",
       "      <td>1.8</td>\n",
       "    </tr>\n",
       "    <tr>\n",
       "      <th>3818</th>\n",
       "      <td>2021-22</td>\n",
       "      <td>Playoffs</td>\n",
       "      <td>202684</td>\n",
       "      <td>146</td>\n",
       "      <td>Tristan Thompson</td>\n",
       "      <td>1610612741</td>\n",
       "      <td>CHI</td>\n",
       "      <td>5</td>\n",
       "      <td>7.6</td>\n",
       "      <td>0.4</td>\n",
       "      <td>1.0</td>\n",
       "      <td>0.400</td>\n",
       "      <td>0.0</td>\n",
       "      <td>0.0</td>\n",
       "      <td>0.000</td>\n",
       "      <td>0.0</td>\n",
       "      <td>0.0</td>\n",
       "      <td>0.000</td>\n",
       "      <td>0.4</td>\n",
       "      <td>1.2</td>\n",
       "      <td>1.6</td>\n",
       "      <td>0.4</td>\n",
       "      <td>0.2</td>\n",
       "      <td>0.0</td>\n",
       "      <td>1.0</td>\n",
       "      <td>0.8</td>\n",
       "      <td>1.4</td>\n",
       "    </tr>\n",
       "    <tr>\n",
       "      <th>3819</th>\n",
       "      <td>2021-22</td>\n",
       "      <td>Playoffs</td>\n",
       "      <td>1630267</td>\n",
       "      <td>147</td>\n",
       "      <td>Facundo Campazzo</td>\n",
       "      <td>1610612743</td>\n",
       "      <td>DEN</td>\n",
       "      <td>4</td>\n",
       "      <td>3.3</td>\n",
       "      <td>0.0</td>\n",
       "      <td>0.5</td>\n",
       "      <td>0.000</td>\n",
       "      <td>0.0</td>\n",
       "      <td>0.5</td>\n",
       "      <td>0.000</td>\n",
       "      <td>0.0</td>\n",
       "      <td>0.0</td>\n",
       "      <td>0.000</td>\n",
       "      <td>0.0</td>\n",
       "      <td>0.8</td>\n",
       "      <td>0.8</td>\n",
       "      <td>0.5</td>\n",
       "      <td>0.0</td>\n",
       "      <td>0.0</td>\n",
       "      <td>0.5</td>\n",
       "      <td>0.0</td>\n",
       "      <td>0.3</td>\n",
       "    </tr>\n",
       "    <tr>\n",
       "      <th>3820</th>\n",
       "      <td>2021-22</td>\n",
       "      <td>Playoffs</td>\n",
       "      <td>1630201</td>\n",
       "      <td>147</td>\n",
       "      <td>Malachi Flynn</td>\n",
       "      <td>1610612761</td>\n",
       "      <td>TOR</td>\n",
       "      <td>6</td>\n",
       "      <td>6.0</td>\n",
       "      <td>0.0</td>\n",
       "      <td>1.2</td>\n",
       "      <td>0.000</td>\n",
       "      <td>0.0</td>\n",
       "      <td>0.5</td>\n",
       "      <td>0.000</td>\n",
       "      <td>0.0</td>\n",
       "      <td>0.0</td>\n",
       "      <td>0.000</td>\n",
       "      <td>0.3</td>\n",
       "      <td>0.2</td>\n",
       "      <td>0.5</td>\n",
       "      <td>0.5</td>\n",
       "      <td>0.2</td>\n",
       "      <td>0.0</td>\n",
       "      <td>0.2</td>\n",
       "      <td>0.0</td>\n",
       "      <td>-0.2</td>\n",
       "    </tr>\n",
       "  </tbody>\n",
       "</table>\n",
       "<p>3821 rows × 27 columns</p>\n",
       "</div>"
      ],
      "text/plain": [
       "         Year       Season_type  PLAYER_ID  RANK                   PLAYER  \\\n",
       "0     2012-13  Regular%20Season       2546     1          Carmelo Anthony   \n",
       "1     2012-13  Regular%20Season     201142     2             Kevin Durant   \n",
       "2     2012-13  Regular%20Season        977     3              Kobe Bryant   \n",
       "3     2012-13  Regular%20Season       2544     4             LeBron James   \n",
       "4     2012-13  Regular%20Season     201935     5             James Harden   \n",
       "...       ...               ...        ...   ...                      ...   \n",
       "3816  2021-22          Playoffs    1629750   144            Javonte Green   \n",
       "3817  2021-22          Playoffs    1627789   145  Timothe Luwawu-Cabarrot   \n",
       "3818  2021-22          Playoffs     202684   146         Tristan Thompson   \n",
       "3819  2021-22          Playoffs    1630267   147         Facundo Campazzo   \n",
       "3820  2021-22          Playoffs    1630201   147            Malachi Flynn   \n",
       "\n",
       "         TEAM_ID TEAM  GP   MIN   FGM   FGA  FG_PCT  FG3M  FG3A  FG3_PCT  FTM  \\\n",
       "0     1610612752  NYK  67  37.0  10.0  22.2   0.449   2.3   6.2    0.379  6.3   \n",
       "1     1610612760  OKC  81  38.5   9.0  17.7   0.510   1.7   4.1    0.416  8.4   \n",
       "2     1610612747  LAL  78  38.6   9.5  20.4   0.463   1.7   5.2    0.324  6.7   \n",
       "3     1610612748  MIA  76  37.9  10.1  17.8   0.565   1.4   3.3    0.406  5.3   \n",
       "4     1610612745  HOU  78  38.3   7.5  17.1   0.438   2.3   6.2    0.368  8.6   \n",
       "...          ...  ...  ..   ...   ...   ...     ...   ...   ...      ...  ...   \n",
       "3816  1610612741  CHI   5  14.4   0.6   3.4   0.176   0.0   1.2    0.000  0.2   \n",
       "3817  1610612737  ATL   4   5.5   0.5   1.0   0.500   0.3   0.8    0.333  0.0   \n",
       "3818  1610612741  CHI   5   7.6   0.4   1.0   0.400   0.0   0.0    0.000  0.0   \n",
       "3819  1610612743  DEN   4   3.3   0.0   0.5   0.000   0.0   0.5    0.000  0.0   \n",
       "3820  1610612761  TOR   6   6.0   0.0   1.2   0.000   0.0   0.5    0.000  0.0   \n",
       "\n",
       "       FTA  FT_PCT  OREB  DREB  REB  AST  STL  BLK  TOV   PTS   EFF  \n",
       "0      7.6   0.830   2.0   4.9  6.9  2.6  0.8  0.5  2.6  28.7  23.2  \n",
       "1      9.3   0.905   0.6   7.3  7.9  4.6  1.4  1.3  3.5  28.1  30.4  \n",
       "2      8.0   0.839   0.8   4.7  5.6  6.0  1.4  0.3  3.7  27.3  24.6  \n",
       "3      7.0   0.753   1.3   6.8  8.0  7.3  1.7  0.9  3.0  26.8  32.2  \n",
       "4     10.2   0.851   0.8   4.1  4.9  5.8  1.8  0.5  3.8  25.9  24.0  \n",
       "...    ...     ...   ...   ...  ...  ...  ...  ...  ...   ...   ...  \n",
       "3816   0.4   0.500   1.6   1.4  3.0  0.4  1.8  0.0  0.8   1.4   2.8  \n",
       "3817   0.0   0.000   0.0   0.8  0.8  0.5  0.0  0.0  0.3   1.3   1.8  \n",
       "3818   0.0   0.000   0.4   1.2  1.6  0.4  0.2  0.0  1.0   0.8   1.4  \n",
       "3819   0.0   0.000   0.0   0.8  0.8  0.5  0.0  0.0  0.5   0.0   0.3  \n",
       "3820   0.0   0.000   0.3   0.2  0.5  0.5  0.2  0.0  0.2   0.0  -0.2  \n",
       "\n",
       "[3821 rows x 27 columns]"
      ]
     },
     "execution_count": 37,
     "metadata": {},
     "output_type": "execute_result"
    }
   ],
   "source": [
    "data"
   ]
  },
  {
   "cell_type": "code",
   "execution_count": 38,
   "id": "fb549afc",
   "metadata": {},
   "outputs": [
    {
     "data": {
      "text/plain": [
       "(3821, 27)"
      ]
     },
     "execution_count": 38,
     "metadata": {},
     "output_type": "execute_result"
    }
   ],
   "source": [
    "data.shape"
   ]
  },
  {
   "cell_type": "markdown",
   "id": "a91a48d1",
   "metadata": {},
   "source": [
    "# Data cleaning & analysis preparation"
   ]
  },
  {
   "cell_type": "code",
   "execution_count": 39,
   "id": "e3232c14",
   "metadata": {},
   "outputs": [
    {
     "data": {
      "text/plain": [
       "Year           0\n",
       "Season_type    0\n",
       "PLAYER_ID      0\n",
       "RANK           0\n",
       "PLAYER         0\n",
       "TEAM_ID        0\n",
       "TEAM           0\n",
       "GP             0\n",
       "MIN            0\n",
       "FGM            0\n",
       "FGA            0\n",
       "FG_PCT         0\n",
       "FG3M           0\n",
       "FG3A           0\n",
       "FG3_PCT        0\n",
       "FTM            0\n",
       "FTA            0\n",
       "FT_PCT         0\n",
       "OREB           0\n",
       "DREB           0\n",
       "REB            0\n",
       "AST            0\n",
       "STL            0\n",
       "BLK            0\n",
       "TOV            0\n",
       "PTS            0\n",
       "EFF            0\n",
       "dtype: int64"
      ]
     },
     "execution_count": 39,
     "metadata": {},
     "output_type": "execute_result"
    }
   ],
   "source": [
    "#check for null values\n",
    "data.isna().sum()"
   ]
  },
  {
   "cell_type": "code",
   "execution_count": 40,
   "id": "c17c9c68",
   "metadata": {},
   "outputs": [],
   "source": [
    "#remove columns not necessary for analysis\n",
    "data.drop(columns=['RANK','EFF'],inplace=True)"
   ]
  },
  {
   "cell_type": "code",
   "execution_count": 41,
   "id": "01b5646b",
   "metadata": {},
   "outputs": [],
   "source": [
    "#add a new column for season start year\n",
    "data['season_start_year'] = data['Year'].str[:4].astype(int)"
   ]
  },
  {
   "cell_type": "code",
   "execution_count": 42,
   "id": "4bd2d025",
   "metadata": {},
   "outputs": [],
   "source": [
    "#standardize the New Orleans' teams under one franchise name\n",
    "data.TEAM.replace(to_replace=['NOP','NOH'], value='NO', inplace=True)"
   ]
  },
  {
   "cell_type": "code",
   "execution_count": 43,
   "id": "05c358f5",
   "metadata": {},
   "outputs": [],
   "source": [
    "#Renamce the season type for the regular season for convienence\n",
    "data['Season_type'].replace('Regular%20Season','RS',inplace=True)"
   ]
  },
  {
   "cell_type": "code",
   "execution_count": 44,
   "id": "4dd15d36",
   "metadata": {},
   "outputs": [],
   "source": [
    "rs_df = data[data['Season_type']=='RS']"
   ]
  },
  {
   "cell_type": "code",
   "execution_count": 45,
   "id": "bf9bb4b9",
   "metadata": {},
   "outputs": [],
   "source": [
    "playoffs_df = data[data['Season_type'] == 'Playoffs']"
   ]
  },
  {
   "cell_type": "code",
   "execution_count": 46,
   "id": "d9acc639",
   "metadata": {},
   "outputs": [
    {
     "data": {
      "text/plain": [
       "Index(['Year', 'Season_type', 'PLAYER_ID', 'PLAYER', 'TEAM_ID', 'TEAM', 'GP',\n",
       "       'MIN', 'FGM', 'FGA', 'FG_PCT', 'FG3M', 'FG3A', 'FG3_PCT', 'FTM', 'FTA',\n",
       "       'FT_PCT', 'OREB', 'DREB', 'REB', 'AST', 'STL', 'BLK', 'TOV', 'PTS',\n",
       "       'season_start_year'],\n",
       "      dtype='object')"
      ]
     },
     "execution_count": 46,
     "metadata": {},
     "output_type": "execute_result"
    }
   ],
   "source": [
    "data.columns"
   ]
  },
  {
   "cell_type": "code",
   "execution_count": 28,
   "id": "31dfaf23",
   "metadata": {},
   "outputs": [],
   "source": [
    "total_cols = ['MIN','FGM','FGA','FG3M','FG3A','FTM','FTA',\n",
    "            'OREB','DREB','REB','AST','STL','BLK','TOV','PTS']"
   ]
  },
  {
   "cell_type": "markdown",
   "id": "766425ad",
   "metadata": {},
   "source": [
    "# Which player stats are correlated with each other?"
   ]
  },
  {
   "cell_type": "code",
   "execution_count": 49,
   "id": "606f415b",
   "metadata": {
    "scrolled": true
   },
   "outputs": [],
   "source": [
    "data_per_min = data.groupby(['PLAYER','PLAYER_ID','Year'])[total_cols].sum().reset_index()\n",
    "\n",
    "for col in data_per_min.columns[4:]:\n",
    "    data_per_min[col] = data_per_min[col]/data_per_min['MIN']\n",
    "    \n",
    "    data_per_min['FG%'] = data_per_min['FGM'] / data_per_min['FGA']\n",
    "    data_per_min['3PT%'] = data_per_min['FG3M'] / data_per_min['FG3A']\n",
    "    data_per_min['FT%'] = data_per_min['FTM'] / data_per_min['FTA']\n",
    "    data_per_min['FG3A%']= data_per_min['FG3A'] / data_per_min['FGA']\n",
    "    data_per_min['PTS/FGA'] = data_per_min['PTS']/data_per_min['FGA']\n",
    "    data_per_min['FTA/FGA'] = data_per_min['FTA'] / data_per_min['FGA']\n",
    "    data_per_min['TRU%'] = 0.5*data_per_min['PTS'] / (data_per_min['FGA']+0.475*data_per_min['FTA'])\n",
    "    data_per_min['AST_TOV'] = data_per_min['AST'] / data_per_min['TOV']\n",
    "                                                             \n",
    "data_per_min = data_per_min[data_per_min['MIN']>=50]\n",
    "data_per_min.drop(columns='PLAYER_ID', inplace=True)"
   ]
  },
  {
   "cell_type": "code",
   "execution_count": 50,
   "id": "e0ce182f",
   "metadata": {},
   "outputs": [
    {
     "data": {
      "application/vnd.plotly.v1+json": {
       "config": {
        "plotlyServerURL": "https://plot.ly"
       },
       "data": [
        {
         "coloraxis": "coloraxis",
         "hovertemplate": "x: %{x}<br>y: %{y}<br>color: %{z}<extra></extra>",
         "name": "0",
         "type": "heatmap",
         "x": [
          "MIN",
          "FGM",
          "FGA",
          "FG3M",
          "FG3A",
          "FTM",
          "FTA",
          "OREB",
          "DREB",
          "REB",
          "AST",
          "STL",
          "BLK",
          "TOV",
          "PTS",
          "FG%",
          "3PT%",
          "FT%",
          "FG3A%",
          "PTS/FGA",
          "FTA/FGA",
          "TRU%",
          "AST_TOV"
         ],
         "xaxis": "x",
         "y": [
          "MIN",
          "FGM",
          "FGA",
          "FG3M",
          "FG3A",
          "FTM",
          "FTA",
          "OREB",
          "DREB",
          "REB",
          "AST",
          "STL",
          "BLK",
          "TOV",
          "PTS",
          "FG%",
          "3PT%",
          "FT%",
          "FG3A%",
          "PTS/FGA",
          "FTA/FGA",
          "TRU%",
          "AST_TOV"
         ],
         "yaxis": "y",
         "z": [
          [
           1,
           0.4428982958264306,
           0.44476705352480544,
           0.09421416668243517,
           0.0959515055226957,
           0.4657994211136621,
           0.43895846803103156,
           -0.11373777994271422,
           0.09174057439057054,
           0.01985064807794482,
           0.35868571715330094,
           0.23112366854954813,
           -0.059943885859547935,
           0.3909422936598378,
           0.4833495014815477,
           0.016430662980970588,
           -0.013665817784187156,
           0.14876645349083567,
           -0.1151588895206155,
           0.15741505311485057,
           0.20488741406247876,
           0.06452922897626813,
           0.12271384329554116
          ],
          [
           0.4428982958264306,
           1,
           0.9142356430079569,
           0.1408116858945368,
           0.15561204173439355,
           0.6876769063768681,
           0.6546059242561947,
           0.016328235047586525,
           0.22094541821779376,
           0.1601263026784808,
           0.4043900091958297,
           0.053164659237252054,
           0.023534166138824072,
           0.6112771581232483,
           0.9532119037971507,
           0.21822757140548704,
           -0.04704504800721569,
           0.2214763339576251,
           -0.3107215576529459,
           0.21306679847289617,
           0.15664319980110175,
           0.1772887587283514,
           -0.04732003848918843
          ],
          [
           0.44476705352480544,
           0.9142356430079569,
           1,
           0.32482592335836025,
           0.38073417611741844,
           0.6869262148495145,
           0.5956989260461127,
           -0.22302206538275215,
           0.007931695600685306,
           -0.08095597398099659,
           0.4861509761472966,
           0.12185680697562343,
           -0.1855044870912251,
           0.6352311699976905,
           0.9302677360929014,
           -0.17495407623444126,
           0.01519310271852669,
           0.38185630825396794,
           -0.1061494267641253,
           -0.07507486327116171,
           0.009201605264942372,
           -0.10667968378333781,
           0.04643572109256342
          ],
          [
           0.09421416668243517,
           0.1408116858945368,
           0.32482592335836025,
           1,
           0.9720780065427918,
           0.03967409279059785,
           -0.10814820945445727,
           -0.6580964437864867,
           -0.41676709667314693,
           -0.5446089376132707,
           0.19961917954839623,
           0.11330373459216043,
           -0.4654851633530432,
           0.06255862677289882,
           0.309699356346255,
           -0.4606260765477823,
           0.5684229948903483,
           0.5052977582135952,
           0.8377172755167117,
           -0.0762116267144727,
           -0.39715332309022244,
           0.20591608731016034,
           0.24757211211896815
          ],
          [
           0.0959515055226957,
           0.15561204173439355,
           0.38073417611741844,
           0.9720780065427918,
           1,
           0.08794118329878732,
           -0.060028943801011155,
           -0.6762461436758832,
           -0.4204565654879647,
           -0.5542074872754845,
           0.24902350931089628,
           0.15789197916787298,
           -0.4849305977035207,
           0.12509673870850596,
           0.33061130994657467,
           -0.5500869360349268,
           0.4866304306831998,
           0.501948318670441,
           0.8391956639116657,
           -0.16283277871642904,
           -0.3853217603634693,
           0.07437155172562736,
           0.25271369571551855
          ],
          [
           0.4657994211136621,
           0.6876769063768681,
           0.6869262148495145,
           0.03967409279059785,
           0.08794118329878732,
           1,
           0.9517270061902363,
           0.009568515116715234,
           0.2133779905868306,
           0.1526732509753284,
           0.4597692769932781,
           0.15663335712288373,
           0.04466153249114377,
           0.6989704825901526,
           0.8222993897139766,
           0.058478601181928186,
           -0.1204152528819772,
           0.26453030502976915,
           -0.2864082005992558,
           0.42204789643088325,
           0.5973925493479303,
           0.13177261571194981,
           -0.04956204973319058
          ],
          [
           0.43895846803103156,
           0.6546059242561947,
           0.5956989260461127,
           -0.10814820945445727,
           -0.060028943801011155,
           0.9517270061902363,
           1,
           0.18095497694685578,
           0.36519972560217023,
           0.3248016945861624,
           0.3971978854651855,
           0.14056271901540252,
           0.18241118926342784,
           0.6909412742631096,
           0.7538192729692034,
           0.21361984877614296,
           -0.23030103708495453,
           -0.006126831337420156,
           -0.4106949513653972,
           0.5049935096222287,
           0.7535761083402797,
           0.12480992851325139,
           -0.13074669686985554
          ],
          [
           -0.11373777994271422,
           0.016328235047586525,
           -0.22302206538275215,
           -0.6580964437864867,
           -0.6762461436758832,
           0.009568515116715234,
           0.18095497694685578,
           1,
           0.6748426526012066,
           0.856729065962565,
           -0.3376289303287845,
           -0.20137093891050384,
           0.6341835937838217,
           -0.042889659820272576,
           -0.11603956224760985,
           0.634137482689328,
           -0.4742038492112151,
           -0.5519191456981618,
           -0.6560477935824724,
           0.3484478972837156,
           0.45541678942753633,
           0.12601929991407126,
           -0.46532298332779337
          ],
          [
           0.09174057439057054,
           0.22094541821779376,
           0.007931695600685306,
           -0.41676709667314693,
           -0.4204565654879647,
           0.2133779905868306,
           0.36519972560217023,
           0.6748426526012066,
           1,
           0.9586662021416483,
           -0.11814406609002899,
           -0.1257485084112755,
           0.5584885167843211,
           0.19358838173310808,
           0.14207971594177374,
           0.5296246278528474,
           -0.29620974886595414,
           -0.4073300178447646,
           -0.46889395081504154,
           0.4085120190041085,
           0.4786804240404009,
           0.1906126633545571,
           -0.34954243963674714
          ],
          [
           0.01985064807794482,
           0.1601263026784808,
           -0.08095597398099659,
           -0.5446089376132707,
           -0.5542074872754845,
           0.1526732509753284,
           0.3248016945861624,
           0.856729065962565,
           0.9586662021416483,
           1,
           -0.21330444472262064,
           -0.16569922403922965,
           0.6347370162314105,
           0.11816024630433994,
           0.05418149519665627,
           0.6146977093914618,
           -0.38881360055265296,
           -0.49723849561420097,
           -0.5798805961581274,
           0.4203971773593807,
           0.5102146283370543,
           0.18249113479763057,
           -0.4240392870508608
          ],
          [
           0.35868571715330094,
           0.4043900091958297,
           0.4861509761472966,
           0.19961917954839623,
           0.24902350931089628,
           0.4597692769932781,
           0.3971978854651855,
           -0.3376289303287845,
           -0.11814406609002899,
           -0.21330444472262064,
           1,
           0.40318921650395684,
           -0.3294438766241981,
           0.723114835206873,
           0.4749448142092201,
           -0.1921178009356671,
           0.05333651008682492,
           0.2241533874787794,
           0.009305837562593868,
           -0.016891990555969037,
           0.08473092205305041,
           -0.08139573046583341,
           0.657129631607715
          ],
          [
           0.23112366854954813,
           0.053164659237252054,
           0.12185680697562343,
           0.11330373459216043,
           0.15789197916787298,
           0.15663335712288373,
           0.14056271901540252,
           -0.20137093891050384,
           -0.1257485084112755,
           -0.16569922403922965,
           0.40318921650395684,
           1,
           -0.16479053531221893,
           0.26361268503128393,
           0.11241027246485163,
           -0.18542640330885474,
           0.0133755097932062,
           -9.974308476515788e-05,
           0.11751344087987546,
           -0.0677532246764909,
           0.02947372972345491,
           -0.11133745454819975,
           0.30879341017715484
          ],
          [
           -0.059943885859547935,
           0.023534166138824072,
           -0.1855044870912251,
           -0.4654851633530432,
           -0.4849305977035207,
           0.04466153249114377,
           0.18241118926342784,
           0.6341835937838217,
           0.5584885167843211,
           0.6347370162314105,
           -0.3294438766241981,
           -0.16479053531221893,
           1,
           -0.059004461843738684,
           -0.06141659020581894,
           0.5368829987416056,
           -0.26214075050080565,
           -0.41332594996783395,
           -0.4469672147913178,
           0.36856829193980806,
           0.3911382846993736,
           0.2021041137706448,
           -0.4254409914774083
          ],
          [
           0.3909422936598378,
           0.6112771581232483,
           0.6352311699976905,
           0.06255862677289882,
           0.12509673870850596,
           0.6989704825901526,
           0.6909412742631096,
           -0.042889659820272576,
           0.19358838173310808,
           0.11816024630433994,
           0.723114835206873,
           0.26361268503128393,
           -0.059004461843738684,
           1,
           0.6719617360968876,
           -0.01692637002765295,
           -0.10249994943285158,
           0.09636052338497163,
           -0.2330354395712449,
           0.14931298381522365,
           0.34317631207341204,
           -0.05341760738527902,
           0.011652379124391966
          ],
          [
           0.4833495014815477,
           0.9532119037971507,
           0.9302677360929014,
           0.309699356346255,
           0.33061130994657467,
           0.8222993897139766,
           0.7538192729692034,
           -0.11603956224760985,
           0.14207971594177374,
           0.05418149519665627,
           0.4749448142092201,
           0.11241027246485163,
           -0.06141659020581894,
           0.6719617360968876,
           1,
           0.07920651716540378,
           0.032566411544130806,
           0.34277831881714244,
           -0.1458000696446518,
           0.2753935951273834,
           0.2318764448883835,
           0.2083869097606503,
           -0.0005775953205880005
          ],
          [
           0.016430662980970588,
           0.21822757140548704,
           -0.17495407623444126,
           -0.4606260765477823,
           -0.5500869360349268,
           0.058478601181928186,
           0.21361984877614296,
           0.634137482689328,
           0.5296246278528474,
           0.6146977093914618,
           -0.1921178009356671,
           -0.18542640330885474,
           0.5368829987416056,
           -0.01692637002765295,
           0.07920651716540378,
           1,
           -0.21807944119352038,
           -0.42443409720063763,
           -0.568447871233825,
           0.7612111858415723,
           0.4804308823785969,
           0.6760255475954473,
           -0.27438812153090764
          ],
          [
           -0.013665817784187156,
           -0.04704504800721569,
           0.01519310271852669,
           0.5684229948903483,
           0.4866304306831998,
           -0.1204152528819772,
           -0.23030103708495453,
           -0.4742038492112151,
           -0.29620974886595414,
           -0.38881360055265296,
           0.05333651008682492,
           0.0133755097932062,
           -0.26214075050080565,
           -0.10249994943285158,
           0.032566411544130806,
           -0.21807944119352038,
           1,
           0.3425327013221088,
           0.5142323182768139,
           -0.011699980252244998,
           -0.37957882278122,
           0.23701275569116537,
           0.18685387773790504
          ],
          [
           0.14876645349083567,
           0.2214763339576251,
           0.38185630825396794,
           0.5052977582135952,
           0.501948318670441,
           0.26453030502976915,
           -0.006126831337420156,
           -0.5519191456981618,
           -0.4073300178447646,
           -0.49723849561420097,
           0.2241533874787794,
           -9.974308476515788e-05,
           -0.41332594996783395,
           0.09636052338497163,
           0.34277831881714244,
           -0.42443409720063763,
           0.3425327013221088,
           1,
           0.3804280141405373,
           -0.12175341080537917,
           -0.3449535572111149,
           0.10360760660127402,
           0.21989325732526194
          ],
          [
           -0.1151588895206155,
           -0.3107215576529459,
           -0.1061494267641253,
           0.8377172755167117,
           0.8391956639116657,
           -0.2864082005992558,
           -0.4106949513653972,
           -0.6560477935824724,
           -0.46889395081504154,
           -0.5798805961581274,
           0.009305837562593868,
           0.11751344087987546,
           -0.4469672147913178,
           -0.2330354395712449,
           -0.1458000696446518,
           -0.568447871233825,
           0.5142323182768139,
           0.3804280141405373,
           1,
           -0.22149666213018404,
           -0.5193107179569206,
           0.09696806077911532,
           0.29136167831391546
          ],
          [
           0.15741505311485057,
           0.21306679847289617,
           -0.07507486327116171,
           -0.0762116267144727,
           -0.16283277871642904,
           0.42204789643088325,
           0.5049935096222287,
           0.3484478972837156,
           0.4085120190041085,
           0.4203971773593807,
           -0.016891990555969037,
           -0.0677532246764909,
           0.36856829193980806,
           0.14931298381522365,
           0.2753935951273834,
           0.7612111858415723,
           -0.011699980252244998,
           -0.12175341080537917,
           -0.22149666213018404,
           1,
           0.7094509937011131,
           0.8360641630695812,
           -0.179121916830886
          ],
          [
           0.20488741406247876,
           0.15664319980110175,
           0.009201605264942372,
           -0.39715332309022244,
           -0.3853217603634693,
           0.5973925493479303,
           0.7535761083402797,
           0.45541678942753633,
           0.4786804240404009,
           0.5102146283370543,
           0.08473092205305041,
           0.02947372972345491,
           0.3911382846993736,
           0.34317631207341204,
           0.2318764448883835,
           0.4804308823785969,
           -0.37957882278122,
           -0.3449535572111149,
           -0.5193107179569206,
           0.7094509937011131,
           1,
           0.20951871562576602,
           -0.2480925786376735
          ],
          [
           0.06452922897626813,
           0.1772887587283514,
           -0.10667968378333781,
           0.20591608731016034,
           0.07437155172562736,
           0.13177261571194981,
           0.12480992851325139,
           0.12601929991407126,
           0.1906126633545571,
           0.18249113479763057,
           -0.08139573046583341,
           -0.11133745454819975,
           0.2021041137706448,
           -0.05341760738527902,
           0.2083869097606503,
           0.6760255475954473,
           0.23701275569116537,
           0.10360760660127402,
           0.09696806077911532,
           0.8360641630695812,
           0.20951871562576602,
           1,
           -0.04974195099848135
          ],
          [
           0.12271384329554116,
           -0.04732003848918843,
           0.04643572109256342,
           0.24757211211896815,
           0.25271369571551855,
           -0.04956204973319058,
           -0.13074669686985554,
           -0.46532298332779337,
           -0.34954243963674714,
           -0.4240392870508608,
           0.657129631607715,
           0.30879341017715484,
           -0.4254409914774083,
           0.011652379124391966,
           -0.0005775953205880005,
           -0.27438812153090764,
           0.18685387773790504,
           0.21989325732526194,
           0.29136167831391546,
           -0.179121916830886,
           -0.2480925786376735,
           -0.04974195099848135,
           1
          ]
         ]
        }
       ],
       "layout": {
        "coloraxis": {
         "colorscale": [
          [
           0,
           "#0d0887"
          ],
          [
           0.1111111111111111,
           "#46039f"
          ],
          [
           0.2222222222222222,
           "#7201a8"
          ],
          [
           0.3333333333333333,
           "#9c179e"
          ],
          [
           0.4444444444444444,
           "#bd3786"
          ],
          [
           0.5555555555555556,
           "#d8576b"
          ],
          [
           0.6666666666666666,
           "#ed7953"
          ],
          [
           0.7777777777777778,
           "#fb9f3a"
          ],
          [
           0.8888888888888888,
           "#fdca26"
          ],
          [
           1,
           "#f0f921"
          ]
         ]
        },
        "margin": {
         "t": 60
        },
        "template": {
         "data": {
          "bar": [
           {
            "error_x": {
             "color": "#2a3f5f"
            },
            "error_y": {
             "color": "#2a3f5f"
            },
            "marker": {
             "line": {
              "color": "#E5ECF6",
              "width": 0.5
             },
             "pattern": {
              "fillmode": "overlay",
              "size": 10,
              "solidity": 0.2
             }
            },
            "type": "bar"
           }
          ],
          "barpolar": [
           {
            "marker": {
             "line": {
              "color": "#E5ECF6",
              "width": 0.5
             },
             "pattern": {
              "fillmode": "overlay",
              "size": 10,
              "solidity": 0.2
             }
            },
            "type": "barpolar"
           }
          ],
          "carpet": [
           {
            "aaxis": {
             "endlinecolor": "#2a3f5f",
             "gridcolor": "white",
             "linecolor": "white",
             "minorgridcolor": "white",
             "startlinecolor": "#2a3f5f"
            },
            "baxis": {
             "endlinecolor": "#2a3f5f",
             "gridcolor": "white",
             "linecolor": "white",
             "minorgridcolor": "white",
             "startlinecolor": "#2a3f5f"
            },
            "type": "carpet"
           }
          ],
          "choropleth": [
           {
            "colorbar": {
             "outlinewidth": 0,
             "ticks": ""
            },
            "type": "choropleth"
           }
          ],
          "contour": [
           {
            "colorbar": {
             "outlinewidth": 0,
             "ticks": ""
            },
            "colorscale": [
             [
              0,
              "#0d0887"
             ],
             [
              0.1111111111111111,
              "#46039f"
             ],
             [
              0.2222222222222222,
              "#7201a8"
             ],
             [
              0.3333333333333333,
              "#9c179e"
             ],
             [
              0.4444444444444444,
              "#bd3786"
             ],
             [
              0.5555555555555556,
              "#d8576b"
             ],
             [
              0.6666666666666666,
              "#ed7953"
             ],
             [
              0.7777777777777778,
              "#fb9f3a"
             ],
             [
              0.8888888888888888,
              "#fdca26"
             ],
             [
              1,
              "#f0f921"
             ]
            ],
            "type": "contour"
           }
          ],
          "contourcarpet": [
           {
            "colorbar": {
             "outlinewidth": 0,
             "ticks": ""
            },
            "type": "contourcarpet"
           }
          ],
          "heatmap": [
           {
            "colorbar": {
             "outlinewidth": 0,
             "ticks": ""
            },
            "colorscale": [
             [
              0,
              "#0d0887"
             ],
             [
              0.1111111111111111,
              "#46039f"
             ],
             [
              0.2222222222222222,
              "#7201a8"
             ],
             [
              0.3333333333333333,
              "#9c179e"
             ],
             [
              0.4444444444444444,
              "#bd3786"
             ],
             [
              0.5555555555555556,
              "#d8576b"
             ],
             [
              0.6666666666666666,
              "#ed7953"
             ],
             [
              0.7777777777777778,
              "#fb9f3a"
             ],
             [
              0.8888888888888888,
              "#fdca26"
             ],
             [
              1,
              "#f0f921"
             ]
            ],
            "type": "heatmap"
           }
          ],
          "heatmapgl": [
           {
            "colorbar": {
             "outlinewidth": 0,
             "ticks": ""
            },
            "colorscale": [
             [
              0,
              "#0d0887"
             ],
             [
              0.1111111111111111,
              "#46039f"
             ],
             [
              0.2222222222222222,
              "#7201a8"
             ],
             [
              0.3333333333333333,
              "#9c179e"
             ],
             [
              0.4444444444444444,
              "#bd3786"
             ],
             [
              0.5555555555555556,
              "#d8576b"
             ],
             [
              0.6666666666666666,
              "#ed7953"
             ],
             [
              0.7777777777777778,
              "#fb9f3a"
             ],
             [
              0.8888888888888888,
              "#fdca26"
             ],
             [
              1,
              "#f0f921"
             ]
            ],
            "type": "heatmapgl"
           }
          ],
          "histogram": [
           {
            "marker": {
             "pattern": {
              "fillmode": "overlay",
              "size": 10,
              "solidity": 0.2
             }
            },
            "type": "histogram"
           }
          ],
          "histogram2d": [
           {
            "colorbar": {
             "outlinewidth": 0,
             "ticks": ""
            },
            "colorscale": [
             [
              0,
              "#0d0887"
             ],
             [
              0.1111111111111111,
              "#46039f"
             ],
             [
              0.2222222222222222,
              "#7201a8"
             ],
             [
              0.3333333333333333,
              "#9c179e"
             ],
             [
              0.4444444444444444,
              "#bd3786"
             ],
             [
              0.5555555555555556,
              "#d8576b"
             ],
             [
              0.6666666666666666,
              "#ed7953"
             ],
             [
              0.7777777777777778,
              "#fb9f3a"
             ],
             [
              0.8888888888888888,
              "#fdca26"
             ],
             [
              1,
              "#f0f921"
             ]
            ],
            "type": "histogram2d"
           }
          ],
          "histogram2dcontour": [
           {
            "colorbar": {
             "outlinewidth": 0,
             "ticks": ""
            },
            "colorscale": [
             [
              0,
              "#0d0887"
             ],
             [
              0.1111111111111111,
              "#46039f"
             ],
             [
              0.2222222222222222,
              "#7201a8"
             ],
             [
              0.3333333333333333,
              "#9c179e"
             ],
             [
              0.4444444444444444,
              "#bd3786"
             ],
             [
              0.5555555555555556,
              "#d8576b"
             ],
             [
              0.6666666666666666,
              "#ed7953"
             ],
             [
              0.7777777777777778,
              "#fb9f3a"
             ],
             [
              0.8888888888888888,
              "#fdca26"
             ],
             [
              1,
              "#f0f921"
             ]
            ],
            "type": "histogram2dcontour"
           }
          ],
          "mesh3d": [
           {
            "colorbar": {
             "outlinewidth": 0,
             "ticks": ""
            },
            "type": "mesh3d"
           }
          ],
          "parcoords": [
           {
            "line": {
             "colorbar": {
              "outlinewidth": 0,
              "ticks": ""
             }
            },
            "type": "parcoords"
           }
          ],
          "pie": [
           {
            "automargin": true,
            "type": "pie"
           }
          ],
          "scatter": [
           {
            "fillpattern": {
             "fillmode": "overlay",
             "size": 10,
             "solidity": 0.2
            },
            "type": "scatter"
           }
          ],
          "scatter3d": [
           {
            "line": {
             "colorbar": {
              "outlinewidth": 0,
              "ticks": ""
             }
            },
            "marker": {
             "colorbar": {
              "outlinewidth": 0,
              "ticks": ""
             }
            },
            "type": "scatter3d"
           }
          ],
          "scattercarpet": [
           {
            "marker": {
             "colorbar": {
              "outlinewidth": 0,
              "ticks": ""
             }
            },
            "type": "scattercarpet"
           }
          ],
          "scattergeo": [
           {
            "marker": {
             "colorbar": {
              "outlinewidth": 0,
              "ticks": ""
             }
            },
            "type": "scattergeo"
           }
          ],
          "scattergl": [
           {
            "marker": {
             "colorbar": {
              "outlinewidth": 0,
              "ticks": ""
             }
            },
            "type": "scattergl"
           }
          ],
          "scattermapbox": [
           {
            "marker": {
             "colorbar": {
              "outlinewidth": 0,
              "ticks": ""
             }
            },
            "type": "scattermapbox"
           }
          ],
          "scatterpolar": [
           {
            "marker": {
             "colorbar": {
              "outlinewidth": 0,
              "ticks": ""
             }
            },
            "type": "scatterpolar"
           }
          ],
          "scatterpolargl": [
           {
            "marker": {
             "colorbar": {
              "outlinewidth": 0,
              "ticks": ""
             }
            },
            "type": "scatterpolargl"
           }
          ],
          "scatterternary": [
           {
            "marker": {
             "colorbar": {
              "outlinewidth": 0,
              "ticks": ""
             }
            },
            "type": "scatterternary"
           }
          ],
          "surface": [
           {
            "colorbar": {
             "outlinewidth": 0,
             "ticks": ""
            },
            "colorscale": [
             [
              0,
              "#0d0887"
             ],
             [
              0.1111111111111111,
              "#46039f"
             ],
             [
              0.2222222222222222,
              "#7201a8"
             ],
             [
              0.3333333333333333,
              "#9c179e"
             ],
             [
              0.4444444444444444,
              "#bd3786"
             ],
             [
              0.5555555555555556,
              "#d8576b"
             ],
             [
              0.6666666666666666,
              "#ed7953"
             ],
             [
              0.7777777777777778,
              "#fb9f3a"
             ],
             [
              0.8888888888888888,
              "#fdca26"
             ],
             [
              1,
              "#f0f921"
             ]
            ],
            "type": "surface"
           }
          ],
          "table": [
           {
            "cells": {
             "fill": {
              "color": "#EBF0F8"
             },
             "line": {
              "color": "white"
             }
            },
            "header": {
             "fill": {
              "color": "#C8D4E3"
             },
             "line": {
              "color": "white"
             }
            },
            "type": "table"
           }
          ]
         },
         "layout": {
          "annotationdefaults": {
           "arrowcolor": "#2a3f5f",
           "arrowhead": 0,
           "arrowwidth": 1
          },
          "autotypenumbers": "strict",
          "coloraxis": {
           "colorbar": {
            "outlinewidth": 0,
            "ticks": ""
           }
          },
          "colorscale": {
           "diverging": [
            [
             0,
             "#8e0152"
            ],
            [
             0.1,
             "#c51b7d"
            ],
            [
             0.2,
             "#de77ae"
            ],
            [
             0.3,
             "#f1b6da"
            ],
            [
             0.4,
             "#fde0ef"
            ],
            [
             0.5,
             "#f7f7f7"
            ],
            [
             0.6,
             "#e6f5d0"
            ],
            [
             0.7,
             "#b8e186"
            ],
            [
             0.8,
             "#7fbc41"
            ],
            [
             0.9,
             "#4d9221"
            ],
            [
             1,
             "#276419"
            ]
           ],
           "sequential": [
            [
             0,
             "#0d0887"
            ],
            [
             0.1111111111111111,
             "#46039f"
            ],
            [
             0.2222222222222222,
             "#7201a8"
            ],
            [
             0.3333333333333333,
             "#9c179e"
            ],
            [
             0.4444444444444444,
             "#bd3786"
            ],
            [
             0.5555555555555556,
             "#d8576b"
            ],
            [
             0.6666666666666666,
             "#ed7953"
            ],
            [
             0.7777777777777778,
             "#fb9f3a"
            ],
            [
             0.8888888888888888,
             "#fdca26"
            ],
            [
             1,
             "#f0f921"
            ]
           ],
           "sequentialminus": [
            [
             0,
             "#0d0887"
            ],
            [
             0.1111111111111111,
             "#46039f"
            ],
            [
             0.2222222222222222,
             "#7201a8"
            ],
            [
             0.3333333333333333,
             "#9c179e"
            ],
            [
             0.4444444444444444,
             "#bd3786"
            ],
            [
             0.5555555555555556,
             "#d8576b"
            ],
            [
             0.6666666666666666,
             "#ed7953"
            ],
            [
             0.7777777777777778,
             "#fb9f3a"
            ],
            [
             0.8888888888888888,
             "#fdca26"
            ],
            [
             1,
             "#f0f921"
            ]
           ]
          },
          "colorway": [
           "#636efa",
           "#EF553B",
           "#00cc96",
           "#ab63fa",
           "#FFA15A",
           "#19d3f3",
           "#FF6692",
           "#B6E880",
           "#FF97FF",
           "#FECB52"
          ],
          "font": {
           "color": "#2a3f5f"
          },
          "geo": {
           "bgcolor": "white",
           "lakecolor": "white",
           "landcolor": "#E5ECF6",
           "showlakes": true,
           "showland": true,
           "subunitcolor": "white"
          },
          "hoverlabel": {
           "align": "left"
          },
          "hovermode": "closest",
          "mapbox": {
           "style": "light"
          },
          "paper_bgcolor": "white",
          "plot_bgcolor": "#E5ECF6",
          "polar": {
           "angularaxis": {
            "gridcolor": "white",
            "linecolor": "white",
            "ticks": ""
           },
           "bgcolor": "#E5ECF6",
           "radialaxis": {
            "gridcolor": "white",
            "linecolor": "white",
            "ticks": ""
           }
          },
          "scene": {
           "xaxis": {
            "backgroundcolor": "#E5ECF6",
            "gridcolor": "white",
            "gridwidth": 2,
            "linecolor": "white",
            "showbackground": true,
            "ticks": "",
            "zerolinecolor": "white"
           },
           "yaxis": {
            "backgroundcolor": "#E5ECF6",
            "gridcolor": "white",
            "gridwidth": 2,
            "linecolor": "white",
            "showbackground": true,
            "ticks": "",
            "zerolinecolor": "white"
           },
           "zaxis": {
            "backgroundcolor": "#E5ECF6",
            "gridcolor": "white",
            "gridwidth": 2,
            "linecolor": "white",
            "showbackground": true,
            "ticks": "",
            "zerolinecolor": "white"
           }
          },
          "shapedefaults": {
           "line": {
            "color": "#2a3f5f"
           }
          },
          "ternary": {
           "aaxis": {
            "gridcolor": "white",
            "linecolor": "white",
            "ticks": ""
           },
           "baxis": {
            "gridcolor": "white",
            "linecolor": "white",
            "ticks": ""
           },
           "bgcolor": "#E5ECF6",
           "caxis": {
            "gridcolor": "white",
            "linecolor": "white",
            "ticks": ""
           }
          },
          "title": {
           "x": 0.05
          },
          "xaxis": {
           "automargin": true,
           "gridcolor": "white",
           "linecolor": "white",
           "ticks": "",
           "title": {
            "standoff": 15
           },
           "zerolinecolor": "white",
           "zerolinewidth": 2
          },
          "yaxis": {
           "automargin": true,
           "gridcolor": "white",
           "linecolor": "white",
           "ticks": "",
           "title": {
            "standoff": 15
           },
           "zerolinecolor": "white",
           "zerolinewidth": 2
          }
         }
        },
        "xaxis": {
         "anchor": "y",
         "constrain": "domain",
         "domain": [
          0,
          1
         ],
         "scaleanchor": "y"
        },
        "yaxis": {
         "anchor": "x",
         "autorange": "reversed",
         "constrain": "domain",
         "domain": [
          0,
          1
         ]
        }
       }
      },
      "text/html": [
       "<div>                            <div id=\"664dbbf7-6e35-4272-8545-203625b01a56\" class=\"plotly-graph-div\" style=\"height:525px; width:100%;\"></div>            <script type=\"text/javascript\">                require([\"plotly\"], function(Plotly) {                    window.PLOTLYENV=window.PLOTLYENV || {};                                    if (document.getElementById(\"664dbbf7-6e35-4272-8545-203625b01a56\")) {                    Plotly.newPlot(                        \"664dbbf7-6e35-4272-8545-203625b01a56\",                        [{\"coloraxis\":\"coloraxis\",\"name\":\"0\",\"x\":[\"MIN\",\"FGM\",\"FGA\",\"FG3M\",\"FG3A\",\"FTM\",\"FTA\",\"OREB\",\"DREB\",\"REB\",\"AST\",\"STL\",\"BLK\",\"TOV\",\"PTS\",\"FG%\",\"3PT%\",\"FT%\",\"FG3A%\",\"PTS/FGA\",\"FTA/FGA\",\"TRU%\",\"AST_TOV\"],\"y\":[\"MIN\",\"FGM\",\"FGA\",\"FG3M\",\"FG3A\",\"FTM\",\"FTA\",\"OREB\",\"DREB\",\"REB\",\"AST\",\"STL\",\"BLK\",\"TOV\",\"PTS\",\"FG%\",\"3PT%\",\"FT%\",\"FG3A%\",\"PTS/FGA\",\"FTA/FGA\",\"TRU%\",\"AST_TOV\"],\"z\":[[1.0,0.4428982958264306,0.44476705352480544,0.09421416668243517,0.0959515055226957,0.4657994211136621,0.43895846803103156,-0.11373777994271422,0.09174057439057054,0.01985064807794482,0.35868571715330094,0.23112366854954813,-0.059943885859547935,0.3909422936598378,0.4833495014815477,0.016430662980970588,-0.013665817784187156,0.14876645349083567,-0.1151588895206155,0.15741505311485057,0.20488741406247876,0.06452922897626813,0.12271384329554116],[0.4428982958264306,1.0,0.9142356430079569,0.1408116858945368,0.15561204173439355,0.6876769063768681,0.6546059242561947,0.016328235047586525,0.22094541821779376,0.1601263026784808,0.4043900091958297,0.053164659237252054,0.023534166138824072,0.6112771581232483,0.9532119037971507,0.21822757140548704,-0.04704504800721569,0.2214763339576251,-0.3107215576529459,0.21306679847289617,0.15664319980110175,0.1772887587283514,-0.04732003848918843],[0.44476705352480544,0.9142356430079569,1.0,0.32482592335836025,0.38073417611741844,0.6869262148495145,0.5956989260461127,-0.22302206538275215,0.007931695600685306,-0.08095597398099659,0.4861509761472966,0.12185680697562343,-0.1855044870912251,0.6352311699976905,0.9302677360929014,-0.17495407623444126,0.01519310271852669,0.38185630825396794,-0.1061494267641253,-0.07507486327116171,0.009201605264942372,-0.10667968378333781,0.04643572109256342],[0.09421416668243517,0.1408116858945368,0.32482592335836025,1.0,0.9720780065427918,0.03967409279059785,-0.10814820945445727,-0.6580964437864867,-0.41676709667314693,-0.5446089376132707,0.19961917954839623,0.11330373459216043,-0.4654851633530432,0.06255862677289882,0.309699356346255,-0.4606260765477823,0.5684229948903483,0.5052977582135952,0.8377172755167117,-0.0762116267144727,-0.39715332309022244,0.20591608731016034,0.24757211211896815],[0.0959515055226957,0.15561204173439355,0.38073417611741844,0.9720780065427918,1.0,0.08794118329878732,-0.060028943801011155,-0.6762461436758832,-0.4204565654879647,-0.5542074872754845,0.24902350931089628,0.15789197916787298,-0.4849305977035207,0.12509673870850596,0.33061130994657467,-0.5500869360349268,0.4866304306831998,0.501948318670441,0.8391956639116657,-0.16283277871642904,-0.3853217603634693,0.07437155172562736,0.25271369571551855],[0.4657994211136621,0.6876769063768681,0.6869262148495145,0.03967409279059785,0.08794118329878732,1.0,0.9517270061902363,0.009568515116715234,0.2133779905868306,0.1526732509753284,0.4597692769932781,0.15663335712288373,0.04466153249114377,0.6989704825901526,0.8222993897139766,0.058478601181928186,-0.1204152528819772,0.26453030502976915,-0.2864082005992558,0.42204789643088325,0.5973925493479303,0.13177261571194981,-0.04956204973319058],[0.43895846803103156,0.6546059242561947,0.5956989260461127,-0.10814820945445727,-0.060028943801011155,0.9517270061902363,1.0,0.18095497694685578,0.36519972560217023,0.3248016945861624,0.3971978854651855,0.14056271901540252,0.18241118926342784,0.6909412742631096,0.7538192729692034,0.21361984877614296,-0.23030103708495453,-0.006126831337420156,-0.4106949513653972,0.5049935096222287,0.7535761083402797,0.12480992851325139,-0.13074669686985554],[-0.11373777994271422,0.016328235047586525,-0.22302206538275215,-0.6580964437864867,-0.6762461436758832,0.009568515116715234,0.18095497694685578,1.0,0.6748426526012066,0.856729065962565,-0.3376289303287845,-0.20137093891050384,0.6341835937838217,-0.042889659820272576,-0.11603956224760985,0.634137482689328,-0.4742038492112151,-0.5519191456981618,-0.6560477935824724,0.3484478972837156,0.45541678942753633,0.12601929991407126,-0.46532298332779337],[0.09174057439057054,0.22094541821779376,0.007931695600685306,-0.41676709667314693,-0.4204565654879647,0.2133779905868306,0.36519972560217023,0.6748426526012066,1.0,0.9586662021416483,-0.11814406609002899,-0.1257485084112755,0.5584885167843211,0.19358838173310808,0.14207971594177374,0.5296246278528474,-0.29620974886595414,-0.4073300178447646,-0.46889395081504154,0.4085120190041085,0.4786804240404009,0.1906126633545571,-0.34954243963674714],[0.01985064807794482,0.1601263026784808,-0.08095597398099659,-0.5446089376132707,-0.5542074872754845,0.1526732509753284,0.3248016945861624,0.856729065962565,0.9586662021416483,1.0,-0.21330444472262064,-0.16569922403922965,0.6347370162314105,0.11816024630433994,0.05418149519665627,0.6146977093914618,-0.38881360055265296,-0.49723849561420097,-0.5798805961581274,0.4203971773593807,0.5102146283370543,0.18249113479763057,-0.4240392870508608],[0.35868571715330094,0.4043900091958297,0.4861509761472966,0.19961917954839623,0.24902350931089628,0.4597692769932781,0.3971978854651855,-0.3376289303287845,-0.11814406609002899,-0.21330444472262064,1.0,0.40318921650395684,-0.3294438766241981,0.723114835206873,0.4749448142092201,-0.1921178009356671,0.05333651008682492,0.2241533874787794,0.009305837562593868,-0.016891990555969037,0.08473092205305041,-0.08139573046583341,0.657129631607715],[0.23112366854954813,0.053164659237252054,0.12185680697562343,0.11330373459216043,0.15789197916787298,0.15663335712288373,0.14056271901540252,-0.20137093891050384,-0.1257485084112755,-0.16569922403922965,0.40318921650395684,1.0,-0.16479053531221893,0.26361268503128393,0.11241027246485163,-0.18542640330885474,0.0133755097932062,-9.974308476515788e-05,0.11751344087987546,-0.0677532246764909,0.02947372972345491,-0.11133745454819975,0.30879341017715484],[-0.059943885859547935,0.023534166138824072,-0.1855044870912251,-0.4654851633530432,-0.4849305977035207,0.04466153249114377,0.18241118926342784,0.6341835937838217,0.5584885167843211,0.6347370162314105,-0.3294438766241981,-0.16479053531221893,1.0,-0.059004461843738684,-0.06141659020581894,0.5368829987416056,-0.26214075050080565,-0.41332594996783395,-0.4469672147913178,0.36856829193980806,0.3911382846993736,0.2021041137706448,-0.4254409914774083],[0.3909422936598378,0.6112771581232483,0.6352311699976905,0.06255862677289882,0.12509673870850596,0.6989704825901526,0.6909412742631096,-0.042889659820272576,0.19358838173310808,0.11816024630433994,0.723114835206873,0.26361268503128393,-0.059004461843738684,1.0,0.6719617360968876,-0.01692637002765295,-0.10249994943285158,0.09636052338497163,-0.2330354395712449,0.14931298381522365,0.34317631207341204,-0.05341760738527902,0.011652379124391966],[0.4833495014815477,0.9532119037971507,0.9302677360929014,0.309699356346255,0.33061130994657467,0.8222993897139766,0.7538192729692034,-0.11603956224760985,0.14207971594177374,0.05418149519665627,0.4749448142092201,0.11241027246485163,-0.06141659020581894,0.6719617360968876,1.0,0.07920651716540378,0.032566411544130806,0.34277831881714244,-0.1458000696446518,0.2753935951273834,0.2318764448883835,0.2083869097606503,-0.0005775953205880005],[0.016430662980970588,0.21822757140548704,-0.17495407623444126,-0.4606260765477823,-0.5500869360349268,0.058478601181928186,0.21361984877614296,0.634137482689328,0.5296246278528474,0.6146977093914618,-0.1921178009356671,-0.18542640330885474,0.5368829987416056,-0.01692637002765295,0.07920651716540378,1.0,-0.21807944119352038,-0.42443409720063763,-0.568447871233825,0.7612111858415723,0.4804308823785969,0.6760255475954473,-0.27438812153090764],[-0.013665817784187156,-0.04704504800721569,0.01519310271852669,0.5684229948903483,0.4866304306831998,-0.1204152528819772,-0.23030103708495453,-0.4742038492112151,-0.29620974886595414,-0.38881360055265296,0.05333651008682492,0.0133755097932062,-0.26214075050080565,-0.10249994943285158,0.032566411544130806,-0.21807944119352038,1.0,0.3425327013221088,0.5142323182768139,-0.011699980252244998,-0.37957882278122,0.23701275569116537,0.18685387773790504],[0.14876645349083567,0.2214763339576251,0.38185630825396794,0.5052977582135952,0.501948318670441,0.26453030502976915,-0.006126831337420156,-0.5519191456981618,-0.4073300178447646,-0.49723849561420097,0.2241533874787794,-9.974308476515788e-05,-0.41332594996783395,0.09636052338497163,0.34277831881714244,-0.42443409720063763,0.3425327013221088,1.0,0.3804280141405373,-0.12175341080537917,-0.3449535572111149,0.10360760660127402,0.21989325732526194],[-0.1151588895206155,-0.3107215576529459,-0.1061494267641253,0.8377172755167117,0.8391956639116657,-0.2864082005992558,-0.4106949513653972,-0.6560477935824724,-0.46889395081504154,-0.5798805961581274,0.009305837562593868,0.11751344087987546,-0.4469672147913178,-0.2330354395712449,-0.1458000696446518,-0.568447871233825,0.5142323182768139,0.3804280141405373,1.0,-0.22149666213018404,-0.5193107179569206,0.09696806077911532,0.29136167831391546],[0.15741505311485057,0.21306679847289617,-0.07507486327116171,-0.0762116267144727,-0.16283277871642904,0.42204789643088325,0.5049935096222287,0.3484478972837156,0.4085120190041085,0.4203971773593807,-0.016891990555969037,-0.0677532246764909,0.36856829193980806,0.14931298381522365,0.2753935951273834,0.7612111858415723,-0.011699980252244998,-0.12175341080537917,-0.22149666213018404,1.0,0.7094509937011131,0.8360641630695812,-0.179121916830886],[0.20488741406247876,0.15664319980110175,0.009201605264942372,-0.39715332309022244,-0.3853217603634693,0.5973925493479303,0.7535761083402797,0.45541678942753633,0.4786804240404009,0.5102146283370543,0.08473092205305041,0.02947372972345491,0.3911382846993736,0.34317631207341204,0.2318764448883835,0.4804308823785969,-0.37957882278122,-0.3449535572111149,-0.5193107179569206,0.7094509937011131,1.0,0.20951871562576602,-0.2480925786376735],[0.06452922897626813,0.1772887587283514,-0.10667968378333781,0.20591608731016034,0.07437155172562736,0.13177261571194981,0.12480992851325139,0.12601929991407126,0.1906126633545571,0.18249113479763057,-0.08139573046583341,-0.11133745454819975,0.2021041137706448,-0.05341760738527902,0.2083869097606503,0.6760255475954473,0.23701275569116537,0.10360760660127402,0.09696806077911532,0.8360641630695812,0.20951871562576602,1.0,-0.04974195099848135],[0.12271384329554116,-0.04732003848918843,0.04643572109256342,0.24757211211896815,0.25271369571551855,-0.04956204973319058,-0.13074669686985554,-0.46532298332779337,-0.34954243963674714,-0.4240392870508608,0.657129631607715,0.30879341017715484,-0.4254409914774083,0.011652379124391966,-0.0005775953205880005,-0.27438812153090764,0.18685387773790504,0.21989325732526194,0.29136167831391546,-0.179121916830886,-0.2480925786376735,-0.04974195099848135,1.0]],\"type\":\"heatmap\",\"xaxis\":\"x\",\"yaxis\":\"y\",\"hovertemplate\":\"x: %{x}<br>y: %{y}<br>color: %{z}<extra></extra>\"}],                        {\"template\":{\"data\":{\"histogram2dcontour\":[{\"type\":\"histogram2dcontour\",\"colorbar\":{\"outlinewidth\":0,\"ticks\":\"\"},\"colorscale\":[[0.0,\"#0d0887\"],[0.1111111111111111,\"#46039f\"],[0.2222222222222222,\"#7201a8\"],[0.3333333333333333,\"#9c179e\"],[0.4444444444444444,\"#bd3786\"],[0.5555555555555556,\"#d8576b\"],[0.6666666666666666,\"#ed7953\"],[0.7777777777777778,\"#fb9f3a\"],[0.8888888888888888,\"#fdca26\"],[1.0,\"#f0f921\"]]}],\"choropleth\":[{\"type\":\"choropleth\",\"colorbar\":{\"outlinewidth\":0,\"ticks\":\"\"}}],\"histogram2d\":[{\"type\":\"histogram2d\",\"colorbar\":{\"outlinewidth\":0,\"ticks\":\"\"},\"colorscale\":[[0.0,\"#0d0887\"],[0.1111111111111111,\"#46039f\"],[0.2222222222222222,\"#7201a8\"],[0.3333333333333333,\"#9c179e\"],[0.4444444444444444,\"#bd3786\"],[0.5555555555555556,\"#d8576b\"],[0.6666666666666666,\"#ed7953\"],[0.7777777777777778,\"#fb9f3a\"],[0.8888888888888888,\"#fdca26\"],[1.0,\"#f0f921\"]]}],\"heatmap\":[{\"type\":\"heatmap\",\"colorbar\":{\"outlinewidth\":0,\"ticks\":\"\"},\"colorscale\":[[0.0,\"#0d0887\"],[0.1111111111111111,\"#46039f\"],[0.2222222222222222,\"#7201a8\"],[0.3333333333333333,\"#9c179e\"],[0.4444444444444444,\"#bd3786\"],[0.5555555555555556,\"#d8576b\"],[0.6666666666666666,\"#ed7953\"],[0.7777777777777778,\"#fb9f3a\"],[0.8888888888888888,\"#fdca26\"],[1.0,\"#f0f921\"]]}],\"heatmapgl\":[{\"type\":\"heatmapgl\",\"colorbar\":{\"outlinewidth\":0,\"ticks\":\"\"},\"colorscale\":[[0.0,\"#0d0887\"],[0.1111111111111111,\"#46039f\"],[0.2222222222222222,\"#7201a8\"],[0.3333333333333333,\"#9c179e\"],[0.4444444444444444,\"#bd3786\"],[0.5555555555555556,\"#d8576b\"],[0.6666666666666666,\"#ed7953\"],[0.7777777777777778,\"#fb9f3a\"],[0.8888888888888888,\"#fdca26\"],[1.0,\"#f0f921\"]]}],\"contourcarpet\":[{\"type\":\"contourcarpet\",\"colorbar\":{\"outlinewidth\":0,\"ticks\":\"\"}}],\"contour\":[{\"type\":\"contour\",\"colorbar\":{\"outlinewidth\":0,\"ticks\":\"\"},\"colorscale\":[[0.0,\"#0d0887\"],[0.1111111111111111,\"#46039f\"],[0.2222222222222222,\"#7201a8\"],[0.3333333333333333,\"#9c179e\"],[0.4444444444444444,\"#bd3786\"],[0.5555555555555556,\"#d8576b\"],[0.6666666666666666,\"#ed7953\"],[0.7777777777777778,\"#fb9f3a\"],[0.8888888888888888,\"#fdca26\"],[1.0,\"#f0f921\"]]}],\"surface\":[{\"type\":\"surface\",\"colorbar\":{\"outlinewidth\":0,\"ticks\":\"\"},\"colorscale\":[[0.0,\"#0d0887\"],[0.1111111111111111,\"#46039f\"],[0.2222222222222222,\"#7201a8\"],[0.3333333333333333,\"#9c179e\"],[0.4444444444444444,\"#bd3786\"],[0.5555555555555556,\"#d8576b\"],[0.6666666666666666,\"#ed7953\"],[0.7777777777777778,\"#fb9f3a\"],[0.8888888888888888,\"#fdca26\"],[1.0,\"#f0f921\"]]}],\"mesh3d\":[{\"type\":\"mesh3d\",\"colorbar\":{\"outlinewidth\":0,\"ticks\":\"\"}}],\"scatter\":[{\"fillpattern\":{\"fillmode\":\"overlay\",\"size\":10,\"solidity\":0.2},\"type\":\"scatter\"}],\"parcoords\":[{\"type\":\"parcoords\",\"line\":{\"colorbar\":{\"outlinewidth\":0,\"ticks\":\"\"}}}],\"scatterpolargl\":[{\"type\":\"scatterpolargl\",\"marker\":{\"colorbar\":{\"outlinewidth\":0,\"ticks\":\"\"}}}],\"bar\":[{\"error_x\":{\"color\":\"#2a3f5f\"},\"error_y\":{\"color\":\"#2a3f5f\"},\"marker\":{\"line\":{\"color\":\"#E5ECF6\",\"width\":0.5},\"pattern\":{\"fillmode\":\"overlay\",\"size\":10,\"solidity\":0.2}},\"type\":\"bar\"}],\"scattergeo\":[{\"type\":\"scattergeo\",\"marker\":{\"colorbar\":{\"outlinewidth\":0,\"ticks\":\"\"}}}],\"scatterpolar\":[{\"type\":\"scatterpolar\",\"marker\":{\"colorbar\":{\"outlinewidth\":0,\"ticks\":\"\"}}}],\"histogram\":[{\"marker\":{\"pattern\":{\"fillmode\":\"overlay\",\"size\":10,\"solidity\":0.2}},\"type\":\"histogram\"}],\"scattergl\":[{\"type\":\"scattergl\",\"marker\":{\"colorbar\":{\"outlinewidth\":0,\"ticks\":\"\"}}}],\"scatter3d\":[{\"type\":\"scatter3d\",\"line\":{\"colorbar\":{\"outlinewidth\":0,\"ticks\":\"\"}},\"marker\":{\"colorbar\":{\"outlinewidth\":0,\"ticks\":\"\"}}}],\"scattermapbox\":[{\"type\":\"scattermapbox\",\"marker\":{\"colorbar\":{\"outlinewidth\":0,\"ticks\":\"\"}}}],\"scatterternary\":[{\"type\":\"scatterternary\",\"marker\":{\"colorbar\":{\"outlinewidth\":0,\"ticks\":\"\"}}}],\"scattercarpet\":[{\"type\":\"scattercarpet\",\"marker\":{\"colorbar\":{\"outlinewidth\":0,\"ticks\":\"\"}}}],\"carpet\":[{\"aaxis\":{\"endlinecolor\":\"#2a3f5f\",\"gridcolor\":\"white\",\"linecolor\":\"white\",\"minorgridcolor\":\"white\",\"startlinecolor\":\"#2a3f5f\"},\"baxis\":{\"endlinecolor\":\"#2a3f5f\",\"gridcolor\":\"white\",\"linecolor\":\"white\",\"minorgridcolor\":\"white\",\"startlinecolor\":\"#2a3f5f\"},\"type\":\"carpet\"}],\"table\":[{\"cells\":{\"fill\":{\"color\":\"#EBF0F8\"},\"line\":{\"color\":\"white\"}},\"header\":{\"fill\":{\"color\":\"#C8D4E3\"},\"line\":{\"color\":\"white\"}},\"type\":\"table\"}],\"barpolar\":[{\"marker\":{\"line\":{\"color\":\"#E5ECF6\",\"width\":0.5},\"pattern\":{\"fillmode\":\"overlay\",\"size\":10,\"solidity\":0.2}},\"type\":\"barpolar\"}],\"pie\":[{\"automargin\":true,\"type\":\"pie\"}]},\"layout\":{\"autotypenumbers\":\"strict\",\"colorway\":[\"#636efa\",\"#EF553B\",\"#00cc96\",\"#ab63fa\",\"#FFA15A\",\"#19d3f3\",\"#FF6692\",\"#B6E880\",\"#FF97FF\",\"#FECB52\"],\"font\":{\"color\":\"#2a3f5f\"},\"hovermode\":\"closest\",\"hoverlabel\":{\"align\":\"left\"},\"paper_bgcolor\":\"white\",\"plot_bgcolor\":\"#E5ECF6\",\"polar\":{\"bgcolor\":\"#E5ECF6\",\"angularaxis\":{\"gridcolor\":\"white\",\"linecolor\":\"white\",\"ticks\":\"\"},\"radialaxis\":{\"gridcolor\":\"white\",\"linecolor\":\"white\",\"ticks\":\"\"}},\"ternary\":{\"bgcolor\":\"#E5ECF6\",\"aaxis\":{\"gridcolor\":\"white\",\"linecolor\":\"white\",\"ticks\":\"\"},\"baxis\":{\"gridcolor\":\"white\",\"linecolor\":\"white\",\"ticks\":\"\"},\"caxis\":{\"gridcolor\":\"white\",\"linecolor\":\"white\",\"ticks\":\"\"}},\"coloraxis\":{\"colorbar\":{\"outlinewidth\":0,\"ticks\":\"\"}},\"colorscale\":{\"sequential\":[[0.0,\"#0d0887\"],[0.1111111111111111,\"#46039f\"],[0.2222222222222222,\"#7201a8\"],[0.3333333333333333,\"#9c179e\"],[0.4444444444444444,\"#bd3786\"],[0.5555555555555556,\"#d8576b\"],[0.6666666666666666,\"#ed7953\"],[0.7777777777777778,\"#fb9f3a\"],[0.8888888888888888,\"#fdca26\"],[1.0,\"#f0f921\"]],\"sequentialminus\":[[0.0,\"#0d0887\"],[0.1111111111111111,\"#46039f\"],[0.2222222222222222,\"#7201a8\"],[0.3333333333333333,\"#9c179e\"],[0.4444444444444444,\"#bd3786\"],[0.5555555555555556,\"#d8576b\"],[0.6666666666666666,\"#ed7953\"],[0.7777777777777778,\"#fb9f3a\"],[0.8888888888888888,\"#fdca26\"],[1.0,\"#f0f921\"]],\"diverging\":[[0,\"#8e0152\"],[0.1,\"#c51b7d\"],[0.2,\"#de77ae\"],[0.3,\"#f1b6da\"],[0.4,\"#fde0ef\"],[0.5,\"#f7f7f7\"],[0.6,\"#e6f5d0\"],[0.7,\"#b8e186\"],[0.8,\"#7fbc41\"],[0.9,\"#4d9221\"],[1,\"#276419\"]]},\"xaxis\":{\"gridcolor\":\"white\",\"linecolor\":\"white\",\"ticks\":\"\",\"title\":{\"standoff\":15},\"zerolinecolor\":\"white\",\"automargin\":true,\"zerolinewidth\":2},\"yaxis\":{\"gridcolor\":\"white\",\"linecolor\":\"white\",\"ticks\":\"\",\"title\":{\"standoff\":15},\"zerolinecolor\":\"white\",\"automargin\":true,\"zerolinewidth\":2},\"scene\":{\"xaxis\":{\"backgroundcolor\":\"#E5ECF6\",\"gridcolor\":\"white\",\"linecolor\":\"white\",\"showbackground\":true,\"ticks\":\"\",\"zerolinecolor\":\"white\",\"gridwidth\":2},\"yaxis\":{\"backgroundcolor\":\"#E5ECF6\",\"gridcolor\":\"white\",\"linecolor\":\"white\",\"showbackground\":true,\"ticks\":\"\",\"zerolinecolor\":\"white\",\"gridwidth\":2},\"zaxis\":{\"backgroundcolor\":\"#E5ECF6\",\"gridcolor\":\"white\",\"linecolor\":\"white\",\"showbackground\":true,\"ticks\":\"\",\"zerolinecolor\":\"white\",\"gridwidth\":2}},\"shapedefaults\":{\"line\":{\"color\":\"#2a3f5f\"}},\"annotationdefaults\":{\"arrowcolor\":\"#2a3f5f\",\"arrowhead\":0,\"arrowwidth\":1},\"geo\":{\"bgcolor\":\"white\",\"landcolor\":\"#E5ECF6\",\"subunitcolor\":\"white\",\"showland\":true,\"showlakes\":true,\"lakecolor\":\"white\"},\"title\":{\"x\":0.05},\"mapbox\":{\"style\":\"light\"}}},\"xaxis\":{\"anchor\":\"y\",\"domain\":[0.0,1.0],\"scaleanchor\":\"y\",\"constrain\":\"domain\"},\"yaxis\":{\"anchor\":\"x\",\"domain\":[0.0,1.0],\"autorange\":\"reversed\",\"constrain\":\"domain\"},\"coloraxis\":{\"colorscale\":[[0.0,\"#0d0887\"],[0.1111111111111111,\"#46039f\"],[0.2222222222222222,\"#7201a8\"],[0.3333333333333333,\"#9c179e\"],[0.4444444444444444,\"#bd3786\"],[0.5555555555555556,\"#d8576b\"],[0.6666666666666666,\"#ed7953\"],[0.7777777777777778,\"#fb9f3a\"],[0.8888888888888888,\"#fdca26\"],[1.0,\"#f0f921\"]]},\"margin\":{\"t\":60}},                        {\"responsive\": true}                    ).then(function(){\n",
       "                            \n",
       "var gd = document.getElementById('664dbbf7-6e35-4272-8545-203625b01a56');\n",
       "var x = new MutationObserver(function (mutations, observer) {{\n",
       "        var display = window.getComputedStyle(gd).display;\n",
       "        if (!display || display === 'none') {{\n",
       "            console.log([gd, 'removed!']);\n",
       "            Plotly.purge(gd);\n",
       "            observer.disconnect();\n",
       "        }}\n",
       "}});\n",
       "\n",
       "// Listen for the removal of the full notebook cells\n",
       "var notebookContainer = gd.closest('#notebook-container');\n",
       "if (notebookContainer) {{\n",
       "    x.observe(notebookContainer, {childList: true});\n",
       "}}\n",
       "\n",
       "// Listen for the clearing of the current output cell\n",
       "var outputEl = gd.closest('.output');\n",
       "if (outputEl) {{\n",
       "    x.observe(outputEl, {childList: true});\n",
       "}}\n",
       "\n",
       "                        })                };                });            </script>        </div>"
      ]
     },
     "metadata": {},
     "output_type": "display_data"
    }
   ],
   "source": [
    "fig = px.imshow(data_per_min.corr())\n",
    "fig.show()"
   ]
  },
  {
   "cell_type": "markdown",
   "id": "28635f9a",
   "metadata": {},
   "source": [
    "# How are minutes played distributed?"
   ]
  },
  {
   "cell_type": "code",
   "execution_count": 51,
   "id": "c3ad1115",
   "metadata": {},
   "outputs": [
    {
     "data": {
      "application/vnd.plotly.v1+json": {
       "config": {
        "plotlyServerURL": "https://plot.ly"
       },
       "data": [
        {
         "alignmentgroup": "True",
         "bingroup": "x",
         "histnorm": "percent",
         "hovertemplate": "x=%{x}<br>percent=%{y}<extra></extra>",
         "legendgroup": "",
         "marker": {
          "color": "#636efa",
          "pattern": {
           "shape": ""
          }
         },
         "name": "",
         "offsetgroup": "",
         "orientation": "v",
         "showlegend": false,
         "type": "histogram",
         "x": [
          37,
          38.5,
          38.6,
          37.9,
          38.3,
          34.9,
          38.2,
          34.7,
          37.7,
          30.4,
          37.5,
          38.6,
          36.4,
          33.4,
          36.8,
          35.8,
          36.7,
          33.5,
          32.5,
          33.1,
          34.9,
          37.5,
          36.2,
          35.3,
          37.6,
          37.2,
          33.4,
          30.5,
          35.8,
          33.4,
          34.4,
          33.2,
          35.8,
          29.3,
          38.7,
          36.7,
          32.2,
          32.5,
          30.9,
          33.2,
          36.3,
          34.3,
          35.5,
          34.6,
          33.5,
          34.5,
          32.9,
          30.4,
          38.5,
          34.5,
          29.2,
          30.5,
          35,
          27.7,
          26.9,
          34.4,
          25.8,
          32.2,
          35.3,
          31.5,
          31.1,
          27.6,
          25.4,
          33.2,
          34.7,
          29.7,
          27.8,
          26.6,
          29,
          24,
          33.7,
          24.4,
          29.3,
          24.6,
          28.7,
          31.3,
          24.4,
          28.1,
          28.6,
          30.2,
          28.9,
          26,
          29.6,
          23.1,
          20.8,
          27.2,
          30.5,
          25.8,
          27.5,
          27.9,
          23.2,
          27.4,
          27.5,
          25.9,
          24.1,
          32.1,
          25,
          24.7,
          19,
          25.7,
          31,
          30,
          20.7,
          26.9,
          28.7,
          27.3,
          26,
          25.8,
          26.2,
          23.2,
          21.5,
          25.4,
          22.6,
          21.8,
          18.1,
          26,
          26.7,
          30,
          24.5,
          29.2,
          28,
          25.1,
          22.1,
          27.6,
          26.9,
          23.9,
          26,
          20.4,
          16.5,
          26,
          22.4,
          22.4,
          21.3,
          26.4,
          21.3,
          24.9,
          22.4,
          16.7,
          19.8,
          20.1,
          27.5,
          18.1,
          27.2,
          23.7,
          15.4,
          21.2,
          17,
          16.9,
          24.8,
          19,
          20.3,
          24.8,
          24.2,
          17,
          16.5,
          19.6,
          26.9,
          15.9,
          22.8,
          21.1,
          19.9,
          12.5,
          14.2,
          19.5,
          17.3,
          16.5,
          27.3,
          15.1,
          16.1,
          24.6,
          17.3,
          25.1,
          19,
          12.2,
          15.9,
          19.7,
          18.9,
          12.8,
          16.2,
          13,
          13.4,
          16.3,
          14.4,
          38.5,
          38.7,
          37.7,
          36.3,
          38,
          35.8,
          36.5,
          36.2,
          32.4,
          38.2,
          35,
          36.2,
          32.9,
          35.2,
          35.2,
          35.8,
          34.7,
          35.1,
          34.7,
          36.3,
          35,
          32,
          36.9,
          30.3,
          35.4,
          33.7,
          35,
          33.2,
          33.5,
          36.2,
          34.4,
          33.3,
          28.3,
          35.8,
          35.8,
          34.2,
          31.4,
          33.5,
          34.7,
          34.2,
          29.4,
          34.5,
          37.6,
          32.2,
          35.5,
          33.9,
          32,
          36.4,
          35.1,
          29.6,
          28.4,
          32.6,
          33.2,
          34.1,
          32.1,
          32.8,
          32.9,
          29.2,
          30.9,
          30.3,
          33.4,
          32.7,
          28.2,
          35.4,
          32.2,
          32,
          30.9,
          30.3,
          28.1,
          26.7,
          35.3,
          31.1,
          26.6,
          28.2,
          27.2,
          31.1,
          32.3,
          28,
          30.2,
          27.6,
          32.8,
          30.7,
          30.9,
          38.7,
          27.3,
          28.5,
          36,
          24.5,
          28.7,
          29.1,
          32.3,
          35.3,
          28.9,
          26.7,
          22.8,
          32.2,
          26.7,
          27.3,
          30,
          32,
          33.9,
          24.4,
          22.6,
          26.9,
          31.6,
          30.5,
          25.9,
          25.2,
          31.5,
          28.2,
          22.2,
          26.5,
          27.6,
          28.2,
          32.1,
          31.8,
          23,
          26.7,
          29.7,
          35,
          24.1,
          31.7,
          28.8,
          32,
          18.9,
          23.1,
          27,
          28.9,
          27.5,
          29.8,
          24.2,
          24.8,
          27.7,
          22,
          31,
          20.8,
          25,
          26.5,
          22.5,
          18.5,
          28.5,
          32.2,
          28.2,
          28.3,
          24.4,
          23.2,
          21.6,
          30.7,
          32.4,
          23.4,
          25.4,
          29,
          24.3,
          25,
          18.6,
          28.4,
          21.6,
          26.7,
          20,
          19.4,
          23.6,
          19.7,
          30.3,
          27.7,
          19.8,
          19.9,
          18.8,
          18.6,
          26,
          21.5,
          24.6,
          23.3,
          22.2,
          19.4,
          17.1,
          20.4,
          18.2,
          24.4,
          26.4,
          22.7,
          24.2,
          22.6,
          25.6,
          24.5,
          20.8,
          23.4,
          18.1,
          21.6,
          24.6,
          17,
          26.5,
          19.4,
          20.2,
          18.9,
          12.4,
          24.6,
          16.9,
          15.6,
          19.1,
          20.2,
          26,
          21.9,
          17.2,
          20.3,
          18.3,
          17.3,
          13.6,
          22.6,
          17.3,
          25.6,
          17.1,
          19.8,
          19.4,
          15.4,
          15,
          15.2,
          14.7,
          15.4,
          16.9,
          16.8,
          17.6,
          22.1,
          24.4,
          13.8,
          14.5,
          18.7,
          16.5,
          16.9,
          15.3,
          12.5,
          13.6,
          17.7,
          16.5,
          16.1,
          16,
          16.2,
          11.6,
          16.7,
          20.1,
          15.7,
          10.5,
          19.4,
          14.4,
          16.2,
          15.7,
          14.8,
          12.3,
          19.5,
          13,
          11.8,
          14.8,
          11.3,
          13.9,
          15.1,
          13.5,
          7.9,
          12.3,
          8.5,
          7,
          34.4,
          36.8,
          36.1,
          36.1,
          34.1,
          32.7,
          35.4,
          35.2,
          36.4,
          31.9,
          31.8,
          35.4,
          35.7,
          35,
          38.7,
          34.2,
          34.4,
          34.8,
          33.7,
          34.4,
          35.7,
          34.5,
          35.9,
          33.2,
          34.2,
          29.6,
          29.2,
          34.8,
          34.6,
          32.3,
          36.2,
          32.7,
          30.6,
          34.1,
          31.8,
          25.8,
          33.8,
          30.9,
          33.8,
          32.5,
          30.8,
          33.7,
          30.5,
          31,
          31.8,
          26.6,
          33.1,
          25.2,
          28.5,
          31.5,
          33.4,
          35.5,
          30.5,
          31.5,
          32.6,
          29.5,
          34.9,
          28.7,
          33.1,
          29.1,
          32,
          33.6,
          31.7,
          31.5,
          28.9,
          30.5,
          27.5,
          27.9,
          26.3,
          33.1,
          30.1,
          27,
          32.1,
          31.1,
          30.1,
          35.7,
          31.5,
          31.4,
          26.4,
          31.3,
          27.8,
          24.2,
          27.7,
          29.9,
          32.2,
          32.6,
          28.9,
          29.7,
          28.7,
          26.2,
          28.6,
          26.8,
          28,
          19.5,
          25,
          26.2,
          23.8,
          27.6,
          28.5,
          31.5,
          28.7,
          23,
          34.4,
          22.7,
          21.1,
          24,
          26.1,
          23.9,
          25.8,
          24.4,
          25.3,
          24.4,
          23.5,
          25.3,
          22.7,
          25.2,
          15.9,
          27.3,
          30.5,
          22.3,
          29.6,
          20.2,
          21.1,
          24.7,
          30.6,
          28.3,
          29.9,
          25.8,
          19.7,
          30.8,
          29.5,
          28.6,
          25.5,
          30,
          25.3,
          27.8,
          27.6,
          24,
          24.3,
          29.2,
          20.5,
          33.5,
          26.4,
          22.4,
          30.6,
          23.8,
          29.7,
          30.4,
          29,
          21.1,
          25,
          22.2,
          21.3,
          24.5,
          18.9,
          26.2,
          26.8,
          26.3,
          19.8,
          23.3,
          22.3,
          23.7,
          25.8,
          19.2,
          24.9,
          21.8,
          26.6,
          21,
          19.6,
          21.8,
          26.9,
          27,
          16.5,
          22.3,
          20.1,
          25.3,
          20.1,
          18.9,
          24.4,
          24,
          19.3,
          17.7,
          24.1,
          26.1,
          21.1,
          23.6,
          26.1,
          24.9,
          19.3,
          30.6,
          23.8,
          17,
          19.8,
          23.9,
          24,
          14.9,
          21.3,
          18.3,
          20.6,
          17.8,
          17,
          15.7,
          19.2,
          18.3,
          18.5,
          17,
          16,
          15.6,
          14.1,
          18.9,
          21.2,
          23.6,
          10.6,
          18.6,
          22,
          24.5,
          24.6,
          19.6,
          19,
          19.4,
          21.8,
          16.4,
          18.8,
          20.8,
          18.9,
          16.8,
          17.5,
          16.5,
          24.4,
          16.5,
          18.5,
          16,
          17.3,
          18.9,
          15.3,
          17.7,
          16.6,
          25,
          17,
          21.2,
          17,
          22.2,
          20.6,
          19.4,
          15.4,
          16.9,
          13.1,
          15.5,
          15.4,
          18.8,
          18.9,
          11.1,
          16,
          14.4,
          16.7,
          17.9,
          13.2,
          16.4,
          12.2,
          11.4,
          13,
          14.3,
          14.3,
          16.9,
          19.2,
          14.4,
          12.4,
          34.2,
          38.1,
          35.8,
          34.6,
          35.6,
          35.7,
          35.5,
          34.4,
          35.9,
          34.8,
          32.2,
          33.3,
          35.1,
          37,
          33.1,
          36.9,
          35.6,
          34.8,
          35.1,
          33.7,
          36.2,
          36.2,
          32.7,
          30.5,
          30.7,
          32,
          31.5,
          31.3,
          36.1,
          30.6,
          28.2,
          34,
          32.7,
          30.4,
          35.3,
          28.2,
          31.8,
          32,
          31.8,
          28,
          32.9,
          31.5,
          33,
          28.5,
          32.3,
          32.5,
          28.5,
          29.3,
          29.6,
          32.1,
          33.4,
          33,
          35,
          33.1,
          32.2,
          36.7,
          28.7,
          28.4,
          29.1,
          31.6,
          26.9,
          32.8,
          35.7,
          32.4,
          31.7,
          28,
          30,
          34.7,
          33.8,
          27.7,
          32.1,
          29.5,
          30.1,
          28.2,
          30.4,
          28.4,
          33.4,
          26,
          33.7,
          21,
          35.3,
          29.1,
          32.1,
          33.9,
          25.3,
          30.7,
          32.4,
          32.1,
          33.4,
          21.3,
          34.1,
          25.5,
          35.2,
          27.5,
          27.2,
          24.9,
          22.9,
          28.2,
          30.9,
          26.3,
          28.9,
          27.8,
          30.3,
          28.2,
          26.8,
          29.3,
          20.3,
          25.5,
          22.5,
          29.4,
          21.3,
          28,
          20.5,
          25.4,
          22.8,
          23.6,
          22.5,
          26,
          27.1,
          24.6,
          28.5,
          27.1,
          30.6,
          28.8,
          20.2,
          21.7,
          20.3,
          23.9,
          28.7,
          28,
          27.6,
          26.8,
          18.2,
          29.5,
          19.6,
          27.4,
          23,
          17.9,
          25.6,
          30,
          23.9,
          27.3,
          25.4,
          31.7,
          23.3,
          22.6,
          22,
          21.9,
          20.7,
          18.6,
          24.3,
          21.5,
          20.7,
          19.9,
          26.5,
          25.2,
          26.4,
          20.5,
          18.7,
          25.6,
          24.8,
          21.9,
          25.3,
          19.9,
          22.3,
          23.1,
          31,
          25.2,
          17.6,
          25.9,
          27.7,
          21.2,
          21.3,
          24.8,
          20,
          28.1,
          19,
          21.7,
          21.4,
          24.6,
          21.1,
          18.5,
          22.8,
          24.4,
          22.4,
          26.1,
          20.4,
          15.5,
          20.3,
          24.5,
          16.1,
          11.6,
          18,
          19.1,
          17.8,
          26.6,
          21.4,
          21.6,
          25.6,
          20.8,
          19,
          16.8,
          20.8,
          28.6,
          23.4,
          18.7,
          18.2,
          15.9,
          15.2,
          19.5,
          17.4,
          19.9,
          15.3,
          18.1,
          17.3,
          19.8,
          17.1,
          11.8,
          17.9,
          24.6,
          14.6,
          23.2,
          18.5,
          17.5,
          20.7,
          15.8,
          20.3,
          14.4,
          21.4,
          16.6,
          13.6,
          17.9,
          20.1,
          22,
          13.3,
          20.2,
          20.7,
          19.5,
          18.6,
          20.3,
          14.8,
          14.3,
          10.7,
          17.9,
          15.9,
          14.9,
          22.2,
          11.8,
          16,
          22.4,
          12.2,
          17,
          15.1,
          12.9,
          14.7,
          15.3,
          14.7,
          14.1,
          17.3,
          10.7,
          15.1,
          8.8,
          14.4,
          9.4,
          14.3,
          17,
          13,
          12.2,
          19,
          13.9,
          11.8,
          34.6,
          36.4,
          33.8,
          36.1,
          35.4,
          35.9,
          34.2,
          37.8,
          33.4,
          33.4,
          35.1,
          37,
          33.4,
          37,
          35.9,
          37.2,
          34.7,
          36.4,
          34.9,
          35,
          35.6,
          34.3,
          37.4,
          34,
          35,
          34.5,
          34,
          33,
          29.6,
          33.2,
          33.7,
          34.2,
          35.5,
          31.4,
          29.9,
          33.9,
          32.8,
          31.5,
          34,
          32.5,
          31.5,
          24.6,
          32.4,
          32.9,
          32.6,
          27.9,
          31,
          31.3,
          33.2,
          30.9,
          28.7,
          32.7,
          32.4,
          34,
          28.2,
          30.7,
          29.2,
          28.8,
          31.4,
          27.3,
          31,
          21.3,
          24.5,
          33.9,
          32.3,
          32.5,
          31.2,
          32.4,
          33.3,
          25.7,
          29.8,
          28.4,
          29.7,
          29.4,
          29.7,
          34.2,
          32.6,
          30.3,
          25.9,
          28.8,
          25.1,
          26.1,
          31.6,
          26.3,
          27.4,
          29,
          29.4,
          28.7,
          31.7,
          27,
          23.9,
          25.4,
          26.3,
          27.8,
          25.8,
          22.5,
          34.7,
          26.1,
          29.9,
          30.2,
          32.9,
          25.1,
          30.2,
          26.9,
          25.9,
          25.5,
          31.9,
          31.2,
          23.4,
          28.5,
          24,
          30.4,
          23,
          24,
          24.2,
          26.5,
          28,
          27.8,
          25.9,
          26.4,
          32.5,
          21.4,
          25.2,
          26.2,
          28.9,
          24.7,
          32.4,
          19.4,
          21.5,
          25.1,
          18.4,
          21.2,
          24.9,
          30.7,
          21.9,
          27.4,
          28.8,
          24.1,
          25,
          22.2,
          23.2,
          21.3,
          29,
          23.6,
          27.3,
          18.9,
          17.9,
          18.3,
          27,
          20.5,
          25.5,
          22.8,
          27.3,
          26.1,
          29.1,
          15.7,
          22.6,
          29.2,
          27,
          25.9,
          18,
          17.7,
          18.4,
          18.9,
          19.3,
          14.1,
          29.9,
          24.7,
          20.3,
          20.2,
          19.7,
          26.7,
          22.3,
          26.6,
          20,
          26.1,
          26.3,
          18.7,
          25.5,
          22.5,
          22.6,
          26.6,
          18.7,
          18.4,
          25.7,
          23.5,
          22.9,
          22.2,
          24,
          16.4,
          22.7,
          24,
          29.7,
          18.4,
          26.3,
          24.6,
          14.8,
          15.6,
          21.3,
          19.4,
          21.3,
          16.7,
          23.5,
          17.3,
          27.6,
          20,
          30.1,
          17.2,
          25,
          18.4,
          20.1,
          17.2,
          16.2,
          25.2,
          20.3,
          15.6,
          14.4,
          14.9,
          18.6,
          17.7,
          18.3,
          16.3,
          17.8,
          9.6,
          18.1,
          20.7,
          22.3,
          15.5,
          22.1,
          20.1,
          20.5,
          16.3,
          16.3,
          16.6,
          14.4,
          20.4,
          17.1,
          19.1,
          16.5,
          14,
          17.1,
          14.5,
          18.6,
          17.7,
          17.5,
          13.8,
          13.6,
          14.8,
          15.5,
          15.8,
          15.7,
          12.6,
          17.6,
          16.3,
          15.6,
          12.1,
          17.1,
          17.8,
          20.3,
          18.4,
          15.1,
          15.8,
          17.1,
          12.9,
          14.2,
          12.4,
          14.3,
          15.2,
          11.9,
          12.5,
          8.6,
          35.4,
          36.4,
          36.9,
          36.6,
          36.7,
          34.2,
          36.4,
          32.2,
          33.5,
          34,
          33.9,
          30.3,
          36.3,
          32.8,
          36.7,
          34.2,
          36.6,
          36.1,
          35.6,
          33.4,
          36.4,
          34.3,
          33,
          31,
          36.1,
          34.2,
          33.4,
          32.6,
          31.2,
          31.4,
          36.3,
          28,
          34.4,
          31.7,
          33,
          30.2,
          31.7,
          30.4,
          32.2,
          32.1,
          26.7,
          31.2,
          33.5,
          33.7,
          33.1,
          29.7,
          29.7,
          33.7,
          33.7,
          31.6,
          26.9,
          29.6,
          30.7,
          25.6,
          26.4,
          30.8,
          33,
          30,
          25.8,
          29.4,
          28.3,
          30.5,
          32.7,
          23.3,
          27.5,
          25.3,
          29.9,
          33.2,
          22.5,
          29.3,
          22.3,
          25.4,
          29.3,
          23.4,
          24.6,
          33.2,
          31.6,
          27.5,
          28,
          28.2,
          33.8,
          22.4,
          28.7,
          27.5,
          31.6,
          28.8,
          31.5,
          29.2,
          28,
          33.2,
          31.5,
          24.3,
          26.3,
          31.5,
          24.7,
          30.4,
          26.4,
          32.2,
          27.5,
          27.9,
          28.5,
          33.9,
          24.5,
          23.2,
          31,
          27.8,
          27,
          23.4,
          31.5,
          22.9,
          27.9,
          25.9,
          26.5,
          23.2,
          32.7,
          17,
          28.7,
          24.9,
          25.1,
          23.4,
          25.3,
          26.6,
          24.1,
          20.7,
          27.8,
          23.5,
          27.2,
          23.5,
          25.7,
          19.1,
          31.7,
          27,
          24.9,
          19.1,
          26.1,
          22.1,
          25.7,
          26.1,
          30,
          22.6,
          21.6,
          25,
          22.2,
          20.5,
          20,
          18.5,
          25.9,
          20.7,
          20.8,
          21.5,
          27.4,
          19.4,
          20,
          25.6,
          20.2,
          21.2,
          20.3,
          24.8,
          25.3,
          18.9,
          22.8,
          28.1,
          26.2,
          25.7,
          20,
          21.5,
          20.8,
          23.5,
          27,
          26.7,
          23.2,
          23.4,
          24.7,
          21.8,
          23.7,
          22.8,
          21.2,
          16.5,
          21.5,
          20,
          25.6,
          25,
          19.6,
          20.7,
          17.4,
          22.5,
          18,
          22.3,
          19.4,
          19,
          18.6,
          19.8,
          16.6,
          27.4,
          19.8,
          13.7,
          20.5,
          19.6,
          13.6,
          16.8,
          22.1,
          17.4,
          21.4,
          25.2,
          14.5,
          17,
          22.5,
          27.8,
          25.3,
          18.3,
          16.9,
          21.9,
          14.1,
          20,
          19.4,
          15.2,
          15.3,
          21.4,
          18.2,
          15.9,
          15.2,
          20.1,
          14.1,
          18.1,
          16.8,
          18.9,
          16.8,
          14.9,
          17.9,
          16.7,
          16.7,
          9.5,
          14.9,
          15.1,
          15.8,
          15.8,
          16.7,
          12.1,
          18.5,
          13.8,
          11,
          15.5,
          15.8,
          16.5,
          12,
          9.4,
          12.5,
          14.2,
          15.8,
          12.9,
          14.2,
          9,
          12,
          36.8,
          36.9,
          32.8,
          33.7,
          33.8,
          34,
          35,
          34.6,
          35.5,
          34.9,
          36.9,
          35,
          33.1,
          33,
          33.7,
          34.5,
          36,
          34,
          30.6,
          33.2,
          34.9,
          32.2,
          35.9,
          30.2,
          33.5,
          33.9,
          31.4,
          31.9,
          31.3,
          34.7,
          26.6,
          30.3,
          30,
          30.9,
          33.6,
          33.1,
          31.1,
          32.6,
          34.8,
          31.6,
          31.3,
          31.8,
          33.5,
          31.4,
          31.9,
          34.2,
          27.3,
          28.1,
          31.8,
          33.6,
          26.3,
          34.8,
          32.9,
          30.7,
          31.7,
          33.8,
          29.1,
          31.8,
          31.1,
          28.6,
          27.4,
          32,
          29.3,
          27.9,
          28.5,
          28,
          31.5,
          26.5,
          26.2,
          27.2,
          25.3,
          27.2,
          26.9,
          34,
          27.8,
          24.8,
          27.9,
          33.4,
          26.1,
          26.7,
          30.2,
          24.5,
          32.7,
          29,
          30.8,
          28.6,
          32.2,
          25.9,
          28.8,
          27.9,
          30.7,
          27.1,
          29.7,
          34,
          28.7,
          23.3,
          27.2,
          30.3,
          31.3,
          22.3,
          27.3,
          27.1,
          23.2,
          28,
          28,
          24.5,
          25.2,
          25.9,
          24.8,
          23.2,
          29.8,
          28.2,
          26.3,
          25.4,
          20.1,
          29.7,
          27.5,
          26.2,
          19.4,
          22.8,
          26.5,
          25.1,
          24.1,
          27.5,
          25,
          21.6,
          20.8,
          23,
          31.8,
          24,
          27.7,
          20.3,
          28.4,
          22.9,
          30.2,
          25.8,
          23.3,
          22.8,
          27.3,
          23.2,
          26.6,
          19.4,
          21.7,
          21.9,
          21.1,
          28.3,
          26.8,
          31.4,
          21.8,
          20.2,
          22.8,
          22.7,
          17.2,
          20.9,
          17.6,
          23.3,
          27.1,
          27.5,
          20.8,
          21.5,
          22.6,
          18.8,
          19.1,
          17.5,
          20.5,
          21.8,
          25.3,
          23.5,
          29.5,
          25.5,
          15.8,
          16.9,
          26.7,
          19.2,
          21.5,
          18.9,
          18.9,
          25.6,
          27.2,
          18.3,
          21.1,
          23.7,
          23.6,
          27.4,
          21.7,
          23.5,
          18.7,
          24.5,
          23.9,
          21.2,
          17.5,
          31.3,
          20.6,
          34.2,
          17.4,
          11.7,
          14,
          16.5,
          19.9,
          14.1,
          19.2,
          20.4,
          20.2,
          26.1,
          20.7,
          22.9,
          18.3,
          14.3,
          19.2,
          21.2,
          22,
          18.4,
          24.2,
          21.2,
          16.2,
          18.4,
          17.6,
          25.2,
          19.6,
          17.8,
          13.6,
          19.3,
          15.8,
          16.7,
          18.5,
          14,
          17.6,
          15,
          14.9,
          14.4,
          19.4,
          17.9,
          17.7,
          20,
          23.2,
          13.8,
          16.5,
          19,
          20.4,
          15.2,
          16.6,
          18.1,
          13.7,
          20.7,
          13.9,
          19.6,
          15.7,
          15.1,
          12.4,
          8.7,
          11.4,
          12.9,
          9,
          13.7,
          10.1,
          11.6,
          14.5,
          4.9,
          36.5,
          36,
          37.5,
          35.3,
          30.4,
          33.6,
          35.9,
          32.4,
          35.9,
          34.4,
          34.8,
          34.6,
          34.3,
          33.9,
          34.3,
          32.3,
          35.2,
          36.5,
          34.1,
          34.4,
          32,
          29.9,
          33,
          31.2,
          31.1,
          31.8,
          33.9,
          33.1,
          33.8,
          32,
          32.9,
          34.3,
          32.2,
          32.5,
          36.2,
          30.8,
          34.7,
          34.7,
          30.8,
          33.1,
          29.6,
          34.5,
          27.8,
          34.8,
          31.5,
          32.3,
          28.7,
          35.1,
          26,
          34.4,
          31,
          32.9,
          35.7,
          31.8,
          31.5,
          33.5,
          28.5,
          31.2,
          30.9,
          35.4,
          28.9,
          28.2,
          28.4,
          33.6,
          29.5,
          30,
          29.3,
          32.8,
          27,
          29.3,
          26.4,
          24,
          29,
          34.3,
          33,
          26.6,
          27,
          26.4,
          29.8,
          27.4,
          34.5,
          30.8,
          32.5,
          30.4,
          27.6,
          30.8,
          27.4,
          29.7,
          25.8,
          21.4,
          31,
          30.7,
          32,
          25,
          29,
          30.5,
          24.6,
          32,
          30.9,
          30.3,
          31.4,
          27.7,
          29.5,
          29,
          22.4,
          30.2,
          26.6,
          26.7,
          30.2,
          32.1,
          28.8,
          22.5,
          27.9,
          24.7,
          25.1,
          22,
          26.5,
          23.1,
          29.4,
          25.6,
          26.3,
          24.8,
          26.7,
          21.8,
          24.7,
          29.9,
          28.8,
          26.7,
          24.9,
          30.4,
          25.8,
          31.8,
          27.9,
          24,
          24.9,
          19.9,
          25.8,
          21.3,
          21.1,
          27,
          26.3,
          22.8,
          23.2,
          28.9,
          29.7,
          21.7,
          23.1,
          20.5,
          29.9,
          24.5,
          21.5,
          25.5,
          16.4,
          20.3,
          27.4,
          24.1,
          23,
          23.9,
          28,
          25.5,
          22.4,
          24.4,
          22.6,
          28.2,
          21.8,
          22,
          22.4,
          24.8,
          23.4,
          25,
          23.3,
          18.2,
          22,
          18.4,
          20.7,
          25,
          19.4,
          17.9,
          16.9,
          24.8,
          27.8,
          28.2,
          17.7,
          26.3,
          19.5,
          18.1,
          16.8,
          18.9,
          19,
          19.4,
          16.9,
          24.4,
          17.4,
          18.5,
          15.7,
          24.9,
          20.3,
          17.3,
          18.7,
          34.3,
          21.5,
          19.3,
          20.7,
          17.4,
          16.6,
          13.2,
          17.4,
          18.3,
          15.7,
          16.6,
          18.7,
          17.9,
          20.2,
          16.2,
          24.4,
          28.9,
          15.5,
          13.5,
          15.8,
          20.8,
          16.5,
          17.4,
          17.8,
          14,
          19.5,
          19.9,
          18.3,
          23,
          17.7,
          18.5,
          16.1,
          16.1,
          18.4,
          18.4,
          18.5,
          14.5,
          18.6,
          14.2,
          14.8,
          12.4,
          15.5,
          18.9,
          14.6,
          18.8,
          13.2,
          16.3,
          11.4,
          16.4,
          19.8,
          12.9,
          16,
          16.9,
          12.7,
          13.1,
          22.4,
          15.9,
          15.1,
          14.7,
          15.6,
          8.7,
          14.4,
          34.2,
          35.8,
          35.8,
          31.1,
          33,
          34.3,
          35.1,
          33.2,
          34.9,
          35.8,
          33.4,
          34.6,
          33.9,
          33.7,
          35.1,
          34.1,
          34.5,
          35.3,
          37.6,
          34.3,
          33.5,
          33.7,
          33.9,
          36.4,
          33.7,
          33.6,
          35.8,
          34.5,
          34.5,
          33.4,
          36,
          36.5,
          32.5,
          32.1,
          32.6,
          31.3,
          33.5,
          32,
          33.3,
          26.7,
          32.3,
          29.3,
          34.9,
          33.1,
          29.8,
          28.3,
          30.8,
          28.4,
          34.3,
          31.4,
          29.4,
          36.2,
          28.8,
          31.9,
          30.7,
          32.1,
          31.1,
          30.1,
          30.3,
          31.2,
          30.2,
          31.8,
          29.5,
          30.7,
          30.8,
          32.4,
          29.2,
          31,
          29.7,
          31.5,
          31.2,
          24.2,
          25.8,
          24.5,
          28.5,
          22.9,
          32.6,
          26.4,
          24.5,
          25.2,
          24,
          31.4,
          30.1,
          23.2,
          30.5,
          28.7,
          29.6,
          28.5,
          29.3,
          31,
          25,
          28.7,
          27.3,
          27.2,
          27.3,
          29.7,
          30.3,
          24.3,
          27.9,
          19.4,
          30.8,
          23.6,
          25.7,
          20.8,
          19.4,
          21.6,
          21.6,
          29.2,
          25.5,
          19.2,
          24.4,
          25.4,
          27,
          25.7,
          30,
          24.8,
          23,
          30.3,
          27.5,
          25.6,
          26.8,
          24,
          27.7,
          23.6,
          27.4,
          27.5,
          19.3,
          32,
          28.4,
          24.6,
          32.4,
          24,
          28,
          23,
          27.9,
          22.3,
          19.3,
          20.1,
          19.1,
          22.3,
          20.1,
          20.8,
          22.3,
          23.4,
          17.6,
          21.9,
          26,
          26.7,
          26.1,
          32,
          20.1,
          18,
          19.6,
          23,
          24.1,
          19.3,
          27.4,
          18.9,
          15.3,
          21.6,
          21.4,
          17.3,
          19.2,
          22.5,
          19.8,
          17.1,
          23.8,
          27.3,
          27.7,
          16.2,
          16.1,
          21.9,
          20.5,
          17.3,
          17.8,
          22.8,
          19.9,
          31.5,
          18.9,
          14.6,
          31.5,
          17.3,
          16,
          17.4,
          22.7,
          22.8,
          24,
          17.3,
          19.7,
          14.7,
          18.4,
          15.3,
          16.7,
          18.9,
          21,
          18.1,
          16.7,
          23.3,
          17.5,
          18.5,
          21.9,
          19.2,
          16.7,
          14,
          19.1,
          20.9,
          12.8,
          16.2,
          17.3,
          17,
          15.3,
          17.8,
          20.3,
          17.1,
          15.5,
          24.2,
          19.1,
          18.4,
          20.4,
          12.1,
          15.4,
          19.5,
          18.1,
          17,
          17.1,
          21.3,
          16.5,
          21.3,
          16.7,
          12,
          19,
          11,
          16.3,
          20,
          26.1,
          9.7,
          9.6,
          33.8,
          32.9,
          35.4,
          34.9,
          36.1,
          33.5,
          35.9,
          34.5,
          33.8,
          34.5,
          33.4,
          34.7,
          33.6,
          35.3,
          37.9,
          34.6,
          37.2,
          35.7,
          34.3,
          34.8,
          32.6,
          37.9,
          35.5,
          32.3,
          35.3,
          32.4,
          34.5,
          33.7,
          34.5,
          30,
          34.3,
          35,
          32.9,
          29.8,
          32,
          30.9,
          30.8,
          30.3,
          33.1,
          35.3,
          32.6,
          31.9,
          34.8,
          31.9,
          29.5,
          33.4,
          31.9,
          30.7,
          31.2,
          33.6,
          31.7,
          27.3,
          31.9,
          33,
          27.1,
          30.9,
          32.1,
          31.3,
          35,
          35.4,
          30.7,
          29.3,
          29.9,
          31.7,
          33.3,
          33.8,
          26.3,
          30.8,
          32.9,
          32.1,
          28.2,
          34.8,
          29.5,
          28.1,
          29.6,
          28.6,
          22.5,
          28.7,
          29,
          33.9,
          26,
          29.3,
          30.2,
          23.1,
          27.5,
          29.9,
          26.2,
          27.3,
          23,
          32.3,
          25,
          29.6,
          27.4,
          28.4,
          26.4,
          25.3,
          28.6,
          27.7,
          29,
          23.1,
          28.4,
          27.3,
          27.6,
          33.1,
          21.9,
          25.9,
          22.7,
          27.9,
          22,
          28.6,
          22.2,
          25.7,
          22.6,
          23.3,
          20.5,
          22.8,
          19.5,
          24.4,
          24.7,
          27.2,
          24.6,
          20.1,
          29.1,
          27.8,
          19,
          26.3,
          23,
          29.6,
          25.2,
          26,
          20.7,
          29.9,
          28.1,
          21.1,
          20.1,
          20,
          16.9,
          25.8,
          22.8,
          25.4,
          15.8,
          22.9,
          23.3,
          23.6,
          17.1,
          24.6,
          22.7,
          15.2,
          21.3,
          17.1,
          27.4,
          21,
          29.6,
          21.9,
          23.4,
          21.2,
          25,
          28,
          17.6,
          27.3,
          15.7,
          25.7,
          24.2,
          24.8,
          20.8,
          25.6,
          17.9,
          15.8,
          23.4,
          17.9,
          22.2,
          21.7,
          24.6,
          19.7,
          18,
          19.1,
          24.4,
          17.5,
          26.3,
          21.9,
          20.2,
          21.1,
          27.9,
          21.5,
          19.6,
          20,
          31.2,
          23.2,
          17.1,
          23.4,
          17.6,
          24.6,
          26.3,
          25.4,
          25,
          20.5,
          24.6,
          16.2,
          22.7,
          16.2,
          17.3,
          15.9,
          14.1,
          16.2,
          16.1,
          16.1,
          22.1,
          21.1,
          16.6,
          21.8,
          20.2,
          12.7,
          25.5,
          16.2,
          19.2,
          13.9,
          18.6,
          18.2,
          17.9,
          15.5,
          18.9,
          16,
          13.7,
          11.8,
          13.6,
          14.5,
          12.8,
          10.9
         ],
         "xaxis": "x",
         "yaxis": "y"
        }
       ],
       "layout": {
        "barmode": "relative",
        "legend": {
         "tracegroupgap": 0
        },
        "margin": {
         "t": 60
        },
        "template": {
         "data": {
          "bar": [
           {
            "error_x": {
             "color": "#2a3f5f"
            },
            "error_y": {
             "color": "#2a3f5f"
            },
            "marker": {
             "line": {
              "color": "#E5ECF6",
              "width": 0.5
             },
             "pattern": {
              "fillmode": "overlay",
              "size": 10,
              "solidity": 0.2
             }
            },
            "type": "bar"
           }
          ],
          "barpolar": [
           {
            "marker": {
             "line": {
              "color": "#E5ECF6",
              "width": 0.5
             },
             "pattern": {
              "fillmode": "overlay",
              "size": 10,
              "solidity": 0.2
             }
            },
            "type": "barpolar"
           }
          ],
          "carpet": [
           {
            "aaxis": {
             "endlinecolor": "#2a3f5f",
             "gridcolor": "white",
             "linecolor": "white",
             "minorgridcolor": "white",
             "startlinecolor": "#2a3f5f"
            },
            "baxis": {
             "endlinecolor": "#2a3f5f",
             "gridcolor": "white",
             "linecolor": "white",
             "minorgridcolor": "white",
             "startlinecolor": "#2a3f5f"
            },
            "type": "carpet"
           }
          ],
          "choropleth": [
           {
            "colorbar": {
             "outlinewidth": 0,
             "ticks": ""
            },
            "type": "choropleth"
           }
          ],
          "contour": [
           {
            "colorbar": {
             "outlinewidth": 0,
             "ticks": ""
            },
            "colorscale": [
             [
              0,
              "#0d0887"
             ],
             [
              0.1111111111111111,
              "#46039f"
             ],
             [
              0.2222222222222222,
              "#7201a8"
             ],
             [
              0.3333333333333333,
              "#9c179e"
             ],
             [
              0.4444444444444444,
              "#bd3786"
             ],
             [
              0.5555555555555556,
              "#d8576b"
             ],
             [
              0.6666666666666666,
              "#ed7953"
             ],
             [
              0.7777777777777778,
              "#fb9f3a"
             ],
             [
              0.8888888888888888,
              "#fdca26"
             ],
             [
              1,
              "#f0f921"
             ]
            ],
            "type": "contour"
           }
          ],
          "contourcarpet": [
           {
            "colorbar": {
             "outlinewidth": 0,
             "ticks": ""
            },
            "type": "contourcarpet"
           }
          ],
          "heatmap": [
           {
            "colorbar": {
             "outlinewidth": 0,
             "ticks": ""
            },
            "colorscale": [
             [
              0,
              "#0d0887"
             ],
             [
              0.1111111111111111,
              "#46039f"
             ],
             [
              0.2222222222222222,
              "#7201a8"
             ],
             [
              0.3333333333333333,
              "#9c179e"
             ],
             [
              0.4444444444444444,
              "#bd3786"
             ],
             [
              0.5555555555555556,
              "#d8576b"
             ],
             [
              0.6666666666666666,
              "#ed7953"
             ],
             [
              0.7777777777777778,
              "#fb9f3a"
             ],
             [
              0.8888888888888888,
              "#fdca26"
             ],
             [
              1,
              "#f0f921"
             ]
            ],
            "type": "heatmap"
           }
          ],
          "heatmapgl": [
           {
            "colorbar": {
             "outlinewidth": 0,
             "ticks": ""
            },
            "colorscale": [
             [
              0,
              "#0d0887"
             ],
             [
              0.1111111111111111,
              "#46039f"
             ],
             [
              0.2222222222222222,
              "#7201a8"
             ],
             [
              0.3333333333333333,
              "#9c179e"
             ],
             [
              0.4444444444444444,
              "#bd3786"
             ],
             [
              0.5555555555555556,
              "#d8576b"
             ],
             [
              0.6666666666666666,
              "#ed7953"
             ],
             [
              0.7777777777777778,
              "#fb9f3a"
             ],
             [
              0.8888888888888888,
              "#fdca26"
             ],
             [
              1,
              "#f0f921"
             ]
            ],
            "type": "heatmapgl"
           }
          ],
          "histogram": [
           {
            "marker": {
             "pattern": {
              "fillmode": "overlay",
              "size": 10,
              "solidity": 0.2
             }
            },
            "type": "histogram"
           }
          ],
          "histogram2d": [
           {
            "colorbar": {
             "outlinewidth": 0,
             "ticks": ""
            },
            "colorscale": [
             [
              0,
              "#0d0887"
             ],
             [
              0.1111111111111111,
              "#46039f"
             ],
             [
              0.2222222222222222,
              "#7201a8"
             ],
             [
              0.3333333333333333,
              "#9c179e"
             ],
             [
              0.4444444444444444,
              "#bd3786"
             ],
             [
              0.5555555555555556,
              "#d8576b"
             ],
             [
              0.6666666666666666,
              "#ed7953"
             ],
             [
              0.7777777777777778,
              "#fb9f3a"
             ],
             [
              0.8888888888888888,
              "#fdca26"
             ],
             [
              1,
              "#f0f921"
             ]
            ],
            "type": "histogram2d"
           }
          ],
          "histogram2dcontour": [
           {
            "colorbar": {
             "outlinewidth": 0,
             "ticks": ""
            },
            "colorscale": [
             [
              0,
              "#0d0887"
             ],
             [
              0.1111111111111111,
              "#46039f"
             ],
             [
              0.2222222222222222,
              "#7201a8"
             ],
             [
              0.3333333333333333,
              "#9c179e"
             ],
             [
              0.4444444444444444,
              "#bd3786"
             ],
             [
              0.5555555555555556,
              "#d8576b"
             ],
             [
              0.6666666666666666,
              "#ed7953"
             ],
             [
              0.7777777777777778,
              "#fb9f3a"
             ],
             [
              0.8888888888888888,
              "#fdca26"
             ],
             [
              1,
              "#f0f921"
             ]
            ],
            "type": "histogram2dcontour"
           }
          ],
          "mesh3d": [
           {
            "colorbar": {
             "outlinewidth": 0,
             "ticks": ""
            },
            "type": "mesh3d"
           }
          ],
          "parcoords": [
           {
            "line": {
             "colorbar": {
              "outlinewidth": 0,
              "ticks": ""
             }
            },
            "type": "parcoords"
           }
          ],
          "pie": [
           {
            "automargin": true,
            "type": "pie"
           }
          ],
          "scatter": [
           {
            "fillpattern": {
             "fillmode": "overlay",
             "size": 10,
             "solidity": 0.2
            },
            "type": "scatter"
           }
          ],
          "scatter3d": [
           {
            "line": {
             "colorbar": {
              "outlinewidth": 0,
              "ticks": ""
             }
            },
            "marker": {
             "colorbar": {
              "outlinewidth": 0,
              "ticks": ""
             }
            },
            "type": "scatter3d"
           }
          ],
          "scattercarpet": [
           {
            "marker": {
             "colorbar": {
              "outlinewidth": 0,
              "ticks": ""
             }
            },
            "type": "scattercarpet"
           }
          ],
          "scattergeo": [
           {
            "marker": {
             "colorbar": {
              "outlinewidth": 0,
              "ticks": ""
             }
            },
            "type": "scattergeo"
           }
          ],
          "scattergl": [
           {
            "marker": {
             "colorbar": {
              "outlinewidth": 0,
              "ticks": ""
             }
            },
            "type": "scattergl"
           }
          ],
          "scattermapbox": [
           {
            "marker": {
             "colorbar": {
              "outlinewidth": 0,
              "ticks": ""
             }
            },
            "type": "scattermapbox"
           }
          ],
          "scatterpolar": [
           {
            "marker": {
             "colorbar": {
              "outlinewidth": 0,
              "ticks": ""
             }
            },
            "type": "scatterpolar"
           }
          ],
          "scatterpolargl": [
           {
            "marker": {
             "colorbar": {
              "outlinewidth": 0,
              "ticks": ""
             }
            },
            "type": "scatterpolargl"
           }
          ],
          "scatterternary": [
           {
            "marker": {
             "colorbar": {
              "outlinewidth": 0,
              "ticks": ""
             }
            },
            "type": "scatterternary"
           }
          ],
          "surface": [
           {
            "colorbar": {
             "outlinewidth": 0,
             "ticks": ""
            },
            "colorscale": [
             [
              0,
              "#0d0887"
             ],
             [
              0.1111111111111111,
              "#46039f"
             ],
             [
              0.2222222222222222,
              "#7201a8"
             ],
             [
              0.3333333333333333,
              "#9c179e"
             ],
             [
              0.4444444444444444,
              "#bd3786"
             ],
             [
              0.5555555555555556,
              "#d8576b"
             ],
             [
              0.6666666666666666,
              "#ed7953"
             ],
             [
              0.7777777777777778,
              "#fb9f3a"
             ],
             [
              0.8888888888888888,
              "#fdca26"
             ],
             [
              1,
              "#f0f921"
             ]
            ],
            "type": "surface"
           }
          ],
          "table": [
           {
            "cells": {
             "fill": {
              "color": "#EBF0F8"
             },
             "line": {
              "color": "white"
             }
            },
            "header": {
             "fill": {
              "color": "#C8D4E3"
             },
             "line": {
              "color": "white"
             }
            },
            "type": "table"
           }
          ]
         },
         "layout": {
          "annotationdefaults": {
           "arrowcolor": "#2a3f5f",
           "arrowhead": 0,
           "arrowwidth": 1
          },
          "autotypenumbers": "strict",
          "coloraxis": {
           "colorbar": {
            "outlinewidth": 0,
            "ticks": ""
           }
          },
          "colorscale": {
           "diverging": [
            [
             0,
             "#8e0152"
            ],
            [
             0.1,
             "#c51b7d"
            ],
            [
             0.2,
             "#de77ae"
            ],
            [
             0.3,
             "#f1b6da"
            ],
            [
             0.4,
             "#fde0ef"
            ],
            [
             0.5,
             "#f7f7f7"
            ],
            [
             0.6,
             "#e6f5d0"
            ],
            [
             0.7,
             "#b8e186"
            ],
            [
             0.8,
             "#7fbc41"
            ],
            [
             0.9,
             "#4d9221"
            ],
            [
             1,
             "#276419"
            ]
           ],
           "sequential": [
            [
             0,
             "#0d0887"
            ],
            [
             0.1111111111111111,
             "#46039f"
            ],
            [
             0.2222222222222222,
             "#7201a8"
            ],
            [
             0.3333333333333333,
             "#9c179e"
            ],
            [
             0.4444444444444444,
             "#bd3786"
            ],
            [
             0.5555555555555556,
             "#d8576b"
            ],
            [
             0.6666666666666666,
             "#ed7953"
            ],
            [
             0.7777777777777778,
             "#fb9f3a"
            ],
            [
             0.8888888888888888,
             "#fdca26"
            ],
            [
             1,
             "#f0f921"
            ]
           ],
           "sequentialminus": [
            [
             0,
             "#0d0887"
            ],
            [
             0.1111111111111111,
             "#46039f"
            ],
            [
             0.2222222222222222,
             "#7201a8"
            ],
            [
             0.3333333333333333,
             "#9c179e"
            ],
            [
             0.4444444444444444,
             "#bd3786"
            ],
            [
             0.5555555555555556,
             "#d8576b"
            ],
            [
             0.6666666666666666,
             "#ed7953"
            ],
            [
             0.7777777777777778,
             "#fb9f3a"
            ],
            [
             0.8888888888888888,
             "#fdca26"
            ],
            [
             1,
             "#f0f921"
            ]
           ]
          },
          "colorway": [
           "#636efa",
           "#EF553B",
           "#00cc96",
           "#ab63fa",
           "#FFA15A",
           "#19d3f3",
           "#FF6692",
           "#B6E880",
           "#FF97FF",
           "#FECB52"
          ],
          "font": {
           "color": "#2a3f5f"
          },
          "geo": {
           "bgcolor": "white",
           "lakecolor": "white",
           "landcolor": "#E5ECF6",
           "showlakes": true,
           "showland": true,
           "subunitcolor": "white"
          },
          "hoverlabel": {
           "align": "left"
          },
          "hovermode": "closest",
          "mapbox": {
           "style": "light"
          },
          "paper_bgcolor": "white",
          "plot_bgcolor": "#E5ECF6",
          "polar": {
           "angularaxis": {
            "gridcolor": "white",
            "linecolor": "white",
            "ticks": ""
           },
           "bgcolor": "#E5ECF6",
           "radialaxis": {
            "gridcolor": "white",
            "linecolor": "white",
            "ticks": ""
           }
          },
          "scene": {
           "xaxis": {
            "backgroundcolor": "#E5ECF6",
            "gridcolor": "white",
            "gridwidth": 2,
            "linecolor": "white",
            "showbackground": true,
            "ticks": "",
            "zerolinecolor": "white"
           },
           "yaxis": {
            "backgroundcolor": "#E5ECF6",
            "gridcolor": "white",
            "gridwidth": 2,
            "linecolor": "white",
            "showbackground": true,
            "ticks": "",
            "zerolinecolor": "white"
           },
           "zaxis": {
            "backgroundcolor": "#E5ECF6",
            "gridcolor": "white",
            "gridwidth": 2,
            "linecolor": "white",
            "showbackground": true,
            "ticks": "",
            "zerolinecolor": "white"
           }
          },
          "shapedefaults": {
           "line": {
            "color": "#2a3f5f"
           }
          },
          "ternary": {
           "aaxis": {
            "gridcolor": "white",
            "linecolor": "white",
            "ticks": ""
           },
           "baxis": {
            "gridcolor": "white",
            "linecolor": "white",
            "ticks": ""
           },
           "bgcolor": "#E5ECF6",
           "caxis": {
            "gridcolor": "white",
            "linecolor": "white",
            "ticks": ""
           }
          },
          "title": {
           "x": 0.05
          },
          "xaxis": {
           "automargin": true,
           "gridcolor": "white",
           "linecolor": "white",
           "ticks": "",
           "title": {
            "standoff": 15
           },
           "zerolinecolor": "white",
           "zerolinewidth": 2
          },
          "yaxis": {
           "automargin": true,
           "gridcolor": "white",
           "linecolor": "white",
           "ticks": "",
           "title": {
            "standoff": 15
           },
           "zerolinecolor": "white",
           "zerolinewidth": 2
          }
         }
        },
        "xaxis": {
         "anchor": "y",
         "domain": [
          0,
          1
         ],
         "title": {
          "text": "x"
         }
        },
        "yaxis": {
         "anchor": "x",
         "domain": [
          0,
          1
         ],
         "title": {
          "text": "percent"
         }
        }
       }
      },
      "text/html": [
       "<div>                            <div id=\"3277d210-b246-490f-afd0-8a52934ea471\" class=\"plotly-graph-div\" style=\"height:525px; width:100%;\"></div>            <script type=\"text/javascript\">                require([\"plotly\"], function(Plotly) {                    window.PLOTLYENV=window.PLOTLYENV || {};                                    if (document.getElementById(\"3277d210-b246-490f-afd0-8a52934ea471\")) {                    Plotly.newPlot(                        \"3277d210-b246-490f-afd0-8a52934ea471\",                        [{\"alignmentgroup\":\"True\",\"bingroup\":\"x\",\"histnorm\":\"percent\",\"hovertemplate\":\"x=%{x}<br>percent=%{y}<extra></extra>\",\"legendgroup\":\"\",\"marker\":{\"color\":\"#636efa\",\"pattern\":{\"shape\":\"\"}},\"name\":\"\",\"offsetgroup\":\"\",\"orientation\":\"v\",\"showlegend\":false,\"x\":[37.0,38.5,38.6,37.9,38.3,34.9,38.2,34.7,37.7,30.4,37.5,38.6,36.4,33.4,36.8,35.8,36.7,33.5,32.5,33.1,34.9,37.5,36.2,35.3,37.6,37.2,33.4,30.5,35.8,33.4,34.4,33.2,35.8,29.3,38.7,36.7,32.2,32.5,30.9,33.2,36.3,34.3,35.5,34.6,33.5,34.5,32.9,30.4,38.5,34.5,29.2,30.5,35.0,27.7,26.9,34.4,25.8,32.2,35.3,31.5,31.1,27.6,25.4,33.2,34.7,29.7,27.8,26.6,29.0,24.0,33.7,24.4,29.3,24.6,28.7,31.3,24.4,28.1,28.6,30.2,28.9,26.0,29.6,23.1,20.8,27.2,30.5,25.8,27.5,27.9,23.2,27.4,27.5,25.9,24.1,32.1,25.0,24.7,19.0,25.7,31.0,30.0,20.7,26.9,28.7,27.3,26.0,25.8,26.2,23.2,21.5,25.4,22.6,21.8,18.1,26.0,26.7,30.0,24.5,29.2,28.0,25.1,22.1,27.6,26.9,23.9,26.0,20.4,16.5,26.0,22.4,22.4,21.3,26.4,21.3,24.9,22.4,16.7,19.8,20.1,27.5,18.1,27.2,23.7,15.4,21.2,17.0,16.9,24.8,19.0,20.3,24.8,24.2,17.0,16.5,19.6,26.9,15.9,22.8,21.1,19.9,12.5,14.2,19.5,17.3,16.5,27.3,15.1,16.1,24.6,17.3,25.1,19.0,12.2,15.9,19.7,18.9,12.8,16.2,13.0,13.4,16.3,14.4,38.5,38.7,37.7,36.3,38.0,35.8,36.5,36.2,32.4,38.2,35.0,36.2,32.9,35.2,35.2,35.8,34.7,35.1,34.7,36.3,35.0,32.0,36.9,30.3,35.4,33.7,35.0,33.2,33.5,36.2,34.4,33.3,28.3,35.8,35.8,34.2,31.4,33.5,34.7,34.2,29.4,34.5,37.6,32.2,35.5,33.9,32.0,36.4,35.1,29.6,28.4,32.6,33.2,34.1,32.1,32.8,32.9,29.2,30.9,30.3,33.4,32.7,28.2,35.4,32.2,32.0,30.9,30.3,28.1,26.7,35.3,31.1,26.6,28.2,27.2,31.1,32.3,28.0,30.2,27.6,32.8,30.7,30.9,38.7,27.3,28.5,36.0,24.5,28.7,29.1,32.3,35.3,28.9,26.7,22.8,32.2,26.7,27.3,30.0,32.0,33.9,24.4,22.6,26.9,31.6,30.5,25.9,25.2,31.5,28.2,22.2,26.5,27.6,28.2,32.1,31.8,23.0,26.7,29.7,35.0,24.1,31.7,28.8,32.0,18.9,23.1,27.0,28.9,27.5,29.8,24.2,24.8,27.7,22.0,31.0,20.8,25.0,26.5,22.5,18.5,28.5,32.2,28.2,28.3,24.4,23.2,21.6,30.7,32.4,23.4,25.4,29.0,24.3,25.0,18.6,28.4,21.6,26.7,20.0,19.4,23.6,19.7,30.3,27.7,19.8,19.9,18.8,18.6,26.0,21.5,24.6,23.3,22.2,19.4,17.1,20.4,18.2,24.4,26.4,22.7,24.2,22.6,25.6,24.5,20.8,23.4,18.1,21.6,24.6,17.0,26.5,19.4,20.2,18.9,12.4,24.6,16.9,15.6,19.1,20.2,26.0,21.9,17.2,20.3,18.3,17.3,13.6,22.6,17.3,25.6,17.1,19.8,19.4,15.4,15.0,15.2,14.7,15.4,16.9,16.8,17.6,22.1,24.4,13.8,14.5,18.7,16.5,16.9,15.3,12.5,13.6,17.7,16.5,16.1,16.0,16.2,11.6,16.7,20.1,15.7,10.5,19.4,14.4,16.2,15.7,14.8,12.3,19.5,13.0,11.8,14.8,11.3,13.9,15.1,13.5,7.9,12.3,8.5,7.0,34.4,36.8,36.1,36.1,34.1,32.7,35.4,35.2,36.4,31.9,31.8,35.4,35.7,35.0,38.7,34.2,34.4,34.8,33.7,34.4,35.7,34.5,35.9,33.2,34.2,29.6,29.2,34.8,34.6,32.3,36.2,32.7,30.6,34.1,31.8,25.8,33.8,30.9,33.8,32.5,30.8,33.7,30.5,31.0,31.8,26.6,33.1,25.2,28.5,31.5,33.4,35.5,30.5,31.5,32.6,29.5,34.9,28.7,33.1,29.1,32.0,33.6,31.7,31.5,28.9,30.5,27.5,27.9,26.3,33.1,30.1,27.0,32.1,31.1,30.1,35.7,31.5,31.4,26.4,31.3,27.8,24.2,27.7,29.9,32.2,32.6,28.9,29.7,28.7,26.2,28.6,26.8,28.0,19.5,25.0,26.2,23.8,27.6,28.5,31.5,28.7,23.0,34.4,22.7,21.1,24.0,26.1,23.9,25.8,24.4,25.3,24.4,23.5,25.3,22.7,25.2,15.9,27.3,30.5,22.3,29.6,20.2,21.1,24.7,30.6,28.3,29.9,25.8,19.7,30.8,29.5,28.6,25.5,30.0,25.3,27.8,27.6,24.0,24.3,29.2,20.5,33.5,26.4,22.4,30.6,23.8,29.7,30.4,29.0,21.1,25.0,22.2,21.3,24.5,18.9,26.2,26.8,26.3,19.8,23.3,22.3,23.7,25.8,19.2,24.9,21.8,26.6,21.0,19.6,21.8,26.9,27.0,16.5,22.3,20.1,25.3,20.1,18.9,24.4,24.0,19.3,17.7,24.1,26.1,21.1,23.6,26.1,24.9,19.3,30.6,23.8,17.0,19.8,23.9,24.0,14.9,21.3,18.3,20.6,17.8,17.0,15.7,19.2,18.3,18.5,17.0,16.0,15.6,14.1,18.9,21.2,23.6,10.6,18.6,22.0,24.5,24.6,19.6,19.0,19.4,21.8,16.4,18.8,20.8,18.9,16.8,17.5,16.5,24.4,16.5,18.5,16.0,17.3,18.9,15.3,17.7,16.6,25.0,17.0,21.2,17.0,22.2,20.6,19.4,15.4,16.9,13.1,15.5,15.4,18.8,18.9,11.1,16.0,14.4,16.7,17.9,13.2,16.4,12.2,11.4,13.0,14.3,14.3,16.9,19.2,14.4,12.4,34.2,38.1,35.8,34.6,35.6,35.7,35.5,34.4,35.9,34.8,32.2,33.3,35.1,37.0,33.1,36.9,35.6,34.8,35.1,33.7,36.2,36.2,32.7,30.5,30.7,32.0,31.5,31.3,36.1,30.6,28.2,34.0,32.7,30.4,35.3,28.2,31.8,32.0,31.8,28.0,32.9,31.5,33.0,28.5,32.3,32.5,28.5,29.3,29.6,32.1,33.4,33.0,35.0,33.1,32.2,36.7,28.7,28.4,29.1,31.6,26.9,32.8,35.7,32.4,31.7,28.0,30.0,34.7,33.8,27.7,32.1,29.5,30.1,28.2,30.4,28.4,33.4,26.0,33.7,21.0,35.3,29.1,32.1,33.9,25.3,30.7,32.4,32.1,33.4,21.3,34.1,25.5,35.2,27.5,27.2,24.9,22.9,28.2,30.9,26.3,28.9,27.8,30.3,28.2,26.8,29.3,20.3,25.5,22.5,29.4,21.3,28.0,20.5,25.4,22.8,23.6,22.5,26.0,27.1,24.6,28.5,27.1,30.6,28.8,20.2,21.7,20.3,23.9,28.7,28.0,27.6,26.8,18.2,29.5,19.6,27.4,23.0,17.9,25.6,30.0,23.9,27.3,25.4,31.7,23.3,22.6,22.0,21.9,20.7,18.6,24.3,21.5,20.7,19.9,26.5,25.2,26.4,20.5,18.7,25.6,24.8,21.9,25.3,19.9,22.3,23.1,31.0,25.2,17.6,25.9,27.7,21.2,21.3,24.8,20.0,28.1,19.0,21.7,21.4,24.6,21.1,18.5,22.8,24.4,22.4,26.1,20.4,15.5,20.3,24.5,16.1,11.6,18.0,19.1,17.8,26.6,21.4,21.6,25.6,20.8,19.0,16.8,20.8,28.6,23.4,18.7,18.2,15.9,15.2,19.5,17.4,19.9,15.3,18.1,17.3,19.8,17.1,11.8,17.9,24.6,14.6,23.2,18.5,17.5,20.7,15.8,20.3,14.4,21.4,16.6,13.6,17.9,20.1,22.0,13.3,20.2,20.7,19.5,18.6,20.3,14.8,14.3,10.7,17.9,15.9,14.9,22.2,11.8,16.0,22.4,12.2,17.0,15.1,12.9,14.7,15.3,14.7,14.1,17.3,10.7,15.1,8.8,14.4,9.4,14.3,17.0,13.0,12.2,19.0,13.9,11.8,34.6,36.4,33.8,36.1,35.4,35.9,34.2,37.8,33.4,33.4,35.1,37.0,33.4,37.0,35.9,37.2,34.7,36.4,34.9,35.0,35.6,34.3,37.4,34.0,35.0,34.5,34.0,33.0,29.6,33.2,33.7,34.2,35.5,31.4,29.9,33.9,32.8,31.5,34.0,32.5,31.5,24.6,32.4,32.9,32.6,27.9,31.0,31.3,33.2,30.9,28.7,32.7,32.4,34.0,28.2,30.7,29.2,28.8,31.4,27.3,31.0,21.3,24.5,33.9,32.3,32.5,31.2,32.4,33.3,25.7,29.8,28.4,29.7,29.4,29.7,34.2,32.6,30.3,25.9,28.8,25.1,26.1,31.6,26.3,27.4,29.0,29.4,28.7,31.7,27.0,23.9,25.4,26.3,27.8,25.8,22.5,34.7,26.1,29.9,30.2,32.9,25.1,30.2,26.9,25.9,25.5,31.9,31.2,23.4,28.5,24.0,30.4,23.0,24.0,24.2,26.5,28.0,27.8,25.9,26.4,32.5,21.4,25.2,26.2,28.9,24.7,32.4,19.4,21.5,25.1,18.4,21.2,24.9,30.7,21.9,27.4,28.8,24.1,25.0,22.2,23.2,21.3,29.0,23.6,27.3,18.9,17.9,18.3,27.0,20.5,25.5,22.8,27.3,26.1,29.1,15.7,22.6,29.2,27.0,25.9,18.0,17.7,18.4,18.9,19.3,14.1,29.9,24.7,20.3,20.2,19.7,26.7,22.3,26.6,20.0,26.1,26.3,18.7,25.5,22.5,22.6,26.6,18.7,18.4,25.7,23.5,22.9,22.2,24.0,16.4,22.7,24.0,29.7,18.4,26.3,24.6,14.8,15.6,21.3,19.4,21.3,16.7,23.5,17.3,27.6,20.0,30.1,17.2,25.0,18.4,20.1,17.2,16.2,25.2,20.3,15.6,14.4,14.9,18.6,17.7,18.3,16.3,17.8,9.6,18.1,20.7,22.3,15.5,22.1,20.1,20.5,16.3,16.3,16.6,14.4,20.4,17.1,19.1,16.5,14.0,17.1,14.5,18.6,17.7,17.5,13.8,13.6,14.8,15.5,15.8,15.7,12.6,17.6,16.3,15.6,12.1,17.1,17.8,20.3,18.4,15.1,15.8,17.1,12.9,14.2,12.4,14.3,15.2,11.9,12.5,8.6,35.4,36.4,36.9,36.6,36.7,34.2,36.4,32.2,33.5,34.0,33.9,30.3,36.3,32.8,36.7,34.2,36.6,36.1,35.6,33.4,36.4,34.3,33.0,31.0,36.1,34.2,33.4,32.6,31.2,31.4,36.3,28.0,34.4,31.7,33.0,30.2,31.7,30.4,32.2,32.1,26.7,31.2,33.5,33.7,33.1,29.7,29.7,33.7,33.7,31.6,26.9,29.6,30.7,25.6,26.4,30.8,33.0,30.0,25.8,29.4,28.3,30.5,32.7,23.3,27.5,25.3,29.9,33.2,22.5,29.3,22.3,25.4,29.3,23.4,24.6,33.2,31.6,27.5,28.0,28.2,33.8,22.4,28.7,27.5,31.6,28.8,31.5,29.2,28.0,33.2,31.5,24.3,26.3,31.5,24.7,30.4,26.4,32.2,27.5,27.9,28.5,33.9,24.5,23.2,31.0,27.8,27.0,23.4,31.5,22.9,27.9,25.9,26.5,23.2,32.7,17.0,28.7,24.9,25.1,23.4,25.3,26.6,24.1,20.7,27.8,23.5,27.2,23.5,25.7,19.1,31.7,27.0,24.9,19.1,26.1,22.1,25.7,26.1,30.0,22.6,21.6,25.0,22.2,20.5,20.0,18.5,25.9,20.7,20.8,21.5,27.4,19.4,20.0,25.6,20.2,21.2,20.3,24.8,25.3,18.9,22.8,28.1,26.2,25.7,20.0,21.5,20.8,23.5,27.0,26.7,23.2,23.4,24.7,21.8,23.7,22.8,21.2,16.5,21.5,20.0,25.6,25.0,19.6,20.7,17.4,22.5,18.0,22.3,19.4,19.0,18.6,19.8,16.6,27.4,19.8,13.7,20.5,19.6,13.6,16.8,22.1,17.4,21.4,25.2,14.5,17.0,22.5,27.8,25.3,18.3,16.9,21.9,14.1,20.0,19.4,15.2,15.3,21.4,18.2,15.9,15.2,20.1,14.1,18.1,16.8,18.9,16.8,14.9,17.9,16.7,16.7,9.5,14.9,15.1,15.8,15.8,16.7,12.1,18.5,13.8,11.0,15.5,15.8,16.5,12.0,9.4,12.5,14.2,15.8,12.9,14.2,9.0,12.0,36.8,36.9,32.8,33.7,33.8,34.0,35.0,34.6,35.5,34.9,36.9,35.0,33.1,33.0,33.7,34.5,36.0,34.0,30.6,33.2,34.9,32.2,35.9,30.2,33.5,33.9,31.4,31.9,31.3,34.7,26.6,30.3,30.0,30.9,33.6,33.1,31.1,32.6,34.8,31.6,31.3,31.8,33.5,31.4,31.9,34.2,27.3,28.1,31.8,33.6,26.3,34.8,32.9,30.7,31.7,33.8,29.1,31.8,31.1,28.6,27.4,32.0,29.3,27.9,28.5,28.0,31.5,26.5,26.2,27.2,25.3,27.2,26.9,34.0,27.8,24.8,27.9,33.4,26.1,26.7,30.2,24.5,32.7,29.0,30.8,28.6,32.2,25.9,28.8,27.9,30.7,27.1,29.7,34.0,28.7,23.3,27.2,30.3,31.3,22.3,27.3,27.1,23.2,28.0,28.0,24.5,25.2,25.9,24.8,23.2,29.8,28.2,26.3,25.4,20.1,29.7,27.5,26.2,19.4,22.8,26.5,25.1,24.1,27.5,25.0,21.6,20.8,23.0,31.8,24.0,27.7,20.3,28.4,22.9,30.2,25.8,23.3,22.8,27.3,23.2,26.6,19.4,21.7,21.9,21.1,28.3,26.8,31.4,21.8,20.2,22.8,22.7,17.2,20.9,17.6,23.3,27.1,27.5,20.8,21.5,22.6,18.8,19.1,17.5,20.5,21.8,25.3,23.5,29.5,25.5,15.8,16.9,26.7,19.2,21.5,18.9,18.9,25.6,27.2,18.3,21.1,23.7,23.6,27.4,21.7,23.5,18.7,24.5,23.9,21.2,17.5,31.3,20.6,34.2,17.4,11.7,14.0,16.5,19.9,14.1,19.2,20.4,20.2,26.1,20.7,22.9,18.3,14.3,19.2,21.2,22.0,18.4,24.2,21.2,16.2,18.4,17.6,25.2,19.6,17.8,13.6,19.3,15.8,16.7,18.5,14.0,17.6,15.0,14.9,14.4,19.4,17.9,17.7,20.0,23.2,13.8,16.5,19.0,20.4,15.2,16.6,18.1,13.7,20.7,13.9,19.6,15.7,15.1,12.4,8.7,11.4,12.9,9.0,13.7,10.1,11.6,14.5,4.9,36.5,36.0,37.5,35.3,30.4,33.6,35.9,32.4,35.9,34.4,34.8,34.6,34.3,33.9,34.3,32.3,35.2,36.5,34.1,34.4,32.0,29.9,33.0,31.2,31.1,31.8,33.9,33.1,33.8,32.0,32.9,34.3,32.2,32.5,36.2,30.8,34.7,34.7,30.8,33.1,29.6,34.5,27.8,34.8,31.5,32.3,28.7,35.1,26.0,34.4,31.0,32.9,35.7,31.8,31.5,33.5,28.5,31.2,30.9,35.4,28.9,28.2,28.4,33.6,29.5,30.0,29.3,32.8,27.0,29.3,26.4,24.0,29.0,34.3,33.0,26.6,27.0,26.4,29.8,27.4,34.5,30.8,32.5,30.4,27.6,30.8,27.4,29.7,25.8,21.4,31.0,30.7,32.0,25.0,29.0,30.5,24.6,32.0,30.9,30.3,31.4,27.7,29.5,29.0,22.4,30.2,26.6,26.7,30.2,32.1,28.8,22.5,27.9,24.7,25.1,22.0,26.5,23.1,29.4,25.6,26.3,24.8,26.7,21.8,24.7,29.9,28.8,26.7,24.9,30.4,25.8,31.8,27.9,24.0,24.9,19.9,25.8,21.3,21.1,27.0,26.3,22.8,23.2,28.9,29.7,21.7,23.1,20.5,29.9,24.5,21.5,25.5,16.4,20.3,27.4,24.1,23.0,23.9,28.0,25.5,22.4,24.4,22.6,28.2,21.8,22.0,22.4,24.8,23.4,25.0,23.3,18.2,22.0,18.4,20.7,25.0,19.4,17.9,16.9,24.8,27.8,28.2,17.7,26.3,19.5,18.1,16.8,18.9,19.0,19.4,16.9,24.4,17.4,18.5,15.7,24.9,20.3,17.3,18.7,34.3,21.5,19.3,20.7,17.4,16.6,13.2,17.4,18.3,15.7,16.6,18.7,17.9,20.2,16.2,24.4,28.9,15.5,13.5,15.8,20.8,16.5,17.4,17.8,14.0,19.5,19.9,18.3,23.0,17.7,18.5,16.1,16.1,18.4,18.4,18.5,14.5,18.6,14.2,14.8,12.4,15.5,18.9,14.6,18.8,13.2,16.3,11.4,16.4,19.8,12.9,16.0,16.9,12.7,13.1,22.4,15.9,15.1,14.7,15.6,8.7,14.4,34.2,35.8,35.8,31.1,33.0,34.3,35.1,33.2,34.9,35.8,33.4,34.6,33.9,33.7,35.1,34.1,34.5,35.3,37.6,34.3,33.5,33.7,33.9,36.4,33.7,33.6,35.8,34.5,34.5,33.4,36.0,36.5,32.5,32.1,32.6,31.3,33.5,32.0,33.3,26.7,32.3,29.3,34.9,33.1,29.8,28.3,30.8,28.4,34.3,31.4,29.4,36.2,28.8,31.9,30.7,32.1,31.1,30.1,30.3,31.2,30.2,31.8,29.5,30.7,30.8,32.4,29.2,31.0,29.7,31.5,31.2,24.2,25.8,24.5,28.5,22.9,32.6,26.4,24.5,25.2,24.0,31.4,30.1,23.2,30.5,28.7,29.6,28.5,29.3,31.0,25.0,28.7,27.3,27.2,27.3,29.7,30.3,24.3,27.9,19.4,30.8,23.6,25.7,20.8,19.4,21.6,21.6,29.2,25.5,19.2,24.4,25.4,27.0,25.7,30.0,24.8,23.0,30.3,27.5,25.6,26.8,24.0,27.7,23.6,27.4,27.5,19.3,32.0,28.4,24.6,32.4,24.0,28.0,23.0,27.9,22.3,19.3,20.1,19.1,22.3,20.1,20.8,22.3,23.4,17.6,21.9,26.0,26.7,26.1,32.0,20.1,18.0,19.6,23.0,24.1,19.3,27.4,18.9,15.3,21.6,21.4,17.3,19.2,22.5,19.8,17.1,23.8,27.3,27.7,16.2,16.1,21.9,20.5,17.3,17.8,22.8,19.9,31.5,18.9,14.6,31.5,17.3,16.0,17.4,22.7,22.8,24.0,17.3,19.7,14.7,18.4,15.3,16.7,18.9,21.0,18.1,16.7,23.3,17.5,18.5,21.9,19.2,16.7,14.0,19.1,20.9,12.8,16.2,17.3,17.0,15.3,17.8,20.3,17.1,15.5,24.2,19.1,18.4,20.4,12.1,15.4,19.5,18.1,17.0,17.1,21.3,16.5,21.3,16.7,12.0,19.0,11.0,16.3,20.0,26.1,9.7,9.6,33.8,32.9,35.4,34.9,36.1,33.5,35.9,34.5,33.8,34.5,33.4,34.7,33.6,35.3,37.9,34.6,37.2,35.7,34.3,34.8,32.6,37.9,35.5,32.3,35.3,32.4,34.5,33.7,34.5,30.0,34.3,35.0,32.9,29.8,32.0,30.9,30.8,30.3,33.1,35.3,32.6,31.9,34.8,31.9,29.5,33.4,31.9,30.7,31.2,33.6,31.7,27.3,31.9,33.0,27.1,30.9,32.1,31.3,35.0,35.4,30.7,29.3,29.9,31.7,33.3,33.8,26.3,30.8,32.9,32.1,28.2,34.8,29.5,28.1,29.6,28.6,22.5,28.7,29.0,33.9,26.0,29.3,30.2,23.1,27.5,29.9,26.2,27.3,23.0,32.3,25.0,29.6,27.4,28.4,26.4,25.3,28.6,27.7,29.0,23.1,28.4,27.3,27.6,33.1,21.9,25.9,22.7,27.9,22.0,28.6,22.2,25.7,22.6,23.3,20.5,22.8,19.5,24.4,24.7,27.2,24.6,20.1,29.1,27.8,19.0,26.3,23.0,29.6,25.2,26.0,20.7,29.9,28.1,21.1,20.1,20.0,16.9,25.8,22.8,25.4,15.8,22.9,23.3,23.6,17.1,24.6,22.7,15.2,21.3,17.1,27.4,21.0,29.6,21.9,23.4,21.2,25.0,28.0,17.6,27.3,15.7,25.7,24.2,24.8,20.8,25.6,17.9,15.8,23.4,17.9,22.2,21.7,24.6,19.7,18.0,19.1,24.4,17.5,26.3,21.9,20.2,21.1,27.9,21.5,19.6,20.0,31.2,23.2,17.1,23.4,17.6,24.6,26.3,25.4,25.0,20.5,24.6,16.2,22.7,16.2,17.3,15.9,14.1,16.2,16.1,16.1,22.1,21.1,16.6,21.8,20.2,12.7,25.5,16.2,19.2,13.9,18.6,18.2,17.9,15.5,18.9,16.0,13.7,11.8,13.6,14.5,12.8,10.9],\"xaxis\":\"x\",\"yaxis\":\"y\",\"type\":\"histogram\"}],                        {\"template\":{\"data\":{\"histogram2dcontour\":[{\"type\":\"histogram2dcontour\",\"colorbar\":{\"outlinewidth\":0,\"ticks\":\"\"},\"colorscale\":[[0.0,\"#0d0887\"],[0.1111111111111111,\"#46039f\"],[0.2222222222222222,\"#7201a8\"],[0.3333333333333333,\"#9c179e\"],[0.4444444444444444,\"#bd3786\"],[0.5555555555555556,\"#d8576b\"],[0.6666666666666666,\"#ed7953\"],[0.7777777777777778,\"#fb9f3a\"],[0.8888888888888888,\"#fdca26\"],[1.0,\"#f0f921\"]]}],\"choropleth\":[{\"type\":\"choropleth\",\"colorbar\":{\"outlinewidth\":0,\"ticks\":\"\"}}],\"histogram2d\":[{\"type\":\"histogram2d\",\"colorbar\":{\"outlinewidth\":0,\"ticks\":\"\"},\"colorscale\":[[0.0,\"#0d0887\"],[0.1111111111111111,\"#46039f\"],[0.2222222222222222,\"#7201a8\"],[0.3333333333333333,\"#9c179e\"],[0.4444444444444444,\"#bd3786\"],[0.5555555555555556,\"#d8576b\"],[0.6666666666666666,\"#ed7953\"],[0.7777777777777778,\"#fb9f3a\"],[0.8888888888888888,\"#fdca26\"],[1.0,\"#f0f921\"]]}],\"heatmap\":[{\"type\":\"heatmap\",\"colorbar\":{\"outlinewidth\":0,\"ticks\":\"\"},\"colorscale\":[[0.0,\"#0d0887\"],[0.1111111111111111,\"#46039f\"],[0.2222222222222222,\"#7201a8\"],[0.3333333333333333,\"#9c179e\"],[0.4444444444444444,\"#bd3786\"],[0.5555555555555556,\"#d8576b\"],[0.6666666666666666,\"#ed7953\"],[0.7777777777777778,\"#fb9f3a\"],[0.8888888888888888,\"#fdca26\"],[1.0,\"#f0f921\"]]}],\"heatmapgl\":[{\"type\":\"heatmapgl\",\"colorbar\":{\"outlinewidth\":0,\"ticks\":\"\"},\"colorscale\":[[0.0,\"#0d0887\"],[0.1111111111111111,\"#46039f\"],[0.2222222222222222,\"#7201a8\"],[0.3333333333333333,\"#9c179e\"],[0.4444444444444444,\"#bd3786\"],[0.5555555555555556,\"#d8576b\"],[0.6666666666666666,\"#ed7953\"],[0.7777777777777778,\"#fb9f3a\"],[0.8888888888888888,\"#fdca26\"],[1.0,\"#f0f921\"]]}],\"contourcarpet\":[{\"type\":\"contourcarpet\",\"colorbar\":{\"outlinewidth\":0,\"ticks\":\"\"}}],\"contour\":[{\"type\":\"contour\",\"colorbar\":{\"outlinewidth\":0,\"ticks\":\"\"},\"colorscale\":[[0.0,\"#0d0887\"],[0.1111111111111111,\"#46039f\"],[0.2222222222222222,\"#7201a8\"],[0.3333333333333333,\"#9c179e\"],[0.4444444444444444,\"#bd3786\"],[0.5555555555555556,\"#d8576b\"],[0.6666666666666666,\"#ed7953\"],[0.7777777777777778,\"#fb9f3a\"],[0.8888888888888888,\"#fdca26\"],[1.0,\"#f0f921\"]]}],\"surface\":[{\"type\":\"surface\",\"colorbar\":{\"outlinewidth\":0,\"ticks\":\"\"},\"colorscale\":[[0.0,\"#0d0887\"],[0.1111111111111111,\"#46039f\"],[0.2222222222222222,\"#7201a8\"],[0.3333333333333333,\"#9c179e\"],[0.4444444444444444,\"#bd3786\"],[0.5555555555555556,\"#d8576b\"],[0.6666666666666666,\"#ed7953\"],[0.7777777777777778,\"#fb9f3a\"],[0.8888888888888888,\"#fdca26\"],[1.0,\"#f0f921\"]]}],\"mesh3d\":[{\"type\":\"mesh3d\",\"colorbar\":{\"outlinewidth\":0,\"ticks\":\"\"}}],\"scatter\":[{\"fillpattern\":{\"fillmode\":\"overlay\",\"size\":10,\"solidity\":0.2},\"type\":\"scatter\"}],\"parcoords\":[{\"type\":\"parcoords\",\"line\":{\"colorbar\":{\"outlinewidth\":0,\"ticks\":\"\"}}}],\"scatterpolargl\":[{\"type\":\"scatterpolargl\",\"marker\":{\"colorbar\":{\"outlinewidth\":0,\"ticks\":\"\"}}}],\"bar\":[{\"error_x\":{\"color\":\"#2a3f5f\"},\"error_y\":{\"color\":\"#2a3f5f\"},\"marker\":{\"line\":{\"color\":\"#E5ECF6\",\"width\":0.5},\"pattern\":{\"fillmode\":\"overlay\",\"size\":10,\"solidity\":0.2}},\"type\":\"bar\"}],\"scattergeo\":[{\"type\":\"scattergeo\",\"marker\":{\"colorbar\":{\"outlinewidth\":0,\"ticks\":\"\"}}}],\"scatterpolar\":[{\"type\":\"scatterpolar\",\"marker\":{\"colorbar\":{\"outlinewidth\":0,\"ticks\":\"\"}}}],\"histogram\":[{\"marker\":{\"pattern\":{\"fillmode\":\"overlay\",\"size\":10,\"solidity\":0.2}},\"type\":\"histogram\"}],\"scattergl\":[{\"type\":\"scattergl\",\"marker\":{\"colorbar\":{\"outlinewidth\":0,\"ticks\":\"\"}}}],\"scatter3d\":[{\"type\":\"scatter3d\",\"line\":{\"colorbar\":{\"outlinewidth\":0,\"ticks\":\"\"}},\"marker\":{\"colorbar\":{\"outlinewidth\":0,\"ticks\":\"\"}}}],\"scattermapbox\":[{\"type\":\"scattermapbox\",\"marker\":{\"colorbar\":{\"outlinewidth\":0,\"ticks\":\"\"}}}],\"scatterternary\":[{\"type\":\"scatterternary\",\"marker\":{\"colorbar\":{\"outlinewidth\":0,\"ticks\":\"\"}}}],\"scattercarpet\":[{\"type\":\"scattercarpet\",\"marker\":{\"colorbar\":{\"outlinewidth\":0,\"ticks\":\"\"}}}],\"carpet\":[{\"aaxis\":{\"endlinecolor\":\"#2a3f5f\",\"gridcolor\":\"white\",\"linecolor\":\"white\",\"minorgridcolor\":\"white\",\"startlinecolor\":\"#2a3f5f\"},\"baxis\":{\"endlinecolor\":\"#2a3f5f\",\"gridcolor\":\"white\",\"linecolor\":\"white\",\"minorgridcolor\":\"white\",\"startlinecolor\":\"#2a3f5f\"},\"type\":\"carpet\"}],\"table\":[{\"cells\":{\"fill\":{\"color\":\"#EBF0F8\"},\"line\":{\"color\":\"white\"}},\"header\":{\"fill\":{\"color\":\"#C8D4E3\"},\"line\":{\"color\":\"white\"}},\"type\":\"table\"}],\"barpolar\":[{\"marker\":{\"line\":{\"color\":\"#E5ECF6\",\"width\":0.5},\"pattern\":{\"fillmode\":\"overlay\",\"size\":10,\"solidity\":0.2}},\"type\":\"barpolar\"}],\"pie\":[{\"automargin\":true,\"type\":\"pie\"}]},\"layout\":{\"autotypenumbers\":\"strict\",\"colorway\":[\"#636efa\",\"#EF553B\",\"#00cc96\",\"#ab63fa\",\"#FFA15A\",\"#19d3f3\",\"#FF6692\",\"#B6E880\",\"#FF97FF\",\"#FECB52\"],\"font\":{\"color\":\"#2a3f5f\"},\"hovermode\":\"closest\",\"hoverlabel\":{\"align\":\"left\"},\"paper_bgcolor\":\"white\",\"plot_bgcolor\":\"#E5ECF6\",\"polar\":{\"bgcolor\":\"#E5ECF6\",\"angularaxis\":{\"gridcolor\":\"white\",\"linecolor\":\"white\",\"ticks\":\"\"},\"radialaxis\":{\"gridcolor\":\"white\",\"linecolor\":\"white\",\"ticks\":\"\"}},\"ternary\":{\"bgcolor\":\"#E5ECF6\",\"aaxis\":{\"gridcolor\":\"white\",\"linecolor\":\"white\",\"ticks\":\"\"},\"baxis\":{\"gridcolor\":\"white\",\"linecolor\":\"white\",\"ticks\":\"\"},\"caxis\":{\"gridcolor\":\"white\",\"linecolor\":\"white\",\"ticks\":\"\"}},\"coloraxis\":{\"colorbar\":{\"outlinewidth\":0,\"ticks\":\"\"}},\"colorscale\":{\"sequential\":[[0.0,\"#0d0887\"],[0.1111111111111111,\"#46039f\"],[0.2222222222222222,\"#7201a8\"],[0.3333333333333333,\"#9c179e\"],[0.4444444444444444,\"#bd3786\"],[0.5555555555555556,\"#d8576b\"],[0.6666666666666666,\"#ed7953\"],[0.7777777777777778,\"#fb9f3a\"],[0.8888888888888888,\"#fdca26\"],[1.0,\"#f0f921\"]],\"sequentialminus\":[[0.0,\"#0d0887\"],[0.1111111111111111,\"#46039f\"],[0.2222222222222222,\"#7201a8\"],[0.3333333333333333,\"#9c179e\"],[0.4444444444444444,\"#bd3786\"],[0.5555555555555556,\"#d8576b\"],[0.6666666666666666,\"#ed7953\"],[0.7777777777777778,\"#fb9f3a\"],[0.8888888888888888,\"#fdca26\"],[1.0,\"#f0f921\"]],\"diverging\":[[0,\"#8e0152\"],[0.1,\"#c51b7d\"],[0.2,\"#de77ae\"],[0.3,\"#f1b6da\"],[0.4,\"#fde0ef\"],[0.5,\"#f7f7f7\"],[0.6,\"#e6f5d0\"],[0.7,\"#b8e186\"],[0.8,\"#7fbc41\"],[0.9,\"#4d9221\"],[1,\"#276419\"]]},\"xaxis\":{\"gridcolor\":\"white\",\"linecolor\":\"white\",\"ticks\":\"\",\"title\":{\"standoff\":15},\"zerolinecolor\":\"white\",\"automargin\":true,\"zerolinewidth\":2},\"yaxis\":{\"gridcolor\":\"white\",\"linecolor\":\"white\",\"ticks\":\"\",\"title\":{\"standoff\":15},\"zerolinecolor\":\"white\",\"automargin\":true,\"zerolinewidth\":2},\"scene\":{\"xaxis\":{\"backgroundcolor\":\"#E5ECF6\",\"gridcolor\":\"white\",\"linecolor\":\"white\",\"showbackground\":true,\"ticks\":\"\",\"zerolinecolor\":\"white\",\"gridwidth\":2},\"yaxis\":{\"backgroundcolor\":\"#E5ECF6\",\"gridcolor\":\"white\",\"linecolor\":\"white\",\"showbackground\":true,\"ticks\":\"\",\"zerolinecolor\":\"white\",\"gridwidth\":2},\"zaxis\":{\"backgroundcolor\":\"#E5ECF6\",\"gridcolor\":\"white\",\"linecolor\":\"white\",\"showbackground\":true,\"ticks\":\"\",\"zerolinecolor\":\"white\",\"gridwidth\":2}},\"shapedefaults\":{\"line\":{\"color\":\"#2a3f5f\"}},\"annotationdefaults\":{\"arrowcolor\":\"#2a3f5f\",\"arrowhead\":0,\"arrowwidth\":1},\"geo\":{\"bgcolor\":\"white\",\"landcolor\":\"#E5ECF6\",\"subunitcolor\":\"white\",\"showland\":true,\"showlakes\":true,\"lakecolor\":\"white\"},\"title\":{\"x\":0.05},\"mapbox\":{\"style\":\"light\"}}},\"xaxis\":{\"anchor\":\"y\",\"domain\":[0.0,1.0],\"title\":{\"text\":\"x\"}},\"yaxis\":{\"anchor\":\"x\",\"domain\":[0.0,1.0],\"title\":{\"text\":\"percent\"}},\"legend\":{\"tracegroupgap\":0},\"margin\":{\"t\":60},\"barmode\":\"relative\"},                        {\"responsive\": true}                    ).then(function(){\n",
       "                            \n",
       "var gd = document.getElementById('3277d210-b246-490f-afd0-8a52934ea471');\n",
       "var x = new MutationObserver(function (mutations, observer) {{\n",
       "        var display = window.getComputedStyle(gd).display;\n",
       "        if (!display || display === 'none') {{\n",
       "            console.log([gd, 'removed!']);\n",
       "            Plotly.purge(gd);\n",
       "            observer.disconnect();\n",
       "        }}\n",
       "}});\n",
       "\n",
       "// Listen for the removal of the full notebook cells\n",
       "var notebookContainer = gd.closest('#notebook-container');\n",
       "if (notebookContainer) {{\n",
       "    x.observe(notebookContainer, {childList: true});\n",
       "}}\n",
       "\n",
       "// Listen for the clearing of the current output cell\n",
       "var outputEl = gd.closest('.output');\n",
       "if (outputEl) {{\n",
       "    x.observe(outputEl, {childList: true});\n",
       "}}\n",
       "\n",
       "                        })                };                });            </script>        </div>"
      ]
     },
     "metadata": {},
     "output_type": "display_data"
    }
   ],
   "source": [
    "fig = px.histogram(x=rs_df['MIN'],histnorm=\"percent\")\n",
    "fig.show()"
   ]
  },
  {
   "cell_type": "code",
   "execution_count": 52,
   "id": "b07b5569",
   "metadata": {},
   "outputs": [],
   "source": [
    "def hist_data(df=rs_df,min_MIN=0,min_GP=0):\n",
    "    return df.loc[(df['MIN']>=min_MIN) & (df['GP']>=min_GP ),'MIN']/\\\n",
    "    df.loc[(df['MIN']>=min_MIN) & (df['GP']>=min_GP ),'GP']"
   ]
  },
  {
   "cell_type": "code",
   "execution_count": 76,
   "id": "73a46ef0",
   "metadata": {},
   "outputs": [
    {
     "data": {
      "application/vnd.plotly.v1+json": {
       "config": {
        "plotlyServerURL": "https://plot.ly"
       },
       "data": [
        {
         "histnorm": "percent",
         "name": "RS",
         "opacity": 0.5,
         "type": "histogram",
         "x": [
          0.5522388059701493,
          0.47530864197530864,
          0.4948717948717949,
          0.4986842105263158,
          0.491025641025641,
          0.42560975609756097,
          0.4897435897435898,
          0.5028985507246377,
          0.5094594594594595,
          0.4108108108108108,
          0.4573170731707317,
          0.4707317073170732,
          0.4666666666666667,
          0.43376623376623374,
          0.46582278481012657,
          0.4773333333333333,
          0.4475609756097561,
          0.41875,
          0.40625,
          0.42435897435897435,
          0.42560975609756097,
          0.4807692307692308,
          0.4525,
          0.46447368421052626,
          0.47594936708860763,
          0.5027027027027028,
          0.4575342465753425,
          0.4066666666666667,
          0.47105263157894733,
          0.47714285714285715,
          0.4712328767123288,
          0.4486486486486487,
          0.4365853658536585,
          0.3855263157894737,
          0.516,
          0.5097222222222223,
          0.4075949367088608,
          0.45774647887323944,
          0.3814814814814815,
          0.4098765432098766,
          0.4776315789473684,
          0.45131578947368417,
          0.4329268292682927,
          0.45526315789473687,
          0.43506493506493504,
          0.43125,
          0.41125,
          0.38974358974358975,
          0.5273972602739726,
          0.45394736842105265,
          0.40555555555555556,
          0.391025641025641,
          0.4375,
          0.35974025974025975,
          0.34050632911392403,
          0.441025641025641,
          0.31851851851851853,
          0.3926829268292683,
          0.4304878048780487,
          0.42,
          0.38875000000000004,
          0.3780821917808219,
          0.3097560975609756,
          0.4311688311688312,
          0.43375,
          0.3759493670886076,
          0.3432098765432099,
          0.32439024390243903,
          0.3625,
          0.3333333333333333,
          0.44933333333333336,
          0.2975609756097561,
          0.3617283950617284,
          0.31538461538461543,
          0.3632911392405063,
          0.38170731707317074,
          0.34857142857142853,
          0.35125,
          0.3763157894736842,
          0.36829268292682926,
          0.3802631578947368,
          0.3170731707317073,
          0.4054794520547945,
          0.3121621621621622,
          0.2773333333333333,
          0.33170731707317075,
          0.41216216216216217,
          0.3265822784810127,
          0.34810126582278483,
          0.34024390243902436,
          0.28641975308641976,
          0.3341463414634146,
          0.34375,
          0.3453333333333333,
          0.308974358974359,
          0.39146341463414636,
          0.352112676056338,
          0.30493827160493825,
          0.23170731707317074,
          0.32125,
          0.3780487804878049,
          0.36585365853658536,
          0.27599999999999997,
          0.34050632911392403,
          0.35432098765432096,
          0.3845070422535211,
          0.3291139240506329,
          0.35342465753424657,
          0.3195121951219512,
          0.3012987012987013,
          0.28289473684210525,
          0.3135802469135802,
          0.28607594936708863,
          0.2759493670886076,
          0.22911392405063294,
          0.3333333333333333,
          0.33797468354430377,
          0.39473684210526316,
          0.29878048780487804,
          0.37435897435897436,
          0.34146341463414637,
          0.31375000000000003,
          0.27625,
          0.34074074074074073,
          0.34935064935064936,
          0.3103896103896104,
          0.3170731707317073,
          0.26842105263157895,
          0.2088607594936709,
          0.34210526315789475,
          0.27317073170731704,
          0.2765432098765432,
          0.2730769230769231,
          0.34285714285714286,
          0.2730769230769231,
          0.3192307692307692,
          0.29866666666666664,
          0.22266666666666665,
          0.2571428571428572,
          0.24814814814814817,
          0.3395061728395062,
          0.2549295774647887,
          0.35789473684210527,
          0.32465753424657534,
          0.22,
          0.29444444444444445,
          0.21794871794871795,
          0.20864197530864195,
          0.34444444444444444,
          0.2375,
          0.2506172839506173,
          0.34444444444444444,
          0.3063291139240506,
          0.2328767123287671,
          0.22916666666666666,
          0.2545454545454546,
          0.3539473684210526,
          0.22714285714285715,
          0.304,
          0.26708860759493674,
          0.24874999999999997,
          0.17123287671232876,
          0.20285714285714285,
          0.24074074074074073,
          0.2217948717948718,
          0.20625,
          0.34125,
          0.21571428571428572,
          0.21184210526315791,
          0.3075,
          0.22763157894736843,
          0.3217948717948718,
          0.25675675675675674,
          0.16712328767123286,
          0.20921052631578949,
          0.24024390243902438,
          0.252,
          0.17777777777777778,
          0.20769230769230768,
          0.16666666666666666,
          0.16962025316455698,
          0.22027027027027027,
          0.18461538461538463,
          0.47530864197530864,
          0.5025974025974026,
          0.48961038961038966,
          0.4714285714285714,
          0.5205479452054794,
          0.44749999999999995,
          0.46794871794871795,
          0.5246376811594203,
          0.4563380281690141,
          0.4835443037974684,
          0.4794520547945205,
          0.4525,
          0.41125,
          0.495774647887324,
          0.5253731343283583,
          0.4365853658536585,
          0.4819444444444445,
          0.4618421052631579,
          0.4753424657534247,
          0.44268292682926824,
          0.5645161290322581,
          0.47058823529411764,
          0.44999999999999996,
          0.4391304347826087,
          0.437037037037037,
          0.4746478873239437,
          0.4794520547945205,
          0.4811594202898551,
          0.4527027027027027,
          0.4582278481012659,
          0.43544303797468353,
          0.46249999999999997,
          0.4421875,
          0.4904109589041096,
          0.5774193548387097,
          0.4329113924050633,
          0.5233333333333333,
          0.4589041095890411,
          0.4753424657534247,
          0.41707317073170735,
          0.43235294117647055,
          0.4928571428571429,
          0.5081081081081081,
          0.4075949367088608,
          0.461038961038961,
          0.41341463414634144,
          0.4050632911392405,
          0.4727272727272727,
          0.5571428571428572,
          0.4228571428571429,
          0.3463414634146341,
          0.4126582278481013,
          0.4311688311688312,
          0.42625,
          0.5015625,
          0.39999999999999997,
          0.40617283950617283,
          0.39459459459459456,
          0.515,
          0.4967213114754098,
          0.5661016949152542,
          0.44189189189189193,
          0.39166666666666666,
          0.4597402597402597,
          0.503125,
          0.4155844155844156,
          0.38625,
          0.37407407407407406,
          0.36025641025641025,
          0.36575342465753424,
          0.4525641025641025,
          0.38875000000000004,
          0.32839506172839505,
          0.37105263157894736,
          0.33999999999999997,
          0.5016129032258064,
          0.3987654320987654,
          0.37333333333333335,
          0.41369863013698627,
          0.372972972972973,
          0.4049382716049382,
          0.3790123456790123,
          0.38625,
          0.5776119402985075,
          0.3845070422535211,
          0.35625,
          0.43902439024390244,
          0.3402777777777778,
          0.35,
          0.4409090909090909,
          0.4614285714285714,
          0.44125,
          0.4070422535211267,
          0.33375,
          0.33529411764705885,
          0.3975308641975309,
          0.3216867469879518,
          0.3592105263157895,
          0.36585365853658536,
          0.47058823529411764,
          0.47746478873239434,
          0.30123456790123454,
          0.3476923076923077,
          0.3898550724637681,
          0.3853658536585366,
          0.3765432098765432,
          0.32375,
          0.315,
          0.38414634146341464,
          0.34814814814814815,
          0.30410958904109586,
          0.37857142857142856,
          0.33658536585365856,
          0.3439024390243902,
          0.4397260273972603,
          0.3878048780487805,
          0.2839506172839506,
          0.3296296296296296,
          0.36666666666666664,
          0.4268292682926829,
          0.40166666666666667,
          0.4171052631578947,
          0.37402597402597404,
          0.42105263157894735,
          0.2333333333333333,
          0.2851851851851852,
          0.32926829268292684,
          0.36124999999999996,
          0.4365079365079365,
          0.40821917808219177,
          0.3361111111111111,
          0.33513513513513515,
          0.35512820512820514,
          0.2682926829268293,
          0.47692307692307695,
          0.2888888888888889,
          0.31645569620253167,
          0.363013698630137,
          0.2848101265822785,
          0.23125,
          0.3475609756097561,
          0.3926829268292683,
          0.3525,
          0.3628205128205128,
          0.3588235294117647,
          0.3222222222222222,
          0.2634146341463415,
          0.3790123456790123,
          0.5142857142857142,
          0.32499999999999996,
          0.38484848484848483,
          0.3972602739726027,
          0.3573529411764706,
          0.31645569620253167,
          0.3206896551724138,
          0.3594936708860759,
          0.30000000000000004,
          0.325609756097561,
          0.2857142857142857,
          0.26944444444444443,
          0.3630769230769231,
          0.25256410256410255,
          0.38846153846153847,
          0.42615384615384616,
          0.2605263157894737,
          0.28840579710144926,
          0.2473684210526316,
          0.23544303797468355,
          0.34210526315789475,
          0.3644067796610169,
          0.3075,
          0.2987179487179487,
          0.376271186440678,
          0.2811594202898551,
          0.20853658536585368,
          0.2794520547945205,
          0.26,
          0.305,
          0.3940298507462686,
          0.291025641025641,
          0.3903225806451613,
          0.3896551724137931,
          0.32,
          0.29878048780487804,
          0.25365853658536586,
          0.3162162162162162,
          0.2549295774647887,
          0.30000000000000004,
          0.3194805194805195,
          0.2833333333333333,
          0.3581081081081081,
          0.26944444444444443,
          0.2525,
          0.3,
          0.1569620253164557,
          0.30000000000000004,
          0.21125,
          0.19999999999999998,
          0.2417721518987342,
          0.2493827160493827,
          0.4262295081967213,
          0.2670731707317073,
          0.24927536231884057,
          0.3171875,
          0.2772727272727273,
          0.2582089552238806,
          0.20298507462686566,
          0.29350649350649355,
          0.21097560975609758,
          0.3368421052631579,
          0.2514705882352941,
          0.2475,
          0.2657534246575342,
          0.2026315789473684,
          0.21428571428571427,
          0.24126984126984125,
          0.24915254237288134,
          0.24838709677419354,
          0.26825396825396824,
          0.25846153846153846,
          0.21728395061728398,
          0.2833333333333333,
          0.42068965517241375,
          0.20294117647058824,
          0.21323529411764705,
          0.3065573770491803,
          0.2323943661971831,
          0.29137931034482756,
          0.2390625,
          0.17857142857142858,
          0.22666666666666666,
          0.24583333333333332,
          0.25384615384615383,
          0.20641025641025643,
          0.2077922077922078,
          0.26999999999999996,
          0.18125,
          0.20617283950617282,
          0.2753424657534247,
          0.24153846153846154,
          0.16666666666666666,
          0.29393939393939394,
          0.2057142857142857,
          0.21038961038961038,
          0.2453125,
          0.2084507042253521,
          0.19838709677419356,
          0.31451612903225806,
          0.1780821917808219,
          0.20344827586206898,
          0.18271604938271604,
          0.18524590163934426,
          0.18051948051948052,
          0.20133333333333334,
          0.21428571428571427,
          0.12950819672131147,
          0.2016393442622951,
          0.11333333333333333,
          0.0875,
          0.5134328358208955,
          0.45432098765432094,
          0.5231884057971015,
          0.5308823529411765,
          0.5779661016949152,
          0.40875000000000006,
          0.49859154929577465,
          0.5253731343283583,
          0.48533333333333334,
          0.41428571428571426,
          0.5129032258064516,
          0.5205882352941176,
          0.43536585365853664,
          0.5833333333333334,
          0.5953846153846154,
          0.4621621621621622,
          0.4526315789473684,
          0.424390243902439,
          0.42125,
          0.441025641025641,
          0.49583333333333335,
          0.4928571428571429,
          0.4544303797468354,
          0.4098765432098766,
          0.5516129032258065,
          0.38441558441558443,
          0.40555555555555556,
          0.5117647058823529,
          0.42716049382716054,
          0.5126984126984127,
          0.4414634146341464,
          0.4479452054794521,
          0.4707692307692308,
          0.4316455696202532,
          0.496875,
          0.3850746268656717,
          0.4506666666666666,
          0.39615384615384613,
          0.4333333333333333,
          0.45774647887323944,
          0.41621621621621624,
          0.5616666666666668,
          0.4178082191780822,
          0.4492753623188406,
          0.4542857142857143,
          0.415625,
          0.5015151515151516,
          0.315,
          0.38,
          0.38414634146341464,
          0.5301587301587302,
          0.47333333333333333,
          0.40131578947368424,
          0.40384615384615385,
          0.49393939393939396,
          0.38311688311688313,
          0.43624999999999997,
          0.42205882352941176,
          0.5171875,
          0.42794117647058827,
          0.42105263157894735,
          0.4666666666666667,
          0.4064102564102564,
          0.4090909090909091,
          0.3753246753246753,
          0.3719512195121951,
          0.45081967213114754,
          0.3985714285714286,
          0.3757142857142857,
          0.5426229508196722,
          0.38101265822784813,
          0.46551724137931033,
          0.4115384615384616,
          0.45735294117647063,
          0.3960526315789474,
          0.43536585365853664,
          0.38414634146341464,
          0.3876543209876543,
          0.37183098591549296,
          0.4471428571428572,
          0.3706666666666667,
          0.4101694915254237,
          0.3337349397590361,
          0.3646341463414634,
          0.42933333333333334,
          0.3975609756097561,
          0.36124999999999996,
          0.42428571428571427,
          0.4042253521126761,
          0.3275,
          0.4931034482758621,
          0.38285714285714284,
          0.35,
          0.2635135135135135,
          0.423728813559322,
          0.35890410958904106,
          0.3352112676056338,
          0.34500000000000003,
          0.35185185185185186,
          0.3987341772151899,
          0.4348484848484848,
          0.2804878048780488,
          0.4195121951219512,
          0.3913793103448276,
          0.3576271186440678,
          0.34285714285714286,
          0.32625000000000004,
          0.33661971830985915,
          0.34864864864864864,
          0.4066666666666666,
          0.3776119402985075,
          0.3297297297297297,
          0.2865853658536585,
          0.3328947368421053,
          0.3242857142857143,
          0.3111111111111111,
          0.20921052631578949,
          0.4403225806451613,
          0.4066666666666667,
          0.3484375,
          0.37,
          0.24634146341463414,
          0.2573170731707317,
          0.3207792207792208,
          0.3974025974025974,
          0.3451219512195122,
          0.39342105263157895,
          0.39692307692307693,
          0.2558441558441558,
          0.4106666666666667,
          0.3881578947368421,
          0.42686567164179107,
          0.31097560975609756,
          0.410958904109589,
          0.31234567901234567,
          0.4711864406779661,
          0.33658536585365856,
          0.2926829268292683,
          0.29634146341463413,
          0.46349206349206346,
          0.25308641975308643,
          0.47183098591549294,
          0.352,
          0.36129032258064514,
          0.3923076923076923,
          0.30512820512820515,
          0.43676470588235294,
          0.37073170731707317,
          0.35365853658536583,
          0.3149253731343284,
          0.352112676056338,
          0.2921052631578947,
          0.2597560975609756,
          0.30246913580246915,
          0.2554054054054054,
          0.41587301587301584,
          0.32682926829268294,
          0.3207317073170732,
          0.26756756756756755,
          0.2949367088607595,
          0.353968253968254,
          0.32465753424657534,
          0.42295081967213116,
          0.26301369863013696,
          0.40161290322580645,
          0.2658536585365854,
          0.32839506172839505,
          0.328125,
          0.28,
          0.35161290322580646,
          0.34935064935064936,
          0.40298507462686567,
          0.2426470588235294,
          0.2896103896103896,
          0.268,
          0.36142857142857143,
          0.24512195121951222,
          0.2392405063291139,
          0.3253333333333333,
          0.3870967741935484,
          0.26438356164383564,
          0.22987012987012986,
          0.41551724137931034,
          0.33461538461538465,
          0.31029411764705883,
          0.31891891891891894,
          0.34342105263157896,
          0.33199999999999996,
          0.25733333333333336,
          0.45671641791044776,
          0.33055555555555555,
          0.24285714285714285,
          0.25063291139240507,
          0.31866666666666665,
          0.3870967741935484,
          0.22575757575757577,
          0.27662337662337666,
          0.27313432835820894,
          0.2710526315789474,
          0.2870967741935484,
          0.29310344827586204,
          0.2532258064516129,
          0.2865671641791045,
          0.23164556962025318,
          0.2569444444444444,
          0.29310344827586204,
          0.22857142857142856,
          0.19746835443037974,
          0.20735294117647057,
          0.24868421052631576,
          0.3261538461538461,
          0.3522388059701493,
          0.165625,
          0.290625,
          0.3188405797101449,
          0.3223684210526316,
          0.3037037037037037,
          0.27222222222222225,
          0.30158730158730157,
          0.26216216216216215,
          0.2725,
          0.21866666666666665,
          0.24102564102564103,
          0.26666666666666666,
          0.2779411764705882,
          0.22702702702702704,
          0.23972602739726026,
          0.25,
          0.3696969696969697,
          0.2619047619047619,
          0.25,
          0.26229508196721313,
          0.2746031746031746,
          0.315,
          0.20675675675675675,
          0.236,
          0.2049382716049383,
          0.3787878787878788,
          0.27419354838709675,
          0.2683544303797468,
          0.2698412698412698,
          0.2707317073170732,
          0.3074626865671642,
          0.303125,
          0.22647058823529412,
          0.25223880597014925,
          0.20793650793650792,
          0.19135802469135801,
          0.21095890410958903,
          0.3081967213114754,
          0.2333333333333333,
          0.188135593220339,
          0.25806451612903225,
          0.2482758620689655,
          0.253030303030303,
          0.2671641791044776,
          0.2095238095238095,
          0.22465753424657534,
          0.16486486486486485,
          0.18387096774193548,
          0.18055555555555555,
          0.2423728813559322,
          0.19324324324324324,
          0.24852941176470586,
          0.2865671641791045,
          0.2360655737704918,
          0.17971014492753623,
          0.4329113924050633,
          0.46463414634146344,
          0.4972222222222222,
          0.5323076923076924,
          0.46842105263157896,
          0.47600000000000003,
          0.5819672131147541,
          0.43,
          0.46025641025641023,
          0.4296296296296296,
          0.3926829268292683,
          0.41624999999999995,
          0.48750000000000004,
          0.4805194805194805,
          0.45972222222222225,
          0.5507462686567164,
          0.4395061728395062,
          0.43499999999999994,
          0.43333333333333335,
          0.4616438356164384,
          0.4701298701298702,
          0.4525,
          0.44189189189189193,
          0.41216216216216217,
          0.3886075949367089,
          0.3902439024390244,
          0.42,
          0.4815384615384615,
          0.4569620253164557,
          0.4135135135135135,
          0.42727272727272725,
          0.4857142857142857,
          0.40370370370370373,
          0.4606060606060606,
          0.44125,
          0.4338461538461538,
          0.44166666666666665,
          0.5161290322580645,
          0.4818181818181818,
          0.37333333333333335,
          0.40617283950617283,
          0.4090909090909091,
          0.4583333333333333,
          0.36075949367088606,
          0.40886075949367084,
          0.41139240506329117,
          0.4253731343283582,
          0.3708860759493671,
          0.43529411764705883,
          0.39146341463414636,
          0.4394736842105263,
          0.4520547945205479,
          0.5,
          0.4355263157894737,
          0.4075949367088608,
          0.4828947368421053,
          0.35,
          0.39444444444444443,
          0.3986301369863014,
          0.4328767123287671,
          0.34050632911392403,
          0.4555555555555555,
          0.44625000000000004,
          0.49846153846153846,
          0.4171052631578947,
          0.34146341463414637,
          0.40540540540540543,
          0.4283950617283951,
          0.4172839506172839,
          0.3644736842105263,
          0.45211267605633804,
          0.48360655737704916,
          0.4013333333333334,
          0.3525,
          0.44705882352941173,
          0.42388059701492536,
          0.4704225352112676,
          0.43333333333333335,
          0.4376623376623377,
          0.25609756097560976,
          0.43580246913580245,
          0.37792207792207794,
          0.4115384615384616,
          0.43461538461538457,
          0.3776119402985075,
          0.39870129870129867,
          0.4378378378378378,
          0.4223684210526316,
          0.41234567901234565,
          0.26962025316455696,
          0.4608108108108108,
          0.3984375,
          0.48888888888888893,
          0.3819444444444444,
          0.3942028985507246,
          0.37727272727272726,
          0.3578125,
          0.3525,
          0.46818181818181814,
          0.3371794871794872,
          0.3567901234567901,
          0.3706666666666667,
          0.404,
          0.34814814814814815,
          0.33924050632911396,
          0.4373134328358209,
          0.25375000000000003,
          0.33116883116883117,
          0.30405405405405406,
          0.4027397260273972,
          0.3328125,
          0.345679012345679,
          0.25,
          0.34324324324324323,
          0.38,
          0.291358024691358,
          0.36885245901639346,
          0.32098765432098764,
          0.3304878048780488,
          0.361764705882353,
          0.3475609756097561,
          0.3304878048780488,
          0.40263157894736845,
          0.37894736842105264,
          0.2927536231884058,
          0.27125,
          0.2475609756097561,
          0.3273972602739726,
          0.4042253521126761,
          0.36363636363636365,
          0.35384615384615387,
          0.34805194805194806,
          0.2983606557377049,
          0.37341772151898733,
          0.33793103448275863,
          0.34249999999999997,
          0.2839506172839506,
          0.22374999999999998,
          0.36056338028169016,
          0.375,
          0.3064102564102564,
          0.44754098360655736,
          0.3097560975609756,
          0.519672131147541,
          0.2987179487179487,
          0.327536231884058,
          0.3793103448275862,
          0.32686567164179103,
          0.28356164383561644,
          0.28181818181818186,
          0.33287671232876714,
          0.28289473684210525,
          0.33934426229508197,
          0.27638888888888885,
          0.363013698630137,
          0.4131147540983606,
          0.34736842105263155,
          0.25308641975308643,
          0.2791044776119403,
          0.32,
          0.33972602739726027,
          0.3590163934426229,
          0.3953125,
          0.28840579710144926,
          0.3779661016949153,
          0.3164383561643836,
          0.3780487804878049,
          0.315,
          0.2983050847457627,
          0.3197530864197531,
          0.33780487804878045,
          0.31176470588235294,
          0.2802631578947368,
          0.3024390243902439,
          0.3125,
          0.3902777777777778,
          0.3064516129032258,
          0.31,
          0.36271186440677966,
          0.3236842105263158,
          0.26049382716049385,
          0.23717948717948717,
          0.28860759493670884,
          0.305,
          0.28717948717948716,
          0.3303797468354431,
          0.24878048780487802,
          0.20394736842105263,
          0.3075757575757576,
          0.3712121212121212,
          0.23333333333333336,
          0.1611111111111111,
          0.23076923076923078,
          0.24805194805194808,
          0.2870967741935484,
          0.40923076923076923,
          0.3242424242424242,
          0.35409836065573774,
          0.3240506329113924,
          0.26,
          0.24358974358974358,
          0.28,
          0.25679012345679014,
          0.3666666666666667,
          0.312,
          0.23974358974358972,
          0.2394736842105263,
          0.2338235294117647,
          0.1876543209876543,
          0.25,
          0.22894736842105262,
          0.3015151515151515,
          0.20400000000000001,
          0.2661764705882353,
          0.21625,
          0.24444444444444446,
          0.2442857142857143,
          0.19666666666666668,
          0.22658227848101264,
          0.3075,
          0.24745762711864405,
          0.28641975308641976,
          0.22839506172839505,
          0.24305555555555555,
          0.2620253164556962,
          0.25483870967741934,
          0.2506172839506173,
          0.20869565217391306,
          0.3242424242424242,
          0.21842105263157896,
          0.19999999999999998,
          0.24189189189189186,
          0.3190476190476191,
          0.2682926829268293,
          0.22166666666666668,
          0.25569620253164554,
          0.2957142857142857,
          0.31451612903225806,
          0.25833333333333336,
          0.3171875,
          0.25084745762711863,
          0.23442622950819672,
          0.17258064516129032,
          0.2983333333333333,
          0.21780821917808219,
          0.24426229508196723,
          0.3171428571428571,
          0.18153846153846154,
          0.20512820512820512,
          0.3068493150684931,
          0.21034482758620687,
          0.29310344827586204,
          0.1935897435897436,
          0.18169014084507043,
          0.20416666666666666,
          0.18888888888888888,
          0.24915254237288134,
          0.21363636363636362,
          0.25441176470588234,
          0.16984126984126982,
          0.1935897435897436,
          0.13333333333333333,
          0.21176470588235294,
          0.15666666666666668,
          0.2042857142857143,
          0.22666666666666666,
          0.19696969696969696,
          0.17428571428571427,
          0.24675324675324675,
          0.23559322033898306,
          0.2,
          0.42716049382716054,
          0.4493827160493827,
          0.4447368421052631,
          0.48133333333333334,
          0.4783783783783784,
          0.47866666666666663,
          0.47500000000000003,
          0.5108108108108108,
          0.45135135135135135,
          0.42278481012658226,
          0.48750000000000004,
          0.45121951219512196,
          0.5387096774193548,
          0.4868421052631579,
          0.47866666666666663,
          0.45365853658536587,
          0.43924050632911393,
          0.4666666666666667,
          0.45324675324675323,
          0.4375,
          0.445,
          0.4635135135135135,
          0.6233333333333333,
          0.4358974358974359,
          0.44871794871794873,
          0.4726027397260274,
          0.5573770491803278,
          0.5,
          0.39466666666666667,
          0.4811594202898551,
          0.4616438356164384,
          0.4621621621621622,
          0.44936708860759494,
          0.5233333333333333,
          0.4983333333333333,
          0.5380952380952381,
          0.49696969696969695,
          0.5163934426229508,
          0.4927536231884058,
          0.5078125,
          0.3987341772151899,
          0.3037037037037037,
          0.44999999999999996,
          0.4838235294117647,
          0.4233766233766234,
          0.3821917808219178,
          0.41333333333333333,
          0.38170731707317074,
          0.49552238805970156,
          0.4352112676056338,
          0.45555555555555555,
          0.48805970149253736,
          0.39512195121951216,
          0.44155844155844154,
          0.36153846153846153,
          0.3886075949367089,
          0.35609756097560974,
          0.384,
          0.3876543209876543,
          0.34556962025316457,
          0.4696969696969697,
          0.29583333333333334,
          0.3356164383561644,
          0.4185185185185185,
          0.475,
          0.41139240506329117,
          0.4105263157894737,
          0.44999999999999996,
          0.4381578947368421,
          0.3172839506172839,
          0.40821917808219177,
          0.47333333333333333,
          0.36666666666666664,
          0.4083333333333333,
          0.40135135135135136,
          0.4684931506849315,
          0.40750000000000003,
          0.4455882352941177,
          0.43166666666666664,
          0.3891891891891892,
          0.3585714285714286,
          0.3182926829268293,
          0.47164179104477616,
          0.32469135802469135,
          0.36052631578947364,
          0.4142857142857143,
          0.35853658536585364,
          0.35875,
          0.391358024691358,
          0.4576271186440678,
          0.36769230769230765,
          0.396875,
          0.3207317073170732,
          0.37567567567567567,
          0.3225,
          0.2777777777777778,
          0.43375,
          0.34800000000000003,
          0.37374999999999997,
          0.3973684210526316,
          0.43866666666666665,
          0.3217948717948718,
          0.4081081081081081,
          0.3684931506849315,
          0.4046875,
          0.3269230769230769,
          0.41428571428571426,
          0.3804878048780488,
          0.3078947368421052,
          0.36075949367088606,
          0.34285714285714286,
          0.3848101265822785,
          0.2804878048780488,
          0.32432432432432434,
          0.3903225806451613,
          0.3271604938271605,
          0.345679012345679,
          0.4483870967741936,
          0.3453333333333333,
          0.352,
          0.4276315789473684,
          0.3292307692307692,
          0.39999999999999997,
          0.39104477611940297,
          0.3753246753246753,
          0.34788732394366195,
          0.39512195121951216,
          0.2487179487179487,
          0.2621951219512195,
          0.363768115942029,
          0.2967741935483871,
          0.3475409836065574,
          0.3410958904109589,
          0.4582089552238806,
          0.27375,
          0.34249999999999997,
          0.36455696202531646,
          0.2975308641975309,
          0.3125,
          0.3217391304347826,
          0.3222222222222222,
          0.2597560975609756,
          0.35802469135802467,
          0.3025641025641026,
          0.364,
          0.2554054054054054,
          0.2671641791044776,
          0.31551724137931036,
          0.38028169014084506,
          0.2733333333333333,
          0.3923076923076923,
          0.34545454545454546,
          0.35454545454545455,
          0.36250000000000004,
          0.47704918032786886,
          0.19146341463414634,
          0.28974358974358977,
          0.365,
          0.36486486486486486,
          0.4245901639344262,
          0.23684210526315788,
          0.26417910447761195,
          0.25555555555555554,
          0.252,
          0.3163934426229508,
          0.21363636363636362,
          0.3833333333333333,
          0.33835616438356164,
          0.26363636363636367,
          0.27297297297297296,
          0.25256410256410255,
          0.3869565217391304,
          0.32794117647058824,
          0.40923076923076923,
          0.24390243902439024,
          0.34342105263157896,
          0.3460526315789474,
          0.27101449275362316,
          0.3355263157894737,
          0.3082191780821918,
          0.38305084745762713,
          0.3911764705882353,
          0.23670886075949366,
          0.30163934426229505,
          0.41451612903225804,
          0.36153846153846153,
          0.3634920634920635,
          0.2740740740740741,
          0.32432432432432434,
          0.21866666666666665,
          0.34923076923076923,
          0.2926829268292683,
          0.37124999999999997,
          0.2875,
          0.32469135802469135,
          0.37846153846153846,
          0.19220779220779222,
          0.24375,
          0.3328125,
          0.33448275862068966,
          0.26625,
          0.2569230769230769,
          0.3671875,
          0.2246753246753247,
          0.34074074074074073,
          0.28169014084507044,
          0.38101265822784813,
          0.2205128205128205,
          0.3787878787878788,
          0.23896103896103893,
          0.25125000000000003,
          0.24927536231884057,
          0.23142857142857143,
          0.3230769230769231,
          0.2569620253164557,
          0.19746835443037974,
          0.21492537313432836,
          0.21911764705882353,
          0.28181818181818186,
          0.25285714285714284,
          0.28153846153846157,
          0.2295774647887324,
          0.22820512820512823,
          0.12467532467532468,
          0.2585714285714286,
          0.3,
          0.27875,
          0.22794117647058823,
          0.27283950617283953,
          0.24814814814814817,
          0.2847222222222222,
          0.25873015873015875,
          0.24328358208955225,
          0.28135593220338984,
          0.1945945945945946,
          0.2582278481012658,
          0.2310810810810811,
          0.23875000000000002,
          0.22297297297297297,
          0.2,
          0.23424657534246576,
          0.20422535211267606,
          0.26956521739130435,
          0.23289473684210527,
          0.23026315789473684,
          0.2123076923076923,
          0.21935483870967742,
          0.2276923076923077,
          0.20666666666666667,
          0.2393939393939394,
          0.23088235294117646,
          0.18529411764705883,
          0.2410958904109589,
          0.26290322580645165,
          0.1902439024390244,
          0.18059701492537314,
          0.2310810810810811,
          0.2311688311688312,
          0.2506172839506173,
          0.24864864864864863,
          0.21267605633802816,
          0.20256410256410257,
          0.21923076923076926,
          0.215,
          0.19722222222222222,
          0.16986301369863013,
          0.23442622950819672,
          0.2375,
          0.17500000000000002,
          0.20161290322580644,
          0.13870967741935483,
          0.49166666666666664,
          0.48533333333333334,
          0.44999999999999996,
          0.5013698630136987,
          0.4893333333333334,
          0.5029411764705882,
          0.45499999999999996,
          0.5366666666666667,
          0.44666666666666666,
          0.4533333333333333,
          0.42374999999999996,
          0.48095238095238096,
          0.44268292682926824,
          0.41518987341772146,
          0.6220338983050848,
          0.42750000000000005,
          0.46329113924050636,
          0.445679012345679,
          0.43414634146341463,
          0.42278481012658226,
          0.44390243902439025,
          0.4698630136986301,
          0.5076923076923077,
          0.4626865671641791,
          0.445679012345679,
          0.4441558441558442,
          0.4175,
          0.4346666666666667,
          0.45217391304347826,
          0.4243243243243243,
          0.44268292682926824,
          0.4745762711864407,
          0.5134328358208955,
          0.42266666666666663,
          0.4520547945205479,
          0.43142857142857144,
          0.391358024691358,
          0.3753086419753086,
          0.41282051282051285,
          0.4115384615384616,
          0.325609756097561,
          0.40519480519480516,
          0.5677966101694916,
          0.4160493827160494,
          0.408641975308642,
          0.43676470588235294,
          0.43043478260869567,
          0.5524590163934426,
          0.43205128205128207,
          0.4103896103896104,
          0.4483333333333333,
          0.3794871794871795,
          0.43857142857142856,
          0.4338983050847458,
          0.3341772151898734,
          0.385,
          0.4714285714285714,
          0.36585365853658536,
          0.36338028169014086,
          0.4260869565217391,
          0.4161764705882353,
          0.38125,
          0.4302631578947369,
          0.2876543209876543,
          0.3716216216216216,
          0.31625000000000003,
          0.4095890410958904,
          0.4486486486486487,
          0.3082191780821918,
          0.39066666666666666,
          0.3013513513513514,
          0.32987012987012987,
          0.38051948051948054,
          0.3162162162162162,
          0.3075,
          0.4098765432098766,
          0.4388888888888889,
          0.4230769230769231,
          0.3835616438356164,
          0.4338461538461538,
          0.5365079365079365,
          0.2909090909090909,
          0.45555555555555555,
          0.3618421052631579,
          0.395,
          0.36,
          0.38414634146341464,
          0.42318840579710143,
          0.36363636363636365,
          0.40487804878048783,
          0.4375,
          0.30375,
          0.3704225352112676,
          0.4090909090909091,
          0.3207792207792208,
          0.39999999999999997,
          0.4125,
          0.3975308641975309,
          0.3395061728395062,
          0.3576923076923077,
          0.3958333333333333,
          0.5059701492537313,
          0.3310810810810811,
          0.336231884057971,
          0.484375,
          0.38082191780821917,
          0.3698630136986301,
          0.3078947368421052,
          0.38414634146341464,
          0.3417910447761194,
          0.44999999999999996,
          0.32375,
          0.34415584415584416,
          0.2936708860759494,
          0.4671428571428572,
          0.2236842105263158,
          0.35,
          0.30365853658536585,
          0.363768115942029,
          0.3,
          0.3243589743589744,
          0.3643835616438356,
          0.3256756756756757,
          0.25875,
          0.33902439024390246,
          0.31333333333333335,
          0.35324675324675325,
          0.3051948051948052,
          0.31341463414634146,
          0.27285714285714285,
          0.4283783783783784,
          0.40298507462686567,
          0.40161290322580645,
          0.2616438356164384,
          0.32625000000000004,
          0.2946666666666667,
          0.3294871794871795,
          0.3954545454545455,
          0.43478260869565216,
          0.275609756097561,
          0.2958904109589041,
          0.33783783783783783,
          0.2810126582278481,
          0.25949367088607594,
          0.3076923076923077,
          0.24342105263157895,
          0.34078947368421053,
          0.345,
          0.2810810810810811,
          0.32575757575757575,
          0.3971014492753623,
          0.303125,
          0.2631578947368421,
          0.3657142857142857,
          0.2927536231884058,
          0.2683544303797468,
          0.2506172839506173,
          0.38153846153846155,
          0.30853658536585366,
          0.2661971830985915,
          0.3081081081081081,
          0.35125,
          0.40307692307692305,
          0.32531645569620254,
          0.2777777777777778,
          0.2654320987654321,
          0.30144927536231886,
          0.3357142857142857,
          0.32926829268292684,
          0.3608108108108108,
          0.3682539682539682,
          0.3295774647887324,
          0.36323529411764705,
          0.2691358024691358,
          0.2890243902439024,
          0.31232876712328766,
          0.29444444444444445,
          0.2578125,
          0.32575757575757575,
          0.273972602739726,
          0.419672131147541,
          0.4032258064516129,
          0.2648648648648649,
          0.25555555555555554,
          0.21749999999999997,
          0.3082191780821918,
          0.23376623376623376,
          0.30972222222222223,
          0.26216216216216215,
          0.2375,
          0.22682926829268293,
          0.28695652173913044,
          0.20243902439024392,
          0.3653333333333333,
          0.28695652173913044,
          0.1876712328767123,
          0.30597014925373134,
          0.27605633802816903,
          0.21587301587301586,
          0.2545454545454546,
          0.325,
          0.2597014925373134,
          0.36271186440677966,
          0.3073170731707317,
          0.18831168831168832,
          0.25,
          0.29605263157894735,
          0.33902439024390246,
          0.3953125,
          0.22592592592592595,
          0.21392405063291137,
          0.28076923076923077,
          0.18311688311688312,
          0.2702702702702703,
          0.27714285714285714,
          0.24516129032258063,
          0.20675675675675675,
          0.2931506849315068,
          0.22195121951219512,
          0.223943661971831,
          0.21714285714285714,
          0.2716216216216216,
          0.2043478260869565,
          0.2207317073170732,
          0.23333333333333334,
          0.24230769230769228,
          0.23333333333333334,
          0.2365079365079365,
          0.21829268292682924,
          0.24202898550724636,
          0.22567567567567567,
          0.14615384615384616,
          0.19350649350649352,
          0.20133333333333334,
          0.21351351351351353,
          0.2393939393939394,
          0.2650793650793651,
          0.16575342465753423,
          0.2534246575342466,
          0.2090909090909091,
          0.18032786885245902,
          0.18902439024390244,
          0.21643835616438356,
          0.2661290322580645,
          0.19672131147540983,
          0.15161290322580645,
          0.20491803278688525,
          0.2406779661016949,
          0.21643835616438356,
          0.20476190476190476,
          0.20579710144927535,
          0.140625,
          0.1791044776119403,
          0.4717948717948718,
          0.4792207792207792,
          0.4555555555555555,
          0.5265625,
          0.4898550724637681,
          0.5666666666666667,
          0.546875,
          0.4435897435897436,
          0.44375,
          0.42560975609756097,
          0.44999999999999996,
          0.4666666666666667,
          0.4298701298701299,
          0.4925373134328358,
          0.4376623376623377,
          0.5476190476190477,
          0.4931506849315068,
          0.4358974358974359,
          0.4191780821917808,
          0.4098765432098766,
          0.45324675324675323,
          0.44722222222222224,
          0.535820895522388,
          0.3728395061728395,
          0.4785714285714286,
          0.48428571428571426,
          0.39249999999999996,
          0.3890243902439024,
          0.39125,
          0.4231707317073171,
          0.3546666666666667,
          0.4455882352941177,
          0.4918032786885246,
          0.3814814814814815,
          0.5169230769230769,
          0.47285714285714286,
          0.4038961038961039,
          0.4346666666666667,
          0.4767123287671233,
          0.48615384615384616,
          0.4118421052631579,
          0.3925925925925926,
          0.4240506329113924,
          0.3876543209876543,
          0.39875,
          0.4329113924050633,
          0.337037037037037,
          0.4132352941176471,
          0.3878048780487805,
          0.5014925373134329,
          0.3207317073170732,
          0.4767123287671233,
          0.42727272727272725,
          0.4323943661971831,
          0.4661764705882353,
          0.4333333333333333,
          0.3730769230769231,
          0.3925925925925926,
          0.3936708860759494,
          0.446875,
          0.38055555555555554,
          0.5517241379310345,
          0.3708860759493671,
          0.34024390243902436,
          0.36075949367088606,
          0.4057971014492754,
          0.3888888888888889,
          0.3271604938271605,
          0.3638888888888889,
          0.36756756756756753,
          0.4080645161290323,
          0.4610169491525424,
          0.4203125,
          0.5230769230769231,
          0.39714285714285713,
          0.33513513513513515,
          0.372,
          0.4175,
          0.45,
          0.3869565217391304,
          0.3973684210526316,
          0.3656716417910448,
          0.40875000000000006,
          0.4264705882352941,
          0.389873417721519,
          0.3864864864864865,
          0.42368421052631583,
          0.35,
          0.384,
          0.4102941176470588,
          0.3790123456790123,
          0.3871428571428572,
          0.45,
          0.4927536231884058,
          0.35432098765432096,
          0.3236111111111111,
          0.35324675324675325,
          0.4391304347826087,
          0.38170731707317074,
          0.29733333333333334,
          0.337037037037037,
          0.33875,
          0.30526315789473685,
          0.34146341463414637,
          0.345679012345679,
          0.3656716417910448,
          0.3189873417721519,
          0.3597222222222222,
          0.3024390243902439,
          0.28641975308641976,
          0.473015873015873,
          0.37105263157894736,
          0.3652777777777778,
          0.37910447761194027,
          0.26103896103896107,
          0.43043478260869567,
          0.4296875,
          0.3275,
          0.33448275862068966,
          0.35625,
          0.3231707317073171,
          0.3921875,
          0.3442857142857143,
          0.3767123287671233,
          0.30864197530864196,
          0.28051948051948056,
          0.2888888888888889,
          0.2911392405063291,
          0.3878048780487805,
          0.2926829268292683,
          0.34625,
          0.2942028985507246,
          0.37866666666666665,
          0.289873417721519,
          0.4793650793650793,
          0.3850746268656717,
          0.28414634146341466,
          0.3619047619047619,
          0.364,
          0.3012987012987013,
          0.3546666666666667,
          0.26216216216216215,
          0.29324324324324325,
          0.3775862068965517,
          0.32461538461538464,
          0.3493827160493827,
          0.4,
          0.41866666666666663,
          0.29863013698630136,
          0.27671232876712326,
          0.28860759493670884,
          0.2873417721518987,
          0.2356164383561644,
          0.3542372881355932,
          0.2983050847457627,
          0.28414634146341466,
          0.33875,
          0.34375,
          0.3586206896551724,
          0.3359375,
          0.30133333333333334,
          0.31333333333333335,
          0.27285714285714285,
          0.2734375,
          0.3253968253968254,
          0.2725,
          0.3720588235294118,
          0.2865853658536585,
          0.3597560975609756,
          0.3695652173913043,
          0.2677966101694915,
          0.2414285714285714,
          0.3513157894736842,
          0.3147540983606557,
          0.28289473684210525,
          0.2953125,
          0.2554054054054054,
          0.382089552238806,
          0.36266666666666664,
          0.3101694915254237,
          0.2573170731707317,
          0.3202702702702703,
          0.39333333333333337,
          0.35128205128205126,
          0.36166666666666664,
          0.3560606060606061,
          0.2633802816901408,
          0.30246913580246915,
          0.3854838709677419,
          0.265,
          0.23026315789473684,
          0.47424242424242424,
          0.31212121212121213,
          0.41707317073170735,
          0.22597402597402597,
          0.20172413793103447,
          0.2413793103448276,
          0.2426470588235294,
          0.245679012345679,
          0.24310344827586206,
          0.32,
          0.31875,
          0.30149253731343284,
          0.3527027027027027,
          0.33934426229508197,
          0.3367647058823529,
          0.2772727272727273,
          0.19324324324324324,
          0.256,
          0.29859154929577464,
          0.3013698630136986,
          0.2746268656716418,
          0.29876543209876544,
          0.36551724137931035,
          0.26999999999999996,
          0.2875,
          0.2285714285714286,
          0.3073170731707317,
          0.2684931506849315,
          0.30689655172413793,
          0.17894736842105263,
          0.25394736842105264,
          0.2323529411764706,
          0.22876712328767124,
          0.23125,
          0.21875,
          0.23783783783783785,
          0.2112676056338028,
          0.21911764705882353,
          0.2360655737704918,
          0.27714285714285714,
          0.22098765432098763,
          0.2240506329113924,
          0.26666666666666666,
          0.3411764705882353,
          0.2090909090909091,
          0.21428571428571427,
          0.3220338983050847,
          0.24878048780487802,
          0.2375,
          0.25538461538461543,
          0.2661764705882353,
          0.17792207792207793,
          0.3508474576271186,
          0.19305555555555556,
          0.2648648648648649,
          0.26166666666666666,
          0.2359375,
          0.20666666666666667,
          0.14745762711864405,
          0.18688524590163935,
          0.18970588235294117,
          0.15517241379310345,
          0.21746031746031744,
          0.1629032258064516,
          0.17058823529411765,
          0.2265625,
          0.5367647058823529,
          0.631578947368421,
          0.5681818181818182,
          0.5883333333333333,
          0.4825396825396825,
          0.5508196721311476,
          0.6298245614035087,
          0.5684210526315789,
          0.5128571428571428,
          0.5548387096774193,
          0.58,
          0.5164179104477612,
          0.49710144927536226,
          0.5467741935483871,
          0.5196969696969697,
          0.7177777777777777,
          0.5866666666666667,
          0.5214285714285715,
          0.5014705882352941,
          0.637037037037037,
          0.6274509803921569,
          0.482258064516129,
          0.5076923076923077,
          0.4875,
          0.5553571428571429,
          0.5578947368421052,
          0.5947368421052631,
          0.5253968253968254,
          0.5827586206896551,
          0.4383561643835616,
          0.49104477611940295,
          0.47638888888888886,
          0.5193548387096775,
          0.5078125,
          0.6241379310344828,
          0.4277777777777778,
          0.5688524590163935,
          0.4957142857142858,
          0.47384615384615386,
          0.6245283018867924,
          0.4774193548387097,
          0.6160714285714286,
          0.44126984126984126,
          0.5612903225806452,
          0.4772727272727273,
          0.547457627118644,
          0.44153846153846155,
          0.5571428571428572,
          0.52,
          0.546031746031746,
          0.4626865671641791,
          0.5771929824561404,
          0.6611111111111112,
          0.5678571428571428,
          0.45,
          0.6442307692307693,
          0.5,
          0.5032258064516129,
          0.5722222222222222,
          0.6210526315789473,
          0.3958904109589041,
          0.47796610169491527,
          0.5461538461538461,
          0.4666666666666667,
          0.4154929577464789,
          0.44776119402985076,
          0.5425925925925926,
          0.5655172413793103,
          0.4909090909090909,
          0.4373134328358209,
          0.44,
          0.3380281690140845,
          0.47540983606557374,
          0.5044117647058823,
          0.5689655172413793,
          0.40303030303030307,
          0.4426229508196721,
          0.3771428571428571,
          0.596,
          0.3971014492753623,
          0.4791666666666667,
          0.4463768115942029,
          0.5241935483870968,
          0.5428571428571428,
          0.46,
          0.56,
          0.49818181818181817,
          0.40684931506849314,
          0.39692307692307693,
          0.34516129032258064,
          0.47692307692307695,
          0.4723076923076923,
          0.5333333333333333,
          0.4098360655737705,
          0.5918367346938775,
          0.4357142857142857,
          0.384375,
          0.5079365079365079,
          0.523728813559322,
          0.5224137931034483,
          0.5607142857142857,
          0.3847222222222222,
          0.47580645161290325,
          0.453125,
          0.38620689655172413,
          0.5298245614035088,
          0.37464788732394366,
          0.3926470588235294,
          0.4507462686567164,
          0.5095238095238096,
          0.4645161290322581,
          0.3409090909090909,
          0.38749999999999996,
          0.36323529411764705,
          0.39841269841269844,
          0.4,
          0.37857142857142856,
          0.39827586206896554,
          0.4523076923076923,
          0.3878787878787879,
          0.38676470588235295,
          0.4203389830508475,
          0.4238095238095238,
          0.32537313432835824,
          0.3742424242424242,
          0.4333333333333333,
          0.4430769230769231,
          0.4603448275862069,
          0.43684210526315786,
          0.4825396825396825,
          0.3739130434782609,
          0.5678571428571428,
          0.44999999999999996,
          0.42857142857142855,
          0.3890625,
          0.28840579710144926,
          0.39090909090909093,
          0.38727272727272727,
          0.3196969696969697,
          0.4153846153846154,
          0.46964285714285714,
          0.3211267605633803,
          0.46399999999999997,
          0.4446153846153846,
          0.4125,
          0.3013888888888889,
          0.37868852459016394,
          0.35344827586206895,
          0.4211267605633803,
          0.3712121212121212,
          0.3644067796610169,
          0.3695652173913043,
          0.29818181818181816,
          0.3440677966101695,
          0.5169811320754717,
          0.3707692307692308,
          0.3484848484848485,
          0.37936507936507935,
          0.3835616438356164,
          0.34459459459459457,
          0.3068493150684931,
          0.4784313725490196,
          0.4035714285714286,
          0.4862068965517241,
          0.35737704918032787,
          0.38596491228070173,
          0.3929824561403509,
          0.3647058823529412,
          0.34411764705882353,
          0.4032258064516129,
          0.3949152542372881,
          0.325,
          0.39285714285714285,
          0.25555555555555554,
          0.2957142857142857,
          0.3424657534246575,
          0.28955223880597014,
          0.3140350877192982,
          0.29137931034482756,
          0.3647058823529412,
          0.4711864406779661,
          0.5320754716981132,
          0.3218181818181818,
          0.515686274509804,
          0.325,
          0.36938775510204086,
          0.23333333333333334,
          0.27391304347826084,
          0.2923076923076923,
          0.3660377358490566,
          0.2640625,
          0.3641791044776119,
          0.27619047619047615,
          0.30327868852459017,
          0.29074074074074074,
          0.48823529411764705,
          0.37592592592592594,
          0.2836065573770492,
          0.31166666666666665,
          0.47638888888888886,
          0.2945205479452055,
          0.271830985915493,
          0.32857142857142857,
          0.3625,
          0.28620689655172415,
          0.2129032258064516,
          0.29,
          0.26521739130434785,
          0.24920634920634918,
          0.24411764705882355,
          0.2633802816901408,
          0.27538461538461534,
          0.3206349206349206,
          0.26557377049180325,
          0.33888888888888885,
          0.4070422535211267,
          0.2719298245614035,
          0.2288135593220339,
          0.2872727272727273,
          0.3649122807017544,
          0.2661290322580645,
          0.3625,
          0.26176470588235295,
          0.21212121212121213,
          0.33620689655172414,
          0.2970149253731343,
          0.35192307692307695,
          0.3709677419354839,
          0.2681818181818182,
          0.30327868852459017,
          0.2927272727272728,
          0.2476923076923077,
          0.311864406779661,
          0.2875,
          0.31896551724137934,
          0.2196969696969697,
          0.2776119402985075,
          0.22903225806451613,
          0.2846153846153846,
          0.22962962962962963,
          0.24603174603174602,
          0.2863636363636363,
          0.24333333333333332,
          0.39166666666666666,
          0.22372881355932203,
          0.2810344827586207,
          0.19655172413793104,
          0.30943396226415093,
          0.3046153846153846,
          0.215,
          0.27586206896551724,
          0.30727272727272725,
          0.22678571428571428,
          0.2381818181818182,
          0.39999999999999997,
          0.2890909090909091,
          0.21884057971014492,
          0.21304347826086956,
          0.2785714285714286,
          0.1611111111111111,
          0.25263157894736843,
          0.5428571428571429,
          0.5966666666666666,
          0.5343283582089552,
          0.6098039215686275,
          0.5409836065573771,
          0.5196969696969697,
          0.6051724137931035,
          0.5442622950819672,
          0.6462962962962963,
          0.559375,
          0.630188679245283,
          0.48055555555555557,
          0.5059701492537313,
          0.534920634920635,
          0.6051724137931035,
          0.6557692307692308,
          0.5948275862068966,
          0.5883333333333333,
          0.5295774647887325,
          0.5622950819672131,
          0.4785714285714286,
          0.6240740740740741,
          0.6277777777777778,
          0.5599999999999999,
          0.5524590163934426,
          0.6461538461538462,
          0.6392857142857142,
          0.6160714285714286,
          0.5,
          0.49117647058823527,
          0.5806451612903226,
          0.7019230769230769,
          0.5241935483870968,
          0.44583333333333336,
          0.5174603174603175,
          0.5131147540983607,
          0.5234375,
          0.463768115942029,
          0.46901408450704224,
          0.3926470588235294,
          0.547457627118644,
          0.4650793650793651,
          0.4847222222222222,
          0.612962962962963,
          0.44477611940298506,
          0.45645161290322583,
          0.4277777777777778,
          0.4057142857142857,
          0.48309859154929574,
          0.44857142857142857,
          0.5764705882352941,
          0.6241379310344828,
          0.5647058823529412,
          0.4761194029850746,
          0.5581818181818182,
          0.5262295081967213,
          0.5362068965517242,
          0.4777777777777778,
          0.5611111111111111,
          0.45217391304347826,
          0.5490909090909091,
          0.5781818181818182,
          0.5267857142857143,
          0.444927536231884,
          0.4338028169014085,
          0.5586206896551724,
          0.4786885245901639,
          0.4492753623188406,
          0.5711538461538461,
          0.5526315789473685,
          0.5672727272727273,
          0.4033333333333333,
          0.5058823529411764,
          0.3712121212121212,
          0.40714285714285714,
          0.33188405797101445,
          0.4527777777777778,
          0.4631578947368421,
          0.35507246376811596,
          0.4064516129032258,
          0.47058823529411764,
          0.4361111111111111,
          0.5189655172413793,
          0.3682539682539682,
          0.4765625,
          0.42205882352941176,
          0.46984126984126984,
          0.41304347826086957,
          0.44393939393939397,
          0.5535714285714286,
          0.36764705882352944,
          0.5035087719298246,
          0.39565217391304347,
          0.38857142857142857,
          0.39,
          0.4183098591549296,
          0.5135593220338983,
          0.3573529411764706,
          0.41641791044776116,
          0.3803921568627451,
          0.4463768115942029,
          0.4538461538461539,
          0.45087719298245615,
          0.3151515151515152,
          0.303125,
          0.34285714285714286,
          0.32727272727272727,
          0.41714285714285715,
          0.4722222222222222,
          0.2742857142857143,
          0.33888888888888885,
          0.4233333333333333,
          0.39705882352941174,
          0.35694444444444445,
          0.46153846153846156,
          0.3647058823529412,
          0.34328358208955223,
          0.42083333333333334,
          0.4166666666666667,
          0.4338983050847458,
          0.4785714285714286,
          0.4067796610169492,
          0.4396825396825397,
          0.3746031746031746,
          0.42153846153846153,
          0.4583333333333333,
          0.27571428571428575,
          0.5333333333333333,
          0.42388059701492536,
          0.37846153846153846,
          0.4835820895522388,
          0.4,
          0.4057971014492754,
          0.3770491803278688,
          0.3929577464788732,
          0.32794117647058824,
          0.35090909090909095,
          0.38653846153846155,
          0.2690140845070423,
          0.30972222222222223,
          0.30923076923076925,
          0.37142857142857144,
          0.3430769230769231,
          0.3836065573770492,
          0.28852459016393445,
          0.3421875,
          0.37681159420289856,
          0.3869565217391304,
          0.38382352941176473,
          0.45714285714285713,
          0.30454545454545456,
          0.3,
          0.3111111111111111,
          0.36507936507936506,
          0.4725490196078432,
          0.33275862068965517,
          0.408955223880597,
          0.36346153846153845,
          0.25081967213114753,
          0.32727272727272727,
          0.31470588235294117,
          0.2703125,
          0.2909090909090909,
          0.3879310344827586,
          0.3473684210526316,
          0.3226415094339623,
          0.44074074074074077,
          0.4875,
          0.47758620689655173,
          0.30566037735849055,
          0.26833333333333337,
          0.38421052631578945,
          0.4019607843137255,
          0.33269230769230773,
          0.2696969696969697,
          0.3402985074626866,
          0.2970149253731343,
          0.5,
          0.28208955223880594,
          0.27037037037037037,
          0.44366197183098594,
          0.25072463768115943,
          0.2222222222222222,
          0.34117647058823525,
          0.3913793103448276,
          0.3304347826086957,
          0.38095238095238093,
          0.3145454545454546,
          0.32295081967213113,
          0.23709677419354838,
          0.311864406779661,
          0.2390625,
          0.2693548387096774,
          0.33157894736842103,
          0.3620689655172414,
          0.3120689655172414,
          0.30925925925925923,
          0.4314814814814815,
          0.25,
          0.3490566037735849,
          0.3369230769230769,
          0.30476190476190473,
          0.2879310344827586,
          0.25925925925925924,
          0.37450980392156863,
          0.3943396226415094,
          0.21333333333333335,
          0.253125,
          0.2836065573770492,
          0.27419354838709675,
          0.225,
          0.278125,
          0.3440677966101695,
          0.3226415094339623,
          0.2767857142857143,
          0.378125,
          0.36730769230769234,
          0.3607843137254902,
          0.3090909090909091,
          0.19836065573770492,
          0.29056603773584905,
          0.33620689655172414,
          0.28730158730158734,
          0.30357142857142855,
          0.3109090909090909,
          0.3,
          0.27049180327868855,
          0.3380952380952381,
          0.32745098039215687,
          0.2,
          0.3114754098360656,
          0.1774193548387097,
          0.31346153846153846,
          0.3076923076923077,
          0.5019230769230769,
          0.1701754385964912,
          0.17777777777777778,
          0.4970588235294117,
          0.49104477611940295,
          0.5446153846153846,
          0.45921052631578946,
          0.47500000000000003,
          0.4527027027027027,
          0.47236842105263155,
          0.5073529411764706,
          0.5044776119402985,
          0.5390625,
          0.45135135135135135,
          0.5179104477611941,
          0.5090909090909091,
          0.5983050847457627,
          0.5573529411764706,
          0.5580645161290323,
          0.5723076923076924,
          0.525,
          0.47638888888888886,
          0.5117647058823529,
          0.49393939393939396,
          0.583076923076923,
          0.44375,
          0.43066666666666664,
          0.49027777777777776,
          0.4909090909090909,
          0.4928571428571429,
          0.4616438356164384,
          0.5564516129032258,
          0.39473684210526316,
          0.4397435897435897,
          0.5,
          0.49104477611940295,
          0.39210526315789473,
          0.49230769230769234,
          0.4478260869565217,
          0.45294117647058824,
          0.4094594594594595,
          0.4534246575342466,
          0.4706666666666666,
          0.509375,
          0.4761194029850746,
          0.4767123287671233,
          0.436986301369863,
          0.5086206896551724,
          0.506060606060606,
          0.42533333333333334,
          0.5293103448275862,
          0.416,
          0.4363636363636364,
          0.4876923076923077,
          0.35000000000000003,
          0.40379746835443037,
          0.4024390243902439,
          0.3430379746835443,
          0.3814814814814815,
          0.4863636363636364,
          0.5131147540983607,
          0.45454545454545453,
          0.4783783783783784,
          0.3886075949367089,
          0.4650793650793651,
          0.482258064516129,
          0.42266666666666663,
          0.5203125,
          0.4898550724637681,
          0.3460526315789474,
          0.5049180327868853,
          0.5061538461538462,
          0.45211267605633804,
          0.39166666666666666,
          0.424390243902439,
          0.36875,
          0.3697368421052632,
          0.4417910447761194,
          0.39722222222222225,
          0.30405405405405406,
          0.4484375,
          0.4264705882352941,
          0.5380952380952381,
          0.37681159420289856,
          0.39066666666666666,
          0.39220779220779217,
          0.32535211267605635,
          0.45081967213114754,
          0.39866666666666667,
          0.396969696969697,
          0.3845070422535211,
          0.32857142857142857,
          0.4549295774647887,
          0.31645569620253167,
          0.4,
          0.3914285714285714,
          0.3736842105263158,
          0.3384615384615384,
          0.38333333333333336,
          0.3530864197530864,
          0.36933333333333335,
          0.35802469135802467,
          0.29615384615384616,
          0.46557377049180326,
          0.41363636363636364,
          0.372972972972973,
          0.41375,
          0.3775862068965517,
          0.32784810126582276,
          0.31095890410958904,
          0.4043478260869565,
          0.3793103448275862,
          0.3530864197530864,
          0.33636363636363636,
          0.3619718309859155,
          0.3476923076923077,
          0.3426470588235294,
          0.2733333333333333,
          0.38,
          0.3046875,
          0.32105263157894737,
          0.3293333333333333,
          0.41846153846153844,
          0.37846153846153846,
          0.3140625,
          0.4217391304347826,
          0.37567567567567567,
          0.2753623188405797,
          0.4046153846153846,
          0.36507936507936506,
          0.4852459016393443,
          0.42,
          0.4,
          0.2875,
          0.3833333333333333,
          0.41940298507462687,
          0.26375000000000004,
          0.2791666666666667,
          0.2857142857142857,
          0.2414285714285714,
          0.3685714285714286,
          0.3,
          0.4379310344827586,
          0.21351351351351353,
          0.38166666666666665,
          0.3477611940298508,
          0.3232876712328767,
          0.23750000000000002,
          0.3416666666666667,
          0.3289855072463768,
          0.24126984126984125,
          0.35500000000000004,
          0.228,
          0.35584415584415585,
          0.26582278481012656,
          0.4417910447761194,
          0.2670731707317073,
          0.34411764705882353,
          0.29041095890410956,
          0.35714285714285715,
          0.4117647058823529,
          0.26268656716417915,
          0.3845070422535211,
          0.2532258064516129,
          0.35694444444444445,
          0.2951219512195122,
          0.4203389830508475,
          0.30144927536231886,
          0.36056338028169016,
          0.263235294117647,
          0.2051948051948052,
          0.3038961038961039,
          0.27538461538461534,
          0.35238095238095235,
          0.35,
          0.37846153846153846,
          0.26986301369863014,
          0.24324324324324326,
          0.3080645161290323,
          0.3168831168831169,
          0.24647887323943662,
          0.3704225352112676,
          0.3421875,
          0.33114754098360655,
          0.3149253731343284,
          0.3929577464788732,
          0.3115942028985507,
          0.28,
          0.31746031746031744,
          0.40519480519480516,
          0.380327868852459,
          0.24782608695652175,
          0.36,
          0.247887323943662,
          0.4169491525423729,
          0.3460526315789474,
          0.34324324324324323,
          0.3787878787878788,
          0.26282051282051283,
          0.336986301369863,
          0.2417910447761194,
          0.3661290322580645,
          0.2571428571428571,
          0.2661538461538462,
          0.2373134328358209,
          0.19859154929577463,
          0.26999999999999996,
          0.22676056338028172,
          0.2555555555555556,
          0.32985074626865674,
          0.2573170731707317,
          0.24057971014492754,
          0.35161290322580646,
          0.3482758620689655,
          0.2189655172413793,
          0.38636363636363635,
          0.2745762711864407,
          0.3096774193548387,
          0.2241935483870968,
          0.3152542372881356,
          0.27999999999999997,
          0.2486111111111111,
          0.23134328358208955,
          0.24545454545454543,
          0.24242424242424243,
          0.20757575757575755,
          0.20344827586206898,
          0.18630136986301368,
          0.23387096774193547,
          0.21333333333333335,
          0.1703125
         ],
         "xbins": {
          "end": 38,
          "size": 1,
          "start": 0
         }
        },
        {
         "histnorm": "percent",
         "name": "Playoffs",
         "opacity": 0.5,
         "type": "histogram",
         "x": [
          4.009090909090909,
          3.341666666666667,
          6.75,
          1.8130434782608698,
          3.4499999999999997,
          6.216666666666666,
          5.371428571428572,
          6.55,
          5.957142857142857,
          1.7333333333333332,
          7.166666666666667,
          2.1631578947368424,
          7.083333333333333,
          6.616666666666667,
          1.6666666666666667,
          6.75,
          2.46,
          2.7066666666666666,
          2.9583333333333335,
          7.875,
          5.533333333333334,
          2.5533333333333332,
          1.9210526315789473,
          6.05,
          2.9916666666666667,
          2.8083333333333336,
          3.1999999999999997,
          1.9105263157894736,
          1.6136363636363635,
          3.4416666666666664,
          5.528571428571429,
          2.1166666666666667,
          2.9,
          9.5,
          3.15,
          4.283333333333333,
          2.6727272727272724,
          9.125,
          3.0454545454545454,
          1.7571428571428571,
          5.916666666666667,
          3.4,
          8.325,
          4.383333333333334,
          3.027272727272727,
          5.883333333333333,
          5.783333333333334,
          5.7,
          1.4217391304347828,
          4.957142857142857,
          5.25,
          5.7,
          1.7083333333333333,
          4.5,
          5.55,
          1.2714285714285714,
          7.325,
          6.25,
          1.519047619047619,
          2.2583333333333333,
          4.05,
          4.466666666666667,
          2.841666666666667,
          7.075,
          4.55,
          6.575,
          2.814285714285714,
          1.8733333333333335,
          1.0826086956521739,
          4.916666666666667,
          1.8631578947368421,
          1.2304347826086957,
          2.341666666666667,
          1.4200000000000002,
          1.5866666666666667,
          2.1545454545454543,
          3.2857142857142856,
          3.783333333333333,
          8.5,
          4.95,
          4.325,
          2.275,
          3.1166666666666667,
          2.02,
          0.8857142857142858,
          5.3,
          5.666666666666667,
          2.6999999999999997,
          1.4333333333333333,
          0.76,
          3.1999999999999997,
          0.9476190476190476,
          1.0736842105263158,
          3,
          1.55,
          1.7583333333333335,
          2.481818181818182,
          2.433333333333333,
          0.8736842105263158,
          1.8666666666666665,
          2.966666666666667,
          1.4727272727272727,
          0.7363636363636363,
          2.8000000000000003,
          0.8090909090909091,
          4.271428571428571,
          1.9,
          1.7,
          0.6684210526315789,
          0.67,
          1.8833333333333335,
          0.7799999999999999,
          0.7916666666666666,
          4,
          5.125,
          2.783333333333333,
          0.48,
          1.7363636363636366,
          3.375,
          0.9333333333333332,
          0.5785714285714285,
          0.46111111111111114,
          2.075,
          0.8142857142857143,
          1.7166666666666668,
          2.2578947368421054,
          1.9100000000000001,
          7.3,
          2.0368421052631582,
          3.6454545454545455,
          6.416666666666667,
          5.757142857142857,
          2.8307692307692305,
          6.042857142857143,
          3.8545454545454545,
          2.1631578947368424,
          3.2583333333333333,
          5.528571428571429,
          5.085714285714286,
          2.792307692307692,
          9.575,
          5.442857142857143,
          6.95,
          4.942857142857143,
          3.7818181818181817,
          5.371428571428572,
          11.766666666666666,
          6.16,
          6.5,
          1.735,
          1.3608695652173914,
          6.1000000000000005,
          5.242857142857143,
          3.472727272727273,
          1.4217391304347828,
          5.442857142857143,
          1.853846153846154,
          3.790909090909091,
          1.905263157894737,
          1.7149999999999999,
          3.5181818181818185,
          2.975,
          1.108695652173913,
          1.391304347826087,
          4.428571428571429,
          3.25,
          2.558333333333333,
          3.3636363636363638,
          1.9526315789473685,
          8.72,
          5.1000000000000005,
          2.076923076923077,
          5.64,
          6.5200000000000005,
          5.057142857142857,
          3.1545454545454548,
          3.8714285714285714,
          4.7,
          1.905263157894737,
          2.011764705882353,
          4.6571428571428575,
          9.625,
          3.585714285714286,
          4.916666666666667,
          6.5,
          1.4684210526315788,
          3.9,
          6.68,
          4.085714285714286,
          4.057142857142857,
          8.4,
          3.9,
          3.8714285714285714,
          4.571428571428571,
          3.036363636363636,
          7.45,
          2.2583333333333333,
          2.6153846153846154,
          4.84,
          4.375,
          2.9857142857142853,
          2.3923076923076922,
          1.5,
          1,
          1.3199999999999998,
          1.1434782608695653,
          5.014285714285714,
          5.616666666666667,
          5.7,
          1.4769230769230768,
          3.942857142857143,
          2.7142857142857144,
          1.5250000000000001,
          2.414285714285714,
          2.3428571428571425,
          3.185714285714286,
          4.25,
          3.8333333333333335,
          0.9739130434782608,
          2.925,
          0.6652173913043479,
          3.5285714285714285,
          1.7333333333333334,
          2.25,
          1.657142857142857,
          1.1916666666666667,
          1.34,
          1.3857142857142857,
          1.2944444444444445,
          1.5833333333333333,
          0.75,
          1.7142857142857142,
          1.8166666666666667,
          1.24,
          4.533333333333333,
          0.9473684210526315,
          2.5,
          0.6739130434782609,
          0.9833333333333333,
          0.9777777777777779,
          3.2285714285714286,
          1.01,
          2.757142857142857,
          0.890909090909091,
          1.0222222222222221,
          0.9384615384615385,
          0.8263157894736842,
          1.6090909090909091,
          1.0466666666666666,
          1.375,
          0.56,
          1.46,
          1.7999999999999998,
          1.063157894736842,
          3.4714285714285715,
          2.3000000000000003,
          1.009090909090909,
          0.3,
          1.657142857142857,
          5.333333333333333,
          0.7923076923076924,
          0.9142857142857144,
          1.44,
          2.25,
          0.6625,
          1.2,
          0.7875,
          1.1400000000000001,
          2.1333333333333333,
          3.325,
          0.6684210526315789,
          0.6352941176470589,
          1.25,
          1.325,
          0.2818181818181818,
          1.52,
          1.657142857142857,
          1.8399999999999999,
          10.75,
          2.1100000000000003,
          1.8714285714285712,
          2.1999999999999997,
          7.88,
          2.8428571428571425,
          4.18,
          3.516666666666667,
          3.091666666666667,
          8.32,
          8.040000000000001,
          7.24,
          3.15,
          5.1000000000000005,
          9.95,
          6.5,
          3.436363636363636,
          1.723809523809524,
          8.95,
          5.1000000000000005,
          7.45,
          6.640000000000001,
          2.06875,
          6.916666666666667,
          1.9882352941176469,
          6.45,
          3.1545454545454548,
          2.2125,
          2.757142857142857,
          2.98,
          2.18125,
          2.0375,
          3.17,
          3.8,
          8.36,
          1.776190476190476,
          1.3705882352941177,
          3.036363636363636,
          2.264705882352941,
          2.457142857142857,
          1.7277777777777779,
          6.375,
          1.9357142857142857,
          3.07,
          4.25,
          8.325,
          5,
          8.2,
          5.3,
          5.333333333333333,
          6.16,
          4.042857142857143,
          7,
          5.583333333333333,
          6.625,
          1.4823529411764707,
          6,
          2.685714285714286,
          3.9499999999999997,
          2.6999999999999997,
          4.285714285714286,
          6.25,
          5.95,
          1.5428571428571427,
          1.325,
          7.375,
          5.283333333333333,
          1.438095238095238,
          5.716666666666666,
          6.625,
          6.4,
          1.3882352941176472,
          2.2857142857142856,
          3.31,
          7.825,
          5.625,
          1.8199999999999998,
          2.3714285714285714,
          1.6823529411764706,
          1.7399999999999998,
          1.13125,
          4.333333333333333,
          2.463636363636364,
          4.25,
          6.625,
          3.9499999999999997,
          5.625,
          1.2785714285714285,
          4.1571428571428575,
          2.6714285714285713,
          2.57,
          3,
          4.24,
          2.085714285714286,
          1.75,
          6.325,
          2.18,
          1.9166666666666667,
          7.75,
          1.2449999999999999,
          6.7,
          1.78,
          3.0500000000000003,
          3.5833333333333335,
          2.79,
          3.3333333333333335,
          6.1000000000000005,
          1.6181818181818182,
          1.72,
          4.625,
          2.7416666666666667,
          1.3545454545454545,
          1.18125,
          4.7,
          4.68,
          5.375,
          0.8523809523809524,
          0.5190476190476191,
          1.2210526315789474,
          0.9166666666666666,
          3.325,
          0.78,
          0.8866666666666667,
          1.1545454545454545,
          3.2,
          0.45999999999999996,
          2.5142857142857147,
          1.0454545454545454,
          0.4411764705882353,
          1.26,
          1.011764705882353,
          0.7357142857142858,
          4.25,
          1.26,
          1.3666666666666665,
          4.95,
          1.72,
          3,
          0.45454545454545453,
          0.7285714285714285,
          2.238888888888889,
          5.614285714285714,
          7.720000000000001,
          3.6090909090909093,
          1.861904761904762,
          2.0777777777777775,
          1.7571428571428571,
          1.8944444444444446,
          1.4749999999999999,
          6.116666666666667,
          5.3,
          3.3899999999999997,
          3.37,
          2.414285714285714,
          1.8649999999999998,
          3.6545454545454548,
          6.8,
          1.9149999999999998,
          9,
          5.533333333333334,
          8.2,
          3.65,
          2.4071428571428575,
          1.6608695652173915,
          10.075,
          6.88,
          1.535,
          3.0727272727272723,
          2.79,
          9.75,
          9.2,
          4.8,
          4.616666666666666,
          3.2700000000000005,
          3.4285714285714284,
          2.5285714285714285,
          7.2,
          5.95,
          5.95,
          6.92,
          7.5,
          3.857142857142857,
          2.507142857142857,
          2.91,
          5.366666666666667,
          1.8555555555555554,
          3.25,
          1.9100000000000001,
          5.5,
          4.585714285714286,
          1.657142857142857,
          5.76,
          5.7,
          2.2454545454545456,
          8.7,
          3.2,
          2.6399999999999997,
          4,
          3.16,
          4.014285714285714,
          4.416666666666667,
          1.7055555555555555,
          2.5,
          5.466666666666666,
          0.9944444444444444,
          3.8,
          4.5,
          1.2916666666666667,
          1.3333333333333333,
          1.49,
          3.9200000000000004,
          2.67,
          5.242857142857143,
          3.716666666666667,
          1.1300000000000001,
          2.8000000000000003,
          1.5166666666666666,
          0.8916666666666666,
          3.5142857142857147,
          5.075,
          4.84,
          4.042857142857143,
          1.46,
          5.875,
          3.8714285714285714,
          4.96,
          2.5272727272727273,
          1.9538461538461538,
          1.9363636363636365,
          4.5,
          7.075,
          0.8176470588235294,
          1.92,
          1.4095238095238096,
          1.9714285714285715,
          1.67,
          7.24,
          4.4799999999999995,
          1.61,
          0.8400000000000001,
          2.557142857142857,
          6.25,
          1.2650000000000001,
          4,
          2.0300000000000002,
          2.18,
          1.7600000000000002,
          5.16,
          0.4782608695652174,
          0.35000000000000003,
          1.4555555555555555,
          1.6909090909090911,
          0.861904761904762,
          1.9666666666666666,
          2.25,
          4.6571428571428575,
          3.96,
          4.75,
          5.575,
          0.7545454545454546,
          3.08,
          0.3826086956521739,
          2.375,
          0.605,
          2.1333333333333333,
          1.34,
          0.6333333333333333,
          4.95,
          2.12,
          1.8714285714285714,
          0.7666666666666666,
          0.8333333333333334,
          0.8222222222222223,
          2.1333333333333333,
          0.38571428571428573,
          2.75,
          0.74375,
          1.29,
          1.5142857142857142,
          1.25,
          2.125,
          1.0777777777777777,
          3.12,
          1.72,
          2.9,
          2.16,
          0.3235294117647059,
          1.4166666666666667,
          1.64,
          2.7,
          1.04,
          7.76,
          2.2944444444444443,
          2.3666666666666667,
          3.3636363636363638,
          2.0823529411764703,
          10.75,
          9.45,
          2.983333333333333,
          3,
          2.0166666666666666,
          5.3,
          2.9846153846153842,
          6.75,
          5.866666666666667,
          6.216666666666666,
          6.083333333333333,
          3.4,
          2.3133333333333335,
          6.633333333333333,
          8.75,
          3.7299999999999995,
          6.666666666666667,
          8.875,
          1.7833333333333334,
          1.9888888888888887,
          2.1,
          6.7,
          4.6875,
          4.3875,
          5.385714285714286,
          1.8833333333333333,
          5.283333333333333,
          2.0647058823529414,
          6.416666666666667,
          3.07,
          1.838888888888889,
          3.9166666666666665,
          5.3,
          2.052941176470588,
          2.9545454545454546,
          2.690909090909091,
          5.55,
          4.5,
          4,
          2.2454545454545456,
          2.5307692307692307,
          2.207692307692308,
          7.075,
          8.75,
          2.8,
          7.4,
          3.033333333333333,
          2.2600000000000002,
          5.2,
          2.6818181818181817,
          7.24,
          8.325,
          3.409090909090909,
          2.3636363636363638,
          1.3599999999999999,
          1.625,
          7.75,
          1.9888888888888887,
          5.133333333333334,
          4.166666666666667,
          4.720000000000001,
          2.772727272727273,
          4.4399999999999995,
          1.0666666666666667,
          5.416666666666667,
          4.2,
          5.083333333333333,
          2.290909090909091,
          1.5615384615384615,
          4.5,
          1.661111111111111,
          4.416666666666667,
          1.7333333333333334,
          2.423076923076923,
          1.5055555555555555,
          4.366666666666666,
          6.279999999999999,
          2.12,
          1.70625,
          1.425,
          4.416666666666667,
          4.571428571428571,
          1.8636363636363635,
          1.1384615384615384,
          3.283333333333333,
          3.783333333333333,
          5.125,
          3.7,
          6.2,
          1.6375,
          0.85625,
          2.95,
          3.3666666666666667,
          1.1125,
          2,
          3.3000000000000003,
          2.7545454545454544,
          1.911111111111111,
          0.58125,
          1.2750000000000001,
          1.0055555555555555,
          3.216666666666667,
          1.6818181818181819,
          0.9588235294117647,
          2.585714285714286,
          0.8666666666666667,
          5.75,
          4.75,
          1.1214285714285714,
          0.94,
          2.6399999999999997,
          3.4333333333333336,
          0.7411764705882353,
          2.5100000000000002,
          3.2,
          1.8,
          6.25,
          0.7647058823529411,
          0.9529411764705882,
          0.8111111111111111,
          2.0833333333333335,
          1.55,
          1.0866666666666667,
          0.8066666666666666,
          2.5,
          0.9142857142857144,
          0.9307692307692308,
          2.9499999999999997,
          0.6749999999999999,
          1.85,
          2.08,
          2.283333333333333,
          2.0571428571428574,
          1.0538461538461539,
          2.25,
          2.12,
          1.1333333333333333,
          0.6615384615384615,
          0.7214285714285714,
          0.7444444444444445,
          1.8833333333333335,
          2.6666666666666665,
          1.4666666666666668,
          1.8833333333333335,
          1.575,
          3.4333333333333336,
          3.5,
          1.6291666666666667,
          8.16,
          1.75,
          2.5375,
          2.2866666666666666,
          2.835714285714286,
          2.48125,
          7.88,
          5.128571428571428,
          4.883333333333334,
          7.720000000000001,
          4.077777777777778,
          2.5928571428571425,
          5.76,
          1.8571428571428572,
          2.7636363636363637,
          4.985714285714286,
          5.583333333333333,
          2.9250000000000003,
          5.92,
          1.5458333333333334,
          4.383333333333334,
          9.25,
          3.3909090909090907,
          6.75,
          3.2818181818181817,
          2.2866666666666666,
          3.0749999999999997,
          6.720000000000001,
          5.25,
          3.644444444444444,
          6.56,
          3.9,
          1.5625,
          8.325,
          2.392857142857143,
          5.24,
          7.95,
          2.6357142857142857,
          2.9250000000000003,
          3.822222222222222,
          3.3777777777777778,
          6.04,
          1.88,
          3.1333333333333333,
          4.8,
          2.6083333333333334,
          1.7545454545454546,
          3.875,
          5.84,
          5.64,
          7,
          7.325,
          4.12,
          6.36,
          7.040000000000001,
          1.7533333333333334,
          5.2,
          1.8,
          3.5181818181818185,
          1.9466666666666665,
          5.88,
          6.08,
          3.6285714285714286,
          3.9166666666666665,
          4.4,
          4.328571428571428,
          5.4799999999999995,
          8.125,
          1.45625,
          5.416666666666667,
          1.4285714285714286,
          7.875,
          2.7363636363636363,
          3.3,
          1.5214285714285716,
          1.2750000000000001,
          0.8666666666666667,
          1.6714285714285713,
          5.96,
          6,
          1.51875,
          1.4357142857142857,
          1.0291666666666666,
          6.875,
          8.2,
          4.833333333333333,
          1.9181818181818182,
          5.325,
          2.15,
          1.55625,
          3.6142857142857143,
          0.9761904761904762,
          7.45,
          1.1875,
          1.075,
          1.2066666666666668,
          4.76,
          5.4799999999999995,
          3.6799999999999997,
          1.6857142857142857,
          0.691304347826087,
          2,
          6.04,
          4.25,
          1.4400000000000002,
          5.075,
          2.6714285714285713,
          0.8636363636363636,
          1.275,
          1.9300000000000002,
          4.325,
          1.1428571428571428,
          3.1,
          3.6799999999999997,
          5.12,
          2.4,
          2.4,
          1.6666666666666667,
          1.1142857142857143,
          2.2,
          4,
          0.6705882352941177,
          1.3363636363636362,
          0.6636363636363636,
          0.9,
          2.3600000000000003,
          1.7,
          1.8399999999999999,
          0.8,
          3.575,
          3.16,
          0.48636363636363633,
          5.125,
          0.4947368421052632,
          0.95625,
          0.9222222222222223,
          1.875,
          1.75,
          2.2800000000000002,
          0.475,
          1.4222222222222223,
          3.233333333333333,
          0.8571428571428571,
          0.79,
          3.16,
          2.625,
          5.385714285714286,
          5.966666666666666,
          9.075,
          3.108333333333333,
          3.023076923076923,
          7.4,
          1.7428571428571429,
          1.7285714285714284,
          3.4222222222222225,
          2.0842105263157897,
          2.388235294117647,
          1.9210526315789473,
          8.95,
          7.840000000000001,
          1.8285714285714285,
          2.323529411764706,
          10,
          5.328571428571428,
          3.55,
          8.75,
          2.8307692307692305,
          9.75,
          6.6,
          2.1705882352941175,
          3.5545454545454547,
          1.911764705882353,
          5.666666666666667,
          1.905263157894737,
          7.7,
          3.409090909090909,
          2.85,
          4.628571428571428,
          3.4545454545454546,
          5.514285714285714,
          9,
          4.085714285714286,
          5.4,
          5.7,
          8.2,
          1.6047619047619048,
          3.28,
          9.125,
          9.325,
          7.040000000000001,
          4.328571428571428,
          2.0727272727272728,
          7.875,
          2.2411764705882353,
          6.44,
          5.825,
          2.2545454545454544,
          5.12,
          4.8,
          6.840000000000001,
          2.0153846153846153,
          4.866666666666666,
          4.333333333333333,
          8.575,
          1.4952380952380953,
          5.88,
          2.292307692307692,
          1.361904761904762,
          3.3,
          1.8105263157894735,
          2.3666666666666667,
          3.4444444444444446,
          1.2473684210526315,
          2.6333333333333333,
          1.380952380952381,
          5.95,
          1.4384615384615385,
          3.2454545454545456,
          8.25,
          5.3,
          4.285714285714286,
          1.0952380952380953,
          6.12,
          2.68,
          4.771428571428571,
          1.8923076923076925,
          1.1263157894736842,
          1.6705882352941175,
          1.54375,
          2.3285714285714287,
          1.2736842105263158,
          1.1904761904761905,
          2.875,
          4.5,
          0.8941176470588235,
          1.9357142857142857,
          5.76,
          8.2,
          2.46,
          8,
          4.76,
          2.283333333333333,
          4.24,
          5.125,
          5.633333333333333,
          1.65,
          2.5714285714285716,
          1.1571428571428573,
          3.1,
          1.19,
          1.06,
          1.3153846153846156,
          1.8818181818181818,
          0.8761904761904761,
          0.8722222222222222,
          4.075,
          5.085714285714286,
          1.7899999999999998,
          3.625,
          3.325,
          1.4384615384615385,
          3.125,
          0.9470588235294118,
          1.1833333333333333,
          3.56,
          1.4666666666666668,
          4.333333333333333,
          2.7199999999999998,
          1.0421052631578949,
          3.04,
          1.0727272727272728,
          3,
          1.7100000000000002,
          0.9285714285714286,
          0.8846153846153846,
          0.8400000000000001,
          1.9857142857142858,
          0.5882352941176471,
          3.375,
          0.5736842105263158,
          2.2333333333333334,
          1.5333333333333332,
          3.1,
          4.566666666666666,
          4.7,
          0.7230769230769231,
          1.25,
          1.3333333333333333,
          0.43333333333333335,
          1.7571428571428573,
          1.9000000000000001,
          2.5,
          5.728571428571429,
          6.883333333333333,
          3.3666666666666667,
          3.46,
          7.4,
          8.120000000000001,
          1.8142857142857143,
          7.8,
          3.45,
          2.35625,
          2.9545454545454546,
          1.8363636363636362,
          2.1473684210526316,
          7,
          1.7434782608695654,
          6.216666666666666,
          4.011111111111111,
          3.0416666666666665,
          6.666666666666667,
          3.9777777777777774,
          7,
          1.7100000000000002,
          7.44,
          2.65,
          3.227272727272727,
          7.2,
          7.32,
          1.7210526315789476,
          2.463636363636364,
          5.76,
          3.3200000000000003,
          1.7260869565217392,
          6,
          5.3428571428571425,
          7.325,
          1.6545454545454545,
          8.5,
          6.68,
          6.640000000000001,
          6.92,
          3.1090909090909093,
          9.625,
          6.4799999999999995,
          5.45,
          1.8444444444444446,
          5.12,
          1.7777777777777777,
          2.8600000000000003,
          5.4799999999999995,
          4.8,
          4.757142857142857,
          1.2608695652173914,
          1.3666666666666667,
          3.966666666666667,
          1.6736842105263159,
          2.7916666666666665,
          4.68,
          3.3363636363636364,
          3.016666666666667,
          2.9899999999999998,
          1.4590909090909092,
          1.7222222222222223,
          1.5045454545454546,
          5.279999999999999,
          5.528571428571429,
          6.25,
          5.825,
          2.5272727272727273,
          1.7555555555555555,
          6.333333333333333,
          0.8636363636363636,
          2.7,
          6.625,
          5.825,
          3.05,
          4.2,
          2.2083333333333335,
          6.825,
          0.915,
          6.4799999999999995,
          3.7,
          5.68,
          1.0047619047619047,
          1.5368421052631578,
          2.3285714285714287,
          1.925,
          0.8555555555555556,
          1.0473684210526315,
          2.92,
          1.3583333333333334,
          1.0304347826086957,
          4.4399999999999995,
          0.6849999999999999,
          2.966666666666667,
          1.3444444444444443,
          4.64,
          2.6,
          4.4799999999999995,
          3.5833333333333335,
          1.0916666666666666,
          1.0411764705882351,
          3.575,
          3.3200000000000003,
          5.84,
          3.3666666666666667,
          3.08,
          3.96,
          0.9733333333333333,
          3.0500000000000003,
          1.9,
          3.814285714285714,
          1.5250000000000001,
          3.5200000000000005,
          5.5200000000000005,
          1.1176470588235294,
          1.9142857142857144,
          6,
          1.0333333333333334,
          1.425,
          1.3777777777777778,
          3.6799999999999997,
          0.8416666666666667,
          1.2869565217391306,
          1.4333333333333333,
          1.6800000000000002,
          0.5499999999999999,
          4.45,
          1.2666666666666666,
          2.2800000000000002,
          2.68,
          1.2,
          3,
          1.0636363636363635,
          1.8800000000000001,
          1.0571428571428572,
          0.5111111111111111,
          0.9,
          1.75,
          2.2399999999999998,
          1.44,
          0.7428571428571429,
          2.075,
          0.6375,
          3.108333333333333,
          2.453333333333333,
          6.840000000000001,
          2.176470588235294,
          1.5772727272727274,
          4.177777777777778,
          6.55,
          11,
          1.7083333333333333,
          6.383333333333333,
          6.3,
          3.85,
          3.66,
          1.5958333333333332,
          7.216666666666666,
          6.5,
          6.166666666666667,
          1.9388888888888889,
          10.625,
          7,
          8.120000000000001,
          3.3666666666666667,
          7.24,
          9.575,
          3.216666666666667,
          1.6363636363636365,
          2.975,
          3.3249999999999997,
          5.95,
          2.3461538461538463,
          2.6538461538461537,
          4.716666666666667,
          6.033333333333334,
          1.25,
          3.233333333333333,
          1.5863636363636362,
          1.723809523809524,
          2.308333333333333,
          7.4799999999999995,
          5.533333333333334,
          1.8944444444444446,
          2.772727272727273,
          4.866666666666666,
          8.25,
          6.7,
          1.5444444444444445,
          8.7,
          6.24,
          6.4,
          6.88,
          2.9615384615384617,
          1.6933333333333331,
          2.058333333333333,
          1.5391304347826087,
          5.45,
          5.466666666666666,
          6.12,
          2.1222222222222222,
          3.6166666666666667,
          5.383333333333333,
          1.6166666666666667,
          1.8923076923076925,
          6.283333333333334,
          2.2800000000000002,
          1.6333333333333333,
          2.066666666666667,
          2.308333333333333,
          2.183333333333333,
          4.95,
          6.125,
          4.4799999999999995,
          4.633333333333334,
          2.2083333333333335,
          4.88,
          2.269230769230769,
          3.6166666666666667,
          3.4799999999999995,
          6.16,
          3.6166666666666667,
          4.833333333333333,
          1.8166666666666667,
          1.411111111111111,
          1.1375,
          2.216666666666667,
          1.1043478260869564,
          3.3000000000000003,
          3.9200000000000004,
          2.1166666666666667,
          5.4799999999999995,
          1.4545454545454546,
          1.3055555555555556,
          3.25,
          1.5722222222222222,
          1.3647058823529412,
          1.6800000000000002,
          0.9249999999999999,
          7.075,
          4.5,
          3.3200000000000003,
          5.216666666666667,
          2.4,
          1.5333333333333332,
          2.6,
          2.3000000000000003,
          0.9272727272727272,
          0.9384615384615385,
          1.7,
          3.5833333333333335,
          1.0263157894736843,
          4.32,
          0.5375,
          3.3333333333333335,
          1.0999999999999999,
          1.375,
          2.16,
          0.5375,
          0.723529411764706,
          1.7111111111111112,
          3.1166666666666667,
          1.3333333333333333,
          4.32,
          1.0153846153846153,
          0.5944444444444444,
          3.44,
          3.04,
          1.6666666666666667,
          2.7600000000000002,
          2.3600000000000003,
          4.5200000000000005,
          0.7071428571428572,
          3.75,
          0.975,
          2.4166666666666665,
          0.7666666666666667,
          0.7555555555555555,
          1.75,
          1.6888888888888889,
          1.55,
          1.55,
          1.0454545454545454,
          0.4875,
          1.8,
          0.475,
          2.88,
          1.375,
          1.52,
          1
         ],
         "xbins": {
          "end": 38,
          "size": 1,
          "start": 0
         }
        }
       ],
       "layout": {
        "barmode": "overlay",
        "template": {
         "data": {
          "bar": [
           {
            "error_x": {
             "color": "#2a3f5f"
            },
            "error_y": {
             "color": "#2a3f5f"
            },
            "marker": {
             "line": {
              "color": "#E5ECF6",
              "width": 0.5
             },
             "pattern": {
              "fillmode": "overlay",
              "size": 10,
              "solidity": 0.2
             }
            },
            "type": "bar"
           }
          ],
          "barpolar": [
           {
            "marker": {
             "line": {
              "color": "#E5ECF6",
              "width": 0.5
             },
             "pattern": {
              "fillmode": "overlay",
              "size": 10,
              "solidity": 0.2
             }
            },
            "type": "barpolar"
           }
          ],
          "carpet": [
           {
            "aaxis": {
             "endlinecolor": "#2a3f5f",
             "gridcolor": "white",
             "linecolor": "white",
             "minorgridcolor": "white",
             "startlinecolor": "#2a3f5f"
            },
            "baxis": {
             "endlinecolor": "#2a3f5f",
             "gridcolor": "white",
             "linecolor": "white",
             "minorgridcolor": "white",
             "startlinecolor": "#2a3f5f"
            },
            "type": "carpet"
           }
          ],
          "choropleth": [
           {
            "colorbar": {
             "outlinewidth": 0,
             "ticks": ""
            },
            "type": "choropleth"
           }
          ],
          "contour": [
           {
            "colorbar": {
             "outlinewidth": 0,
             "ticks": ""
            },
            "colorscale": [
             [
              0,
              "#0d0887"
             ],
             [
              0.1111111111111111,
              "#46039f"
             ],
             [
              0.2222222222222222,
              "#7201a8"
             ],
             [
              0.3333333333333333,
              "#9c179e"
             ],
             [
              0.4444444444444444,
              "#bd3786"
             ],
             [
              0.5555555555555556,
              "#d8576b"
             ],
             [
              0.6666666666666666,
              "#ed7953"
             ],
             [
              0.7777777777777778,
              "#fb9f3a"
             ],
             [
              0.8888888888888888,
              "#fdca26"
             ],
             [
              1,
              "#f0f921"
             ]
            ],
            "type": "contour"
           }
          ],
          "contourcarpet": [
           {
            "colorbar": {
             "outlinewidth": 0,
             "ticks": ""
            },
            "type": "contourcarpet"
           }
          ],
          "heatmap": [
           {
            "colorbar": {
             "outlinewidth": 0,
             "ticks": ""
            },
            "colorscale": [
             [
              0,
              "#0d0887"
             ],
             [
              0.1111111111111111,
              "#46039f"
             ],
             [
              0.2222222222222222,
              "#7201a8"
             ],
             [
              0.3333333333333333,
              "#9c179e"
             ],
             [
              0.4444444444444444,
              "#bd3786"
             ],
             [
              0.5555555555555556,
              "#d8576b"
             ],
             [
              0.6666666666666666,
              "#ed7953"
             ],
             [
              0.7777777777777778,
              "#fb9f3a"
             ],
             [
              0.8888888888888888,
              "#fdca26"
             ],
             [
              1,
              "#f0f921"
             ]
            ],
            "type": "heatmap"
           }
          ],
          "heatmapgl": [
           {
            "colorbar": {
             "outlinewidth": 0,
             "ticks": ""
            },
            "colorscale": [
             [
              0,
              "#0d0887"
             ],
             [
              0.1111111111111111,
              "#46039f"
             ],
             [
              0.2222222222222222,
              "#7201a8"
             ],
             [
              0.3333333333333333,
              "#9c179e"
             ],
             [
              0.4444444444444444,
              "#bd3786"
             ],
             [
              0.5555555555555556,
              "#d8576b"
             ],
             [
              0.6666666666666666,
              "#ed7953"
             ],
             [
              0.7777777777777778,
              "#fb9f3a"
             ],
             [
              0.8888888888888888,
              "#fdca26"
             ],
             [
              1,
              "#f0f921"
             ]
            ],
            "type": "heatmapgl"
           }
          ],
          "histogram": [
           {
            "marker": {
             "pattern": {
              "fillmode": "overlay",
              "size": 10,
              "solidity": 0.2
             }
            },
            "type": "histogram"
           }
          ],
          "histogram2d": [
           {
            "colorbar": {
             "outlinewidth": 0,
             "ticks": ""
            },
            "colorscale": [
             [
              0,
              "#0d0887"
             ],
             [
              0.1111111111111111,
              "#46039f"
             ],
             [
              0.2222222222222222,
              "#7201a8"
             ],
             [
              0.3333333333333333,
              "#9c179e"
             ],
             [
              0.4444444444444444,
              "#bd3786"
             ],
             [
              0.5555555555555556,
              "#d8576b"
             ],
             [
              0.6666666666666666,
              "#ed7953"
             ],
             [
              0.7777777777777778,
              "#fb9f3a"
             ],
             [
              0.8888888888888888,
              "#fdca26"
             ],
             [
              1,
              "#f0f921"
             ]
            ],
            "type": "histogram2d"
           }
          ],
          "histogram2dcontour": [
           {
            "colorbar": {
             "outlinewidth": 0,
             "ticks": ""
            },
            "colorscale": [
             [
              0,
              "#0d0887"
             ],
             [
              0.1111111111111111,
              "#46039f"
             ],
             [
              0.2222222222222222,
              "#7201a8"
             ],
             [
              0.3333333333333333,
              "#9c179e"
             ],
             [
              0.4444444444444444,
              "#bd3786"
             ],
             [
              0.5555555555555556,
              "#d8576b"
             ],
             [
              0.6666666666666666,
              "#ed7953"
             ],
             [
              0.7777777777777778,
              "#fb9f3a"
             ],
             [
              0.8888888888888888,
              "#fdca26"
             ],
             [
              1,
              "#f0f921"
             ]
            ],
            "type": "histogram2dcontour"
           }
          ],
          "mesh3d": [
           {
            "colorbar": {
             "outlinewidth": 0,
             "ticks": ""
            },
            "type": "mesh3d"
           }
          ],
          "parcoords": [
           {
            "line": {
             "colorbar": {
              "outlinewidth": 0,
              "ticks": ""
             }
            },
            "type": "parcoords"
           }
          ],
          "pie": [
           {
            "automargin": true,
            "type": "pie"
           }
          ],
          "scatter": [
           {
            "fillpattern": {
             "fillmode": "overlay",
             "size": 10,
             "solidity": 0.2
            },
            "type": "scatter"
           }
          ],
          "scatter3d": [
           {
            "line": {
             "colorbar": {
              "outlinewidth": 0,
              "ticks": ""
             }
            },
            "marker": {
             "colorbar": {
              "outlinewidth": 0,
              "ticks": ""
             }
            },
            "type": "scatter3d"
           }
          ],
          "scattercarpet": [
           {
            "marker": {
             "colorbar": {
              "outlinewidth": 0,
              "ticks": ""
             }
            },
            "type": "scattercarpet"
           }
          ],
          "scattergeo": [
           {
            "marker": {
             "colorbar": {
              "outlinewidth": 0,
              "ticks": ""
             }
            },
            "type": "scattergeo"
           }
          ],
          "scattergl": [
           {
            "marker": {
             "colorbar": {
              "outlinewidth": 0,
              "ticks": ""
             }
            },
            "type": "scattergl"
           }
          ],
          "scattermapbox": [
           {
            "marker": {
             "colorbar": {
              "outlinewidth": 0,
              "ticks": ""
             }
            },
            "type": "scattermapbox"
           }
          ],
          "scatterpolar": [
           {
            "marker": {
             "colorbar": {
              "outlinewidth": 0,
              "ticks": ""
             }
            },
            "type": "scatterpolar"
           }
          ],
          "scatterpolargl": [
           {
            "marker": {
             "colorbar": {
              "outlinewidth": 0,
              "ticks": ""
             }
            },
            "type": "scatterpolargl"
           }
          ],
          "scatterternary": [
           {
            "marker": {
             "colorbar": {
              "outlinewidth": 0,
              "ticks": ""
             }
            },
            "type": "scatterternary"
           }
          ],
          "surface": [
           {
            "colorbar": {
             "outlinewidth": 0,
             "ticks": ""
            },
            "colorscale": [
             [
              0,
              "#0d0887"
             ],
             [
              0.1111111111111111,
              "#46039f"
             ],
             [
              0.2222222222222222,
              "#7201a8"
             ],
             [
              0.3333333333333333,
              "#9c179e"
             ],
             [
              0.4444444444444444,
              "#bd3786"
             ],
             [
              0.5555555555555556,
              "#d8576b"
             ],
             [
              0.6666666666666666,
              "#ed7953"
             ],
             [
              0.7777777777777778,
              "#fb9f3a"
             ],
             [
              0.8888888888888888,
              "#fdca26"
             ],
             [
              1,
              "#f0f921"
             ]
            ],
            "type": "surface"
           }
          ],
          "table": [
           {
            "cells": {
             "fill": {
              "color": "#EBF0F8"
             },
             "line": {
              "color": "white"
             }
            },
            "header": {
             "fill": {
              "color": "#C8D4E3"
             },
             "line": {
              "color": "white"
             }
            },
            "type": "table"
           }
          ]
         },
         "layout": {
          "annotationdefaults": {
           "arrowcolor": "#2a3f5f",
           "arrowhead": 0,
           "arrowwidth": 1
          },
          "autotypenumbers": "strict",
          "coloraxis": {
           "colorbar": {
            "outlinewidth": 0,
            "ticks": ""
           }
          },
          "colorscale": {
           "diverging": [
            [
             0,
             "#8e0152"
            ],
            [
             0.1,
             "#c51b7d"
            ],
            [
             0.2,
             "#de77ae"
            ],
            [
             0.3,
             "#f1b6da"
            ],
            [
             0.4,
             "#fde0ef"
            ],
            [
             0.5,
             "#f7f7f7"
            ],
            [
             0.6,
             "#e6f5d0"
            ],
            [
             0.7,
             "#b8e186"
            ],
            [
             0.8,
             "#7fbc41"
            ],
            [
             0.9,
             "#4d9221"
            ],
            [
             1,
             "#276419"
            ]
           ],
           "sequential": [
            [
             0,
             "#0d0887"
            ],
            [
             0.1111111111111111,
             "#46039f"
            ],
            [
             0.2222222222222222,
             "#7201a8"
            ],
            [
             0.3333333333333333,
             "#9c179e"
            ],
            [
             0.4444444444444444,
             "#bd3786"
            ],
            [
             0.5555555555555556,
             "#d8576b"
            ],
            [
             0.6666666666666666,
             "#ed7953"
            ],
            [
             0.7777777777777778,
             "#fb9f3a"
            ],
            [
             0.8888888888888888,
             "#fdca26"
            ],
            [
             1,
             "#f0f921"
            ]
           ],
           "sequentialminus": [
            [
             0,
             "#0d0887"
            ],
            [
             0.1111111111111111,
             "#46039f"
            ],
            [
             0.2222222222222222,
             "#7201a8"
            ],
            [
             0.3333333333333333,
             "#9c179e"
            ],
            [
             0.4444444444444444,
             "#bd3786"
            ],
            [
             0.5555555555555556,
             "#d8576b"
            ],
            [
             0.6666666666666666,
             "#ed7953"
            ],
            [
             0.7777777777777778,
             "#fb9f3a"
            ],
            [
             0.8888888888888888,
             "#fdca26"
            ],
            [
             1,
             "#f0f921"
            ]
           ]
          },
          "colorway": [
           "#636efa",
           "#EF553B",
           "#00cc96",
           "#ab63fa",
           "#FFA15A",
           "#19d3f3",
           "#FF6692",
           "#B6E880",
           "#FF97FF",
           "#FECB52"
          ],
          "font": {
           "color": "#2a3f5f"
          },
          "geo": {
           "bgcolor": "white",
           "lakecolor": "white",
           "landcolor": "#E5ECF6",
           "showlakes": true,
           "showland": true,
           "subunitcolor": "white"
          },
          "hoverlabel": {
           "align": "left"
          },
          "hovermode": "closest",
          "mapbox": {
           "style": "light"
          },
          "paper_bgcolor": "white",
          "plot_bgcolor": "#E5ECF6",
          "polar": {
           "angularaxis": {
            "gridcolor": "white",
            "linecolor": "white",
            "ticks": ""
           },
           "bgcolor": "#E5ECF6",
           "radialaxis": {
            "gridcolor": "white",
            "linecolor": "white",
            "ticks": ""
           }
          },
          "scene": {
           "xaxis": {
            "backgroundcolor": "#E5ECF6",
            "gridcolor": "white",
            "gridwidth": 2,
            "linecolor": "white",
            "showbackground": true,
            "ticks": "",
            "zerolinecolor": "white"
           },
           "yaxis": {
            "backgroundcolor": "#E5ECF6",
            "gridcolor": "white",
            "gridwidth": 2,
            "linecolor": "white",
            "showbackground": true,
            "ticks": "",
            "zerolinecolor": "white"
           },
           "zaxis": {
            "backgroundcolor": "#E5ECF6",
            "gridcolor": "white",
            "gridwidth": 2,
            "linecolor": "white",
            "showbackground": true,
            "ticks": "",
            "zerolinecolor": "white"
           }
          },
          "shapedefaults": {
           "line": {
            "color": "#2a3f5f"
           }
          },
          "ternary": {
           "aaxis": {
            "gridcolor": "white",
            "linecolor": "white",
            "ticks": ""
           },
           "baxis": {
            "gridcolor": "white",
            "linecolor": "white",
            "ticks": ""
           },
           "bgcolor": "#E5ECF6",
           "caxis": {
            "gridcolor": "white",
            "linecolor": "white",
            "ticks": ""
           }
          },
          "title": {
           "x": 0.05
          },
          "xaxis": {
           "automargin": true,
           "gridcolor": "white",
           "linecolor": "white",
           "ticks": "",
           "title": {
            "standoff": 15
           },
           "zerolinecolor": "white",
           "zerolinewidth": 2
          },
          "yaxis": {
           "automargin": true,
           "gridcolor": "white",
           "linecolor": "white",
           "ticks": "",
           "title": {
            "standoff": 15
           },
           "zerolinecolor": "white",
           "zerolinewidth": 2
          }
         }
        }
       }
      },
      "text/html": [
       "<div>                            <div id=\"296f01ad-c732-4fd0-9bf5-8cfcb2cc91f0\" class=\"plotly-graph-div\" style=\"height:525px; width:100%;\"></div>            <script type=\"text/javascript\">                require([\"plotly\"], function(Plotly) {                    window.PLOTLYENV=window.PLOTLYENV || {};                                    if (document.getElementById(\"296f01ad-c732-4fd0-9bf5-8cfcb2cc91f0\")) {                    Plotly.newPlot(                        \"296f01ad-c732-4fd0-9bf5-8cfcb2cc91f0\",                        [{\"histnorm\":\"percent\",\"name\":\"RS\",\"x\":[0.5522388059701493,0.47530864197530864,0.4948717948717949,0.4986842105263158,0.491025641025641,0.42560975609756097,0.4897435897435898,0.5028985507246377,0.5094594594594595,0.4108108108108108,0.4573170731707317,0.4707317073170732,0.4666666666666667,0.43376623376623374,0.46582278481012657,0.4773333333333333,0.4475609756097561,0.41875,0.40625,0.42435897435897435,0.42560975609756097,0.4807692307692308,0.4525,0.46447368421052626,0.47594936708860763,0.5027027027027028,0.4575342465753425,0.4066666666666667,0.47105263157894733,0.47714285714285715,0.4712328767123288,0.4486486486486487,0.4365853658536585,0.3855263157894737,0.516,0.5097222222222223,0.4075949367088608,0.45774647887323944,0.3814814814814815,0.4098765432098766,0.4776315789473684,0.45131578947368417,0.4329268292682927,0.45526315789473687,0.43506493506493504,0.43125,0.41125,0.38974358974358975,0.5273972602739726,0.45394736842105265,0.40555555555555556,0.391025641025641,0.4375,0.35974025974025975,0.34050632911392403,0.441025641025641,0.31851851851851853,0.3926829268292683,0.4304878048780487,0.42,0.38875000000000004,0.3780821917808219,0.3097560975609756,0.4311688311688312,0.43375,0.3759493670886076,0.3432098765432099,0.32439024390243903,0.3625,0.3333333333333333,0.44933333333333336,0.2975609756097561,0.3617283950617284,0.31538461538461543,0.3632911392405063,0.38170731707317074,0.34857142857142853,0.35125,0.3763157894736842,0.36829268292682926,0.3802631578947368,0.3170731707317073,0.4054794520547945,0.3121621621621622,0.2773333333333333,0.33170731707317075,0.41216216216216217,0.3265822784810127,0.34810126582278483,0.34024390243902436,0.28641975308641976,0.3341463414634146,0.34375,0.3453333333333333,0.308974358974359,0.39146341463414636,0.352112676056338,0.30493827160493825,0.23170731707317074,0.32125,0.3780487804878049,0.36585365853658536,0.27599999999999997,0.34050632911392403,0.35432098765432096,0.3845070422535211,0.3291139240506329,0.35342465753424657,0.3195121951219512,0.3012987012987013,0.28289473684210525,0.3135802469135802,0.28607594936708863,0.2759493670886076,0.22911392405063294,0.3333333333333333,0.33797468354430377,0.39473684210526316,0.29878048780487804,0.37435897435897436,0.34146341463414637,0.31375000000000003,0.27625,0.34074074074074073,0.34935064935064936,0.3103896103896104,0.3170731707317073,0.26842105263157895,0.2088607594936709,0.34210526315789475,0.27317073170731704,0.2765432098765432,0.2730769230769231,0.34285714285714286,0.2730769230769231,0.3192307692307692,0.29866666666666664,0.22266666666666665,0.2571428571428572,0.24814814814814817,0.3395061728395062,0.2549295774647887,0.35789473684210527,0.32465753424657534,0.22,0.29444444444444445,0.21794871794871795,0.20864197530864195,0.34444444444444444,0.2375,0.2506172839506173,0.34444444444444444,0.3063291139240506,0.2328767123287671,0.22916666666666666,0.2545454545454546,0.3539473684210526,0.22714285714285715,0.304,0.26708860759493674,0.24874999999999997,0.17123287671232876,0.20285714285714285,0.24074074074074073,0.2217948717948718,0.20625,0.34125,0.21571428571428572,0.21184210526315791,0.3075,0.22763157894736843,0.3217948717948718,0.25675675675675674,0.16712328767123286,0.20921052631578949,0.24024390243902438,0.252,0.17777777777777778,0.20769230769230768,0.16666666666666666,0.16962025316455698,0.22027027027027027,0.18461538461538463,0.47530864197530864,0.5025974025974026,0.48961038961038966,0.4714285714285714,0.5205479452054794,0.44749999999999995,0.46794871794871795,0.5246376811594203,0.4563380281690141,0.4835443037974684,0.4794520547945205,0.4525,0.41125,0.495774647887324,0.5253731343283583,0.4365853658536585,0.4819444444444445,0.4618421052631579,0.4753424657534247,0.44268292682926824,0.5645161290322581,0.47058823529411764,0.44999999999999996,0.4391304347826087,0.437037037037037,0.4746478873239437,0.4794520547945205,0.4811594202898551,0.4527027027027027,0.4582278481012659,0.43544303797468353,0.46249999999999997,0.4421875,0.4904109589041096,0.5774193548387097,0.4329113924050633,0.5233333333333333,0.4589041095890411,0.4753424657534247,0.41707317073170735,0.43235294117647055,0.4928571428571429,0.5081081081081081,0.4075949367088608,0.461038961038961,0.41341463414634144,0.4050632911392405,0.4727272727272727,0.5571428571428572,0.4228571428571429,0.3463414634146341,0.4126582278481013,0.4311688311688312,0.42625,0.5015625,0.39999999999999997,0.40617283950617283,0.39459459459459456,0.515,0.4967213114754098,0.5661016949152542,0.44189189189189193,0.39166666666666666,0.4597402597402597,0.503125,0.4155844155844156,0.38625,0.37407407407407406,0.36025641025641025,0.36575342465753424,0.4525641025641025,0.38875000000000004,0.32839506172839505,0.37105263157894736,0.33999999999999997,0.5016129032258064,0.3987654320987654,0.37333333333333335,0.41369863013698627,0.372972972972973,0.4049382716049382,0.3790123456790123,0.38625,0.5776119402985075,0.3845070422535211,0.35625,0.43902439024390244,0.3402777777777778,0.35,0.4409090909090909,0.4614285714285714,0.44125,0.4070422535211267,0.33375,0.33529411764705885,0.3975308641975309,0.3216867469879518,0.3592105263157895,0.36585365853658536,0.47058823529411764,0.47746478873239434,0.30123456790123454,0.3476923076923077,0.3898550724637681,0.3853658536585366,0.3765432098765432,0.32375,0.315,0.38414634146341464,0.34814814814814815,0.30410958904109586,0.37857142857142856,0.33658536585365856,0.3439024390243902,0.4397260273972603,0.3878048780487805,0.2839506172839506,0.3296296296296296,0.36666666666666664,0.4268292682926829,0.40166666666666667,0.4171052631578947,0.37402597402597404,0.42105263157894735,0.2333333333333333,0.2851851851851852,0.32926829268292684,0.36124999999999996,0.4365079365079365,0.40821917808219177,0.3361111111111111,0.33513513513513515,0.35512820512820514,0.2682926829268293,0.47692307692307695,0.2888888888888889,0.31645569620253167,0.363013698630137,0.2848101265822785,0.23125,0.3475609756097561,0.3926829268292683,0.3525,0.3628205128205128,0.3588235294117647,0.3222222222222222,0.2634146341463415,0.3790123456790123,0.5142857142857142,0.32499999999999996,0.38484848484848483,0.3972602739726027,0.3573529411764706,0.31645569620253167,0.3206896551724138,0.3594936708860759,0.30000000000000004,0.325609756097561,0.2857142857142857,0.26944444444444443,0.3630769230769231,0.25256410256410255,0.38846153846153847,0.42615384615384616,0.2605263157894737,0.28840579710144926,0.2473684210526316,0.23544303797468355,0.34210526315789475,0.3644067796610169,0.3075,0.2987179487179487,0.376271186440678,0.2811594202898551,0.20853658536585368,0.2794520547945205,0.26,0.305,0.3940298507462686,0.291025641025641,0.3903225806451613,0.3896551724137931,0.32,0.29878048780487804,0.25365853658536586,0.3162162162162162,0.2549295774647887,0.30000000000000004,0.3194805194805195,0.2833333333333333,0.3581081081081081,0.26944444444444443,0.2525,0.3,0.1569620253164557,0.30000000000000004,0.21125,0.19999999999999998,0.2417721518987342,0.2493827160493827,0.4262295081967213,0.2670731707317073,0.24927536231884057,0.3171875,0.2772727272727273,0.2582089552238806,0.20298507462686566,0.29350649350649355,0.21097560975609758,0.3368421052631579,0.2514705882352941,0.2475,0.2657534246575342,0.2026315789473684,0.21428571428571427,0.24126984126984125,0.24915254237288134,0.24838709677419354,0.26825396825396824,0.25846153846153846,0.21728395061728398,0.2833333333333333,0.42068965517241375,0.20294117647058824,0.21323529411764705,0.3065573770491803,0.2323943661971831,0.29137931034482756,0.2390625,0.17857142857142858,0.22666666666666666,0.24583333333333332,0.25384615384615383,0.20641025641025643,0.2077922077922078,0.26999999999999996,0.18125,0.20617283950617282,0.2753424657534247,0.24153846153846154,0.16666666666666666,0.29393939393939394,0.2057142857142857,0.21038961038961038,0.2453125,0.2084507042253521,0.19838709677419356,0.31451612903225806,0.1780821917808219,0.20344827586206898,0.18271604938271604,0.18524590163934426,0.18051948051948052,0.20133333333333334,0.21428571428571427,0.12950819672131147,0.2016393442622951,0.11333333333333333,0.0875,0.5134328358208955,0.45432098765432094,0.5231884057971015,0.5308823529411765,0.5779661016949152,0.40875000000000006,0.49859154929577465,0.5253731343283583,0.48533333333333334,0.41428571428571426,0.5129032258064516,0.5205882352941176,0.43536585365853664,0.5833333333333334,0.5953846153846154,0.4621621621621622,0.4526315789473684,0.424390243902439,0.42125,0.441025641025641,0.49583333333333335,0.4928571428571429,0.4544303797468354,0.4098765432098766,0.5516129032258065,0.38441558441558443,0.40555555555555556,0.5117647058823529,0.42716049382716054,0.5126984126984127,0.4414634146341464,0.4479452054794521,0.4707692307692308,0.4316455696202532,0.496875,0.3850746268656717,0.4506666666666666,0.39615384615384613,0.4333333333333333,0.45774647887323944,0.41621621621621624,0.5616666666666668,0.4178082191780822,0.4492753623188406,0.4542857142857143,0.415625,0.5015151515151516,0.315,0.38,0.38414634146341464,0.5301587301587302,0.47333333333333333,0.40131578947368424,0.40384615384615385,0.49393939393939396,0.38311688311688313,0.43624999999999997,0.42205882352941176,0.5171875,0.42794117647058827,0.42105263157894735,0.4666666666666667,0.4064102564102564,0.4090909090909091,0.3753246753246753,0.3719512195121951,0.45081967213114754,0.3985714285714286,0.3757142857142857,0.5426229508196722,0.38101265822784813,0.46551724137931033,0.4115384615384616,0.45735294117647063,0.3960526315789474,0.43536585365853664,0.38414634146341464,0.3876543209876543,0.37183098591549296,0.4471428571428572,0.3706666666666667,0.4101694915254237,0.3337349397590361,0.3646341463414634,0.42933333333333334,0.3975609756097561,0.36124999999999996,0.42428571428571427,0.4042253521126761,0.3275,0.4931034482758621,0.38285714285714284,0.35,0.2635135135135135,0.423728813559322,0.35890410958904106,0.3352112676056338,0.34500000000000003,0.35185185185185186,0.3987341772151899,0.4348484848484848,0.2804878048780488,0.4195121951219512,0.3913793103448276,0.3576271186440678,0.34285714285714286,0.32625000000000004,0.33661971830985915,0.34864864864864864,0.4066666666666666,0.3776119402985075,0.3297297297297297,0.2865853658536585,0.3328947368421053,0.3242857142857143,0.3111111111111111,0.20921052631578949,0.4403225806451613,0.4066666666666667,0.3484375,0.37,0.24634146341463414,0.2573170731707317,0.3207792207792208,0.3974025974025974,0.3451219512195122,0.39342105263157895,0.39692307692307693,0.2558441558441558,0.4106666666666667,0.3881578947368421,0.42686567164179107,0.31097560975609756,0.410958904109589,0.31234567901234567,0.4711864406779661,0.33658536585365856,0.2926829268292683,0.29634146341463413,0.46349206349206346,0.25308641975308643,0.47183098591549294,0.352,0.36129032258064514,0.3923076923076923,0.30512820512820515,0.43676470588235294,0.37073170731707317,0.35365853658536583,0.3149253731343284,0.352112676056338,0.2921052631578947,0.2597560975609756,0.30246913580246915,0.2554054054054054,0.41587301587301584,0.32682926829268294,0.3207317073170732,0.26756756756756755,0.2949367088607595,0.353968253968254,0.32465753424657534,0.42295081967213116,0.26301369863013696,0.40161290322580645,0.2658536585365854,0.32839506172839505,0.328125,0.28,0.35161290322580646,0.34935064935064936,0.40298507462686567,0.2426470588235294,0.2896103896103896,0.268,0.36142857142857143,0.24512195121951222,0.2392405063291139,0.3253333333333333,0.3870967741935484,0.26438356164383564,0.22987012987012986,0.41551724137931034,0.33461538461538465,0.31029411764705883,0.31891891891891894,0.34342105263157896,0.33199999999999996,0.25733333333333336,0.45671641791044776,0.33055555555555555,0.24285714285714285,0.25063291139240507,0.31866666666666665,0.3870967741935484,0.22575757575757577,0.27662337662337666,0.27313432835820894,0.2710526315789474,0.2870967741935484,0.29310344827586204,0.2532258064516129,0.2865671641791045,0.23164556962025318,0.2569444444444444,0.29310344827586204,0.22857142857142856,0.19746835443037974,0.20735294117647057,0.24868421052631576,0.3261538461538461,0.3522388059701493,0.165625,0.290625,0.3188405797101449,0.3223684210526316,0.3037037037037037,0.27222222222222225,0.30158730158730157,0.26216216216216215,0.2725,0.21866666666666665,0.24102564102564103,0.26666666666666666,0.2779411764705882,0.22702702702702704,0.23972602739726026,0.25,0.3696969696969697,0.2619047619047619,0.25,0.26229508196721313,0.2746031746031746,0.315,0.20675675675675675,0.236,0.2049382716049383,0.3787878787878788,0.27419354838709675,0.2683544303797468,0.2698412698412698,0.2707317073170732,0.3074626865671642,0.303125,0.22647058823529412,0.25223880597014925,0.20793650793650792,0.19135802469135801,0.21095890410958903,0.3081967213114754,0.2333333333333333,0.188135593220339,0.25806451612903225,0.2482758620689655,0.253030303030303,0.2671641791044776,0.2095238095238095,0.22465753424657534,0.16486486486486485,0.18387096774193548,0.18055555555555555,0.2423728813559322,0.19324324324324324,0.24852941176470586,0.2865671641791045,0.2360655737704918,0.17971014492753623,0.4329113924050633,0.46463414634146344,0.4972222222222222,0.5323076923076924,0.46842105263157896,0.47600000000000003,0.5819672131147541,0.43,0.46025641025641023,0.4296296296296296,0.3926829268292683,0.41624999999999995,0.48750000000000004,0.4805194805194805,0.45972222222222225,0.5507462686567164,0.4395061728395062,0.43499999999999994,0.43333333333333335,0.4616438356164384,0.4701298701298702,0.4525,0.44189189189189193,0.41216216216216217,0.3886075949367089,0.3902439024390244,0.42,0.4815384615384615,0.4569620253164557,0.4135135135135135,0.42727272727272725,0.4857142857142857,0.40370370370370373,0.4606060606060606,0.44125,0.4338461538461538,0.44166666666666665,0.5161290322580645,0.4818181818181818,0.37333333333333335,0.40617283950617283,0.4090909090909091,0.4583333333333333,0.36075949367088606,0.40886075949367084,0.41139240506329117,0.4253731343283582,0.3708860759493671,0.43529411764705883,0.39146341463414636,0.4394736842105263,0.4520547945205479,0.5,0.4355263157894737,0.4075949367088608,0.4828947368421053,0.35,0.39444444444444443,0.3986301369863014,0.4328767123287671,0.34050632911392403,0.4555555555555555,0.44625000000000004,0.49846153846153846,0.4171052631578947,0.34146341463414637,0.40540540540540543,0.4283950617283951,0.4172839506172839,0.3644736842105263,0.45211267605633804,0.48360655737704916,0.4013333333333334,0.3525,0.44705882352941173,0.42388059701492536,0.4704225352112676,0.43333333333333335,0.4376623376623377,0.25609756097560976,0.43580246913580245,0.37792207792207794,0.4115384615384616,0.43461538461538457,0.3776119402985075,0.39870129870129867,0.4378378378378378,0.4223684210526316,0.41234567901234565,0.26962025316455696,0.4608108108108108,0.3984375,0.48888888888888893,0.3819444444444444,0.3942028985507246,0.37727272727272726,0.3578125,0.3525,0.46818181818181814,0.3371794871794872,0.3567901234567901,0.3706666666666667,0.404,0.34814814814814815,0.33924050632911396,0.4373134328358209,0.25375000000000003,0.33116883116883117,0.30405405405405406,0.4027397260273972,0.3328125,0.345679012345679,0.25,0.34324324324324323,0.38,0.291358024691358,0.36885245901639346,0.32098765432098764,0.3304878048780488,0.361764705882353,0.3475609756097561,0.3304878048780488,0.40263157894736845,0.37894736842105264,0.2927536231884058,0.27125,0.2475609756097561,0.3273972602739726,0.4042253521126761,0.36363636363636365,0.35384615384615387,0.34805194805194806,0.2983606557377049,0.37341772151898733,0.33793103448275863,0.34249999999999997,0.2839506172839506,0.22374999999999998,0.36056338028169016,0.375,0.3064102564102564,0.44754098360655736,0.3097560975609756,0.519672131147541,0.2987179487179487,0.327536231884058,0.3793103448275862,0.32686567164179103,0.28356164383561644,0.28181818181818186,0.33287671232876714,0.28289473684210525,0.33934426229508197,0.27638888888888885,0.363013698630137,0.4131147540983606,0.34736842105263155,0.25308641975308643,0.2791044776119403,0.32,0.33972602739726027,0.3590163934426229,0.3953125,0.28840579710144926,0.3779661016949153,0.3164383561643836,0.3780487804878049,0.315,0.2983050847457627,0.3197530864197531,0.33780487804878045,0.31176470588235294,0.2802631578947368,0.3024390243902439,0.3125,0.3902777777777778,0.3064516129032258,0.31,0.36271186440677966,0.3236842105263158,0.26049382716049385,0.23717948717948717,0.28860759493670884,0.305,0.28717948717948716,0.3303797468354431,0.24878048780487802,0.20394736842105263,0.3075757575757576,0.3712121212121212,0.23333333333333336,0.1611111111111111,0.23076923076923078,0.24805194805194808,0.2870967741935484,0.40923076923076923,0.3242424242424242,0.35409836065573774,0.3240506329113924,0.26,0.24358974358974358,0.28,0.25679012345679014,0.3666666666666667,0.312,0.23974358974358972,0.2394736842105263,0.2338235294117647,0.1876543209876543,0.25,0.22894736842105262,0.3015151515151515,0.20400000000000001,0.2661764705882353,0.21625,0.24444444444444446,0.2442857142857143,0.19666666666666668,0.22658227848101264,0.3075,0.24745762711864405,0.28641975308641976,0.22839506172839505,0.24305555555555555,0.2620253164556962,0.25483870967741934,0.2506172839506173,0.20869565217391306,0.3242424242424242,0.21842105263157896,0.19999999999999998,0.24189189189189186,0.3190476190476191,0.2682926829268293,0.22166666666666668,0.25569620253164554,0.2957142857142857,0.31451612903225806,0.25833333333333336,0.3171875,0.25084745762711863,0.23442622950819672,0.17258064516129032,0.2983333333333333,0.21780821917808219,0.24426229508196723,0.3171428571428571,0.18153846153846154,0.20512820512820512,0.3068493150684931,0.21034482758620687,0.29310344827586204,0.1935897435897436,0.18169014084507043,0.20416666666666666,0.18888888888888888,0.24915254237288134,0.21363636363636362,0.25441176470588234,0.16984126984126982,0.1935897435897436,0.13333333333333333,0.21176470588235294,0.15666666666666668,0.2042857142857143,0.22666666666666666,0.19696969696969696,0.17428571428571427,0.24675324675324675,0.23559322033898306,0.2,0.42716049382716054,0.4493827160493827,0.4447368421052631,0.48133333333333334,0.4783783783783784,0.47866666666666663,0.47500000000000003,0.5108108108108108,0.45135135135135135,0.42278481012658226,0.48750000000000004,0.45121951219512196,0.5387096774193548,0.4868421052631579,0.47866666666666663,0.45365853658536587,0.43924050632911393,0.4666666666666667,0.45324675324675323,0.4375,0.445,0.4635135135135135,0.6233333333333333,0.4358974358974359,0.44871794871794873,0.4726027397260274,0.5573770491803278,0.5,0.39466666666666667,0.4811594202898551,0.4616438356164384,0.4621621621621622,0.44936708860759494,0.5233333333333333,0.4983333333333333,0.5380952380952381,0.49696969696969695,0.5163934426229508,0.4927536231884058,0.5078125,0.3987341772151899,0.3037037037037037,0.44999999999999996,0.4838235294117647,0.4233766233766234,0.3821917808219178,0.41333333333333333,0.38170731707317074,0.49552238805970156,0.4352112676056338,0.45555555555555555,0.48805970149253736,0.39512195121951216,0.44155844155844154,0.36153846153846153,0.3886075949367089,0.35609756097560974,0.384,0.3876543209876543,0.34556962025316457,0.4696969696969697,0.29583333333333334,0.3356164383561644,0.4185185185185185,0.475,0.41139240506329117,0.4105263157894737,0.44999999999999996,0.4381578947368421,0.3172839506172839,0.40821917808219177,0.47333333333333333,0.36666666666666664,0.4083333333333333,0.40135135135135136,0.4684931506849315,0.40750000000000003,0.4455882352941177,0.43166666666666664,0.3891891891891892,0.3585714285714286,0.3182926829268293,0.47164179104477616,0.32469135802469135,0.36052631578947364,0.4142857142857143,0.35853658536585364,0.35875,0.391358024691358,0.4576271186440678,0.36769230769230765,0.396875,0.3207317073170732,0.37567567567567567,0.3225,0.2777777777777778,0.43375,0.34800000000000003,0.37374999999999997,0.3973684210526316,0.43866666666666665,0.3217948717948718,0.4081081081081081,0.3684931506849315,0.4046875,0.3269230769230769,0.41428571428571426,0.3804878048780488,0.3078947368421052,0.36075949367088606,0.34285714285714286,0.3848101265822785,0.2804878048780488,0.32432432432432434,0.3903225806451613,0.3271604938271605,0.345679012345679,0.4483870967741936,0.3453333333333333,0.352,0.4276315789473684,0.3292307692307692,0.39999999999999997,0.39104477611940297,0.3753246753246753,0.34788732394366195,0.39512195121951216,0.2487179487179487,0.2621951219512195,0.363768115942029,0.2967741935483871,0.3475409836065574,0.3410958904109589,0.4582089552238806,0.27375,0.34249999999999997,0.36455696202531646,0.2975308641975309,0.3125,0.3217391304347826,0.3222222222222222,0.2597560975609756,0.35802469135802467,0.3025641025641026,0.364,0.2554054054054054,0.2671641791044776,0.31551724137931036,0.38028169014084506,0.2733333333333333,0.3923076923076923,0.34545454545454546,0.35454545454545455,0.36250000000000004,0.47704918032786886,0.19146341463414634,0.28974358974358977,0.365,0.36486486486486486,0.4245901639344262,0.23684210526315788,0.26417910447761195,0.25555555555555554,0.252,0.3163934426229508,0.21363636363636362,0.3833333333333333,0.33835616438356164,0.26363636363636367,0.27297297297297296,0.25256410256410255,0.3869565217391304,0.32794117647058824,0.40923076923076923,0.24390243902439024,0.34342105263157896,0.3460526315789474,0.27101449275362316,0.3355263157894737,0.3082191780821918,0.38305084745762713,0.3911764705882353,0.23670886075949366,0.30163934426229505,0.41451612903225804,0.36153846153846153,0.3634920634920635,0.2740740740740741,0.32432432432432434,0.21866666666666665,0.34923076923076923,0.2926829268292683,0.37124999999999997,0.2875,0.32469135802469135,0.37846153846153846,0.19220779220779222,0.24375,0.3328125,0.33448275862068966,0.26625,0.2569230769230769,0.3671875,0.2246753246753247,0.34074074074074073,0.28169014084507044,0.38101265822784813,0.2205128205128205,0.3787878787878788,0.23896103896103893,0.25125000000000003,0.24927536231884057,0.23142857142857143,0.3230769230769231,0.2569620253164557,0.19746835443037974,0.21492537313432836,0.21911764705882353,0.28181818181818186,0.25285714285714284,0.28153846153846157,0.2295774647887324,0.22820512820512823,0.12467532467532468,0.2585714285714286,0.3,0.27875,0.22794117647058823,0.27283950617283953,0.24814814814814817,0.2847222222222222,0.25873015873015875,0.24328358208955225,0.28135593220338984,0.1945945945945946,0.2582278481012658,0.2310810810810811,0.23875000000000002,0.22297297297297297,0.2,0.23424657534246576,0.20422535211267606,0.26956521739130435,0.23289473684210527,0.23026315789473684,0.2123076923076923,0.21935483870967742,0.2276923076923077,0.20666666666666667,0.2393939393939394,0.23088235294117646,0.18529411764705883,0.2410958904109589,0.26290322580645165,0.1902439024390244,0.18059701492537314,0.2310810810810811,0.2311688311688312,0.2506172839506173,0.24864864864864863,0.21267605633802816,0.20256410256410257,0.21923076923076926,0.215,0.19722222222222222,0.16986301369863013,0.23442622950819672,0.2375,0.17500000000000002,0.20161290322580644,0.13870967741935483,0.49166666666666664,0.48533333333333334,0.44999999999999996,0.5013698630136987,0.4893333333333334,0.5029411764705882,0.45499999999999996,0.5366666666666667,0.44666666666666666,0.4533333333333333,0.42374999999999996,0.48095238095238096,0.44268292682926824,0.41518987341772146,0.6220338983050848,0.42750000000000005,0.46329113924050636,0.445679012345679,0.43414634146341463,0.42278481012658226,0.44390243902439025,0.4698630136986301,0.5076923076923077,0.4626865671641791,0.445679012345679,0.4441558441558442,0.4175,0.4346666666666667,0.45217391304347826,0.4243243243243243,0.44268292682926824,0.4745762711864407,0.5134328358208955,0.42266666666666663,0.4520547945205479,0.43142857142857144,0.391358024691358,0.3753086419753086,0.41282051282051285,0.4115384615384616,0.325609756097561,0.40519480519480516,0.5677966101694916,0.4160493827160494,0.408641975308642,0.43676470588235294,0.43043478260869567,0.5524590163934426,0.43205128205128207,0.4103896103896104,0.4483333333333333,0.3794871794871795,0.43857142857142856,0.4338983050847458,0.3341772151898734,0.385,0.4714285714285714,0.36585365853658536,0.36338028169014086,0.4260869565217391,0.4161764705882353,0.38125,0.4302631578947369,0.2876543209876543,0.3716216216216216,0.31625000000000003,0.4095890410958904,0.4486486486486487,0.3082191780821918,0.39066666666666666,0.3013513513513514,0.32987012987012987,0.38051948051948054,0.3162162162162162,0.3075,0.4098765432098766,0.4388888888888889,0.4230769230769231,0.3835616438356164,0.4338461538461538,0.5365079365079365,0.2909090909090909,0.45555555555555555,0.3618421052631579,0.395,0.36,0.38414634146341464,0.42318840579710143,0.36363636363636365,0.40487804878048783,0.4375,0.30375,0.3704225352112676,0.4090909090909091,0.3207792207792208,0.39999999999999997,0.4125,0.3975308641975309,0.3395061728395062,0.3576923076923077,0.3958333333333333,0.5059701492537313,0.3310810810810811,0.336231884057971,0.484375,0.38082191780821917,0.3698630136986301,0.3078947368421052,0.38414634146341464,0.3417910447761194,0.44999999999999996,0.32375,0.34415584415584416,0.2936708860759494,0.4671428571428572,0.2236842105263158,0.35,0.30365853658536585,0.363768115942029,0.3,0.3243589743589744,0.3643835616438356,0.3256756756756757,0.25875,0.33902439024390246,0.31333333333333335,0.35324675324675325,0.3051948051948052,0.31341463414634146,0.27285714285714285,0.4283783783783784,0.40298507462686567,0.40161290322580645,0.2616438356164384,0.32625000000000004,0.2946666666666667,0.3294871794871795,0.3954545454545455,0.43478260869565216,0.275609756097561,0.2958904109589041,0.33783783783783783,0.2810126582278481,0.25949367088607594,0.3076923076923077,0.24342105263157895,0.34078947368421053,0.345,0.2810810810810811,0.32575757575757575,0.3971014492753623,0.303125,0.2631578947368421,0.3657142857142857,0.2927536231884058,0.2683544303797468,0.2506172839506173,0.38153846153846155,0.30853658536585366,0.2661971830985915,0.3081081081081081,0.35125,0.40307692307692305,0.32531645569620254,0.2777777777777778,0.2654320987654321,0.30144927536231886,0.3357142857142857,0.32926829268292684,0.3608108108108108,0.3682539682539682,0.3295774647887324,0.36323529411764705,0.2691358024691358,0.2890243902439024,0.31232876712328766,0.29444444444444445,0.2578125,0.32575757575757575,0.273972602739726,0.419672131147541,0.4032258064516129,0.2648648648648649,0.25555555555555554,0.21749999999999997,0.3082191780821918,0.23376623376623376,0.30972222222222223,0.26216216216216215,0.2375,0.22682926829268293,0.28695652173913044,0.20243902439024392,0.3653333333333333,0.28695652173913044,0.1876712328767123,0.30597014925373134,0.27605633802816903,0.21587301587301586,0.2545454545454546,0.325,0.2597014925373134,0.36271186440677966,0.3073170731707317,0.18831168831168832,0.25,0.29605263157894735,0.33902439024390246,0.3953125,0.22592592592592595,0.21392405063291137,0.28076923076923077,0.18311688311688312,0.2702702702702703,0.27714285714285714,0.24516129032258063,0.20675675675675675,0.2931506849315068,0.22195121951219512,0.223943661971831,0.21714285714285714,0.2716216216216216,0.2043478260869565,0.2207317073170732,0.23333333333333334,0.24230769230769228,0.23333333333333334,0.2365079365079365,0.21829268292682924,0.24202898550724636,0.22567567567567567,0.14615384615384616,0.19350649350649352,0.20133333333333334,0.21351351351351353,0.2393939393939394,0.2650793650793651,0.16575342465753423,0.2534246575342466,0.2090909090909091,0.18032786885245902,0.18902439024390244,0.21643835616438356,0.2661290322580645,0.19672131147540983,0.15161290322580645,0.20491803278688525,0.2406779661016949,0.21643835616438356,0.20476190476190476,0.20579710144927535,0.140625,0.1791044776119403,0.4717948717948718,0.4792207792207792,0.4555555555555555,0.5265625,0.4898550724637681,0.5666666666666667,0.546875,0.4435897435897436,0.44375,0.42560975609756097,0.44999999999999996,0.4666666666666667,0.4298701298701299,0.4925373134328358,0.4376623376623377,0.5476190476190477,0.4931506849315068,0.4358974358974359,0.4191780821917808,0.4098765432098766,0.45324675324675323,0.44722222222222224,0.535820895522388,0.3728395061728395,0.4785714285714286,0.48428571428571426,0.39249999999999996,0.3890243902439024,0.39125,0.4231707317073171,0.3546666666666667,0.4455882352941177,0.4918032786885246,0.3814814814814815,0.5169230769230769,0.47285714285714286,0.4038961038961039,0.4346666666666667,0.4767123287671233,0.48615384615384616,0.4118421052631579,0.3925925925925926,0.4240506329113924,0.3876543209876543,0.39875,0.4329113924050633,0.337037037037037,0.4132352941176471,0.3878048780487805,0.5014925373134329,0.3207317073170732,0.4767123287671233,0.42727272727272725,0.4323943661971831,0.4661764705882353,0.4333333333333333,0.3730769230769231,0.3925925925925926,0.3936708860759494,0.446875,0.38055555555555554,0.5517241379310345,0.3708860759493671,0.34024390243902436,0.36075949367088606,0.4057971014492754,0.3888888888888889,0.3271604938271605,0.3638888888888889,0.36756756756756753,0.4080645161290323,0.4610169491525424,0.4203125,0.5230769230769231,0.39714285714285713,0.33513513513513515,0.372,0.4175,0.45,0.3869565217391304,0.3973684210526316,0.3656716417910448,0.40875000000000006,0.4264705882352941,0.389873417721519,0.3864864864864865,0.42368421052631583,0.35,0.384,0.4102941176470588,0.3790123456790123,0.3871428571428572,0.45,0.4927536231884058,0.35432098765432096,0.3236111111111111,0.35324675324675325,0.4391304347826087,0.38170731707317074,0.29733333333333334,0.337037037037037,0.33875,0.30526315789473685,0.34146341463414637,0.345679012345679,0.3656716417910448,0.3189873417721519,0.3597222222222222,0.3024390243902439,0.28641975308641976,0.473015873015873,0.37105263157894736,0.3652777777777778,0.37910447761194027,0.26103896103896107,0.43043478260869567,0.4296875,0.3275,0.33448275862068966,0.35625,0.3231707317073171,0.3921875,0.3442857142857143,0.3767123287671233,0.30864197530864196,0.28051948051948056,0.2888888888888889,0.2911392405063291,0.3878048780487805,0.2926829268292683,0.34625,0.2942028985507246,0.37866666666666665,0.289873417721519,0.4793650793650793,0.3850746268656717,0.28414634146341466,0.3619047619047619,0.364,0.3012987012987013,0.3546666666666667,0.26216216216216215,0.29324324324324325,0.3775862068965517,0.32461538461538464,0.3493827160493827,0.4,0.41866666666666663,0.29863013698630136,0.27671232876712326,0.28860759493670884,0.2873417721518987,0.2356164383561644,0.3542372881355932,0.2983050847457627,0.28414634146341466,0.33875,0.34375,0.3586206896551724,0.3359375,0.30133333333333334,0.31333333333333335,0.27285714285714285,0.2734375,0.3253968253968254,0.2725,0.3720588235294118,0.2865853658536585,0.3597560975609756,0.3695652173913043,0.2677966101694915,0.2414285714285714,0.3513157894736842,0.3147540983606557,0.28289473684210525,0.2953125,0.2554054054054054,0.382089552238806,0.36266666666666664,0.3101694915254237,0.2573170731707317,0.3202702702702703,0.39333333333333337,0.35128205128205126,0.36166666666666664,0.3560606060606061,0.2633802816901408,0.30246913580246915,0.3854838709677419,0.265,0.23026315789473684,0.47424242424242424,0.31212121212121213,0.41707317073170735,0.22597402597402597,0.20172413793103447,0.2413793103448276,0.2426470588235294,0.245679012345679,0.24310344827586206,0.32,0.31875,0.30149253731343284,0.3527027027027027,0.33934426229508197,0.3367647058823529,0.2772727272727273,0.19324324324324324,0.256,0.29859154929577464,0.3013698630136986,0.2746268656716418,0.29876543209876544,0.36551724137931035,0.26999999999999996,0.2875,0.2285714285714286,0.3073170731707317,0.2684931506849315,0.30689655172413793,0.17894736842105263,0.25394736842105264,0.2323529411764706,0.22876712328767124,0.23125,0.21875,0.23783783783783785,0.2112676056338028,0.21911764705882353,0.2360655737704918,0.27714285714285714,0.22098765432098763,0.2240506329113924,0.26666666666666666,0.3411764705882353,0.2090909090909091,0.21428571428571427,0.3220338983050847,0.24878048780487802,0.2375,0.25538461538461543,0.2661764705882353,0.17792207792207793,0.3508474576271186,0.19305555555555556,0.2648648648648649,0.26166666666666666,0.2359375,0.20666666666666667,0.14745762711864405,0.18688524590163935,0.18970588235294117,0.15517241379310345,0.21746031746031744,0.1629032258064516,0.17058823529411765,0.2265625,0.5367647058823529,0.631578947368421,0.5681818181818182,0.5883333333333333,0.4825396825396825,0.5508196721311476,0.6298245614035087,0.5684210526315789,0.5128571428571428,0.5548387096774193,0.58,0.5164179104477612,0.49710144927536226,0.5467741935483871,0.5196969696969697,0.7177777777777777,0.5866666666666667,0.5214285714285715,0.5014705882352941,0.637037037037037,0.6274509803921569,0.482258064516129,0.5076923076923077,0.4875,0.5553571428571429,0.5578947368421052,0.5947368421052631,0.5253968253968254,0.5827586206896551,0.4383561643835616,0.49104477611940295,0.47638888888888886,0.5193548387096775,0.5078125,0.6241379310344828,0.4277777777777778,0.5688524590163935,0.4957142857142858,0.47384615384615386,0.6245283018867924,0.4774193548387097,0.6160714285714286,0.44126984126984126,0.5612903225806452,0.4772727272727273,0.547457627118644,0.44153846153846155,0.5571428571428572,0.52,0.546031746031746,0.4626865671641791,0.5771929824561404,0.6611111111111112,0.5678571428571428,0.45,0.6442307692307693,0.5,0.5032258064516129,0.5722222222222222,0.6210526315789473,0.3958904109589041,0.47796610169491527,0.5461538461538461,0.4666666666666667,0.4154929577464789,0.44776119402985076,0.5425925925925926,0.5655172413793103,0.4909090909090909,0.4373134328358209,0.44,0.3380281690140845,0.47540983606557374,0.5044117647058823,0.5689655172413793,0.40303030303030307,0.4426229508196721,0.3771428571428571,0.596,0.3971014492753623,0.4791666666666667,0.4463768115942029,0.5241935483870968,0.5428571428571428,0.46,0.56,0.49818181818181817,0.40684931506849314,0.39692307692307693,0.34516129032258064,0.47692307692307695,0.4723076923076923,0.5333333333333333,0.4098360655737705,0.5918367346938775,0.4357142857142857,0.384375,0.5079365079365079,0.523728813559322,0.5224137931034483,0.5607142857142857,0.3847222222222222,0.47580645161290325,0.453125,0.38620689655172413,0.5298245614035088,0.37464788732394366,0.3926470588235294,0.4507462686567164,0.5095238095238096,0.4645161290322581,0.3409090909090909,0.38749999999999996,0.36323529411764705,0.39841269841269844,0.4,0.37857142857142856,0.39827586206896554,0.4523076923076923,0.3878787878787879,0.38676470588235295,0.4203389830508475,0.4238095238095238,0.32537313432835824,0.3742424242424242,0.4333333333333333,0.4430769230769231,0.4603448275862069,0.43684210526315786,0.4825396825396825,0.3739130434782609,0.5678571428571428,0.44999999999999996,0.42857142857142855,0.3890625,0.28840579710144926,0.39090909090909093,0.38727272727272727,0.3196969696969697,0.4153846153846154,0.46964285714285714,0.3211267605633803,0.46399999999999997,0.4446153846153846,0.4125,0.3013888888888889,0.37868852459016394,0.35344827586206895,0.4211267605633803,0.3712121212121212,0.3644067796610169,0.3695652173913043,0.29818181818181816,0.3440677966101695,0.5169811320754717,0.3707692307692308,0.3484848484848485,0.37936507936507935,0.3835616438356164,0.34459459459459457,0.3068493150684931,0.4784313725490196,0.4035714285714286,0.4862068965517241,0.35737704918032787,0.38596491228070173,0.3929824561403509,0.3647058823529412,0.34411764705882353,0.4032258064516129,0.3949152542372881,0.325,0.39285714285714285,0.25555555555555554,0.2957142857142857,0.3424657534246575,0.28955223880597014,0.3140350877192982,0.29137931034482756,0.3647058823529412,0.4711864406779661,0.5320754716981132,0.3218181818181818,0.515686274509804,0.325,0.36938775510204086,0.23333333333333334,0.27391304347826084,0.2923076923076923,0.3660377358490566,0.2640625,0.3641791044776119,0.27619047619047615,0.30327868852459017,0.29074074074074074,0.48823529411764705,0.37592592592592594,0.2836065573770492,0.31166666666666665,0.47638888888888886,0.2945205479452055,0.271830985915493,0.32857142857142857,0.3625,0.28620689655172415,0.2129032258064516,0.29,0.26521739130434785,0.24920634920634918,0.24411764705882355,0.2633802816901408,0.27538461538461534,0.3206349206349206,0.26557377049180325,0.33888888888888885,0.4070422535211267,0.2719298245614035,0.2288135593220339,0.2872727272727273,0.3649122807017544,0.2661290322580645,0.3625,0.26176470588235295,0.21212121212121213,0.33620689655172414,0.2970149253731343,0.35192307692307695,0.3709677419354839,0.2681818181818182,0.30327868852459017,0.2927272727272728,0.2476923076923077,0.311864406779661,0.2875,0.31896551724137934,0.2196969696969697,0.2776119402985075,0.22903225806451613,0.2846153846153846,0.22962962962962963,0.24603174603174602,0.2863636363636363,0.24333333333333332,0.39166666666666666,0.22372881355932203,0.2810344827586207,0.19655172413793104,0.30943396226415093,0.3046153846153846,0.215,0.27586206896551724,0.30727272727272725,0.22678571428571428,0.2381818181818182,0.39999999999999997,0.2890909090909091,0.21884057971014492,0.21304347826086956,0.2785714285714286,0.1611111111111111,0.25263157894736843,0.5428571428571429,0.5966666666666666,0.5343283582089552,0.6098039215686275,0.5409836065573771,0.5196969696969697,0.6051724137931035,0.5442622950819672,0.6462962962962963,0.559375,0.630188679245283,0.48055555555555557,0.5059701492537313,0.534920634920635,0.6051724137931035,0.6557692307692308,0.5948275862068966,0.5883333333333333,0.5295774647887325,0.5622950819672131,0.4785714285714286,0.6240740740740741,0.6277777777777778,0.5599999999999999,0.5524590163934426,0.6461538461538462,0.6392857142857142,0.6160714285714286,0.5,0.49117647058823527,0.5806451612903226,0.7019230769230769,0.5241935483870968,0.44583333333333336,0.5174603174603175,0.5131147540983607,0.5234375,0.463768115942029,0.46901408450704224,0.3926470588235294,0.547457627118644,0.4650793650793651,0.4847222222222222,0.612962962962963,0.44477611940298506,0.45645161290322583,0.4277777777777778,0.4057142857142857,0.48309859154929574,0.44857142857142857,0.5764705882352941,0.6241379310344828,0.5647058823529412,0.4761194029850746,0.5581818181818182,0.5262295081967213,0.5362068965517242,0.4777777777777778,0.5611111111111111,0.45217391304347826,0.5490909090909091,0.5781818181818182,0.5267857142857143,0.444927536231884,0.4338028169014085,0.5586206896551724,0.4786885245901639,0.4492753623188406,0.5711538461538461,0.5526315789473685,0.5672727272727273,0.4033333333333333,0.5058823529411764,0.3712121212121212,0.40714285714285714,0.33188405797101445,0.4527777777777778,0.4631578947368421,0.35507246376811596,0.4064516129032258,0.47058823529411764,0.4361111111111111,0.5189655172413793,0.3682539682539682,0.4765625,0.42205882352941176,0.46984126984126984,0.41304347826086957,0.44393939393939397,0.5535714285714286,0.36764705882352944,0.5035087719298246,0.39565217391304347,0.38857142857142857,0.39,0.4183098591549296,0.5135593220338983,0.3573529411764706,0.41641791044776116,0.3803921568627451,0.4463768115942029,0.4538461538461539,0.45087719298245615,0.3151515151515152,0.303125,0.34285714285714286,0.32727272727272727,0.41714285714285715,0.4722222222222222,0.2742857142857143,0.33888888888888885,0.4233333333333333,0.39705882352941174,0.35694444444444445,0.46153846153846156,0.3647058823529412,0.34328358208955223,0.42083333333333334,0.4166666666666667,0.4338983050847458,0.4785714285714286,0.4067796610169492,0.4396825396825397,0.3746031746031746,0.42153846153846153,0.4583333333333333,0.27571428571428575,0.5333333333333333,0.42388059701492536,0.37846153846153846,0.4835820895522388,0.4,0.4057971014492754,0.3770491803278688,0.3929577464788732,0.32794117647058824,0.35090909090909095,0.38653846153846155,0.2690140845070423,0.30972222222222223,0.30923076923076925,0.37142857142857144,0.3430769230769231,0.3836065573770492,0.28852459016393445,0.3421875,0.37681159420289856,0.3869565217391304,0.38382352941176473,0.45714285714285713,0.30454545454545456,0.3,0.3111111111111111,0.36507936507936506,0.4725490196078432,0.33275862068965517,0.408955223880597,0.36346153846153845,0.25081967213114753,0.32727272727272727,0.31470588235294117,0.2703125,0.2909090909090909,0.3879310344827586,0.3473684210526316,0.3226415094339623,0.44074074074074077,0.4875,0.47758620689655173,0.30566037735849055,0.26833333333333337,0.38421052631578945,0.4019607843137255,0.33269230769230773,0.2696969696969697,0.3402985074626866,0.2970149253731343,0.5,0.28208955223880594,0.27037037037037037,0.44366197183098594,0.25072463768115943,0.2222222222222222,0.34117647058823525,0.3913793103448276,0.3304347826086957,0.38095238095238093,0.3145454545454546,0.32295081967213113,0.23709677419354838,0.311864406779661,0.2390625,0.2693548387096774,0.33157894736842103,0.3620689655172414,0.3120689655172414,0.30925925925925923,0.4314814814814815,0.25,0.3490566037735849,0.3369230769230769,0.30476190476190473,0.2879310344827586,0.25925925925925924,0.37450980392156863,0.3943396226415094,0.21333333333333335,0.253125,0.2836065573770492,0.27419354838709675,0.225,0.278125,0.3440677966101695,0.3226415094339623,0.2767857142857143,0.378125,0.36730769230769234,0.3607843137254902,0.3090909090909091,0.19836065573770492,0.29056603773584905,0.33620689655172414,0.28730158730158734,0.30357142857142855,0.3109090909090909,0.3,0.27049180327868855,0.3380952380952381,0.32745098039215687,0.2,0.3114754098360656,0.1774193548387097,0.31346153846153846,0.3076923076923077,0.5019230769230769,0.1701754385964912,0.17777777777777778,0.4970588235294117,0.49104477611940295,0.5446153846153846,0.45921052631578946,0.47500000000000003,0.4527027027027027,0.47236842105263155,0.5073529411764706,0.5044776119402985,0.5390625,0.45135135135135135,0.5179104477611941,0.5090909090909091,0.5983050847457627,0.5573529411764706,0.5580645161290323,0.5723076923076924,0.525,0.47638888888888886,0.5117647058823529,0.49393939393939396,0.583076923076923,0.44375,0.43066666666666664,0.49027777777777776,0.4909090909090909,0.4928571428571429,0.4616438356164384,0.5564516129032258,0.39473684210526316,0.4397435897435897,0.5,0.49104477611940295,0.39210526315789473,0.49230769230769234,0.4478260869565217,0.45294117647058824,0.4094594594594595,0.4534246575342466,0.4706666666666666,0.509375,0.4761194029850746,0.4767123287671233,0.436986301369863,0.5086206896551724,0.506060606060606,0.42533333333333334,0.5293103448275862,0.416,0.4363636363636364,0.4876923076923077,0.35000000000000003,0.40379746835443037,0.4024390243902439,0.3430379746835443,0.3814814814814815,0.4863636363636364,0.5131147540983607,0.45454545454545453,0.4783783783783784,0.3886075949367089,0.4650793650793651,0.482258064516129,0.42266666666666663,0.5203125,0.4898550724637681,0.3460526315789474,0.5049180327868853,0.5061538461538462,0.45211267605633804,0.39166666666666666,0.424390243902439,0.36875,0.3697368421052632,0.4417910447761194,0.39722222222222225,0.30405405405405406,0.4484375,0.4264705882352941,0.5380952380952381,0.37681159420289856,0.39066666666666666,0.39220779220779217,0.32535211267605635,0.45081967213114754,0.39866666666666667,0.396969696969697,0.3845070422535211,0.32857142857142857,0.4549295774647887,0.31645569620253167,0.4,0.3914285714285714,0.3736842105263158,0.3384615384615384,0.38333333333333336,0.3530864197530864,0.36933333333333335,0.35802469135802467,0.29615384615384616,0.46557377049180326,0.41363636363636364,0.372972972972973,0.41375,0.3775862068965517,0.32784810126582276,0.31095890410958904,0.4043478260869565,0.3793103448275862,0.3530864197530864,0.33636363636363636,0.3619718309859155,0.3476923076923077,0.3426470588235294,0.2733333333333333,0.38,0.3046875,0.32105263157894737,0.3293333333333333,0.41846153846153844,0.37846153846153846,0.3140625,0.4217391304347826,0.37567567567567567,0.2753623188405797,0.4046153846153846,0.36507936507936506,0.4852459016393443,0.42,0.4,0.2875,0.3833333333333333,0.41940298507462687,0.26375000000000004,0.2791666666666667,0.2857142857142857,0.2414285714285714,0.3685714285714286,0.3,0.4379310344827586,0.21351351351351353,0.38166666666666665,0.3477611940298508,0.3232876712328767,0.23750000000000002,0.3416666666666667,0.3289855072463768,0.24126984126984125,0.35500000000000004,0.228,0.35584415584415585,0.26582278481012656,0.4417910447761194,0.2670731707317073,0.34411764705882353,0.29041095890410956,0.35714285714285715,0.4117647058823529,0.26268656716417915,0.3845070422535211,0.2532258064516129,0.35694444444444445,0.2951219512195122,0.4203389830508475,0.30144927536231886,0.36056338028169016,0.263235294117647,0.2051948051948052,0.3038961038961039,0.27538461538461534,0.35238095238095235,0.35,0.37846153846153846,0.26986301369863014,0.24324324324324326,0.3080645161290323,0.3168831168831169,0.24647887323943662,0.3704225352112676,0.3421875,0.33114754098360655,0.3149253731343284,0.3929577464788732,0.3115942028985507,0.28,0.31746031746031744,0.40519480519480516,0.380327868852459,0.24782608695652175,0.36,0.247887323943662,0.4169491525423729,0.3460526315789474,0.34324324324324323,0.3787878787878788,0.26282051282051283,0.336986301369863,0.2417910447761194,0.3661290322580645,0.2571428571428571,0.2661538461538462,0.2373134328358209,0.19859154929577463,0.26999999999999996,0.22676056338028172,0.2555555555555556,0.32985074626865674,0.2573170731707317,0.24057971014492754,0.35161290322580646,0.3482758620689655,0.2189655172413793,0.38636363636363635,0.2745762711864407,0.3096774193548387,0.2241935483870968,0.3152542372881356,0.27999999999999997,0.2486111111111111,0.23134328358208955,0.24545454545454543,0.24242424242424243,0.20757575757575755,0.20344827586206898,0.18630136986301368,0.23387096774193547,0.21333333333333335,0.1703125],\"xbins\":{\"end\":38,\"size\":1,\"start\":0},\"type\":\"histogram\",\"opacity\":0.5},{\"histnorm\":\"percent\",\"name\":\"Playoffs\",\"x\":[4.009090909090909,3.341666666666667,6.75,1.8130434782608698,3.4499999999999997,6.216666666666666,5.371428571428572,6.55,5.957142857142857,1.7333333333333332,7.166666666666667,2.1631578947368424,7.083333333333333,6.616666666666667,1.6666666666666667,6.75,2.46,2.7066666666666666,2.9583333333333335,7.875,5.533333333333334,2.5533333333333332,1.9210526315789473,6.05,2.9916666666666667,2.8083333333333336,3.1999999999999997,1.9105263157894736,1.6136363636363635,3.4416666666666664,5.528571428571429,2.1166666666666667,2.9,9.5,3.15,4.283333333333333,2.6727272727272724,9.125,3.0454545454545454,1.7571428571428571,5.916666666666667,3.4,8.325,4.383333333333334,3.027272727272727,5.883333333333333,5.783333333333334,5.7,1.4217391304347828,4.957142857142857,5.25,5.7,1.7083333333333333,4.5,5.55,1.2714285714285714,7.325,6.25,1.519047619047619,2.2583333333333333,4.05,4.466666666666667,2.841666666666667,7.075,4.55,6.575,2.814285714285714,1.8733333333333335,1.0826086956521739,4.916666666666667,1.8631578947368421,1.2304347826086957,2.341666666666667,1.4200000000000002,1.5866666666666667,2.1545454545454543,3.2857142857142856,3.783333333333333,8.5,4.95,4.325,2.275,3.1166666666666667,2.02,0.8857142857142858,5.3,5.666666666666667,2.6999999999999997,1.4333333333333333,0.76,3.1999999999999997,0.9476190476190476,1.0736842105263158,3.0,1.55,1.7583333333333335,2.481818181818182,2.433333333333333,0.8736842105263158,1.8666666666666665,2.966666666666667,1.4727272727272727,0.7363636363636363,2.8000000000000003,0.8090909090909091,4.271428571428571,1.9,1.7,0.6684210526315789,0.67,1.8833333333333335,0.7799999999999999,0.7916666666666666,4.0,5.125,2.783333333333333,0.48,1.7363636363636366,3.375,0.9333333333333332,0.5785714285714285,0.46111111111111114,2.075,0.8142857142857143,1.7166666666666668,2.2578947368421054,1.9100000000000001,7.3,2.0368421052631582,3.6454545454545455,6.416666666666667,5.757142857142857,2.8307692307692305,6.042857142857143,3.8545454545454545,2.1631578947368424,3.2583333333333333,5.528571428571429,5.085714285714286,2.792307692307692,9.575,5.442857142857143,6.95,4.942857142857143,3.7818181818181817,5.371428571428572,11.766666666666666,6.16,6.5,1.735,1.3608695652173914,6.1000000000000005,5.242857142857143,3.472727272727273,1.4217391304347828,5.442857142857143,1.853846153846154,3.790909090909091,1.905263157894737,1.7149999999999999,3.5181818181818185,2.975,1.108695652173913,1.391304347826087,4.428571428571429,3.25,2.558333333333333,3.3636363636363638,1.9526315789473685,8.72,5.1000000000000005,2.076923076923077,5.64,6.5200000000000005,5.057142857142857,3.1545454545454548,3.8714285714285714,4.7,1.905263157894737,2.011764705882353,4.6571428571428575,9.625,3.585714285714286,4.916666666666667,6.5,1.4684210526315788,3.9,6.68,4.085714285714286,4.057142857142857,8.4,3.9,3.8714285714285714,4.571428571428571,3.036363636363636,7.45,2.2583333333333333,2.6153846153846154,4.84,4.375,2.9857142857142853,2.3923076923076922,1.5,1.0,1.3199999999999998,1.1434782608695653,5.014285714285714,5.616666666666667,5.7,1.4769230769230768,3.942857142857143,2.7142857142857144,1.5250000000000001,2.414285714285714,2.3428571428571425,3.185714285714286,4.25,3.8333333333333335,0.9739130434782608,2.925,0.6652173913043479,3.5285714285714285,1.7333333333333334,2.25,1.657142857142857,1.1916666666666667,1.34,1.3857142857142857,1.2944444444444445,1.5833333333333333,0.75,1.7142857142857142,1.8166666666666667,1.24,4.533333333333333,0.9473684210526315,2.5,0.6739130434782609,0.9833333333333333,0.9777777777777779,3.2285714285714286,1.01,2.757142857142857,0.890909090909091,1.0222222222222221,0.9384615384615385,0.8263157894736842,1.6090909090909091,1.0466666666666666,1.375,0.56,1.46,1.7999999999999998,1.063157894736842,3.4714285714285715,2.3000000000000003,1.009090909090909,0.3,1.657142857142857,5.333333333333333,0.7923076923076924,0.9142857142857144,1.44,2.25,0.6625,1.2,0.7875,1.1400000000000001,2.1333333333333333,3.325,0.6684210526315789,0.6352941176470589,1.25,1.325,0.2818181818181818,1.52,1.657142857142857,1.8399999999999999,10.75,2.1100000000000003,1.8714285714285712,2.1999999999999997,7.88,2.8428571428571425,4.18,3.516666666666667,3.091666666666667,8.32,8.040000000000001,7.24,3.15,5.1000000000000005,9.95,6.5,3.436363636363636,1.723809523809524,8.95,5.1000000000000005,7.45,6.640000000000001,2.06875,6.916666666666667,1.9882352941176469,6.45,3.1545454545454548,2.2125,2.757142857142857,2.98,2.18125,2.0375,3.17,3.8,8.36,1.776190476190476,1.3705882352941177,3.036363636363636,2.264705882352941,2.457142857142857,1.7277777777777779,6.375,1.9357142857142857,3.07,4.25,8.325,5.0,8.2,5.3,5.333333333333333,6.16,4.042857142857143,7.0,5.583333333333333,6.625,1.4823529411764707,6.0,2.685714285714286,3.9499999999999997,2.6999999999999997,4.285714285714286,6.25,5.95,1.5428571428571427,1.325,7.375,5.283333333333333,1.438095238095238,5.716666666666666,6.625,6.4,1.3882352941176472,2.2857142857142856,3.31,7.825,5.625,1.8199999999999998,2.3714285714285714,1.6823529411764706,1.7399999999999998,1.13125,4.333333333333333,2.463636363636364,4.25,6.625,3.9499999999999997,5.625,1.2785714285714285,4.1571428571428575,2.6714285714285713,2.57,3.0,4.24,2.085714285714286,1.75,6.325,2.18,1.9166666666666667,7.75,1.2449999999999999,6.7,1.78,3.0500000000000003,3.5833333333333335,2.79,3.3333333333333335,6.1000000000000005,1.6181818181818182,1.72,4.625,2.7416666666666667,1.3545454545454545,1.18125,4.7,4.68,5.375,0.8523809523809524,0.5190476190476191,1.2210526315789474,0.9166666666666666,3.325,0.78,0.8866666666666667,1.1545454545454545,3.2,0.45999999999999996,2.5142857142857147,1.0454545454545454,0.4411764705882353,1.26,1.011764705882353,0.7357142857142858,4.25,1.26,1.3666666666666665,4.95,1.72,3.0,0.45454545454545453,0.7285714285714285,2.238888888888889,5.614285714285714,7.720000000000001,3.6090909090909093,1.861904761904762,2.0777777777777775,1.7571428571428571,1.8944444444444446,1.4749999999999999,6.116666666666667,5.3,3.3899999999999997,3.37,2.414285714285714,1.8649999999999998,3.6545454545454548,6.8,1.9149999999999998,9.0,5.533333333333334,8.2,3.65,2.4071428571428575,1.6608695652173915,10.075,6.88,1.535,3.0727272727272723,2.79,9.75,9.2,4.8,4.616666666666666,3.2700000000000005,3.4285714285714284,2.5285714285714285,7.2,5.95,5.95,6.92,7.5,3.857142857142857,2.507142857142857,2.91,5.366666666666667,1.8555555555555554,3.25,1.9100000000000001,5.5,4.585714285714286,1.657142857142857,5.76,5.7,2.2454545454545456,8.7,3.2,2.6399999999999997,4.0,3.16,4.014285714285714,4.416666666666667,1.7055555555555555,2.5,5.466666666666666,0.9944444444444444,3.8,4.5,1.2916666666666667,1.3333333333333333,1.49,3.9200000000000004,2.67,5.242857142857143,3.716666666666667,1.1300000000000001,2.8000000000000003,1.5166666666666666,0.8916666666666666,3.5142857142857147,5.075,4.84,4.042857142857143,1.46,5.875,3.8714285714285714,4.96,2.5272727272727273,1.9538461538461538,1.9363636363636365,4.5,7.075,0.8176470588235294,1.92,1.4095238095238096,1.9714285714285715,1.67,7.24,4.4799999999999995,1.61,0.8400000000000001,2.557142857142857,6.25,1.2650000000000001,4.0,2.0300000000000002,2.18,1.7600000000000002,5.16,0.4782608695652174,0.35000000000000003,1.4555555555555555,1.6909090909090911,0.861904761904762,1.9666666666666666,2.25,4.6571428571428575,3.96,4.75,5.575,0.7545454545454546,3.08,0.3826086956521739,2.375,0.605,2.1333333333333333,1.34,0.6333333333333333,4.95,2.12,1.8714285714285714,0.7666666666666666,0.8333333333333334,0.8222222222222223,2.1333333333333333,0.38571428571428573,2.75,0.74375,1.29,1.5142857142857142,1.25,2.125,1.0777777777777777,3.12,1.72,2.9,2.16,0.3235294117647059,1.4166666666666667,1.64,2.7,1.04,7.76,2.2944444444444443,2.3666666666666667,3.3636363636363638,2.0823529411764703,10.75,9.45,2.983333333333333,3.0,2.0166666666666666,5.3,2.9846153846153842,6.75,5.866666666666667,6.216666666666666,6.083333333333333,3.4,2.3133333333333335,6.633333333333333,8.75,3.7299999999999995,6.666666666666667,8.875,1.7833333333333334,1.9888888888888887,2.1,6.7,4.6875,4.3875,5.385714285714286,1.8833333333333333,5.283333333333333,2.0647058823529414,6.416666666666667,3.07,1.838888888888889,3.9166666666666665,5.3,2.052941176470588,2.9545454545454546,2.690909090909091,5.55,4.5,4.0,2.2454545454545456,2.5307692307692307,2.207692307692308,7.075,8.75,2.8,7.4,3.033333333333333,2.2600000000000002,5.2,2.6818181818181817,7.24,8.325,3.409090909090909,2.3636363636363638,1.3599999999999999,1.625,7.75,1.9888888888888887,5.133333333333334,4.166666666666667,4.720000000000001,2.772727272727273,4.4399999999999995,1.0666666666666667,5.416666666666667,4.2,5.083333333333333,2.290909090909091,1.5615384615384615,4.5,1.661111111111111,4.416666666666667,1.7333333333333334,2.423076923076923,1.5055555555555555,4.366666666666666,6.279999999999999,2.12,1.70625,1.425,4.416666666666667,4.571428571428571,1.8636363636363635,1.1384615384615384,3.283333333333333,3.783333333333333,5.125,3.7,6.2,1.6375,0.85625,2.95,3.3666666666666667,1.1125,2.0,3.3000000000000003,2.7545454545454544,1.911111111111111,0.58125,1.2750000000000001,1.0055555555555555,3.216666666666667,1.6818181818181819,0.9588235294117647,2.585714285714286,0.8666666666666667,5.75,4.75,1.1214285714285714,0.94,2.6399999999999997,3.4333333333333336,0.7411764705882353,2.5100000000000002,3.2,1.8,6.25,0.7647058823529411,0.9529411764705882,0.8111111111111111,2.0833333333333335,1.55,1.0866666666666667,0.8066666666666666,2.5,0.9142857142857144,0.9307692307692308,2.9499999999999997,0.6749999999999999,1.85,2.08,2.283333333333333,2.0571428571428574,1.0538461538461539,2.25,2.12,1.1333333333333333,0.6615384615384615,0.7214285714285714,0.7444444444444445,1.8833333333333335,2.6666666666666665,1.4666666666666668,1.8833333333333335,1.575,3.4333333333333336,3.5,1.6291666666666667,8.16,1.75,2.5375,2.2866666666666666,2.835714285714286,2.48125,7.88,5.128571428571428,4.883333333333334,7.720000000000001,4.077777777777778,2.5928571428571425,5.76,1.8571428571428572,2.7636363636363637,4.985714285714286,5.583333333333333,2.9250000000000003,5.92,1.5458333333333334,4.383333333333334,9.25,3.3909090909090907,6.75,3.2818181818181817,2.2866666666666666,3.0749999999999997,6.720000000000001,5.25,3.644444444444444,6.56,3.9,1.5625,8.325,2.392857142857143,5.24,7.95,2.6357142857142857,2.9250000000000003,3.822222222222222,3.3777777777777778,6.04,1.88,3.1333333333333333,4.8,2.6083333333333334,1.7545454545454546,3.875,5.84,5.64,7.0,7.325,4.12,6.36,7.040000000000001,1.7533333333333334,5.2,1.8,3.5181818181818185,1.9466666666666665,5.88,6.08,3.6285714285714286,3.9166666666666665,4.4,4.328571428571428,5.4799999999999995,8.125,1.45625,5.416666666666667,1.4285714285714286,7.875,2.7363636363636363,3.3,1.5214285714285716,1.2750000000000001,0.8666666666666667,1.6714285714285713,5.96,6.0,1.51875,1.4357142857142857,1.0291666666666666,6.875,8.2,4.833333333333333,1.9181818181818182,5.325,2.15,1.55625,3.6142857142857143,0.9761904761904762,7.45,1.1875,1.075,1.2066666666666668,4.76,5.4799999999999995,3.6799999999999997,1.6857142857142857,0.691304347826087,2.0,6.04,4.25,1.4400000000000002,5.075,2.6714285714285713,0.8636363636363636,1.275,1.9300000000000002,4.325,1.1428571428571428,3.1,3.6799999999999997,5.12,2.4,2.4,1.6666666666666667,1.1142857142857143,2.2,4.0,0.6705882352941177,1.3363636363636362,0.6636363636363636,0.9,2.3600000000000003,1.7,1.8399999999999999,0.8,3.575,3.16,0.48636363636363633,5.125,0.4947368421052632,0.95625,0.9222222222222223,1.875,1.75,2.2800000000000002,0.475,1.4222222222222223,3.233333333333333,0.8571428571428571,0.79,3.16,2.625,5.385714285714286,5.966666666666666,9.075,3.108333333333333,3.023076923076923,7.4,1.7428571428571429,1.7285714285714284,3.4222222222222225,2.0842105263157897,2.388235294117647,1.9210526315789473,8.95,7.840000000000001,1.8285714285714285,2.323529411764706,10.0,5.328571428571428,3.55,8.75,2.8307692307692305,9.75,6.6,2.1705882352941175,3.5545454545454547,1.911764705882353,5.666666666666667,1.905263157894737,7.7,3.409090909090909,2.85,4.628571428571428,3.4545454545454546,5.514285714285714,9.0,4.085714285714286,5.4,5.7,8.2,1.6047619047619048,3.28,9.125,9.325,7.040000000000001,4.328571428571428,2.0727272727272728,7.875,2.2411764705882353,6.44,5.825,2.2545454545454544,5.12,4.8,6.840000000000001,2.0153846153846153,4.866666666666666,4.333333333333333,8.575,1.4952380952380953,5.88,2.292307692307692,1.361904761904762,3.3,1.8105263157894735,2.3666666666666667,3.4444444444444446,1.2473684210526315,2.6333333333333333,1.380952380952381,5.95,1.4384615384615385,3.2454545454545456,8.25,5.3,4.285714285714286,1.0952380952380953,6.12,2.68,4.771428571428571,1.8923076923076925,1.1263157894736842,1.6705882352941175,1.54375,2.3285714285714287,1.2736842105263158,1.1904761904761905,2.875,4.5,0.8941176470588235,1.9357142857142857,5.76,8.2,2.46,8.0,4.76,2.283333333333333,4.24,5.125,5.633333333333333,1.65,2.5714285714285716,1.1571428571428573,3.1,1.19,1.06,1.3153846153846156,1.8818181818181818,0.8761904761904761,0.8722222222222222,4.075,5.085714285714286,1.7899999999999998,3.625,3.325,1.4384615384615385,3.125,0.9470588235294118,1.1833333333333333,3.56,1.4666666666666668,4.333333333333333,2.7199999999999998,1.0421052631578949,3.04,1.0727272727272728,3.0,1.7100000000000002,0.9285714285714286,0.8846153846153846,0.8400000000000001,1.9857142857142858,0.5882352941176471,3.375,0.5736842105263158,2.2333333333333334,1.5333333333333332,3.1,4.566666666666666,4.7,0.7230769230769231,1.25,1.3333333333333333,0.43333333333333335,1.7571428571428573,1.9000000000000001,2.5,5.728571428571429,6.883333333333333,3.3666666666666667,3.46,7.4,8.120000000000001,1.8142857142857143,7.8,3.45,2.35625,2.9545454545454546,1.8363636363636362,2.1473684210526316,7.0,1.7434782608695654,6.216666666666666,4.011111111111111,3.0416666666666665,6.666666666666667,3.9777777777777774,7.0,1.7100000000000002,7.44,2.65,3.227272727272727,7.2,7.32,1.7210526315789476,2.463636363636364,5.76,3.3200000000000003,1.7260869565217392,6.0,5.3428571428571425,7.325,1.6545454545454545,8.5,6.68,6.640000000000001,6.92,3.1090909090909093,9.625,6.4799999999999995,5.45,1.8444444444444446,5.12,1.7777777777777777,2.8600000000000003,5.4799999999999995,4.8,4.757142857142857,1.2608695652173914,1.3666666666666667,3.966666666666667,1.6736842105263159,2.7916666666666665,4.68,3.3363636363636364,3.016666666666667,2.9899999999999998,1.4590909090909092,1.7222222222222223,1.5045454545454546,5.279999999999999,5.528571428571429,6.25,5.825,2.5272727272727273,1.7555555555555555,6.333333333333333,0.8636363636363636,2.7,6.625,5.825,3.05,4.2,2.2083333333333335,6.825,0.915,6.4799999999999995,3.7,5.68,1.0047619047619047,1.5368421052631578,2.3285714285714287,1.925,0.8555555555555556,1.0473684210526315,2.92,1.3583333333333334,1.0304347826086957,4.4399999999999995,0.6849999999999999,2.966666666666667,1.3444444444444443,4.64,2.6,4.4799999999999995,3.5833333333333335,1.0916666666666666,1.0411764705882351,3.575,3.3200000000000003,5.84,3.3666666666666667,3.08,3.96,0.9733333333333333,3.0500000000000003,1.9,3.814285714285714,1.5250000000000001,3.5200000000000005,5.5200000000000005,1.1176470588235294,1.9142857142857144,6.0,1.0333333333333334,1.425,1.3777777777777778,3.6799999999999997,0.8416666666666667,1.2869565217391306,1.4333333333333333,1.6800000000000002,0.5499999999999999,4.45,1.2666666666666666,2.2800000000000002,2.68,1.2,3.0,1.0636363636363635,1.8800000000000001,1.0571428571428572,0.5111111111111111,0.9,1.75,2.2399999999999998,1.44,0.7428571428571429,2.075,0.6375,3.108333333333333,2.453333333333333,6.840000000000001,2.176470588235294,1.5772727272727274,4.177777777777778,6.55,11.0,1.7083333333333333,6.383333333333333,6.3,3.85,3.66,1.5958333333333332,7.216666666666666,6.5,6.166666666666667,1.9388888888888889,10.625,7.0,8.120000000000001,3.3666666666666667,7.24,9.575,3.216666666666667,1.6363636363636365,2.975,3.3249999999999997,5.95,2.3461538461538463,2.6538461538461537,4.716666666666667,6.033333333333334,1.25,3.233333333333333,1.5863636363636362,1.723809523809524,2.308333333333333,7.4799999999999995,5.533333333333334,1.8944444444444446,2.772727272727273,4.866666666666666,8.25,6.7,1.5444444444444445,8.7,6.24,6.4,6.88,2.9615384615384617,1.6933333333333331,2.058333333333333,1.5391304347826087,5.45,5.466666666666666,6.12,2.1222222222222222,3.6166666666666667,5.383333333333333,1.6166666666666667,1.8923076923076925,6.283333333333334,2.2800000000000002,1.6333333333333333,2.066666666666667,2.308333333333333,2.183333333333333,4.95,6.125,4.4799999999999995,4.633333333333334,2.2083333333333335,4.88,2.269230769230769,3.6166666666666667,3.4799999999999995,6.16,3.6166666666666667,4.833333333333333,1.8166666666666667,1.411111111111111,1.1375,2.216666666666667,1.1043478260869564,3.3000000000000003,3.9200000000000004,2.1166666666666667,5.4799999999999995,1.4545454545454546,1.3055555555555556,3.25,1.5722222222222222,1.3647058823529412,1.6800000000000002,0.9249999999999999,7.075,4.5,3.3200000000000003,5.216666666666667,2.4,1.5333333333333332,2.6,2.3000000000000003,0.9272727272727272,0.9384615384615385,1.7,3.5833333333333335,1.0263157894736843,4.32,0.5375,3.3333333333333335,1.0999999999999999,1.375,2.16,0.5375,0.723529411764706,1.7111111111111112,3.1166666666666667,1.3333333333333333,4.32,1.0153846153846153,0.5944444444444444,3.44,3.04,1.6666666666666667,2.7600000000000002,2.3600000000000003,4.5200000000000005,0.7071428571428572,3.75,0.975,2.4166666666666665,0.7666666666666667,0.7555555555555555,1.75,1.6888888888888889,1.55,1.55,1.0454545454545454,0.4875,1.8,0.475,2.88,1.375,1.52,1.0],\"xbins\":{\"end\":38,\"size\":1,\"start\":0},\"type\":\"histogram\",\"opacity\":0.5}],                        {\"template\":{\"data\":{\"histogram2dcontour\":[{\"type\":\"histogram2dcontour\",\"colorbar\":{\"outlinewidth\":0,\"ticks\":\"\"},\"colorscale\":[[0.0,\"#0d0887\"],[0.1111111111111111,\"#46039f\"],[0.2222222222222222,\"#7201a8\"],[0.3333333333333333,\"#9c179e\"],[0.4444444444444444,\"#bd3786\"],[0.5555555555555556,\"#d8576b\"],[0.6666666666666666,\"#ed7953\"],[0.7777777777777778,\"#fb9f3a\"],[0.8888888888888888,\"#fdca26\"],[1.0,\"#f0f921\"]]}],\"choropleth\":[{\"type\":\"choropleth\",\"colorbar\":{\"outlinewidth\":0,\"ticks\":\"\"}}],\"histogram2d\":[{\"type\":\"histogram2d\",\"colorbar\":{\"outlinewidth\":0,\"ticks\":\"\"},\"colorscale\":[[0.0,\"#0d0887\"],[0.1111111111111111,\"#46039f\"],[0.2222222222222222,\"#7201a8\"],[0.3333333333333333,\"#9c179e\"],[0.4444444444444444,\"#bd3786\"],[0.5555555555555556,\"#d8576b\"],[0.6666666666666666,\"#ed7953\"],[0.7777777777777778,\"#fb9f3a\"],[0.8888888888888888,\"#fdca26\"],[1.0,\"#f0f921\"]]}],\"heatmap\":[{\"type\":\"heatmap\",\"colorbar\":{\"outlinewidth\":0,\"ticks\":\"\"},\"colorscale\":[[0.0,\"#0d0887\"],[0.1111111111111111,\"#46039f\"],[0.2222222222222222,\"#7201a8\"],[0.3333333333333333,\"#9c179e\"],[0.4444444444444444,\"#bd3786\"],[0.5555555555555556,\"#d8576b\"],[0.6666666666666666,\"#ed7953\"],[0.7777777777777778,\"#fb9f3a\"],[0.8888888888888888,\"#fdca26\"],[1.0,\"#f0f921\"]]}],\"heatmapgl\":[{\"type\":\"heatmapgl\",\"colorbar\":{\"outlinewidth\":0,\"ticks\":\"\"},\"colorscale\":[[0.0,\"#0d0887\"],[0.1111111111111111,\"#46039f\"],[0.2222222222222222,\"#7201a8\"],[0.3333333333333333,\"#9c179e\"],[0.4444444444444444,\"#bd3786\"],[0.5555555555555556,\"#d8576b\"],[0.6666666666666666,\"#ed7953\"],[0.7777777777777778,\"#fb9f3a\"],[0.8888888888888888,\"#fdca26\"],[1.0,\"#f0f921\"]]}],\"contourcarpet\":[{\"type\":\"contourcarpet\",\"colorbar\":{\"outlinewidth\":0,\"ticks\":\"\"}}],\"contour\":[{\"type\":\"contour\",\"colorbar\":{\"outlinewidth\":0,\"ticks\":\"\"},\"colorscale\":[[0.0,\"#0d0887\"],[0.1111111111111111,\"#46039f\"],[0.2222222222222222,\"#7201a8\"],[0.3333333333333333,\"#9c179e\"],[0.4444444444444444,\"#bd3786\"],[0.5555555555555556,\"#d8576b\"],[0.6666666666666666,\"#ed7953\"],[0.7777777777777778,\"#fb9f3a\"],[0.8888888888888888,\"#fdca26\"],[1.0,\"#f0f921\"]]}],\"surface\":[{\"type\":\"surface\",\"colorbar\":{\"outlinewidth\":0,\"ticks\":\"\"},\"colorscale\":[[0.0,\"#0d0887\"],[0.1111111111111111,\"#46039f\"],[0.2222222222222222,\"#7201a8\"],[0.3333333333333333,\"#9c179e\"],[0.4444444444444444,\"#bd3786\"],[0.5555555555555556,\"#d8576b\"],[0.6666666666666666,\"#ed7953\"],[0.7777777777777778,\"#fb9f3a\"],[0.8888888888888888,\"#fdca26\"],[1.0,\"#f0f921\"]]}],\"mesh3d\":[{\"type\":\"mesh3d\",\"colorbar\":{\"outlinewidth\":0,\"ticks\":\"\"}}],\"scatter\":[{\"fillpattern\":{\"fillmode\":\"overlay\",\"size\":10,\"solidity\":0.2},\"type\":\"scatter\"}],\"parcoords\":[{\"type\":\"parcoords\",\"line\":{\"colorbar\":{\"outlinewidth\":0,\"ticks\":\"\"}}}],\"scatterpolargl\":[{\"type\":\"scatterpolargl\",\"marker\":{\"colorbar\":{\"outlinewidth\":0,\"ticks\":\"\"}}}],\"bar\":[{\"error_x\":{\"color\":\"#2a3f5f\"},\"error_y\":{\"color\":\"#2a3f5f\"},\"marker\":{\"line\":{\"color\":\"#E5ECF6\",\"width\":0.5},\"pattern\":{\"fillmode\":\"overlay\",\"size\":10,\"solidity\":0.2}},\"type\":\"bar\"}],\"scattergeo\":[{\"type\":\"scattergeo\",\"marker\":{\"colorbar\":{\"outlinewidth\":0,\"ticks\":\"\"}}}],\"scatterpolar\":[{\"type\":\"scatterpolar\",\"marker\":{\"colorbar\":{\"outlinewidth\":0,\"ticks\":\"\"}}}],\"histogram\":[{\"marker\":{\"pattern\":{\"fillmode\":\"overlay\",\"size\":10,\"solidity\":0.2}},\"type\":\"histogram\"}],\"scattergl\":[{\"type\":\"scattergl\",\"marker\":{\"colorbar\":{\"outlinewidth\":0,\"ticks\":\"\"}}}],\"scatter3d\":[{\"type\":\"scatter3d\",\"line\":{\"colorbar\":{\"outlinewidth\":0,\"ticks\":\"\"}},\"marker\":{\"colorbar\":{\"outlinewidth\":0,\"ticks\":\"\"}}}],\"scattermapbox\":[{\"type\":\"scattermapbox\",\"marker\":{\"colorbar\":{\"outlinewidth\":0,\"ticks\":\"\"}}}],\"scatterternary\":[{\"type\":\"scatterternary\",\"marker\":{\"colorbar\":{\"outlinewidth\":0,\"ticks\":\"\"}}}],\"scattercarpet\":[{\"type\":\"scattercarpet\",\"marker\":{\"colorbar\":{\"outlinewidth\":0,\"ticks\":\"\"}}}],\"carpet\":[{\"aaxis\":{\"endlinecolor\":\"#2a3f5f\",\"gridcolor\":\"white\",\"linecolor\":\"white\",\"minorgridcolor\":\"white\",\"startlinecolor\":\"#2a3f5f\"},\"baxis\":{\"endlinecolor\":\"#2a3f5f\",\"gridcolor\":\"white\",\"linecolor\":\"white\",\"minorgridcolor\":\"white\",\"startlinecolor\":\"#2a3f5f\"},\"type\":\"carpet\"}],\"table\":[{\"cells\":{\"fill\":{\"color\":\"#EBF0F8\"},\"line\":{\"color\":\"white\"}},\"header\":{\"fill\":{\"color\":\"#C8D4E3\"},\"line\":{\"color\":\"white\"}},\"type\":\"table\"}],\"barpolar\":[{\"marker\":{\"line\":{\"color\":\"#E5ECF6\",\"width\":0.5},\"pattern\":{\"fillmode\":\"overlay\",\"size\":10,\"solidity\":0.2}},\"type\":\"barpolar\"}],\"pie\":[{\"automargin\":true,\"type\":\"pie\"}]},\"layout\":{\"autotypenumbers\":\"strict\",\"colorway\":[\"#636efa\",\"#EF553B\",\"#00cc96\",\"#ab63fa\",\"#FFA15A\",\"#19d3f3\",\"#FF6692\",\"#B6E880\",\"#FF97FF\",\"#FECB52\"],\"font\":{\"color\":\"#2a3f5f\"},\"hovermode\":\"closest\",\"hoverlabel\":{\"align\":\"left\"},\"paper_bgcolor\":\"white\",\"plot_bgcolor\":\"#E5ECF6\",\"polar\":{\"bgcolor\":\"#E5ECF6\",\"angularaxis\":{\"gridcolor\":\"white\",\"linecolor\":\"white\",\"ticks\":\"\"},\"radialaxis\":{\"gridcolor\":\"white\",\"linecolor\":\"white\",\"ticks\":\"\"}},\"ternary\":{\"bgcolor\":\"#E5ECF6\",\"aaxis\":{\"gridcolor\":\"white\",\"linecolor\":\"white\",\"ticks\":\"\"},\"baxis\":{\"gridcolor\":\"white\",\"linecolor\":\"white\",\"ticks\":\"\"},\"caxis\":{\"gridcolor\":\"white\",\"linecolor\":\"white\",\"ticks\":\"\"}},\"coloraxis\":{\"colorbar\":{\"outlinewidth\":0,\"ticks\":\"\"}},\"colorscale\":{\"sequential\":[[0.0,\"#0d0887\"],[0.1111111111111111,\"#46039f\"],[0.2222222222222222,\"#7201a8\"],[0.3333333333333333,\"#9c179e\"],[0.4444444444444444,\"#bd3786\"],[0.5555555555555556,\"#d8576b\"],[0.6666666666666666,\"#ed7953\"],[0.7777777777777778,\"#fb9f3a\"],[0.8888888888888888,\"#fdca26\"],[1.0,\"#f0f921\"]],\"sequentialminus\":[[0.0,\"#0d0887\"],[0.1111111111111111,\"#46039f\"],[0.2222222222222222,\"#7201a8\"],[0.3333333333333333,\"#9c179e\"],[0.4444444444444444,\"#bd3786\"],[0.5555555555555556,\"#d8576b\"],[0.6666666666666666,\"#ed7953\"],[0.7777777777777778,\"#fb9f3a\"],[0.8888888888888888,\"#fdca26\"],[1.0,\"#f0f921\"]],\"diverging\":[[0,\"#8e0152\"],[0.1,\"#c51b7d\"],[0.2,\"#de77ae\"],[0.3,\"#f1b6da\"],[0.4,\"#fde0ef\"],[0.5,\"#f7f7f7\"],[0.6,\"#e6f5d0\"],[0.7,\"#b8e186\"],[0.8,\"#7fbc41\"],[0.9,\"#4d9221\"],[1,\"#276419\"]]},\"xaxis\":{\"gridcolor\":\"white\",\"linecolor\":\"white\",\"ticks\":\"\",\"title\":{\"standoff\":15},\"zerolinecolor\":\"white\",\"automargin\":true,\"zerolinewidth\":2},\"yaxis\":{\"gridcolor\":\"white\",\"linecolor\":\"white\",\"ticks\":\"\",\"title\":{\"standoff\":15},\"zerolinecolor\":\"white\",\"automargin\":true,\"zerolinewidth\":2},\"scene\":{\"xaxis\":{\"backgroundcolor\":\"#E5ECF6\",\"gridcolor\":\"white\",\"linecolor\":\"white\",\"showbackground\":true,\"ticks\":\"\",\"zerolinecolor\":\"white\",\"gridwidth\":2},\"yaxis\":{\"backgroundcolor\":\"#E5ECF6\",\"gridcolor\":\"white\",\"linecolor\":\"white\",\"showbackground\":true,\"ticks\":\"\",\"zerolinecolor\":\"white\",\"gridwidth\":2},\"zaxis\":{\"backgroundcolor\":\"#E5ECF6\",\"gridcolor\":\"white\",\"linecolor\":\"white\",\"showbackground\":true,\"ticks\":\"\",\"zerolinecolor\":\"white\",\"gridwidth\":2}},\"shapedefaults\":{\"line\":{\"color\":\"#2a3f5f\"}},\"annotationdefaults\":{\"arrowcolor\":\"#2a3f5f\",\"arrowhead\":0,\"arrowwidth\":1},\"geo\":{\"bgcolor\":\"white\",\"landcolor\":\"#E5ECF6\",\"subunitcolor\":\"white\",\"showland\":true,\"showlakes\":true,\"lakecolor\":\"white\"},\"title\":{\"x\":0.05},\"mapbox\":{\"style\":\"light\"}}},\"barmode\":\"overlay\"},                        {\"responsive\": true}                    ).then(function(){\n",
       "                            \n",
       "var gd = document.getElementById('296f01ad-c732-4fd0-9bf5-8cfcb2cc91f0');\n",
       "var x = new MutationObserver(function (mutations, observer) {{\n",
       "        var display = window.getComputedStyle(gd).display;\n",
       "        if (!display || display === 'none') {{\n",
       "            console.log([gd, 'removed!']);\n",
       "            Plotly.purge(gd);\n",
       "            observer.disconnect();\n",
       "        }}\n",
       "}});\n",
       "\n",
       "// Listen for the removal of the full notebook cells\n",
       "var notebookContainer = gd.closest('#notebook-container');\n",
       "if (notebookContainer) {{\n",
       "    x.observe(notebookContainer, {childList: true});\n",
       "}}\n",
       "\n",
       "// Listen for the clearing of the current output cell\n",
       "var outputEl = gd.closest('.output');\n",
       "if (outputEl) {{\n",
       "    x.observe(outputEl, {childList: true});\n",
       "}}\n",
       "\n",
       "                        })                };                });            </script>        </div>"
      ]
     },
     "metadata": {},
     "output_type": "display_data"
    }
   ],
   "source": [
    "fig = go.Figure()\n",
    "\n",
    "fig.add_trace(go.Histogram(x=hist_data(rs_df,5,5),histnorm='percent',name='RS',xbins={'start':0,'end':38,'size':1}))\n",
    "fig.add_trace(go.Histogram(x=hist_data(playoffs_df,5,1),histnorm='percent',name='Playoffs',xbins={'start':0,'end':38,'size':1}))\n",
    "\n",
    "fig.update_layout(barmode='overlay')\n",
    "fig.update_traces(opacity=0.5)\n",
    "\n",
    "fig.show()"
   ]
  },
  {
   "cell_type": "code",
   "execution_count": 64,
   "id": "79268798",
   "metadata": {
    "scrolled": true
   },
   "outputs": [
    {
     "data": {
      "text/plain": [
       "0.0"
      ]
     },
     "execution_count": 64,
     "metadata": {},
     "output_type": "execute_result"
    }
   ],
   "source": [
    "(((hist_data(playoffs_df,5,1)>=12) & (hist_data(playoffs_df,5,1)<=34))).mean()"
   ]
  },
  {
   "cell_type": "markdown",
   "id": "fc2066ce",
   "metadata": {},
   "source": [
    "# How has the game changed over the past 10 years"
   ]
  },
  {
   "cell_type": "code",
   "execution_count": 80,
   "id": "23eaf89d",
   "metadata": {
    "scrolled": true
   },
   "outputs": [
    {
     "data": {
      "text/html": [
       "<div>\n",
       "<style scoped>\n",
       "    .dataframe tbody tr th:only-of-type {\n",
       "        vertical-align: middle;\n",
       "    }\n",
       "\n",
       "    .dataframe tbody tr th {\n",
       "        vertical-align: top;\n",
       "    }\n",
       "\n",
       "    .dataframe thead th {\n",
       "        text-align: right;\n",
       "    }\n",
       "</style>\n",
       "<table border=\"1\" class=\"dataframe\">\n",
       "  <thead>\n",
       "    <tr style=\"text-align: right;\">\n",
       "      <th></th>\n",
       "      <th>season_start_year</th>\n",
       "      <th>MIN</th>\n",
       "      <th>POSS_est</th>\n",
       "      <th>FGM</th>\n",
       "      <th>FGA</th>\n",
       "      <th>FG3M</th>\n",
       "      <th>FG3A</th>\n",
       "      <th>FTM</th>\n",
       "      <th>FTA</th>\n",
       "      <th>OREB</th>\n",
       "      <th>DREB</th>\n",
       "      <th>REB</th>\n",
       "      <th>AST</th>\n",
       "      <th>STL</th>\n",
       "      <th>BLK</th>\n",
       "      <th>TOV</th>\n",
       "      <th>PTS</th>\n",
       "      <th>FG%</th>\n",
       "      <th>3PT%</th>\n",
       "      <th>FT%</th>\n",
       "      <th>FG3A%</th>\n",
       "      <th>PTS/FGA</th>\n",
       "      <th>FTA/FGA</th>\n",
       "      <th>TRU%</th>\n",
       "      <th>AST_TOV</th>\n",
       "    </tr>\n",
       "  </thead>\n",
       "  <tbody>\n",
       "    <tr>\n",
       "      <th>0</th>\n",
       "      <td>2012</td>\n",
       "      <td>8404.6</td>\n",
       "      <td>3348.172</td>\n",
       "      <td>1298.8</td>\n",
       "      <td>2874.7</td>\n",
       "      <td>253.5</td>\n",
       "      <td>710.2</td>\n",
       "      <td>626.2</td>\n",
       "      <td>831.3</td>\n",
       "      <td>377.2</td>\n",
       "      <td>1080.8</td>\n",
       "      <td>1456.9</td>\n",
       "      <td>737.0</td>\n",
       "      <td>260.6</td>\n",
       "      <td>174.4</td>\n",
       "      <td>484.9</td>\n",
       "      <td>3476.4</td>\n",
       "      <td>0.451804</td>\n",
       "      <td>0.356942</td>\n",
       "      <td>0.753278</td>\n",
       "      <td>0.247052</td>\n",
       "      <td>1.209309</td>\n",
       "      <td>0.289178</td>\n",
       "      <td>0.531630</td>\n",
       "      <td>1.519901</td>\n",
       "    </tr>\n",
       "    <tr>\n",
       "      <th>1</th>\n",
       "      <td>2013</td>\n",
       "      <td>10557.4</td>\n",
       "      <td>4206.136</td>\n",
       "      <td>1641.1</td>\n",
       "      <td>3613.3</td>\n",
       "      <td>342.7</td>\n",
       "      <td>956.5</td>\n",
       "      <td>815.1</td>\n",
       "      <td>1071.9</td>\n",
       "      <td>467.9</td>\n",
       "      <td>1368.1</td>\n",
       "      <td>1835.6</td>\n",
       "      <td>934.4</td>\n",
       "      <td>321.3</td>\n",
       "      <td>199.8</td>\n",
       "      <td>589.1</td>\n",
       "      <td>4435.7</td>\n",
       "      <td>0.454183</td>\n",
       "      <td>0.358285</td>\n",
       "      <td>0.760425</td>\n",
       "      <td>0.264716</td>\n",
       "      <td>1.227604</td>\n",
       "      <td>0.296654</td>\n",
       "      <td>0.537993</td>\n",
       "      <td>1.586148</td>\n",
       "    </tr>\n",
       "    <tr>\n",
       "      <th>2</th>\n",
       "      <td>2014</td>\n",
       "      <td>10453.0</td>\n",
       "      <td>4201.076</td>\n",
       "      <td>1633.5</td>\n",
       "      <td>3648.9</td>\n",
       "      <td>345.5</td>\n",
       "      <td>987.5</td>\n",
       "      <td>766.6</td>\n",
       "      <td>1022.9</td>\n",
       "      <td>475.5</td>\n",
       "      <td>1426.9</td>\n",
       "      <td>1898.5</td>\n",
       "      <td>946.3</td>\n",
       "      <td>330.7</td>\n",
       "      <td>214.3</td>\n",
       "      <td>577.6</td>\n",
       "      <td>4375.1</td>\n",
       "      <td>0.447669</td>\n",
       "      <td>0.349873</td>\n",
       "      <td>0.749438</td>\n",
       "      <td>0.270630</td>\n",
       "      <td>1.199019</td>\n",
       "      <td>0.280331</td>\n",
       "      <td>0.529061</td>\n",
       "      <td>1.638331</td>\n",
       "    </tr>\n",
       "    <tr>\n",
       "      <th>3</th>\n",
       "      <td>2015</td>\n",
       "      <td>10432.3</td>\n",
       "      <td>4202.760</td>\n",
       "      <td>1624.2</td>\n",
       "      <td>3638.0</td>\n",
       "      <td>372.1</td>\n",
       "      <td>1060.3</td>\n",
       "      <td>763.5</td>\n",
       "      <td>1014.0</td>\n",
       "      <td>455.3</td>\n",
       "      <td>1434.1</td>\n",
       "      <td>1888.0</td>\n",
       "      <td>916.6</td>\n",
       "      <td>331.4</td>\n",
       "      <td>215.9</td>\n",
       "      <td>573.9</td>\n",
       "      <td>4382.5</td>\n",
       "      <td>0.446454</td>\n",
       "      <td>0.350938</td>\n",
       "      <td>0.752959</td>\n",
       "      <td>0.291451</td>\n",
       "      <td>1.204645</td>\n",
       "      <td>0.278725</td>\n",
       "      <td>0.531902</td>\n",
       "      <td>1.597142</td>\n",
       "    </tr>\n",
       "    <tr>\n",
       "      <th>4</th>\n",
       "      <td>2016</td>\n",
       "      <td>10489.6</td>\n",
       "      <td>4313.692</td>\n",
       "      <td>1701.7</td>\n",
       "      <td>3713.4</td>\n",
       "      <td>433.3</td>\n",
       "      <td>1211.5</td>\n",
       "      <td>807.5</td>\n",
       "      <td>1039.3</td>\n",
       "      <td>433.4</td>\n",
       "      <td>1432.2</td>\n",
       "      <td>1862.9</td>\n",
       "      <td>982.4</td>\n",
       "      <td>331.6</td>\n",
       "      <td>203.1</td>\n",
       "      <td>576.4</td>\n",
       "      <td>4642.8</td>\n",
       "      <td>0.458259</td>\n",
       "      <td>0.357656</td>\n",
       "      <td>0.776965</td>\n",
       "      <td>0.326251</td>\n",
       "      <td>1.250283</td>\n",
       "      <td>0.279878</td>\n",
       "      <td>0.551786</td>\n",
       "      <td>1.704372</td>\n",
       "    </tr>\n",
       "    <tr>\n",
       "      <th>5</th>\n",
       "      <td>2017</td>\n",
       "      <td>6293.6</td>\n",
       "      <td>2602.492</td>\n",
       "      <td>1046.6</td>\n",
       "      <td>2250.9</td>\n",
       "      <td>275.0</td>\n",
       "      <td>751.9</td>\n",
       "      <td>440.8</td>\n",
       "      <td>571.8</td>\n",
       "      <td>253.4</td>\n",
       "      <td>880.3</td>\n",
       "      <td>1133.1</td>\n",
       "      <td>605.1</td>\n",
       "      <td>203.0</td>\n",
       "      <td>126.4</td>\n",
       "      <td>353.4</td>\n",
       "      <td>2809.8</td>\n",
       "      <td>0.464970</td>\n",
       "      <td>0.365740</td>\n",
       "      <td>0.770899</td>\n",
       "      <td>0.334044</td>\n",
       "      <td>1.248301</td>\n",
       "      <td>0.254032</td>\n",
       "      <td>0.556946</td>\n",
       "      <td>1.712224</td>\n",
       "    </tr>\n",
       "    <tr>\n",
       "      <th>6</th>\n",
       "      <td>2018</td>\n",
       "      <td>10152.9</td>\n",
       "      <td>4313.064</td>\n",
       "      <td>1701.1</td>\n",
       "      <td>3745.5</td>\n",
       "      <td>476.6</td>\n",
       "      <td>1357.1</td>\n",
       "      <td>783.9</td>\n",
       "      <td>1010.6</td>\n",
       "      <td>438.7</td>\n",
       "      <td>1458.9</td>\n",
       "      <td>1895.8</td>\n",
       "      <td>1001.9</td>\n",
       "      <td>313.1</td>\n",
       "      <td>204.3</td>\n",
       "      <td>561.6</td>\n",
       "      <td>4659.2</td>\n",
       "      <td>0.454172</td>\n",
       "      <td>0.351190</td>\n",
       "      <td>0.775678</td>\n",
       "      <td>0.362328</td>\n",
       "      <td>1.243946</td>\n",
       "      <td>0.269817</td>\n",
       "      <td>0.551315</td>\n",
       "      <td>1.784010</td>\n",
       "    </tr>\n",
       "    <tr>\n",
       "      <th>7</th>\n",
       "      <td>2019</td>\n",
       "      <td>10354.7</td>\n",
       "      <td>4459.564</td>\n",
       "      <td>1737.8</td>\n",
       "      <td>3808.3</td>\n",
       "      <td>555.2</td>\n",
       "      <td>1535.2</td>\n",
       "      <td>805.6</td>\n",
       "      <td>1030.6</td>\n",
       "      <td>398.0</td>\n",
       "      <td>1476.4</td>\n",
       "      <td>1873.4</td>\n",
       "      <td>1038.1</td>\n",
       "      <td>316.6</td>\n",
       "      <td>195.3</td>\n",
       "      <td>595.8</td>\n",
       "      <td>4833.1</td>\n",
       "      <td>0.456319</td>\n",
       "      <td>0.361647</td>\n",
       "      <td>0.781681</td>\n",
       "      <td>0.403120</td>\n",
       "      <td>1.269096</td>\n",
       "      <td>0.270619</td>\n",
       "      <td>0.562271</td>\n",
       "      <td>1.742363</td>\n",
       "    </tr>\n",
       "    <tr>\n",
       "      <th>8</th>\n",
       "      <td>2020</td>\n",
       "      <td>9662.4</td>\n",
       "      <td>4057.904</td>\n",
       "      <td>1654.0</td>\n",
       "      <td>3545.7</td>\n",
       "      <td>508.6</td>\n",
       "      <td>1378.7</td>\n",
       "      <td>710.1</td>\n",
       "      <td>904.1</td>\n",
       "      <td>394.6</td>\n",
       "      <td>1350.5</td>\n",
       "      <td>1745.3</td>\n",
       "      <td>964.4</td>\n",
       "      <td>288.5</td>\n",
       "      <td>182.8</td>\n",
       "      <td>509.0</td>\n",
       "      <td>4525.8</td>\n",
       "      <td>0.466481</td>\n",
       "      <td>0.368898</td>\n",
       "      <td>0.785422</td>\n",
       "      <td>0.388837</td>\n",
       "      <td>1.276419</td>\n",
       "      <td>0.254985</td>\n",
       "      <td>0.569262</td>\n",
       "      <td>1.894695</td>\n",
       "    </tr>\n",
       "    <tr>\n",
       "      <th>9</th>\n",
       "      <td>2021</td>\n",
       "      <td>9645.7</td>\n",
       "      <td>4051.844</td>\n",
       "      <td>1615.4</td>\n",
       "      <td>3507.5</td>\n",
       "      <td>506.8</td>\n",
       "      <td>1419.9</td>\n",
       "      <td>708.8</td>\n",
       "      <td>905.1</td>\n",
       "      <td>384.1</td>\n",
       "      <td>1339.6</td>\n",
       "      <td>1725.0</td>\n",
       "      <td>977.5</td>\n",
       "      <td>296.1</td>\n",
       "      <td>182.8</td>\n",
       "      <td>530.2</td>\n",
       "      <td>4444.1</td>\n",
       "      <td>0.460556</td>\n",
       "      <td>0.356927</td>\n",
       "      <td>0.783118</td>\n",
       "      <td>0.404818</td>\n",
       "      <td>1.267028</td>\n",
       "      <td>0.258047</td>\n",
       "      <td>0.564341</td>\n",
       "      <td>1.843644</td>\n",
       "    </tr>\n",
       "  </tbody>\n",
       "</table>\n",
       "</div>"
      ],
      "text/plain": [
       "   season_start_year      MIN  POSS_est     FGM     FGA   FG3M    FG3A    FTM  \\\n",
       "0               2012   8404.6  3348.172  1298.8  2874.7  253.5   710.2  626.2   \n",
       "1               2013  10557.4  4206.136  1641.1  3613.3  342.7   956.5  815.1   \n",
       "2               2014  10453.0  4201.076  1633.5  3648.9  345.5   987.5  766.6   \n",
       "3               2015  10432.3  4202.760  1624.2  3638.0  372.1  1060.3  763.5   \n",
       "4               2016  10489.6  4313.692  1701.7  3713.4  433.3  1211.5  807.5   \n",
       "5               2017   6293.6  2602.492  1046.6  2250.9  275.0   751.9  440.8   \n",
       "6               2018  10152.9  4313.064  1701.1  3745.5  476.6  1357.1  783.9   \n",
       "7               2019  10354.7  4459.564  1737.8  3808.3  555.2  1535.2  805.6   \n",
       "8               2020   9662.4  4057.904  1654.0  3545.7  508.6  1378.7  710.1   \n",
       "9               2021   9645.7  4051.844  1615.4  3507.5  506.8  1419.9  708.8   \n",
       "\n",
       "      FTA   OREB    DREB     REB     AST    STL    BLK    TOV     PTS  \\\n",
       "0   831.3  377.2  1080.8  1456.9   737.0  260.6  174.4  484.9  3476.4   \n",
       "1  1071.9  467.9  1368.1  1835.6   934.4  321.3  199.8  589.1  4435.7   \n",
       "2  1022.9  475.5  1426.9  1898.5   946.3  330.7  214.3  577.6  4375.1   \n",
       "3  1014.0  455.3  1434.1  1888.0   916.6  331.4  215.9  573.9  4382.5   \n",
       "4  1039.3  433.4  1432.2  1862.9   982.4  331.6  203.1  576.4  4642.8   \n",
       "5   571.8  253.4   880.3  1133.1   605.1  203.0  126.4  353.4  2809.8   \n",
       "6  1010.6  438.7  1458.9  1895.8  1001.9  313.1  204.3  561.6  4659.2   \n",
       "7  1030.6  398.0  1476.4  1873.4  1038.1  316.6  195.3  595.8  4833.1   \n",
       "8   904.1  394.6  1350.5  1745.3   964.4  288.5  182.8  509.0  4525.8   \n",
       "9   905.1  384.1  1339.6  1725.0   977.5  296.1  182.8  530.2  4444.1   \n",
       "\n",
       "        FG%      3PT%       FT%     FG3A%   PTS/FGA   FTA/FGA      TRU%  \\\n",
       "0  0.451804  0.356942  0.753278  0.247052  1.209309  0.289178  0.531630   \n",
       "1  0.454183  0.358285  0.760425  0.264716  1.227604  0.296654  0.537993   \n",
       "2  0.447669  0.349873  0.749438  0.270630  1.199019  0.280331  0.529061   \n",
       "3  0.446454  0.350938  0.752959  0.291451  1.204645  0.278725  0.531902   \n",
       "4  0.458259  0.357656  0.776965  0.326251  1.250283  0.279878  0.551786   \n",
       "5  0.464970  0.365740  0.770899  0.334044  1.248301  0.254032  0.556946   \n",
       "6  0.454172  0.351190  0.775678  0.362328  1.243946  0.269817  0.551315   \n",
       "7  0.456319  0.361647  0.781681  0.403120  1.269096  0.270619  0.562271   \n",
       "8  0.466481  0.368898  0.785422  0.388837  1.276419  0.254985  0.569262   \n",
       "9  0.460556  0.356927  0.783118  0.404818  1.267028  0.258047  0.564341   \n",
       "\n",
       "    AST_TOV  \n",
       "0  1.519901  \n",
       "1  1.586148  \n",
       "2  1.638331  \n",
       "3  1.597142  \n",
       "4  1.704372  \n",
       "5  1.712224  \n",
       "6  1.784010  \n",
       "7  1.742363  \n",
       "8  1.894695  \n",
       "9  1.843644  "
      ]
     },
     "execution_count": 80,
     "metadata": {},
     "output_type": "execute_result"
    }
   ],
   "source": [
    "change_df = data.groupby('season_start_year')[total_cols].sum().reset_index()\n",
    "change_df['POSS_est'] = change_df['FGA'] - change_df['OREB'] + change_df['TOV'] + 0.44*change_df['FTA']\n",
    "change_df = change_df[list(change_df.columns[0:2]) + ['POSS_est'] + list(change_df.columns[2:-1])]\n",
    "\n",
    "change_df['FG%'] = change_df['FGM'] / change_df['FGA']\n",
    "change_df['3PT%'] = change_df['FG3M'] / change_df['FG3A']\n",
    "change_df['FT%'] = change_df['FTM'] / change_df['FTA']\n",
    "change_df['FG3A%']= change_df['FG3A'] / change_df['FGA']\n",
    "change_df['PTS/FGA'] = change_df['PTS']/change_df['FGA']\n",
    "change_df['FTA/FGA'] = change_df['FTA'] / change_df['FGA']\n",
    "change_df['TRU%'] = 0.5*change_df['PTS'] / (change_df['FGA']+0.475*change_df['FTA'])\n",
    "change_df['AST_TOV'] = change_df['AST'] / change_df['TOV']\n",
    "\n",
    "change_df"
   ]
  },
  {
   "cell_type": "code",
   "execution_count": 104,
   "id": "afe427db",
   "metadata": {},
   "outputs": [],
   "source": [
    "change_per48_df = change_df.copy()\n",
    "change_per100_df = change_df.copy()"
   ]
  },
  {
   "cell_type": "code",
   "execution_count": 105,
   "id": "d63e5436",
   "metadata": {},
   "outputs": [
    {
     "data": {
      "text/plain": [
       "Index(['POSS_est', 'FGM', 'FGA', 'FG3M', 'FG3A', 'FTM', 'FTA', 'OREB', 'DREB',\n",
       "       'REB', 'AST', 'STL', 'BLK', 'TOV', 'PTS', 'FG%', '3PT%', 'FT%'],\n",
       "      dtype='object')"
      ]
     },
     "execution_count": 105,
     "metadata": {},
     "output_type": "execute_result"
    }
   ],
   "source": [
    "change_per48_df.columns[2:20]"
   ]
  },
  {
   "cell_type": "code",
   "execution_count": 106,
   "id": "912e58ba",
   "metadata": {
    "scrolled": true
   },
   "outputs": [
    {
     "data": {
      "application/vnd.plotly.v1+json": {
       "config": {
        "plotlyServerURL": "https://plot.ly"
       },
       "data": [
        {
         "name": "POSS_est",
         "type": "scatter",
         "x": [
          2012,
          2013,
          2014,
          2015,
          2016,
          2017,
          2018,
          2019,
          2020,
          2021
         ],
         "y": [
          95.60969945030102,
          95.61754219788965,
          96.45635128671195,
          96.68648332582461,
          98.6964307504576,
          99.24337104359985,
          101.95464941051327,
          103.36324181289656,
          100.79244908097367,
          100.81617300973491
         ]
        },
        {
         "name": "FGM",
         "type": "scatter",
         "x": [
          2012,
          2013,
          2014,
          2015,
          2016,
          2017,
          2018,
          2019,
          2020,
          2021
         ],
         "y": [
          37.08826119030054,
          37.30691268683578,
          37.505022481584234,
          37.3654898727989,
          38.93456375838926,
          39.911020719461035,
          40.21156516857253,
          40.27852086492124,
          41.082960755091904,
          40.193661424261585
         ]
        },
        {
         "name": "FGA",
         "type": "scatter",
         "x": [
          2012,
          2013,
          2014,
          2015,
          2016,
          2017,
          2018,
          2019,
          2020,
          2021
         ],
         "y": [
          82.08933203245842,
          82.14067857616459,
          83.77843681239835,
          83.69391217660535,
          84.96186699206834,
          85.83576967077664,
          88.5382501551281,
          88.2683225974678,
          88.07004470938898,
          87.27204868490622
         ]
        },
        {
         "name": "FG3M",
         "type": "scatter",
         "x": [
          2012,
          2013,
          2014,
          2015,
          2016,
          2017,
          2018,
          2019,
          2020,
          2021
         ],
         "y": [
          7.23889298717369,
          7.790554492583402,
          7.932650913613317,
          8.560336646760543,
          9.913819402074436,
          10.486843777806026,
          11.266140708566027,
          12.868359295778728,
          12.632886239443618,
          12.609971282540407
         ]
        },
        {
         "name": "FG3A",
         "type": "scatter",
         "x": [
          2012,
          2013,
          2014,
          2015,
          2016,
          2017,
          2018,
          2019,
          2020,
          2021
         ],
         "y": [
          20.280322680436903,
          21.74398999753727,
          22.67291686597149,
          24.39270343069122,
          27.71888346552776,
          28.67293758739036,
          32.079898354164825,
          35.582682260229646,
          34.244908097367116,
          35.32931772707009
         ]
        },
        {
         "name": "FTM",
         "type": "scatter",
         "x": [
          2012,
          2013,
          2014,
          2015,
          2016,
          2017,
          2018,
          2019,
          2020,
          2021
         ],
         "y": [
          17.88163624681722,
          18.52956220281509,
          17.60107146273797,
          17.564678929862065,
          18.475442342892006,
          16.809457226388712,
          18.53027213899477,
          18.6721005920017,
          17.63785394932936,
          17.63604507708098
         ]
        },
        {
         "name": "FTA",
         "type": "scatter",
         "x": [
          2012,
          2013,
          2014,
          2015,
          2016,
          2017,
          2018,
          2019,
          2020,
          2021
         ],
         "y": [
          23.738428955571944,
          24.367363176539683,
          23.48569788577442,
          23.327550012940577,
          23.778981086028065,
          21.805008262361763,
          23.88913512395473,
          23.887123721595017,
          22.45653253849975,
          22.52029401702313
         ]
        },
        {
         "name": "OREB",
         "type": "scatter",
         "x": [
          2012,
          2013,
          2014,
          2015,
          2016,
          2017,
          2018,
          2019,
          2020,
          2021
         ],
         "y": [
          10.771244318587438,
          10.636709795972495,
          10.91743996938678,
          10.474392032437718,
          9.916107382550335,
          9.663149866531079,
          10.37023904500192,
          9.224796469236193,
          9.801291604570293,
          9.557004675658584
         ]
        },
        {
         "name": "DREB",
         "type": "scatter",
         "x": [
          2012,
          2013,
          2014,
          2015,
          2016,
          2017,
          2018,
          2019,
          2020,
          2021
         ],
         "y": [
          30.86309877923994,
          31.10083922177809,
          32.7615038744858,
          32.99214938220718,
          32.76845637583893,
          33.56934028219143,
          34.4863044056378,
          34.21982288236259,
          33.544461003477394,
          33.331328985973016
         ]
        },
        {
         "name": "REB",
         "type": "scatter",
         "x": [
          2012,
          2013,
          2014,
          2015,
          2016,
          2017,
          2018,
          2019,
          2020,
          2021
         ],
         "y": [
          41.60293172786332,
          41.72845586981643,
          43.58940017219936,
          43.43433375190514,
          42.62278828553996,
          43.2096097622982,
          44.813994031262006,
          43.42144147102282,
          43.35072031793344,
          42.920679681101426
         ]
        },
        {
         "name": "AST",
         "type": "scatter",
         "x": [
          2012,
          2013,
          2014,
          2015,
          2016,
          2017,
          2018,
          2019,
          2020,
          2021
         ],
         "y": [
          21.04561787592509,
          21.24159357417546,
          21.726968334449438,
          21.086816905188694,
          22.477120195241,
          23.07486970891064,
          23.683479596962442,
          24.060957825914798,
          23.954297069051165,
          24.321718485957472
         ]
        },
        {
         "name": "STL",
         "type": "scatter",
         "x": [
          2012,
          2013,
          2014,
          2015,
          2016,
          2017,
          2018,
          2019,
          2020,
          2021
         ],
         "y": [
          7.441639102396307,
          7.304071078106352,
          7.592844159571415,
          7.624013879968943,
          7.586943258084197,
          7.741197406889539,
          7.4012351150902695,
          7.338116990352207,
          7.165921510183805,
          7.367427973086453
         ]
        },
        {
         "name": "BLK",
         "type": "scatter",
         "x": [
          2012,
          2013,
          2014,
          2015,
          2016,
          2017,
          2018,
          2019,
          2020,
          2021
         ],
         "y": [
          4.980129928848488,
          4.542027393108152,
          4.920309958863484,
          4.966881703938729,
          4.6468883465527755,
          4.820134740053388,
          4.829359099370624,
          4.526640076487006,
          4.540486835568803,
          4.548347968524834
         ]
        },
        {
         "name": "TOV",
         "type": "scatter",
         "x": [
          2012,
          2013,
          2014,
          2015,
          2016,
          2017,
          2018,
          2019,
          2020,
          2021
         ],
         "y": [
          13.846702995978394,
          13.391933620020083,
          13.26164737395963,
          13.202841175963114,
          13.187919463087248,
          13.476547603915085,
          13.275418845847,
          13.809381247163122,
          12.642821659215102,
          13.192199632997088
         ]
        },
        {
         "name": "PTS",
         "type": "scatter",
         "x": [
          2012,
          2013,
          2014,
          2015,
          2016,
          2017,
          2018,
          2019,
          2020,
          2021
         ],
         "y": [
          99.27135140280322,
          100.83619072877792,
          100.45192767626519,
          100.8214871121421,
          106.22635753508236,
          107.14884962501588,
          110.13680820258251,
          112.02101461172221,
          112.41430700447096,
          110.57611163523643
         ]
        },
        {
         "name": "FG%",
         "type": "scatter",
         "x": [
          2012,
          2013,
          2014,
          2015,
          2016,
          2017,
          2018,
          2019,
          2020,
          2021
         ],
         "y": [
          0.012901611016906303,
          0.010324886582026339,
          0.01027844623902662,
          0.010270887815502722,
          0.010484882791616646,
          0.017731138975281457,
          0.010735967205599394,
          0.010576509430696436,
          0.011586699595310352,
          0.011459347519390331
         ]
        },
        {
         "name": "3PT%",
         "type": "scatter",
         "x": [
          2012,
          2013,
          2014,
          2015,
          2016,
          2017,
          2018,
          2019,
          2020,
          2021
         ],
         "y": [
          0.35694170656153196,
          0.3582854155776268,
          0.349873417721519,
          0.35093841365651235,
          0.35765579859678087,
          0.36574012501662456,
          0.3511900375801342,
          0.361646690984888,
          0.3688982374700805,
          0.35692654412282554
         ]
        },
        {
         "name": "FT%",
         "type": "scatter",
         "x": [
          2012,
          2013,
          2014,
          2015,
          2016,
          2017,
          2018,
          2019,
          2020,
          2021
         ],
         "y": [
          0.7532779983158908,
          0.7604254128183598,
          0.7494378727148304,
          0.7529585798816568,
          0.7769652650822669,
          0.770898915704792,
          0.7756778151593112,
          0.7816805744226665,
          0.7854219665966155,
          0.7831178875262401
         ]
        },
        {
         "name": "FG3A%",
         "type": "scatter",
         "x": [
          2012,
          2013,
          2014,
          2015,
          2016,
          2017,
          2018,
          2019,
          2020,
          2021
         ],
         "y": [
          0.24705186628169898,
          0.2647164641740237,
          0.27062950478226316,
          0.29145134689389773,
          0.3262508752087036,
          0.3340441601137323,
          0.36232812708583634,
          0.4031195021400625,
          0.38883718306681336,
          0.40481824661439775
         ]
        },
        {
         "name": "PTS/FGA",
         "type": "scatter",
         "x": [
          2012,
          2013,
          2014,
          2015,
          2016,
          2017,
          2018,
          2019,
          2020,
          2021
         ],
         "y": [
          1.209308797439733,
          1.2276035756787422,
          1.199018882402916,
          1.2046454095656955,
          1.2502827597350137,
          1.2483006797281089,
          1.243946068615672,
          1.2690964472336739,
          1.2764193248159743,
          1.2670277975766215
         ]
        },
        {
         "name": "FTA/FGA",
         "type": "scatter",
         "x": [
          2012,
          2013,
          2014,
          2015,
          2016,
          2017,
          2018,
          2019,
          2020,
          2021
         ],
         "y": [
          0.2891780011827321,
          0.29665402817369163,
          0.2803310586752172,
          0.27872457394172623,
          0.2798782786664512,
          0.2540317206450753,
          0.2698171138699773,
          0.27061943649397363,
          0.25498491130101253,
          0.25804704205274415
         ]
        },
        {
         "name": "TRU%",
         "type": "scatter",
         "x": [
          2012,
          2013,
          2014,
          2015,
          2016,
          2017,
          2018,
          2019,
          2020,
          2021
         ],
         "y": [
          0.5316299479977092,
          0.5379928574070896,
          0.5290611163478567,
          0.5319019819644873,
          0.5517857747706687,
          0.5569463687881689,
          0.5513148039242368,
          0.5622714692397451,
          0.5692618953133186,
          0.5643412663995292
         ]
        },
        {
         "name": "AST_TOV",
         "type": "scatter",
         "x": [
          2012,
          2013,
          2014,
          2015,
          2016,
          2017,
          2018,
          2019,
          2020,
          2021
         ],
         "y": [
          1.5199010105176325,
          1.5861483619079952,
          1.6383310249307477,
          1.5971423592960448,
          1.7043719639139487,
          1.7122241086587437,
          1.7840099715099713,
          1.7423632091305807,
          1.894695481335953,
          1.8436439079592606
         ]
        }
       ],
       "layout": {
        "template": {
         "data": {
          "bar": [
           {
            "error_x": {
             "color": "#2a3f5f"
            },
            "error_y": {
             "color": "#2a3f5f"
            },
            "marker": {
             "line": {
              "color": "#E5ECF6",
              "width": 0.5
             },
             "pattern": {
              "fillmode": "overlay",
              "size": 10,
              "solidity": 0.2
             }
            },
            "type": "bar"
           }
          ],
          "barpolar": [
           {
            "marker": {
             "line": {
              "color": "#E5ECF6",
              "width": 0.5
             },
             "pattern": {
              "fillmode": "overlay",
              "size": 10,
              "solidity": 0.2
             }
            },
            "type": "barpolar"
           }
          ],
          "carpet": [
           {
            "aaxis": {
             "endlinecolor": "#2a3f5f",
             "gridcolor": "white",
             "linecolor": "white",
             "minorgridcolor": "white",
             "startlinecolor": "#2a3f5f"
            },
            "baxis": {
             "endlinecolor": "#2a3f5f",
             "gridcolor": "white",
             "linecolor": "white",
             "minorgridcolor": "white",
             "startlinecolor": "#2a3f5f"
            },
            "type": "carpet"
           }
          ],
          "choropleth": [
           {
            "colorbar": {
             "outlinewidth": 0,
             "ticks": ""
            },
            "type": "choropleth"
           }
          ],
          "contour": [
           {
            "colorbar": {
             "outlinewidth": 0,
             "ticks": ""
            },
            "colorscale": [
             [
              0,
              "#0d0887"
             ],
             [
              0.1111111111111111,
              "#46039f"
             ],
             [
              0.2222222222222222,
              "#7201a8"
             ],
             [
              0.3333333333333333,
              "#9c179e"
             ],
             [
              0.4444444444444444,
              "#bd3786"
             ],
             [
              0.5555555555555556,
              "#d8576b"
             ],
             [
              0.6666666666666666,
              "#ed7953"
             ],
             [
              0.7777777777777778,
              "#fb9f3a"
             ],
             [
              0.8888888888888888,
              "#fdca26"
             ],
             [
              1,
              "#f0f921"
             ]
            ],
            "type": "contour"
           }
          ],
          "contourcarpet": [
           {
            "colorbar": {
             "outlinewidth": 0,
             "ticks": ""
            },
            "type": "contourcarpet"
           }
          ],
          "heatmap": [
           {
            "colorbar": {
             "outlinewidth": 0,
             "ticks": ""
            },
            "colorscale": [
             [
              0,
              "#0d0887"
             ],
             [
              0.1111111111111111,
              "#46039f"
             ],
             [
              0.2222222222222222,
              "#7201a8"
             ],
             [
              0.3333333333333333,
              "#9c179e"
             ],
             [
              0.4444444444444444,
              "#bd3786"
             ],
             [
              0.5555555555555556,
              "#d8576b"
             ],
             [
              0.6666666666666666,
              "#ed7953"
             ],
             [
              0.7777777777777778,
              "#fb9f3a"
             ],
             [
              0.8888888888888888,
              "#fdca26"
             ],
             [
              1,
              "#f0f921"
             ]
            ],
            "type": "heatmap"
           }
          ],
          "heatmapgl": [
           {
            "colorbar": {
             "outlinewidth": 0,
             "ticks": ""
            },
            "colorscale": [
             [
              0,
              "#0d0887"
             ],
             [
              0.1111111111111111,
              "#46039f"
             ],
             [
              0.2222222222222222,
              "#7201a8"
             ],
             [
              0.3333333333333333,
              "#9c179e"
             ],
             [
              0.4444444444444444,
              "#bd3786"
             ],
             [
              0.5555555555555556,
              "#d8576b"
             ],
             [
              0.6666666666666666,
              "#ed7953"
             ],
             [
              0.7777777777777778,
              "#fb9f3a"
             ],
             [
              0.8888888888888888,
              "#fdca26"
             ],
             [
              1,
              "#f0f921"
             ]
            ],
            "type": "heatmapgl"
           }
          ],
          "histogram": [
           {
            "marker": {
             "pattern": {
              "fillmode": "overlay",
              "size": 10,
              "solidity": 0.2
             }
            },
            "type": "histogram"
           }
          ],
          "histogram2d": [
           {
            "colorbar": {
             "outlinewidth": 0,
             "ticks": ""
            },
            "colorscale": [
             [
              0,
              "#0d0887"
             ],
             [
              0.1111111111111111,
              "#46039f"
             ],
             [
              0.2222222222222222,
              "#7201a8"
             ],
             [
              0.3333333333333333,
              "#9c179e"
             ],
             [
              0.4444444444444444,
              "#bd3786"
             ],
             [
              0.5555555555555556,
              "#d8576b"
             ],
             [
              0.6666666666666666,
              "#ed7953"
             ],
             [
              0.7777777777777778,
              "#fb9f3a"
             ],
             [
              0.8888888888888888,
              "#fdca26"
             ],
             [
              1,
              "#f0f921"
             ]
            ],
            "type": "histogram2d"
           }
          ],
          "histogram2dcontour": [
           {
            "colorbar": {
             "outlinewidth": 0,
             "ticks": ""
            },
            "colorscale": [
             [
              0,
              "#0d0887"
             ],
             [
              0.1111111111111111,
              "#46039f"
             ],
             [
              0.2222222222222222,
              "#7201a8"
             ],
             [
              0.3333333333333333,
              "#9c179e"
             ],
             [
              0.4444444444444444,
              "#bd3786"
             ],
             [
              0.5555555555555556,
              "#d8576b"
             ],
             [
              0.6666666666666666,
              "#ed7953"
             ],
             [
              0.7777777777777778,
              "#fb9f3a"
             ],
             [
              0.8888888888888888,
              "#fdca26"
             ],
             [
              1,
              "#f0f921"
             ]
            ],
            "type": "histogram2dcontour"
           }
          ],
          "mesh3d": [
           {
            "colorbar": {
             "outlinewidth": 0,
             "ticks": ""
            },
            "type": "mesh3d"
           }
          ],
          "parcoords": [
           {
            "line": {
             "colorbar": {
              "outlinewidth": 0,
              "ticks": ""
             }
            },
            "type": "parcoords"
           }
          ],
          "pie": [
           {
            "automargin": true,
            "type": "pie"
           }
          ],
          "scatter": [
           {
            "fillpattern": {
             "fillmode": "overlay",
             "size": 10,
             "solidity": 0.2
            },
            "type": "scatter"
           }
          ],
          "scatter3d": [
           {
            "line": {
             "colorbar": {
              "outlinewidth": 0,
              "ticks": ""
             }
            },
            "marker": {
             "colorbar": {
              "outlinewidth": 0,
              "ticks": ""
             }
            },
            "type": "scatter3d"
           }
          ],
          "scattercarpet": [
           {
            "marker": {
             "colorbar": {
              "outlinewidth": 0,
              "ticks": ""
             }
            },
            "type": "scattercarpet"
           }
          ],
          "scattergeo": [
           {
            "marker": {
             "colorbar": {
              "outlinewidth": 0,
              "ticks": ""
             }
            },
            "type": "scattergeo"
           }
          ],
          "scattergl": [
           {
            "marker": {
             "colorbar": {
              "outlinewidth": 0,
              "ticks": ""
             }
            },
            "type": "scattergl"
           }
          ],
          "scattermapbox": [
           {
            "marker": {
             "colorbar": {
              "outlinewidth": 0,
              "ticks": ""
             }
            },
            "type": "scattermapbox"
           }
          ],
          "scatterpolar": [
           {
            "marker": {
             "colorbar": {
              "outlinewidth": 0,
              "ticks": ""
             }
            },
            "type": "scatterpolar"
           }
          ],
          "scatterpolargl": [
           {
            "marker": {
             "colorbar": {
              "outlinewidth": 0,
              "ticks": ""
             }
            },
            "type": "scatterpolargl"
           }
          ],
          "scatterternary": [
           {
            "marker": {
             "colorbar": {
              "outlinewidth": 0,
              "ticks": ""
             }
            },
            "type": "scatterternary"
           }
          ],
          "surface": [
           {
            "colorbar": {
             "outlinewidth": 0,
             "ticks": ""
            },
            "colorscale": [
             [
              0,
              "#0d0887"
             ],
             [
              0.1111111111111111,
              "#46039f"
             ],
             [
              0.2222222222222222,
              "#7201a8"
             ],
             [
              0.3333333333333333,
              "#9c179e"
             ],
             [
              0.4444444444444444,
              "#bd3786"
             ],
             [
              0.5555555555555556,
              "#d8576b"
             ],
             [
              0.6666666666666666,
              "#ed7953"
             ],
             [
              0.7777777777777778,
              "#fb9f3a"
             ],
             [
              0.8888888888888888,
              "#fdca26"
             ],
             [
              1,
              "#f0f921"
             ]
            ],
            "type": "surface"
           }
          ],
          "table": [
           {
            "cells": {
             "fill": {
              "color": "#EBF0F8"
             },
             "line": {
              "color": "white"
             }
            },
            "header": {
             "fill": {
              "color": "#C8D4E3"
             },
             "line": {
              "color": "white"
             }
            },
            "type": "table"
           }
          ]
         },
         "layout": {
          "annotationdefaults": {
           "arrowcolor": "#2a3f5f",
           "arrowhead": 0,
           "arrowwidth": 1
          },
          "autotypenumbers": "strict",
          "coloraxis": {
           "colorbar": {
            "outlinewidth": 0,
            "ticks": ""
           }
          },
          "colorscale": {
           "diverging": [
            [
             0,
             "#8e0152"
            ],
            [
             0.1,
             "#c51b7d"
            ],
            [
             0.2,
             "#de77ae"
            ],
            [
             0.3,
             "#f1b6da"
            ],
            [
             0.4,
             "#fde0ef"
            ],
            [
             0.5,
             "#f7f7f7"
            ],
            [
             0.6,
             "#e6f5d0"
            ],
            [
             0.7,
             "#b8e186"
            ],
            [
             0.8,
             "#7fbc41"
            ],
            [
             0.9,
             "#4d9221"
            ],
            [
             1,
             "#276419"
            ]
           ],
           "sequential": [
            [
             0,
             "#0d0887"
            ],
            [
             0.1111111111111111,
             "#46039f"
            ],
            [
             0.2222222222222222,
             "#7201a8"
            ],
            [
             0.3333333333333333,
             "#9c179e"
            ],
            [
             0.4444444444444444,
             "#bd3786"
            ],
            [
             0.5555555555555556,
             "#d8576b"
            ],
            [
             0.6666666666666666,
             "#ed7953"
            ],
            [
             0.7777777777777778,
             "#fb9f3a"
            ],
            [
             0.8888888888888888,
             "#fdca26"
            ],
            [
             1,
             "#f0f921"
            ]
           ],
           "sequentialminus": [
            [
             0,
             "#0d0887"
            ],
            [
             0.1111111111111111,
             "#46039f"
            ],
            [
             0.2222222222222222,
             "#7201a8"
            ],
            [
             0.3333333333333333,
             "#9c179e"
            ],
            [
             0.4444444444444444,
             "#bd3786"
            ],
            [
             0.5555555555555556,
             "#d8576b"
            ],
            [
             0.6666666666666666,
             "#ed7953"
            ],
            [
             0.7777777777777778,
             "#fb9f3a"
            ],
            [
             0.8888888888888888,
             "#fdca26"
            ],
            [
             1,
             "#f0f921"
            ]
           ]
          },
          "colorway": [
           "#636efa",
           "#EF553B",
           "#00cc96",
           "#ab63fa",
           "#FFA15A",
           "#19d3f3",
           "#FF6692",
           "#B6E880",
           "#FF97FF",
           "#FECB52"
          ],
          "font": {
           "color": "#2a3f5f"
          },
          "geo": {
           "bgcolor": "white",
           "lakecolor": "white",
           "landcolor": "#E5ECF6",
           "showlakes": true,
           "showland": true,
           "subunitcolor": "white"
          },
          "hoverlabel": {
           "align": "left"
          },
          "hovermode": "closest",
          "mapbox": {
           "style": "light"
          },
          "paper_bgcolor": "white",
          "plot_bgcolor": "#E5ECF6",
          "polar": {
           "angularaxis": {
            "gridcolor": "white",
            "linecolor": "white",
            "ticks": ""
           },
           "bgcolor": "#E5ECF6",
           "radialaxis": {
            "gridcolor": "white",
            "linecolor": "white",
            "ticks": ""
           }
          },
          "scene": {
           "xaxis": {
            "backgroundcolor": "#E5ECF6",
            "gridcolor": "white",
            "gridwidth": 2,
            "linecolor": "white",
            "showbackground": true,
            "ticks": "",
            "zerolinecolor": "white"
           },
           "yaxis": {
            "backgroundcolor": "#E5ECF6",
            "gridcolor": "white",
            "gridwidth": 2,
            "linecolor": "white",
            "showbackground": true,
            "ticks": "",
            "zerolinecolor": "white"
           },
           "zaxis": {
            "backgroundcolor": "#E5ECF6",
            "gridcolor": "white",
            "gridwidth": 2,
            "linecolor": "white",
            "showbackground": true,
            "ticks": "",
            "zerolinecolor": "white"
           }
          },
          "shapedefaults": {
           "line": {
            "color": "#2a3f5f"
           }
          },
          "ternary": {
           "aaxis": {
            "gridcolor": "white",
            "linecolor": "white",
            "ticks": ""
           },
           "baxis": {
            "gridcolor": "white",
            "linecolor": "white",
            "ticks": ""
           },
           "bgcolor": "#E5ECF6",
           "caxis": {
            "gridcolor": "white",
            "linecolor": "white",
            "ticks": ""
           }
          },
          "title": {
           "x": 0.05
          },
          "xaxis": {
           "automargin": true,
           "gridcolor": "white",
           "linecolor": "white",
           "ticks": "",
           "title": {
            "standoff": 15
           },
           "zerolinecolor": "white",
           "zerolinewidth": 2
          },
          "yaxis": {
           "automargin": true,
           "gridcolor": "white",
           "linecolor": "white",
           "ticks": "",
           "title": {
            "standoff": 15
           },
           "zerolinecolor": "white",
           "zerolinewidth": 2
          }
         }
        }
       }
      },
      "text/html": [
       "<div>                            <div id=\"6942c42a-73e7-47d6-b53e-becc74abec36\" class=\"plotly-graph-div\" style=\"height:525px; width:100%;\"></div>            <script type=\"text/javascript\">                require([\"plotly\"], function(Plotly) {                    window.PLOTLYENV=window.PLOTLYENV || {};                                    if (document.getElementById(\"6942c42a-73e7-47d6-b53e-becc74abec36\")) {                    Plotly.newPlot(                        \"6942c42a-73e7-47d6-b53e-becc74abec36\",                        [{\"name\":\"POSS_est\",\"x\":[2012,2013,2014,2015,2016,2017,2018,2019,2020,2021],\"y\":[95.60969945030102,95.61754219788965,96.45635128671195,96.68648332582461,98.6964307504576,99.24337104359985,101.95464941051327,103.36324181289656,100.79244908097367,100.81617300973491],\"type\":\"scatter\"},{\"name\":\"FGM\",\"x\":[2012,2013,2014,2015,2016,2017,2018,2019,2020,2021],\"y\":[37.08826119030054,37.30691268683578,37.505022481584234,37.3654898727989,38.93456375838926,39.911020719461035,40.21156516857253,40.27852086492124,41.082960755091904,40.193661424261585],\"type\":\"scatter\"},{\"name\":\"FGA\",\"x\":[2012,2013,2014,2015,2016,2017,2018,2019,2020,2021],\"y\":[82.08933203245842,82.14067857616459,83.77843681239835,83.69391217660535,84.96186699206834,85.83576967077664,88.5382501551281,88.2683225974678,88.07004470938898,87.27204868490622],\"type\":\"scatter\"},{\"name\":\"FG3M\",\"x\":[2012,2013,2014,2015,2016,2017,2018,2019,2020,2021],\"y\":[7.23889298717369,7.790554492583402,7.932650913613317,8.560336646760543,9.913819402074436,10.486843777806026,11.266140708566027,12.868359295778728,12.632886239443618,12.609971282540407],\"type\":\"scatter\"},{\"name\":\"FG3A\",\"x\":[2012,2013,2014,2015,2016,2017,2018,2019,2020,2021],\"y\":[20.280322680436903,21.74398999753727,22.67291686597149,24.39270343069122,27.71888346552776,28.67293758739036,32.079898354164825,35.582682260229646,34.244908097367116,35.32931772707009],\"type\":\"scatter\"},{\"name\":\"FTM\",\"x\":[2012,2013,2014,2015,2016,2017,2018,2019,2020,2021],\"y\":[17.88163624681722,18.52956220281509,17.60107146273797,17.564678929862065,18.475442342892006,16.809457226388712,18.53027213899477,18.6721005920017,17.63785394932936,17.63604507708098],\"type\":\"scatter\"},{\"name\":\"FTA\",\"x\":[2012,2013,2014,2015,2016,2017,2018,2019,2020,2021],\"y\":[23.738428955571944,24.367363176539683,23.48569788577442,23.327550012940577,23.778981086028065,21.805008262361763,23.88913512395473,23.887123721595017,22.45653253849975,22.52029401702313],\"type\":\"scatter\"},{\"name\":\"OREB\",\"x\":[2012,2013,2014,2015,2016,2017,2018,2019,2020,2021],\"y\":[10.771244318587438,10.636709795972495,10.91743996938678,10.474392032437718,9.916107382550335,9.663149866531079,10.37023904500192,9.224796469236193,9.801291604570293,9.557004675658584],\"type\":\"scatter\"},{\"name\":\"DREB\",\"x\":[2012,2013,2014,2015,2016,2017,2018,2019,2020,2021],\"y\":[30.86309877923994,31.10083922177809,32.7615038744858,32.99214938220718,32.76845637583893,33.56934028219143,34.4863044056378,34.21982288236259,33.544461003477394,33.331328985973016],\"type\":\"scatter\"},{\"name\":\"REB\",\"x\":[2012,2013,2014,2015,2016,2017,2018,2019,2020,2021],\"y\":[41.60293172786332,41.72845586981643,43.58940017219936,43.43433375190514,42.62278828553996,43.2096097622982,44.813994031262006,43.42144147102282,43.35072031793344,42.920679681101426],\"type\":\"scatter\"},{\"name\":\"AST\",\"x\":[2012,2013,2014,2015,2016,2017,2018,2019,2020,2021],\"y\":[21.04561787592509,21.24159357417546,21.726968334449438,21.086816905188694,22.477120195241,23.07486970891064,23.683479596962442,24.060957825914798,23.954297069051165,24.321718485957472],\"type\":\"scatter\"},{\"name\":\"STL\",\"x\":[2012,2013,2014,2015,2016,2017,2018,2019,2020,2021],\"y\":[7.441639102396307,7.304071078106352,7.592844159571415,7.624013879968943,7.586943258084197,7.741197406889539,7.4012351150902695,7.338116990352207,7.165921510183805,7.367427973086453],\"type\":\"scatter\"},{\"name\":\"BLK\",\"x\":[2012,2013,2014,2015,2016,2017,2018,2019,2020,2021],\"y\":[4.980129928848488,4.542027393108152,4.920309958863484,4.966881703938729,4.6468883465527755,4.820134740053388,4.829359099370624,4.526640076487006,4.540486835568803,4.548347968524834],\"type\":\"scatter\"},{\"name\":\"TOV\",\"x\":[2012,2013,2014,2015,2016,2017,2018,2019,2020,2021],\"y\":[13.846702995978394,13.391933620020083,13.26164737395963,13.202841175963114,13.187919463087248,13.476547603915085,13.275418845847,13.809381247163122,12.642821659215102,13.192199632997088],\"type\":\"scatter\"},{\"name\":\"PTS\",\"x\":[2012,2013,2014,2015,2016,2017,2018,2019,2020,2021],\"y\":[99.27135140280322,100.83619072877792,100.45192767626519,100.8214871121421,106.22635753508236,107.14884962501588,110.13680820258251,112.02101461172221,112.41430700447096,110.57611163523643],\"type\":\"scatter\"},{\"name\":\"FG%\",\"x\":[2012,2013,2014,2015,2016,2017,2018,2019,2020,2021],\"y\":[0.012901611016906303,0.010324886582026339,0.01027844623902662,0.010270887815502722,0.010484882791616646,0.017731138975281457,0.010735967205599394,0.010576509430696436,0.011586699595310352,0.011459347519390331],\"type\":\"scatter\"},{\"name\":\"3PT%\",\"x\":[2012,2013,2014,2015,2016,2017,2018,2019,2020,2021],\"y\":[0.35694170656153196,0.3582854155776268,0.349873417721519,0.35093841365651235,0.35765579859678087,0.36574012501662456,0.3511900375801342,0.361646690984888,0.3688982374700805,0.35692654412282554],\"type\":\"scatter\"},{\"name\":\"FT%\",\"x\":[2012,2013,2014,2015,2016,2017,2018,2019,2020,2021],\"y\":[0.7532779983158908,0.7604254128183598,0.7494378727148304,0.7529585798816568,0.7769652650822669,0.770898915704792,0.7756778151593112,0.7816805744226665,0.7854219665966155,0.7831178875262401],\"type\":\"scatter\"},{\"name\":\"FG3A%\",\"x\":[2012,2013,2014,2015,2016,2017,2018,2019,2020,2021],\"y\":[0.24705186628169898,0.2647164641740237,0.27062950478226316,0.29145134689389773,0.3262508752087036,0.3340441601137323,0.36232812708583634,0.4031195021400625,0.38883718306681336,0.40481824661439775],\"type\":\"scatter\"},{\"name\":\"PTS/FGA\",\"x\":[2012,2013,2014,2015,2016,2017,2018,2019,2020,2021],\"y\":[1.209308797439733,1.2276035756787422,1.199018882402916,1.2046454095656955,1.2502827597350137,1.2483006797281089,1.243946068615672,1.2690964472336739,1.2764193248159743,1.2670277975766215],\"type\":\"scatter\"},{\"name\":\"FTA/FGA\",\"x\":[2012,2013,2014,2015,2016,2017,2018,2019,2020,2021],\"y\":[0.2891780011827321,0.29665402817369163,0.2803310586752172,0.27872457394172623,0.2798782786664512,0.2540317206450753,0.2698171138699773,0.27061943649397363,0.25498491130101253,0.25804704205274415],\"type\":\"scatter\"},{\"name\":\"TRU%\",\"x\":[2012,2013,2014,2015,2016,2017,2018,2019,2020,2021],\"y\":[0.5316299479977092,0.5379928574070896,0.5290611163478567,0.5319019819644873,0.5517857747706687,0.5569463687881689,0.5513148039242368,0.5622714692397451,0.5692618953133186,0.5643412663995292],\"type\":\"scatter\"},{\"name\":\"AST_TOV\",\"x\":[2012,2013,2014,2015,2016,2017,2018,2019,2020,2021],\"y\":[1.5199010105176325,1.5861483619079952,1.6383310249307477,1.5971423592960448,1.7043719639139487,1.7122241086587437,1.7840099715099713,1.7423632091305807,1.894695481335953,1.8436439079592606],\"type\":\"scatter\"}],                        {\"template\":{\"data\":{\"histogram2dcontour\":[{\"type\":\"histogram2dcontour\",\"colorbar\":{\"outlinewidth\":0,\"ticks\":\"\"},\"colorscale\":[[0.0,\"#0d0887\"],[0.1111111111111111,\"#46039f\"],[0.2222222222222222,\"#7201a8\"],[0.3333333333333333,\"#9c179e\"],[0.4444444444444444,\"#bd3786\"],[0.5555555555555556,\"#d8576b\"],[0.6666666666666666,\"#ed7953\"],[0.7777777777777778,\"#fb9f3a\"],[0.8888888888888888,\"#fdca26\"],[1.0,\"#f0f921\"]]}],\"choropleth\":[{\"type\":\"choropleth\",\"colorbar\":{\"outlinewidth\":0,\"ticks\":\"\"}}],\"histogram2d\":[{\"type\":\"histogram2d\",\"colorbar\":{\"outlinewidth\":0,\"ticks\":\"\"},\"colorscale\":[[0.0,\"#0d0887\"],[0.1111111111111111,\"#46039f\"],[0.2222222222222222,\"#7201a8\"],[0.3333333333333333,\"#9c179e\"],[0.4444444444444444,\"#bd3786\"],[0.5555555555555556,\"#d8576b\"],[0.6666666666666666,\"#ed7953\"],[0.7777777777777778,\"#fb9f3a\"],[0.8888888888888888,\"#fdca26\"],[1.0,\"#f0f921\"]]}],\"heatmap\":[{\"type\":\"heatmap\",\"colorbar\":{\"outlinewidth\":0,\"ticks\":\"\"},\"colorscale\":[[0.0,\"#0d0887\"],[0.1111111111111111,\"#46039f\"],[0.2222222222222222,\"#7201a8\"],[0.3333333333333333,\"#9c179e\"],[0.4444444444444444,\"#bd3786\"],[0.5555555555555556,\"#d8576b\"],[0.6666666666666666,\"#ed7953\"],[0.7777777777777778,\"#fb9f3a\"],[0.8888888888888888,\"#fdca26\"],[1.0,\"#f0f921\"]]}],\"heatmapgl\":[{\"type\":\"heatmapgl\",\"colorbar\":{\"outlinewidth\":0,\"ticks\":\"\"},\"colorscale\":[[0.0,\"#0d0887\"],[0.1111111111111111,\"#46039f\"],[0.2222222222222222,\"#7201a8\"],[0.3333333333333333,\"#9c179e\"],[0.4444444444444444,\"#bd3786\"],[0.5555555555555556,\"#d8576b\"],[0.6666666666666666,\"#ed7953\"],[0.7777777777777778,\"#fb9f3a\"],[0.8888888888888888,\"#fdca26\"],[1.0,\"#f0f921\"]]}],\"contourcarpet\":[{\"type\":\"contourcarpet\",\"colorbar\":{\"outlinewidth\":0,\"ticks\":\"\"}}],\"contour\":[{\"type\":\"contour\",\"colorbar\":{\"outlinewidth\":0,\"ticks\":\"\"},\"colorscale\":[[0.0,\"#0d0887\"],[0.1111111111111111,\"#46039f\"],[0.2222222222222222,\"#7201a8\"],[0.3333333333333333,\"#9c179e\"],[0.4444444444444444,\"#bd3786\"],[0.5555555555555556,\"#d8576b\"],[0.6666666666666666,\"#ed7953\"],[0.7777777777777778,\"#fb9f3a\"],[0.8888888888888888,\"#fdca26\"],[1.0,\"#f0f921\"]]}],\"surface\":[{\"type\":\"surface\",\"colorbar\":{\"outlinewidth\":0,\"ticks\":\"\"},\"colorscale\":[[0.0,\"#0d0887\"],[0.1111111111111111,\"#46039f\"],[0.2222222222222222,\"#7201a8\"],[0.3333333333333333,\"#9c179e\"],[0.4444444444444444,\"#bd3786\"],[0.5555555555555556,\"#d8576b\"],[0.6666666666666666,\"#ed7953\"],[0.7777777777777778,\"#fb9f3a\"],[0.8888888888888888,\"#fdca26\"],[1.0,\"#f0f921\"]]}],\"mesh3d\":[{\"type\":\"mesh3d\",\"colorbar\":{\"outlinewidth\":0,\"ticks\":\"\"}}],\"scatter\":[{\"fillpattern\":{\"fillmode\":\"overlay\",\"size\":10,\"solidity\":0.2},\"type\":\"scatter\"}],\"parcoords\":[{\"type\":\"parcoords\",\"line\":{\"colorbar\":{\"outlinewidth\":0,\"ticks\":\"\"}}}],\"scatterpolargl\":[{\"type\":\"scatterpolargl\",\"marker\":{\"colorbar\":{\"outlinewidth\":0,\"ticks\":\"\"}}}],\"bar\":[{\"error_x\":{\"color\":\"#2a3f5f\"},\"error_y\":{\"color\":\"#2a3f5f\"},\"marker\":{\"line\":{\"color\":\"#E5ECF6\",\"width\":0.5},\"pattern\":{\"fillmode\":\"overlay\",\"size\":10,\"solidity\":0.2}},\"type\":\"bar\"}],\"scattergeo\":[{\"type\":\"scattergeo\",\"marker\":{\"colorbar\":{\"outlinewidth\":0,\"ticks\":\"\"}}}],\"scatterpolar\":[{\"type\":\"scatterpolar\",\"marker\":{\"colorbar\":{\"outlinewidth\":0,\"ticks\":\"\"}}}],\"histogram\":[{\"marker\":{\"pattern\":{\"fillmode\":\"overlay\",\"size\":10,\"solidity\":0.2}},\"type\":\"histogram\"}],\"scattergl\":[{\"type\":\"scattergl\",\"marker\":{\"colorbar\":{\"outlinewidth\":0,\"ticks\":\"\"}}}],\"scatter3d\":[{\"type\":\"scatter3d\",\"line\":{\"colorbar\":{\"outlinewidth\":0,\"ticks\":\"\"}},\"marker\":{\"colorbar\":{\"outlinewidth\":0,\"ticks\":\"\"}}}],\"scattermapbox\":[{\"type\":\"scattermapbox\",\"marker\":{\"colorbar\":{\"outlinewidth\":0,\"ticks\":\"\"}}}],\"scatterternary\":[{\"type\":\"scatterternary\",\"marker\":{\"colorbar\":{\"outlinewidth\":0,\"ticks\":\"\"}}}],\"scattercarpet\":[{\"type\":\"scattercarpet\",\"marker\":{\"colorbar\":{\"outlinewidth\":0,\"ticks\":\"\"}}}],\"carpet\":[{\"aaxis\":{\"endlinecolor\":\"#2a3f5f\",\"gridcolor\":\"white\",\"linecolor\":\"white\",\"minorgridcolor\":\"white\",\"startlinecolor\":\"#2a3f5f\"},\"baxis\":{\"endlinecolor\":\"#2a3f5f\",\"gridcolor\":\"white\",\"linecolor\":\"white\",\"minorgridcolor\":\"white\",\"startlinecolor\":\"#2a3f5f\"},\"type\":\"carpet\"}],\"table\":[{\"cells\":{\"fill\":{\"color\":\"#EBF0F8\"},\"line\":{\"color\":\"white\"}},\"header\":{\"fill\":{\"color\":\"#C8D4E3\"},\"line\":{\"color\":\"white\"}},\"type\":\"table\"}],\"barpolar\":[{\"marker\":{\"line\":{\"color\":\"#E5ECF6\",\"width\":0.5},\"pattern\":{\"fillmode\":\"overlay\",\"size\":10,\"solidity\":0.2}},\"type\":\"barpolar\"}],\"pie\":[{\"automargin\":true,\"type\":\"pie\"}]},\"layout\":{\"autotypenumbers\":\"strict\",\"colorway\":[\"#636efa\",\"#EF553B\",\"#00cc96\",\"#ab63fa\",\"#FFA15A\",\"#19d3f3\",\"#FF6692\",\"#B6E880\",\"#FF97FF\",\"#FECB52\"],\"font\":{\"color\":\"#2a3f5f\"},\"hovermode\":\"closest\",\"hoverlabel\":{\"align\":\"left\"},\"paper_bgcolor\":\"white\",\"plot_bgcolor\":\"#E5ECF6\",\"polar\":{\"bgcolor\":\"#E5ECF6\",\"angularaxis\":{\"gridcolor\":\"white\",\"linecolor\":\"white\",\"ticks\":\"\"},\"radialaxis\":{\"gridcolor\":\"white\",\"linecolor\":\"white\",\"ticks\":\"\"}},\"ternary\":{\"bgcolor\":\"#E5ECF6\",\"aaxis\":{\"gridcolor\":\"white\",\"linecolor\":\"white\",\"ticks\":\"\"},\"baxis\":{\"gridcolor\":\"white\",\"linecolor\":\"white\",\"ticks\":\"\"},\"caxis\":{\"gridcolor\":\"white\",\"linecolor\":\"white\",\"ticks\":\"\"}},\"coloraxis\":{\"colorbar\":{\"outlinewidth\":0,\"ticks\":\"\"}},\"colorscale\":{\"sequential\":[[0.0,\"#0d0887\"],[0.1111111111111111,\"#46039f\"],[0.2222222222222222,\"#7201a8\"],[0.3333333333333333,\"#9c179e\"],[0.4444444444444444,\"#bd3786\"],[0.5555555555555556,\"#d8576b\"],[0.6666666666666666,\"#ed7953\"],[0.7777777777777778,\"#fb9f3a\"],[0.8888888888888888,\"#fdca26\"],[1.0,\"#f0f921\"]],\"sequentialminus\":[[0.0,\"#0d0887\"],[0.1111111111111111,\"#46039f\"],[0.2222222222222222,\"#7201a8\"],[0.3333333333333333,\"#9c179e\"],[0.4444444444444444,\"#bd3786\"],[0.5555555555555556,\"#d8576b\"],[0.6666666666666666,\"#ed7953\"],[0.7777777777777778,\"#fb9f3a\"],[0.8888888888888888,\"#fdca26\"],[1.0,\"#f0f921\"]],\"diverging\":[[0,\"#8e0152\"],[0.1,\"#c51b7d\"],[0.2,\"#de77ae\"],[0.3,\"#f1b6da\"],[0.4,\"#fde0ef\"],[0.5,\"#f7f7f7\"],[0.6,\"#e6f5d0\"],[0.7,\"#b8e186\"],[0.8,\"#7fbc41\"],[0.9,\"#4d9221\"],[1,\"#276419\"]]},\"xaxis\":{\"gridcolor\":\"white\",\"linecolor\":\"white\",\"ticks\":\"\",\"title\":{\"standoff\":15},\"zerolinecolor\":\"white\",\"automargin\":true,\"zerolinewidth\":2},\"yaxis\":{\"gridcolor\":\"white\",\"linecolor\":\"white\",\"ticks\":\"\",\"title\":{\"standoff\":15},\"zerolinecolor\":\"white\",\"automargin\":true,\"zerolinewidth\":2},\"scene\":{\"xaxis\":{\"backgroundcolor\":\"#E5ECF6\",\"gridcolor\":\"white\",\"linecolor\":\"white\",\"showbackground\":true,\"ticks\":\"\",\"zerolinecolor\":\"white\",\"gridwidth\":2},\"yaxis\":{\"backgroundcolor\":\"#E5ECF6\",\"gridcolor\":\"white\",\"linecolor\":\"white\",\"showbackground\":true,\"ticks\":\"\",\"zerolinecolor\":\"white\",\"gridwidth\":2},\"zaxis\":{\"backgroundcolor\":\"#E5ECF6\",\"gridcolor\":\"white\",\"linecolor\":\"white\",\"showbackground\":true,\"ticks\":\"\",\"zerolinecolor\":\"white\",\"gridwidth\":2}},\"shapedefaults\":{\"line\":{\"color\":\"#2a3f5f\"}},\"annotationdefaults\":{\"arrowcolor\":\"#2a3f5f\",\"arrowhead\":0,\"arrowwidth\":1},\"geo\":{\"bgcolor\":\"white\",\"landcolor\":\"#E5ECF6\",\"subunitcolor\":\"white\",\"showland\":true,\"showlakes\":true,\"lakecolor\":\"white\"},\"title\":{\"x\":0.05},\"mapbox\":{\"style\":\"light\"}}}},                        {\"responsive\": true}                    ).then(function(){\n",
       "                            \n",
       "var gd = document.getElementById('6942c42a-73e7-47d6-b53e-becc74abec36');\n",
       "var x = new MutationObserver(function (mutations, observer) {{\n",
       "        var display = window.getComputedStyle(gd).display;\n",
       "        if (!display || display === 'none') {{\n",
       "            console.log([gd, 'removed!']);\n",
       "            Plotly.purge(gd);\n",
       "            observer.disconnect();\n",
       "        }}\n",
       "}});\n",
       "\n",
       "// Listen for the removal of the full notebook cells\n",
       "var notebookContainer = gd.closest('#notebook-container');\n",
       "if (notebookContainer) {{\n",
       "    x.observe(notebookContainer, {childList: true});\n",
       "}}\n",
       "\n",
       "// Listen for the clearing of the current output cell\n",
       "var outputEl = gd.closest('.output');\n",
       "if (outputEl) {{\n",
       "    x.observe(outputEl, {childList: true});\n",
       "}}\n",
       "\n",
       "                        })                };                });            </script>        </div>"
      ]
     },
     "metadata": {},
     "output_type": "display_data"
    }
   ],
   "source": [
    "for col in change_per48_df.columns[2:18]:\n",
    "    change_per48_df[col] = (change_per48_df[col]/change_per48_df['MIN'])*48*5\n",
    "\n",
    "change_per48_df.drop(columns='MIN',inplace=True)\n",
    "\n",
    "fig = go.Figure()\n",
    "for col in change_per48_df.columns[1:]:\n",
    "    fig.add_trace(go.Scatter(x=change_per48_df['season_start_year'],\n",
    "                            y=change_per48_df[col], name=col))\n",
    "fig.show()"
   ]
  },
  {
   "cell_type": "code",
   "execution_count": 107,
   "id": "c4a6f40b",
   "metadata": {
    "scrolled": true
   },
   "outputs": [
    {
     "data": {
      "application/vnd.plotly.v1+json": {
       "config": {
        "plotlyServerURL": "https://plot.ly"
       },
       "data": [
        {
         "name": "FGM",
         "type": "scatter",
         "x": [
          2012,
          2013,
          2014,
          2015,
          2016,
          2017,
          2018,
          2019,
          2020,
          2021
         ],
         "y": [
          38.79131657513413,
          39.01680782551966,
          38.88289571528818,
          38.64603260714388,
          39.44880626618683,
          40.21530133425962,
          39.440638951798526,
          38.96793498198478,
          40.75995883589164,
          39.8682673864048
         ]
        },
        {
         "name": "FGA",
         "type": "scatter",
         "x": [
          2012,
          2013,
          2014,
          2015,
          2016,
          2017,
          2018,
          2019,
          2020,
          2021
         ],
         "y": [
          85.85879100595787,
          85.90544861126696,
          86.85631966667587,
          86.56216391133445,
          86.08403196148451,
          86.49017941265525,
          86.84081664450144,
          85.39624052934323,
          87.37762155043589,
          86.5655242403212
         ]
        },
        {
         "name": "FG3M",
         "type": "scatter",
         "x": [
          2012,
          2013,
          2014,
          2015,
          2016,
          2017,
          2018,
          2019,
          2020,
          2021
         ],
         "y": [
          7.571295620416156,
          8.14762052392029,
          8.224083544311029,
          8.853705660090036,
          10.04475980204428,
          10.566795210129367,
          11.050149035581201,
          12.449647544019998,
          12.533564125716135,
          12.50788529864427
         ]
        },
        {
         "name": "FG3A",
         "type": "scatter",
         "x": [
          2012,
          2013,
          2014,
          2015,
          2016,
          2017,
          2018,
          2019,
          2020,
          2021
         ],
         "y": [
          21.211574554712247,
          22.740586609657885,
          23.505882778602434,
          25.228659262008772,
          28.084990768928332,
          28.891539339986437,
          31.464870449406728,
          34.42488996682187,
          33.97566822674957,
          35.04330374022297
         ]
        },
        {
         "name": "FTM",
         "type": "scatter",
         "x": [
          2012,
          2013,
          2014,
          2015,
          2016,
          2017,
          2018,
          2019,
          2020,
          2021
         ],
         "y": [
          18.70274286984062,
          19.37883130740423,
          18.247706063875064,
          18.16663335522371,
          18.71946351292582,
          16.937612104091002,
          18.175014328560852,
          18.064546220213455,
          17.49918184363159,
          17.493269731016294
         ]
        },
        {
         "name": "FTA",
         "type": "scatter",
         "x": [
          2012,
          2013,
          2014,
          2015,
          2016,
          2017,
          2018,
          2019,
          2020,
          2021
         ],
         "y": [
          24.828473567068833,
          25.48419737260041,
          24.348524044792335,
          24.127002255660564,
          24.093050686048052,
          21.97124909509808,
          23.431138513131266,
          23.1098824907547,
          22.279975080731333,
          22.337977473960002
         ]
        },
        {
         "name": "OREB",
         "type": "scatter",
         "x": [
          2012,
          2013,
          2014,
          2015,
          2016,
          2017,
          2018,
          2019,
          2020,
          2021
         ],
         "y": [
          11.265848946828298,
          11.124224228603163,
          11.318528872127045,
          10.83335712722116,
          10.047078001860124,
          9.736821477261024,
          10.171423377904896,
          8.924639269668514,
          9.724232017317314,
          9.47963445779255
         ]
        },
        {
         "name": "DREB",
         "type": "scatter",
         "x": [
          2012,
          2013,
          2014,
          2015,
          2016,
          2017,
          2018,
          2019,
          2020,
          2021
         ],
         "y": [
          32.28030101201491,
          32.526290162752694,
          33.96510798662057,
          34.122814531403165,
          33.201257762492084,
          33.82527208537048,
          33.82514147714942,
          33.106375421453755,
          33.2807281788825,
          33.061490027750324
         ]
        },
        {
         "name": "REB",
         "type": "scatter",
         "x": [
          2012,
          2013,
          2014,
          2015,
          2016,
          2017,
          2018,
          2019,
          2020,
          2021
         ],
         "y": [
          43.51329621058894,
          43.64100447536646,
          45.190803498913134,
          44.9228602156678,
          43.18574436932447,
          43.539038736718496,
          43.954831182658076,
          42.00859097436431,
          43.00988884902156,
          42.57320864278091
         ]
        },
        {
         "name": "AST",
         "type": "scatter",
         "x": [
          2012,
          2013,
          2014,
          2015,
          2016,
          2017,
          2018,
          2019,
          2020,
          2021
         ],
         "y": [
          22.012011330361762,
          22.21516375124342,
          22.52518164394074,
          21.80947758139889,
          22.773994990833838,
          23.25079193327011,
          23.229425763216124,
          23.27806036643941,
          23.765963906489652,
          24.124818230909185
         ]
        },
        {
         "name": "STL",
         "type": "scatter",
         "x": [
          2012,
          2013,
          2014,
          2015,
          2016,
          2017,
          2018,
          2019,
          2020,
          2021
         ],
         "y": [
          7.783351631875543,
          7.638840018487277,
          7.871792845451974,
          7.88529442556796,
          7.687150589332757,
          7.800216100568225,
          7.259340459589748,
          7.099348725570481,
          7.109581695377712,
          7.307783813986915
         ]
        },
        {
         "name": "BLK",
         "type": "scatter",
         "x": [
          2012,
          2013,
          2014,
          2015,
          2016,
          2017,
          2018,
          2019,
          2020,
          2021
         ],
         "y": [
          5.208812450495375,
          4.750203036706373,
          5.101074105776711,
          5.13710038165396,
          4.708263825975521,
          4.856883325674008,
          4.736771816972806,
          4.379351882829801,
          4.504788679081615,
          4.51152611008716
         ]
        },
        {
         "name": "TOV",
         "type": "scatter",
         "x": [
          2012,
          2013,
          2014,
          2015,
          2016,
          2017,
          2018,
          2019,
          2020,
          2021
         ],
         "y": [
          14.482529571360134,
          14.005728773392015,
          13.74885862574255,
          13.655312223396052,
          13.362103738514477,
          13.579292462762613,
          13.020905787625686,
          13.360050444393218,
          12.543421431359638,
          13.085400128928951
         ]
        },
        {
         "name": "PTS",
         "type": "scatter",
         "x": [
          2012,
          2013,
          2014,
          2015,
          2016,
          2017,
          2018,
          2019,
          2020,
          2021
         ],
         "y": [
          103.82979130104428,
          105.45783588547776,
          104.14236733636812,
          104.27671339786235,
          107.62938104992197,
          107.96574975062363,
          108.025292460302,
          108.37606546290175,
          111.5304847034331,
          109.68092552427981
         ]
        },
        {
         "name": "FG%",
         "type": "scatter",
         "x": [
          2012,
          2013,
          2014,
          2015,
          2016,
          2017,
          2018,
          2019,
          2020,
          2021
         ],
         "y": [
          0.01349403992595197,
          0.010798109159361156,
          0.010656059556383615,
          0.010622878671562362,
          0.010623365720414397,
          0.01786632073137839,
          0.010530139888345624,
          0.010232370081659739,
          0.011495602796596338,
          0.011366576589138932
         ]
        },
        {
         "name": "3PT%",
         "type": "scatter",
         "x": [
          2012,
          2013,
          2014,
          2015,
          2016,
          2017,
          2018,
          2019,
          2020,
          2021
         ],
         "y": [
          0.35694170656153196,
          0.3582854155776268,
          0.349873417721519,
          0.35093841365651235,
          0.35765579859678087,
          0.36574012501662456,
          0.3511900375801342,
          0.361646690984888,
          0.3688982374700805,
          0.35692654412282554
         ]
        },
        {
         "name": "FT%",
         "type": "scatter",
         "x": [
          2012,
          2013,
          2014,
          2015,
          2016,
          2017,
          2018,
          2019,
          2020,
          2021
         ],
         "y": [
          0.7532779983158908,
          0.7604254128183598,
          0.7494378727148304,
          0.7529585798816568,
          0.7769652650822669,
          0.770898915704792,
          0.7756778151593112,
          0.7816805744226665,
          0.7854219665966155,
          0.7831178875262401
         ]
        },
        {
         "name": "FG3A%",
         "type": "scatter",
         "x": [
          2012,
          2013,
          2014,
          2015,
          2016,
          2017,
          2018,
          2019,
          2020,
          2021
         ],
         "y": [
          0.24705186628169898,
          0.2647164641740237,
          0.27062950478226316,
          0.29145134689389773,
          0.3262508752087036,
          0.3340441601137323,
          0.36232812708583634,
          0.4031195021400625,
          0.38883718306681336,
          0.40481824661439775
         ]
        },
        {
         "name": "PTS/FGA",
         "type": "scatter",
         "x": [
          2012,
          2013,
          2014,
          2015,
          2016,
          2017,
          2018,
          2019,
          2020,
          2021
         ],
         "y": [
          1.209308797439733,
          1.2276035756787422,
          1.199018882402916,
          1.2046454095656955,
          1.2502827597350137,
          1.2483006797281089,
          1.243946068615672,
          1.2690964472336739,
          1.2764193248159743,
          1.2670277975766215
         ]
        },
        {
         "name": "FTA/FGA",
         "type": "scatter",
         "x": [
          2012,
          2013,
          2014,
          2015,
          2016,
          2017,
          2018,
          2019,
          2020,
          2021
         ],
         "y": [
          0.2891780011827321,
          0.29665402817369163,
          0.2803310586752172,
          0.27872457394172623,
          0.2798782786664512,
          0.2540317206450753,
          0.2698171138699773,
          0.27061943649397363,
          0.25498491130101253,
          0.25804704205274415
         ]
        },
        {
         "name": "TRU%",
         "type": "scatter",
         "x": [
          2012,
          2013,
          2014,
          2015,
          2016,
          2017,
          2018,
          2019,
          2020,
          2021
         ],
         "y": [
          0.5316299479977092,
          0.5379928574070896,
          0.5290611163478567,
          0.5319019819644873,
          0.5517857747706687,
          0.5569463687881689,
          0.5513148039242368,
          0.5622714692397451,
          0.5692618953133186,
          0.5643412663995292
         ]
        },
        {
         "name": "AST_TOV",
         "type": "scatter",
         "x": [
          2012,
          2013,
          2014,
          2015,
          2016,
          2017,
          2018,
          2019,
          2020,
          2021
         ],
         "y": [
          1.5199010105176325,
          1.5861483619079952,
          1.6383310249307477,
          1.5971423592960448,
          1.7043719639139487,
          1.7122241086587437,
          1.7840099715099713,
          1.7423632091305807,
          1.894695481335953,
          1.8436439079592606
         ]
        }
       ],
       "layout": {
        "template": {
         "data": {
          "bar": [
           {
            "error_x": {
             "color": "#2a3f5f"
            },
            "error_y": {
             "color": "#2a3f5f"
            },
            "marker": {
             "line": {
              "color": "#E5ECF6",
              "width": 0.5
             },
             "pattern": {
              "fillmode": "overlay",
              "size": 10,
              "solidity": 0.2
             }
            },
            "type": "bar"
           }
          ],
          "barpolar": [
           {
            "marker": {
             "line": {
              "color": "#E5ECF6",
              "width": 0.5
             },
             "pattern": {
              "fillmode": "overlay",
              "size": 10,
              "solidity": 0.2
             }
            },
            "type": "barpolar"
           }
          ],
          "carpet": [
           {
            "aaxis": {
             "endlinecolor": "#2a3f5f",
             "gridcolor": "white",
             "linecolor": "white",
             "minorgridcolor": "white",
             "startlinecolor": "#2a3f5f"
            },
            "baxis": {
             "endlinecolor": "#2a3f5f",
             "gridcolor": "white",
             "linecolor": "white",
             "minorgridcolor": "white",
             "startlinecolor": "#2a3f5f"
            },
            "type": "carpet"
           }
          ],
          "choropleth": [
           {
            "colorbar": {
             "outlinewidth": 0,
             "ticks": ""
            },
            "type": "choropleth"
           }
          ],
          "contour": [
           {
            "colorbar": {
             "outlinewidth": 0,
             "ticks": ""
            },
            "colorscale": [
             [
              0,
              "#0d0887"
             ],
             [
              0.1111111111111111,
              "#46039f"
             ],
             [
              0.2222222222222222,
              "#7201a8"
             ],
             [
              0.3333333333333333,
              "#9c179e"
             ],
             [
              0.4444444444444444,
              "#bd3786"
             ],
             [
              0.5555555555555556,
              "#d8576b"
             ],
             [
              0.6666666666666666,
              "#ed7953"
             ],
             [
              0.7777777777777778,
              "#fb9f3a"
             ],
             [
              0.8888888888888888,
              "#fdca26"
             ],
             [
              1,
              "#f0f921"
             ]
            ],
            "type": "contour"
           }
          ],
          "contourcarpet": [
           {
            "colorbar": {
             "outlinewidth": 0,
             "ticks": ""
            },
            "type": "contourcarpet"
           }
          ],
          "heatmap": [
           {
            "colorbar": {
             "outlinewidth": 0,
             "ticks": ""
            },
            "colorscale": [
             [
              0,
              "#0d0887"
             ],
             [
              0.1111111111111111,
              "#46039f"
             ],
             [
              0.2222222222222222,
              "#7201a8"
             ],
             [
              0.3333333333333333,
              "#9c179e"
             ],
             [
              0.4444444444444444,
              "#bd3786"
             ],
             [
              0.5555555555555556,
              "#d8576b"
             ],
             [
              0.6666666666666666,
              "#ed7953"
             ],
             [
              0.7777777777777778,
              "#fb9f3a"
             ],
             [
              0.8888888888888888,
              "#fdca26"
             ],
             [
              1,
              "#f0f921"
             ]
            ],
            "type": "heatmap"
           }
          ],
          "heatmapgl": [
           {
            "colorbar": {
             "outlinewidth": 0,
             "ticks": ""
            },
            "colorscale": [
             [
              0,
              "#0d0887"
             ],
             [
              0.1111111111111111,
              "#46039f"
             ],
             [
              0.2222222222222222,
              "#7201a8"
             ],
             [
              0.3333333333333333,
              "#9c179e"
             ],
             [
              0.4444444444444444,
              "#bd3786"
             ],
             [
              0.5555555555555556,
              "#d8576b"
             ],
             [
              0.6666666666666666,
              "#ed7953"
             ],
             [
              0.7777777777777778,
              "#fb9f3a"
             ],
             [
              0.8888888888888888,
              "#fdca26"
             ],
             [
              1,
              "#f0f921"
             ]
            ],
            "type": "heatmapgl"
           }
          ],
          "histogram": [
           {
            "marker": {
             "pattern": {
              "fillmode": "overlay",
              "size": 10,
              "solidity": 0.2
             }
            },
            "type": "histogram"
           }
          ],
          "histogram2d": [
           {
            "colorbar": {
             "outlinewidth": 0,
             "ticks": ""
            },
            "colorscale": [
             [
              0,
              "#0d0887"
             ],
             [
              0.1111111111111111,
              "#46039f"
             ],
             [
              0.2222222222222222,
              "#7201a8"
             ],
             [
              0.3333333333333333,
              "#9c179e"
             ],
             [
              0.4444444444444444,
              "#bd3786"
             ],
             [
              0.5555555555555556,
              "#d8576b"
             ],
             [
              0.6666666666666666,
              "#ed7953"
             ],
             [
              0.7777777777777778,
              "#fb9f3a"
             ],
             [
              0.8888888888888888,
              "#fdca26"
             ],
             [
              1,
              "#f0f921"
             ]
            ],
            "type": "histogram2d"
           }
          ],
          "histogram2dcontour": [
           {
            "colorbar": {
             "outlinewidth": 0,
             "ticks": ""
            },
            "colorscale": [
             [
              0,
              "#0d0887"
             ],
             [
              0.1111111111111111,
              "#46039f"
             ],
             [
              0.2222222222222222,
              "#7201a8"
             ],
             [
              0.3333333333333333,
              "#9c179e"
             ],
             [
              0.4444444444444444,
              "#bd3786"
             ],
             [
              0.5555555555555556,
              "#d8576b"
             ],
             [
              0.6666666666666666,
              "#ed7953"
             ],
             [
              0.7777777777777778,
              "#fb9f3a"
             ],
             [
              0.8888888888888888,
              "#fdca26"
             ],
             [
              1,
              "#f0f921"
             ]
            ],
            "type": "histogram2dcontour"
           }
          ],
          "mesh3d": [
           {
            "colorbar": {
             "outlinewidth": 0,
             "ticks": ""
            },
            "type": "mesh3d"
           }
          ],
          "parcoords": [
           {
            "line": {
             "colorbar": {
              "outlinewidth": 0,
              "ticks": ""
             }
            },
            "type": "parcoords"
           }
          ],
          "pie": [
           {
            "automargin": true,
            "type": "pie"
           }
          ],
          "scatter": [
           {
            "fillpattern": {
             "fillmode": "overlay",
             "size": 10,
             "solidity": 0.2
            },
            "type": "scatter"
           }
          ],
          "scatter3d": [
           {
            "line": {
             "colorbar": {
              "outlinewidth": 0,
              "ticks": ""
             }
            },
            "marker": {
             "colorbar": {
              "outlinewidth": 0,
              "ticks": ""
             }
            },
            "type": "scatter3d"
           }
          ],
          "scattercarpet": [
           {
            "marker": {
             "colorbar": {
              "outlinewidth": 0,
              "ticks": ""
             }
            },
            "type": "scattercarpet"
           }
          ],
          "scattergeo": [
           {
            "marker": {
             "colorbar": {
              "outlinewidth": 0,
              "ticks": ""
             }
            },
            "type": "scattergeo"
           }
          ],
          "scattergl": [
           {
            "marker": {
             "colorbar": {
              "outlinewidth": 0,
              "ticks": ""
             }
            },
            "type": "scattergl"
           }
          ],
          "scattermapbox": [
           {
            "marker": {
             "colorbar": {
              "outlinewidth": 0,
              "ticks": ""
             }
            },
            "type": "scattermapbox"
           }
          ],
          "scatterpolar": [
           {
            "marker": {
             "colorbar": {
              "outlinewidth": 0,
              "ticks": ""
             }
            },
            "type": "scatterpolar"
           }
          ],
          "scatterpolargl": [
           {
            "marker": {
             "colorbar": {
              "outlinewidth": 0,
              "ticks": ""
             }
            },
            "type": "scatterpolargl"
           }
          ],
          "scatterternary": [
           {
            "marker": {
             "colorbar": {
              "outlinewidth": 0,
              "ticks": ""
             }
            },
            "type": "scatterternary"
           }
          ],
          "surface": [
           {
            "colorbar": {
             "outlinewidth": 0,
             "ticks": ""
            },
            "colorscale": [
             [
              0,
              "#0d0887"
             ],
             [
              0.1111111111111111,
              "#46039f"
             ],
             [
              0.2222222222222222,
              "#7201a8"
             ],
             [
              0.3333333333333333,
              "#9c179e"
             ],
             [
              0.4444444444444444,
              "#bd3786"
             ],
             [
              0.5555555555555556,
              "#d8576b"
             ],
             [
              0.6666666666666666,
              "#ed7953"
             ],
             [
              0.7777777777777778,
              "#fb9f3a"
             ],
             [
              0.8888888888888888,
              "#fdca26"
             ],
             [
              1,
              "#f0f921"
             ]
            ],
            "type": "surface"
           }
          ],
          "table": [
           {
            "cells": {
             "fill": {
              "color": "#EBF0F8"
             },
             "line": {
              "color": "white"
             }
            },
            "header": {
             "fill": {
              "color": "#C8D4E3"
             },
             "line": {
              "color": "white"
             }
            },
            "type": "table"
           }
          ]
         },
         "layout": {
          "annotationdefaults": {
           "arrowcolor": "#2a3f5f",
           "arrowhead": 0,
           "arrowwidth": 1
          },
          "autotypenumbers": "strict",
          "coloraxis": {
           "colorbar": {
            "outlinewidth": 0,
            "ticks": ""
           }
          },
          "colorscale": {
           "diverging": [
            [
             0,
             "#8e0152"
            ],
            [
             0.1,
             "#c51b7d"
            ],
            [
             0.2,
             "#de77ae"
            ],
            [
             0.3,
             "#f1b6da"
            ],
            [
             0.4,
             "#fde0ef"
            ],
            [
             0.5,
             "#f7f7f7"
            ],
            [
             0.6,
             "#e6f5d0"
            ],
            [
             0.7,
             "#b8e186"
            ],
            [
             0.8,
             "#7fbc41"
            ],
            [
             0.9,
             "#4d9221"
            ],
            [
             1,
             "#276419"
            ]
           ],
           "sequential": [
            [
             0,
             "#0d0887"
            ],
            [
             0.1111111111111111,
             "#46039f"
            ],
            [
             0.2222222222222222,
             "#7201a8"
            ],
            [
             0.3333333333333333,
             "#9c179e"
            ],
            [
             0.4444444444444444,
             "#bd3786"
            ],
            [
             0.5555555555555556,
             "#d8576b"
            ],
            [
             0.6666666666666666,
             "#ed7953"
            ],
            [
             0.7777777777777778,
             "#fb9f3a"
            ],
            [
             0.8888888888888888,
             "#fdca26"
            ],
            [
             1,
             "#f0f921"
            ]
           ],
           "sequentialminus": [
            [
             0,
             "#0d0887"
            ],
            [
             0.1111111111111111,
             "#46039f"
            ],
            [
             0.2222222222222222,
             "#7201a8"
            ],
            [
             0.3333333333333333,
             "#9c179e"
            ],
            [
             0.4444444444444444,
             "#bd3786"
            ],
            [
             0.5555555555555556,
             "#d8576b"
            ],
            [
             0.6666666666666666,
             "#ed7953"
            ],
            [
             0.7777777777777778,
             "#fb9f3a"
            ],
            [
             0.8888888888888888,
             "#fdca26"
            ],
            [
             1,
             "#f0f921"
            ]
           ]
          },
          "colorway": [
           "#636efa",
           "#EF553B",
           "#00cc96",
           "#ab63fa",
           "#FFA15A",
           "#19d3f3",
           "#FF6692",
           "#B6E880",
           "#FF97FF",
           "#FECB52"
          ],
          "font": {
           "color": "#2a3f5f"
          },
          "geo": {
           "bgcolor": "white",
           "lakecolor": "white",
           "landcolor": "#E5ECF6",
           "showlakes": true,
           "showland": true,
           "subunitcolor": "white"
          },
          "hoverlabel": {
           "align": "left"
          },
          "hovermode": "closest",
          "mapbox": {
           "style": "light"
          },
          "paper_bgcolor": "white",
          "plot_bgcolor": "#E5ECF6",
          "polar": {
           "angularaxis": {
            "gridcolor": "white",
            "linecolor": "white",
            "ticks": ""
           },
           "bgcolor": "#E5ECF6",
           "radialaxis": {
            "gridcolor": "white",
            "linecolor": "white",
            "ticks": ""
           }
          },
          "scene": {
           "xaxis": {
            "backgroundcolor": "#E5ECF6",
            "gridcolor": "white",
            "gridwidth": 2,
            "linecolor": "white",
            "showbackground": true,
            "ticks": "",
            "zerolinecolor": "white"
           },
           "yaxis": {
            "backgroundcolor": "#E5ECF6",
            "gridcolor": "white",
            "gridwidth": 2,
            "linecolor": "white",
            "showbackground": true,
            "ticks": "",
            "zerolinecolor": "white"
           },
           "zaxis": {
            "backgroundcolor": "#E5ECF6",
            "gridcolor": "white",
            "gridwidth": 2,
            "linecolor": "white",
            "showbackground": true,
            "ticks": "",
            "zerolinecolor": "white"
           }
          },
          "shapedefaults": {
           "line": {
            "color": "#2a3f5f"
           }
          },
          "ternary": {
           "aaxis": {
            "gridcolor": "white",
            "linecolor": "white",
            "ticks": ""
           },
           "baxis": {
            "gridcolor": "white",
            "linecolor": "white",
            "ticks": ""
           },
           "bgcolor": "#E5ECF6",
           "caxis": {
            "gridcolor": "white",
            "linecolor": "white",
            "ticks": ""
           }
          },
          "title": {
           "x": 0.05
          },
          "xaxis": {
           "automargin": true,
           "gridcolor": "white",
           "linecolor": "white",
           "ticks": "",
           "title": {
            "standoff": 15
           },
           "zerolinecolor": "white",
           "zerolinewidth": 2
          },
          "yaxis": {
           "automargin": true,
           "gridcolor": "white",
           "linecolor": "white",
           "ticks": "",
           "title": {
            "standoff": 15
           },
           "zerolinecolor": "white",
           "zerolinewidth": 2
          }
         }
        }
       }
      },
      "text/html": [
       "<div>                            <div id=\"23ca8fdb-6d8c-4889-8b68-4739ec82c4ec\" class=\"plotly-graph-div\" style=\"height:525px; width:100%;\"></div>            <script type=\"text/javascript\">                require([\"plotly\"], function(Plotly) {                    window.PLOTLYENV=window.PLOTLYENV || {};                                    if (document.getElementById(\"23ca8fdb-6d8c-4889-8b68-4739ec82c4ec\")) {                    Plotly.newPlot(                        \"23ca8fdb-6d8c-4889-8b68-4739ec82c4ec\",                        [{\"name\":\"FGM\",\"x\":[2012,2013,2014,2015,2016,2017,2018,2019,2020,2021],\"y\":[38.79131657513413,39.01680782551966,38.88289571528818,38.64603260714388,39.44880626618683,40.21530133425962,39.440638951798526,38.96793498198478,40.75995883589164,39.8682673864048],\"type\":\"scatter\"},{\"name\":\"FGA\",\"x\":[2012,2013,2014,2015,2016,2017,2018,2019,2020,2021],\"y\":[85.85879100595787,85.90544861126696,86.85631966667587,86.56216391133445,86.08403196148451,86.49017941265525,86.84081664450144,85.39624052934323,87.37762155043589,86.5655242403212],\"type\":\"scatter\"},{\"name\":\"FG3M\",\"x\":[2012,2013,2014,2015,2016,2017,2018,2019,2020,2021],\"y\":[7.571295620416156,8.14762052392029,8.224083544311029,8.853705660090036,10.04475980204428,10.566795210129367,11.050149035581201,12.449647544019998,12.533564125716135,12.50788529864427],\"type\":\"scatter\"},{\"name\":\"FG3A\",\"x\":[2012,2013,2014,2015,2016,2017,2018,2019,2020,2021],\"y\":[21.211574554712247,22.740586609657885,23.505882778602434,25.228659262008772,28.084990768928332,28.891539339986437,31.464870449406728,34.42488996682187,33.97566822674957,35.04330374022297],\"type\":\"scatter\"},{\"name\":\"FTM\",\"x\":[2012,2013,2014,2015,2016,2017,2018,2019,2020,2021],\"y\":[18.70274286984062,19.37883130740423,18.247706063875064,18.16663335522371,18.71946351292582,16.937612104091002,18.175014328560852,18.064546220213455,17.49918184363159,17.493269731016294],\"type\":\"scatter\"},{\"name\":\"FTA\",\"x\":[2012,2013,2014,2015,2016,2017,2018,2019,2020,2021],\"y\":[24.828473567068833,25.48419737260041,24.348524044792335,24.127002255660564,24.093050686048052,21.97124909509808,23.431138513131266,23.1098824907547,22.279975080731333,22.337977473960002],\"type\":\"scatter\"},{\"name\":\"OREB\",\"x\":[2012,2013,2014,2015,2016,2017,2018,2019,2020,2021],\"y\":[11.265848946828298,11.124224228603163,11.318528872127045,10.83335712722116,10.047078001860124,9.736821477261024,10.171423377904896,8.924639269668514,9.724232017317314,9.47963445779255],\"type\":\"scatter\"},{\"name\":\"DREB\",\"x\":[2012,2013,2014,2015,2016,2017,2018,2019,2020,2021],\"y\":[32.28030101201491,32.526290162752694,33.96510798662057,34.122814531403165,33.201257762492084,33.82527208537048,33.82514147714942,33.106375421453755,33.2807281788825,33.061490027750324],\"type\":\"scatter\"},{\"name\":\"REB\",\"x\":[2012,2013,2014,2015,2016,2017,2018,2019,2020,2021],\"y\":[43.51329621058894,43.64100447536646,45.190803498913134,44.9228602156678,43.18574436932447,43.539038736718496,43.954831182658076,42.00859097436431,43.00988884902156,42.57320864278091],\"type\":\"scatter\"},{\"name\":\"AST\",\"x\":[2012,2013,2014,2015,2016,2017,2018,2019,2020,2021],\"y\":[22.012011330361762,22.21516375124342,22.52518164394074,21.80947758139889,22.773994990833838,23.25079193327011,23.229425763216124,23.27806036643941,23.765963906489652,24.124818230909185],\"type\":\"scatter\"},{\"name\":\"STL\",\"x\":[2012,2013,2014,2015,2016,2017,2018,2019,2020,2021],\"y\":[7.783351631875543,7.638840018487277,7.871792845451974,7.88529442556796,7.687150589332757,7.800216100568225,7.259340459589748,7.099348725570481,7.109581695377712,7.307783813986915],\"type\":\"scatter\"},{\"name\":\"BLK\",\"x\":[2012,2013,2014,2015,2016,2017,2018,2019,2020,2021],\"y\":[5.208812450495375,4.750203036706373,5.101074105776711,5.13710038165396,4.708263825975521,4.856883325674008,4.736771816972806,4.379351882829801,4.504788679081615,4.51152611008716],\"type\":\"scatter\"},{\"name\":\"TOV\",\"x\":[2012,2013,2014,2015,2016,2017,2018,2019,2020,2021],\"y\":[14.482529571360134,14.005728773392015,13.74885862574255,13.655312223396052,13.362103738514477,13.579292462762613,13.020905787625686,13.360050444393218,12.543421431359638,13.085400128928951],\"type\":\"scatter\"},{\"name\":\"PTS\",\"x\":[2012,2013,2014,2015,2016,2017,2018,2019,2020,2021],\"y\":[103.82979130104428,105.45783588547776,104.14236733636812,104.27671339786235,107.62938104992197,107.96574975062363,108.025292460302,108.37606546290175,111.5304847034331,109.68092552427981],\"type\":\"scatter\"},{\"name\":\"FG%\",\"x\":[2012,2013,2014,2015,2016,2017,2018,2019,2020,2021],\"y\":[0.01349403992595197,0.010798109159361156,0.010656059556383615,0.010622878671562362,0.010623365720414397,0.01786632073137839,0.010530139888345624,0.010232370081659739,0.011495602796596338,0.011366576589138932],\"type\":\"scatter\"},{\"name\":\"3PT%\",\"x\":[2012,2013,2014,2015,2016,2017,2018,2019,2020,2021],\"y\":[0.35694170656153196,0.3582854155776268,0.349873417721519,0.35093841365651235,0.35765579859678087,0.36574012501662456,0.3511900375801342,0.361646690984888,0.3688982374700805,0.35692654412282554],\"type\":\"scatter\"},{\"name\":\"FT%\",\"x\":[2012,2013,2014,2015,2016,2017,2018,2019,2020,2021],\"y\":[0.7532779983158908,0.7604254128183598,0.7494378727148304,0.7529585798816568,0.7769652650822669,0.770898915704792,0.7756778151593112,0.7816805744226665,0.7854219665966155,0.7831178875262401],\"type\":\"scatter\"},{\"name\":\"FG3A%\",\"x\":[2012,2013,2014,2015,2016,2017,2018,2019,2020,2021],\"y\":[0.24705186628169898,0.2647164641740237,0.27062950478226316,0.29145134689389773,0.3262508752087036,0.3340441601137323,0.36232812708583634,0.4031195021400625,0.38883718306681336,0.40481824661439775],\"type\":\"scatter\"},{\"name\":\"PTS/FGA\",\"x\":[2012,2013,2014,2015,2016,2017,2018,2019,2020,2021],\"y\":[1.209308797439733,1.2276035756787422,1.199018882402916,1.2046454095656955,1.2502827597350137,1.2483006797281089,1.243946068615672,1.2690964472336739,1.2764193248159743,1.2670277975766215],\"type\":\"scatter\"},{\"name\":\"FTA/FGA\",\"x\":[2012,2013,2014,2015,2016,2017,2018,2019,2020,2021],\"y\":[0.2891780011827321,0.29665402817369163,0.2803310586752172,0.27872457394172623,0.2798782786664512,0.2540317206450753,0.2698171138699773,0.27061943649397363,0.25498491130101253,0.25804704205274415],\"type\":\"scatter\"},{\"name\":\"TRU%\",\"x\":[2012,2013,2014,2015,2016,2017,2018,2019,2020,2021],\"y\":[0.5316299479977092,0.5379928574070896,0.5290611163478567,0.5319019819644873,0.5517857747706687,0.5569463687881689,0.5513148039242368,0.5622714692397451,0.5692618953133186,0.5643412663995292],\"type\":\"scatter\"},{\"name\":\"AST_TOV\",\"x\":[2012,2013,2014,2015,2016,2017,2018,2019,2020,2021],\"y\":[1.5199010105176325,1.5861483619079952,1.6383310249307477,1.5971423592960448,1.7043719639139487,1.7122241086587437,1.7840099715099713,1.7423632091305807,1.894695481335953,1.8436439079592606],\"type\":\"scatter\"}],                        {\"template\":{\"data\":{\"histogram2dcontour\":[{\"type\":\"histogram2dcontour\",\"colorbar\":{\"outlinewidth\":0,\"ticks\":\"\"},\"colorscale\":[[0.0,\"#0d0887\"],[0.1111111111111111,\"#46039f\"],[0.2222222222222222,\"#7201a8\"],[0.3333333333333333,\"#9c179e\"],[0.4444444444444444,\"#bd3786\"],[0.5555555555555556,\"#d8576b\"],[0.6666666666666666,\"#ed7953\"],[0.7777777777777778,\"#fb9f3a\"],[0.8888888888888888,\"#fdca26\"],[1.0,\"#f0f921\"]]}],\"choropleth\":[{\"type\":\"choropleth\",\"colorbar\":{\"outlinewidth\":0,\"ticks\":\"\"}}],\"histogram2d\":[{\"type\":\"histogram2d\",\"colorbar\":{\"outlinewidth\":0,\"ticks\":\"\"},\"colorscale\":[[0.0,\"#0d0887\"],[0.1111111111111111,\"#46039f\"],[0.2222222222222222,\"#7201a8\"],[0.3333333333333333,\"#9c179e\"],[0.4444444444444444,\"#bd3786\"],[0.5555555555555556,\"#d8576b\"],[0.6666666666666666,\"#ed7953\"],[0.7777777777777778,\"#fb9f3a\"],[0.8888888888888888,\"#fdca26\"],[1.0,\"#f0f921\"]]}],\"heatmap\":[{\"type\":\"heatmap\",\"colorbar\":{\"outlinewidth\":0,\"ticks\":\"\"},\"colorscale\":[[0.0,\"#0d0887\"],[0.1111111111111111,\"#46039f\"],[0.2222222222222222,\"#7201a8\"],[0.3333333333333333,\"#9c179e\"],[0.4444444444444444,\"#bd3786\"],[0.5555555555555556,\"#d8576b\"],[0.6666666666666666,\"#ed7953\"],[0.7777777777777778,\"#fb9f3a\"],[0.8888888888888888,\"#fdca26\"],[1.0,\"#f0f921\"]]}],\"heatmapgl\":[{\"type\":\"heatmapgl\",\"colorbar\":{\"outlinewidth\":0,\"ticks\":\"\"},\"colorscale\":[[0.0,\"#0d0887\"],[0.1111111111111111,\"#46039f\"],[0.2222222222222222,\"#7201a8\"],[0.3333333333333333,\"#9c179e\"],[0.4444444444444444,\"#bd3786\"],[0.5555555555555556,\"#d8576b\"],[0.6666666666666666,\"#ed7953\"],[0.7777777777777778,\"#fb9f3a\"],[0.8888888888888888,\"#fdca26\"],[1.0,\"#f0f921\"]]}],\"contourcarpet\":[{\"type\":\"contourcarpet\",\"colorbar\":{\"outlinewidth\":0,\"ticks\":\"\"}}],\"contour\":[{\"type\":\"contour\",\"colorbar\":{\"outlinewidth\":0,\"ticks\":\"\"},\"colorscale\":[[0.0,\"#0d0887\"],[0.1111111111111111,\"#46039f\"],[0.2222222222222222,\"#7201a8\"],[0.3333333333333333,\"#9c179e\"],[0.4444444444444444,\"#bd3786\"],[0.5555555555555556,\"#d8576b\"],[0.6666666666666666,\"#ed7953\"],[0.7777777777777778,\"#fb9f3a\"],[0.8888888888888888,\"#fdca26\"],[1.0,\"#f0f921\"]]}],\"surface\":[{\"type\":\"surface\",\"colorbar\":{\"outlinewidth\":0,\"ticks\":\"\"},\"colorscale\":[[0.0,\"#0d0887\"],[0.1111111111111111,\"#46039f\"],[0.2222222222222222,\"#7201a8\"],[0.3333333333333333,\"#9c179e\"],[0.4444444444444444,\"#bd3786\"],[0.5555555555555556,\"#d8576b\"],[0.6666666666666666,\"#ed7953\"],[0.7777777777777778,\"#fb9f3a\"],[0.8888888888888888,\"#fdca26\"],[1.0,\"#f0f921\"]]}],\"mesh3d\":[{\"type\":\"mesh3d\",\"colorbar\":{\"outlinewidth\":0,\"ticks\":\"\"}}],\"scatter\":[{\"fillpattern\":{\"fillmode\":\"overlay\",\"size\":10,\"solidity\":0.2},\"type\":\"scatter\"}],\"parcoords\":[{\"type\":\"parcoords\",\"line\":{\"colorbar\":{\"outlinewidth\":0,\"ticks\":\"\"}}}],\"scatterpolargl\":[{\"type\":\"scatterpolargl\",\"marker\":{\"colorbar\":{\"outlinewidth\":0,\"ticks\":\"\"}}}],\"bar\":[{\"error_x\":{\"color\":\"#2a3f5f\"},\"error_y\":{\"color\":\"#2a3f5f\"},\"marker\":{\"line\":{\"color\":\"#E5ECF6\",\"width\":0.5},\"pattern\":{\"fillmode\":\"overlay\",\"size\":10,\"solidity\":0.2}},\"type\":\"bar\"}],\"scattergeo\":[{\"type\":\"scattergeo\",\"marker\":{\"colorbar\":{\"outlinewidth\":0,\"ticks\":\"\"}}}],\"scatterpolar\":[{\"type\":\"scatterpolar\",\"marker\":{\"colorbar\":{\"outlinewidth\":0,\"ticks\":\"\"}}}],\"histogram\":[{\"marker\":{\"pattern\":{\"fillmode\":\"overlay\",\"size\":10,\"solidity\":0.2}},\"type\":\"histogram\"}],\"scattergl\":[{\"type\":\"scattergl\",\"marker\":{\"colorbar\":{\"outlinewidth\":0,\"ticks\":\"\"}}}],\"scatter3d\":[{\"type\":\"scatter3d\",\"line\":{\"colorbar\":{\"outlinewidth\":0,\"ticks\":\"\"}},\"marker\":{\"colorbar\":{\"outlinewidth\":0,\"ticks\":\"\"}}}],\"scattermapbox\":[{\"type\":\"scattermapbox\",\"marker\":{\"colorbar\":{\"outlinewidth\":0,\"ticks\":\"\"}}}],\"scatterternary\":[{\"type\":\"scatterternary\",\"marker\":{\"colorbar\":{\"outlinewidth\":0,\"ticks\":\"\"}}}],\"scattercarpet\":[{\"type\":\"scattercarpet\",\"marker\":{\"colorbar\":{\"outlinewidth\":0,\"ticks\":\"\"}}}],\"carpet\":[{\"aaxis\":{\"endlinecolor\":\"#2a3f5f\",\"gridcolor\":\"white\",\"linecolor\":\"white\",\"minorgridcolor\":\"white\",\"startlinecolor\":\"#2a3f5f\"},\"baxis\":{\"endlinecolor\":\"#2a3f5f\",\"gridcolor\":\"white\",\"linecolor\":\"white\",\"minorgridcolor\":\"white\",\"startlinecolor\":\"#2a3f5f\"},\"type\":\"carpet\"}],\"table\":[{\"cells\":{\"fill\":{\"color\":\"#EBF0F8\"},\"line\":{\"color\":\"white\"}},\"header\":{\"fill\":{\"color\":\"#C8D4E3\"},\"line\":{\"color\":\"white\"}},\"type\":\"table\"}],\"barpolar\":[{\"marker\":{\"line\":{\"color\":\"#E5ECF6\",\"width\":0.5},\"pattern\":{\"fillmode\":\"overlay\",\"size\":10,\"solidity\":0.2}},\"type\":\"barpolar\"}],\"pie\":[{\"automargin\":true,\"type\":\"pie\"}]},\"layout\":{\"autotypenumbers\":\"strict\",\"colorway\":[\"#636efa\",\"#EF553B\",\"#00cc96\",\"#ab63fa\",\"#FFA15A\",\"#19d3f3\",\"#FF6692\",\"#B6E880\",\"#FF97FF\",\"#FECB52\"],\"font\":{\"color\":\"#2a3f5f\"},\"hovermode\":\"closest\",\"hoverlabel\":{\"align\":\"left\"},\"paper_bgcolor\":\"white\",\"plot_bgcolor\":\"#E5ECF6\",\"polar\":{\"bgcolor\":\"#E5ECF6\",\"angularaxis\":{\"gridcolor\":\"white\",\"linecolor\":\"white\",\"ticks\":\"\"},\"radialaxis\":{\"gridcolor\":\"white\",\"linecolor\":\"white\",\"ticks\":\"\"}},\"ternary\":{\"bgcolor\":\"#E5ECF6\",\"aaxis\":{\"gridcolor\":\"white\",\"linecolor\":\"white\",\"ticks\":\"\"},\"baxis\":{\"gridcolor\":\"white\",\"linecolor\":\"white\",\"ticks\":\"\"},\"caxis\":{\"gridcolor\":\"white\",\"linecolor\":\"white\",\"ticks\":\"\"}},\"coloraxis\":{\"colorbar\":{\"outlinewidth\":0,\"ticks\":\"\"}},\"colorscale\":{\"sequential\":[[0.0,\"#0d0887\"],[0.1111111111111111,\"#46039f\"],[0.2222222222222222,\"#7201a8\"],[0.3333333333333333,\"#9c179e\"],[0.4444444444444444,\"#bd3786\"],[0.5555555555555556,\"#d8576b\"],[0.6666666666666666,\"#ed7953\"],[0.7777777777777778,\"#fb9f3a\"],[0.8888888888888888,\"#fdca26\"],[1.0,\"#f0f921\"]],\"sequentialminus\":[[0.0,\"#0d0887\"],[0.1111111111111111,\"#46039f\"],[0.2222222222222222,\"#7201a8\"],[0.3333333333333333,\"#9c179e\"],[0.4444444444444444,\"#bd3786\"],[0.5555555555555556,\"#d8576b\"],[0.6666666666666666,\"#ed7953\"],[0.7777777777777778,\"#fb9f3a\"],[0.8888888888888888,\"#fdca26\"],[1.0,\"#f0f921\"]],\"diverging\":[[0,\"#8e0152\"],[0.1,\"#c51b7d\"],[0.2,\"#de77ae\"],[0.3,\"#f1b6da\"],[0.4,\"#fde0ef\"],[0.5,\"#f7f7f7\"],[0.6,\"#e6f5d0\"],[0.7,\"#b8e186\"],[0.8,\"#7fbc41\"],[0.9,\"#4d9221\"],[1,\"#276419\"]]},\"xaxis\":{\"gridcolor\":\"white\",\"linecolor\":\"white\",\"ticks\":\"\",\"title\":{\"standoff\":15},\"zerolinecolor\":\"white\",\"automargin\":true,\"zerolinewidth\":2},\"yaxis\":{\"gridcolor\":\"white\",\"linecolor\":\"white\",\"ticks\":\"\",\"title\":{\"standoff\":15},\"zerolinecolor\":\"white\",\"automargin\":true,\"zerolinewidth\":2},\"scene\":{\"xaxis\":{\"backgroundcolor\":\"#E5ECF6\",\"gridcolor\":\"white\",\"linecolor\":\"white\",\"showbackground\":true,\"ticks\":\"\",\"zerolinecolor\":\"white\",\"gridwidth\":2},\"yaxis\":{\"backgroundcolor\":\"#E5ECF6\",\"gridcolor\":\"white\",\"linecolor\":\"white\",\"showbackground\":true,\"ticks\":\"\",\"zerolinecolor\":\"white\",\"gridwidth\":2},\"zaxis\":{\"backgroundcolor\":\"#E5ECF6\",\"gridcolor\":\"white\",\"linecolor\":\"white\",\"showbackground\":true,\"ticks\":\"\",\"zerolinecolor\":\"white\",\"gridwidth\":2}},\"shapedefaults\":{\"line\":{\"color\":\"#2a3f5f\"}},\"annotationdefaults\":{\"arrowcolor\":\"#2a3f5f\",\"arrowhead\":0,\"arrowwidth\":1},\"geo\":{\"bgcolor\":\"white\",\"landcolor\":\"#E5ECF6\",\"subunitcolor\":\"white\",\"showland\":true,\"showlakes\":true,\"lakecolor\":\"white\"},\"title\":{\"x\":0.05},\"mapbox\":{\"style\":\"light\"}}}},                        {\"responsive\": true}                    ).then(function(){\n",
       "                            \n",
       "var gd = document.getElementById('23ca8fdb-6d8c-4889-8b68-4739ec82c4ec');\n",
       "var x = new MutationObserver(function (mutations, observer) {{\n",
       "        var display = window.getComputedStyle(gd).display;\n",
       "        if (!display || display === 'none') {{\n",
       "            console.log([gd, 'removed!']);\n",
       "            Plotly.purge(gd);\n",
       "            observer.disconnect();\n",
       "        }}\n",
       "}});\n",
       "\n",
       "// Listen for the removal of the full notebook cells\n",
       "var notebookContainer = gd.closest('#notebook-container');\n",
       "if (notebookContainer) {{\n",
       "    x.observe(notebookContainer, {childList: true});\n",
       "}}\n",
       "\n",
       "// Listen for the clearing of the current output cell\n",
       "var outputEl = gd.closest('.output');\n",
       "if (outputEl) {{\n",
       "    x.observe(outputEl, {childList: true});\n",
       "}}\n",
       "\n",
       "                        })                };                });            </script>        </div>"
      ]
     },
     "metadata": {},
     "output_type": "display_data"
    }
   ],
   "source": [
    "for col in change_per100_df.columns[3:18]:\n",
    "    change_per100_df[col] = (change_per100_df[col]/change_per100_df['POSS_est'])*100\n",
    "\n",
    "change_per100_df.drop(columns=['MIN','POSS_est'],inplace=True)\n",
    "\n",
    "fig = go.Figure()\n",
    "for col in change_per100_df.columns[1:]:\n",
    "    fig.add_trace(go.Scatter(x=change_per100_df['season_start_year'],\n",
    "                            y=change_per100_df[col], name=col))\n",
    "fig.show()"
   ]
  },
  {
   "cell_type": "markdown",
   "id": "5597fd45",
   "metadata": {},
   "source": [
    "# Compare RS to playoffs"
   ]
  },
  {
   "cell_type": "code",
   "execution_count": 108,
   "id": "d73b4d9c",
   "metadata": {},
   "outputs": [
    {
     "data": {
      "text/html": [
       "<div>\n",
       "<style scoped>\n",
       "    .dataframe tbody tr th:only-of-type {\n",
       "        vertical-align: middle;\n",
       "    }\n",
       "\n",
       "    .dataframe tbody tr th {\n",
       "        vertical-align: top;\n",
       "    }\n",
       "\n",
       "    .dataframe thead th {\n",
       "        text-align: right;\n",
       "    }\n",
       "</style>\n",
       "<table border=\"1\" class=\"dataframe\">\n",
       "  <thead>\n",
       "    <tr style=\"text-align: right;\">\n",
       "      <th></th>\n",
       "      <th>season_start_year</th>\n",
       "      <th>FGM</th>\n",
       "      <th>FGA</th>\n",
       "      <th>FG3M</th>\n",
       "      <th>FG3A</th>\n",
       "      <th>FTM</th>\n",
       "      <th>FTA</th>\n",
       "      <th>OREB</th>\n",
       "      <th>DREB</th>\n",
       "      <th>REB</th>\n",
       "      <th>AST</th>\n",
       "      <th>STL</th>\n",
       "      <th>BLK</th>\n",
       "      <th>TOV</th>\n",
       "      <th>PTS</th>\n",
       "      <th>POSS_per_48</th>\n",
       "      <th>FG%</th>\n",
       "      <th>3PT%</th>\n",
       "      <th>FT%</th>\n",
       "      <th>FG3A%</th>\n",
       "      <th>PTS/FGA</th>\n",
       "      <th>FTA/FGA</th>\n",
       "      <th>TRU%</th>\n",
       "      <th>AST_TOV</th>\n",
       "    </tr>\n",
       "  </thead>\n",
       "  <tbody>\n",
       "    <tr>\n",
       "      <th>0</th>\n",
       "      <td>2012</td>\n",
       "      <td>39.736744</td>\n",
       "      <td>86.658749</td>\n",
       "      <td>7.610868</td>\n",
       "      <td>20.739616</td>\n",
       "      <td>18.070805</td>\n",
       "      <td>23.788971</td>\n",
       "      <td>11.591553</td>\n",
       "      <td>32.090826</td>\n",
       "      <td>43.662350</td>\n",
       "      <td>22.992834</td>\n",
       "      <td>8.041483</td>\n",
       "      <td>5.262515</td>\n",
       "      <td>14.465657</td>\n",
       "      <td>105.145147</td>\n",
       "      <td>19.382299</td>\n",
       "      <td>0.458543</td>\n",
       "      <td>0.366972</td>\n",
       "      <td>0.759630</td>\n",
       "      <td>0.239325</td>\n",
       "      <td>1.213324</td>\n",
       "      <td>0.274513</td>\n",
       "      <td>0.536682</td>\n",
       "      <td>1.589477</td>\n",
       "    </tr>\n",
       "    <tr>\n",
       "      <th>1</th>\n",
       "      <td>2013</td>\n",
       "      <td>39.172867</td>\n",
       "      <td>85.660814</td>\n",
       "      <td>8.018098</td>\n",
       "      <td>22.115446</td>\n",
       "      <td>18.929667</td>\n",
       "      <td>24.860914</td>\n",
       "      <td>10.807967</td>\n",
       "      <td>32.431300</td>\n",
       "      <td>43.239267</td>\n",
       "      <td>22.896165</td>\n",
       "      <td>7.895995</td>\n",
       "      <td>4.750917</td>\n",
       "      <td>14.208351</td>\n",
       "      <td>105.230597</td>\n",
       "      <td>19.483138</td>\n",
       "      <td>0.457302</td>\n",
       "      <td>0.362556</td>\n",
       "      <td>0.761423</td>\n",
       "      <td>0.258175</td>\n",
       "      <td>1.228457</td>\n",
       "      <td>0.290225</td>\n",
       "      <td>0.539812</td>\n",
       "      <td>1.611458</td>\n",
       "    </tr>\n",
       "    <tr>\n",
       "      <th>2</th>\n",
       "      <td>2014</td>\n",
       "      <td>39.387593</td>\n",
       "      <td>86.715518</td>\n",
       "      <td>8.025314</td>\n",
       "      <td>22.516697</td>\n",
       "      <td>18.104991</td>\n",
       "      <td>23.994656</td>\n",
       "      <td>11.380280</td>\n",
       "      <td>33.741792</td>\n",
       "      <td>45.037089</td>\n",
       "      <td>22.797509</td>\n",
       "      <td>7.951417</td>\n",
       "      <td>5.017669</td>\n",
       "      <td>14.107114</td>\n",
       "      <td>104.868543</td>\n",
       "      <td>19.310421</td>\n",
       "      <td>0.454216</td>\n",
       "      <td>0.356416</td>\n",
       "      <td>0.754543</td>\n",
       "      <td>0.259662</td>\n",
       "      <td>1.209340</td>\n",
       "      <td>0.276705</td>\n",
       "      <td>0.534427</td>\n",
       "      <td>1.616029</td>\n",
       "    </tr>\n",
       "    <tr>\n",
       "      <th>3</th>\n",
       "      <td>2015</td>\n",
       "      <td>39.242430</td>\n",
       "      <td>86.350104</td>\n",
       "      <td>8.805139</td>\n",
       "      <td>24.706848</td>\n",
       "      <td>18.098440</td>\n",
       "      <td>23.777882</td>\n",
       "      <td>10.816076</td>\n",
       "      <td>34.291589</td>\n",
       "      <td>45.071235</td>\n",
       "      <td>22.506474</td>\n",
       "      <td>8.080181</td>\n",
       "      <td>5.074703</td>\n",
       "      <td>14.003704</td>\n",
       "      <td>105.413940</td>\n",
       "      <td>19.582579</td>\n",
       "      <td>0.454457</td>\n",
       "      <td>0.356385</td>\n",
       "      <td>0.761146</td>\n",
       "      <td>0.286124</td>\n",
       "      <td>1.220774</td>\n",
       "      <td>0.275366</td>\n",
       "      <td>0.539784</td>\n",
       "      <td>1.607180</td>\n",
       "    </tr>\n",
       "    <tr>\n",
       "      <th>4</th>\n",
       "      <td>2016</td>\n",
       "      <td>39.626915</td>\n",
       "      <td>86.209107</td>\n",
       "      <td>9.932548</td>\n",
       "      <td>27.557569</td>\n",
       "      <td>18.394268</td>\n",
       "      <td>23.629422</td>\n",
       "      <td>10.000214</td>\n",
       "      <td>33.419518</td>\n",
       "      <td>43.387679</td>\n",
       "      <td>23.269728</td>\n",
       "      <td>7.720963</td>\n",
       "      <td>4.700955</td>\n",
       "      <td>13.394161</td>\n",
       "      <td>107.573524</td>\n",
       "      <td>19.943051</td>\n",
       "      <td>0.459660</td>\n",
       "      <td>0.360429</td>\n",
       "      <td>0.778448</td>\n",
       "      <td>0.319660</td>\n",
       "      <td>1.247821</td>\n",
       "      <td>0.274094</td>\n",
       "      <td>0.552038</td>\n",
       "      <td>1.737304</td>\n",
       "    </tr>\n",
       "    <tr>\n",
       "      <th>5</th>\n",
       "      <td>2017</td>\n",
       "      <td>40.215301</td>\n",
       "      <td>86.490179</td>\n",
       "      <td>10.566795</td>\n",
       "      <td>28.891539</td>\n",
       "      <td>16.937612</td>\n",
       "      <td>21.971249</td>\n",
       "      <td>9.736821</td>\n",
       "      <td>33.825272</td>\n",
       "      <td>43.539039</td>\n",
       "      <td>23.250792</td>\n",
       "      <td>7.800216</td>\n",
       "      <td>4.856883</td>\n",
       "      <td>13.579292</td>\n",
       "      <td>107.965750</td>\n",
       "      <td>19.848674</td>\n",
       "      <td>0.464970</td>\n",
       "      <td>0.365740</td>\n",
       "      <td>0.770899</td>\n",
       "      <td>0.334044</td>\n",
       "      <td>1.248301</td>\n",
       "      <td>0.254032</td>\n",
       "      <td>0.556946</td>\n",
       "      <td>1.712224</td>\n",
       "    </tr>\n",
       "    <tr>\n",
       "      <th>6</th>\n",
       "      <td>2018</td>\n",
       "      <td>40.487306</td>\n",
       "      <td>86.875025</td>\n",
       "      <td>11.097109</td>\n",
       "      <td>30.898682</td>\n",
       "      <td>17.791462</td>\n",
       "      <td>22.980940</td>\n",
       "      <td>10.122729</td>\n",
       "      <td>33.720776</td>\n",
       "      <td>43.814634</td>\n",
       "      <td>23.655788</td>\n",
       "      <td>7.325896</td>\n",
       "      <td>4.778072</td>\n",
       "      <td>13.136090</td>\n",
       "      <td>109.837921</td>\n",
       "      <td>20.715439</td>\n",
       "      <td>0.466041</td>\n",
       "      <td>0.359145</td>\n",
       "      <td>0.774183</td>\n",
       "      <td>0.355668</td>\n",
       "      <td>1.264321</td>\n",
       "      <td>0.264529</td>\n",
       "      <td>0.561595</td>\n",
       "      <td>1.800824</td>\n",
       "    </tr>\n",
       "    <tr>\n",
       "      <th>7</th>\n",
       "      <td>2019</td>\n",
       "      <td>39.558565</td>\n",
       "      <td>85.858845</td>\n",
       "      <td>12.119820</td>\n",
       "      <td>33.375479</td>\n",
       "      <td>17.629775</td>\n",
       "      <td>22.636618</td>\n",
       "      <td>9.121960</td>\n",
       "      <td>32.702349</td>\n",
       "      <td>41.806960</td>\n",
       "      <td>23.847559</td>\n",
       "      <td>7.248298</td>\n",
       "      <td>4.507199</td>\n",
       "      <td>13.303003</td>\n",
       "      <td>108.828559</td>\n",
       "      <td>20.981070</td>\n",
       "      <td>0.460740</td>\n",
       "      <td>0.363135</td>\n",
       "      <td>0.778817</td>\n",
       "      <td>0.388725</td>\n",
       "      <td>1.267529</td>\n",
       "      <td>0.263649</td>\n",
       "      <td>0.563229</td>\n",
       "      <td>1.792645</td>\n",
       "    </tr>\n",
       "    <tr>\n",
       "      <th>8</th>\n",
       "      <td>2020</td>\n",
       "      <td>40.987014</td>\n",
       "      <td>86.923848</td>\n",
       "      <td>12.468681</td>\n",
       "      <td>33.574052</td>\n",
       "      <td>17.065502</td>\n",
       "      <td>21.776067</td>\n",
       "      <td>9.495652</td>\n",
       "      <td>33.315187</td>\n",
       "      <td>42.826527</td>\n",
       "      <td>24.858918</td>\n",
       "      <td>7.479640</td>\n",
       "      <td>4.573288</td>\n",
       "      <td>12.990334</td>\n",
       "      <td>111.543512</td>\n",
       "      <td>20.403845</td>\n",
       "      <td>0.471528</td>\n",
       "      <td>0.371379</td>\n",
       "      <td>0.783682</td>\n",
       "      <td>0.386247</td>\n",
       "      <td>1.283233</td>\n",
       "      <td>0.250519</td>\n",
       "      <td>0.573385</td>\n",
       "      <td>1.913647</td>\n",
       "    </tr>\n",
       "    <tr>\n",
       "      <th>9</th>\n",
       "      <td>2021</td>\n",
       "      <td>40.459773</td>\n",
       "      <td>87.307931</td>\n",
       "      <td>12.860201</td>\n",
       "      <td>35.716159</td>\n",
       "      <td>16.642379</td>\n",
       "      <td>21.342292</td>\n",
       "      <td>9.483256</td>\n",
       "      <td>33.487375</td>\n",
       "      <td>42.998441</td>\n",
       "      <td>25.048986</td>\n",
       "      <td>7.484899</td>\n",
       "      <td>4.441676</td>\n",
       "      <td>12.784716</td>\n",
       "      <td>110.406235</td>\n",
       "      <td>20.440425</td>\n",
       "      <td>0.463415</td>\n",
       "      <td>0.360067</td>\n",
       "      <td>0.779784</td>\n",
       "      <td>0.409083</td>\n",
       "      <td>1.264561</td>\n",
       "      <td>0.244448</td>\n",
       "      <td>0.566502</td>\n",
       "      <td>1.959291</td>\n",
       "    </tr>\n",
       "  </tbody>\n",
       "</table>\n",
       "</div>"
      ],
      "text/plain": [
       "   season_start_year        FGM        FGA       FG3M       FG3A        FTM  \\\n",
       "0               2012  39.736744  86.658749   7.610868  20.739616  18.070805   \n",
       "1               2013  39.172867  85.660814   8.018098  22.115446  18.929667   \n",
       "2               2014  39.387593  86.715518   8.025314  22.516697  18.104991   \n",
       "3               2015  39.242430  86.350104   8.805139  24.706848  18.098440   \n",
       "4               2016  39.626915  86.209107   9.932548  27.557569  18.394268   \n",
       "5               2017  40.215301  86.490179  10.566795  28.891539  16.937612   \n",
       "6               2018  40.487306  86.875025  11.097109  30.898682  17.791462   \n",
       "7               2019  39.558565  85.858845  12.119820  33.375479  17.629775   \n",
       "8               2020  40.987014  86.923848  12.468681  33.574052  17.065502   \n",
       "9               2021  40.459773  87.307931  12.860201  35.716159  16.642379   \n",
       "\n",
       "         FTA       OREB       DREB        REB        AST       STL       BLK  \\\n",
       "0  23.788971  11.591553  32.090826  43.662350  22.992834  8.041483  5.262515   \n",
       "1  24.860914  10.807967  32.431300  43.239267  22.896165  7.895995  4.750917   \n",
       "2  23.994656  11.380280  33.741792  45.037089  22.797509  7.951417  5.017669   \n",
       "3  23.777882  10.816076  34.291589  45.071235  22.506474  8.080181  5.074703   \n",
       "4  23.629422  10.000214  33.419518  43.387679  23.269728  7.720963  4.700955   \n",
       "5  21.971249   9.736821  33.825272  43.539039  23.250792  7.800216  4.856883   \n",
       "6  22.980940  10.122729  33.720776  43.814634  23.655788  7.325896  4.778072   \n",
       "7  22.636618   9.121960  32.702349  41.806960  23.847559  7.248298  4.507199   \n",
       "8  21.776067   9.495652  33.315187  42.826527  24.858918  7.479640  4.573288   \n",
       "9  21.342292   9.483256  33.487375  42.998441  25.048986  7.484899  4.441676   \n",
       "\n",
       "         TOV         PTS  POSS_per_48       FG%      3PT%       FT%     FG3A%  \\\n",
       "0  14.465657  105.145147    19.382299  0.458543  0.366972  0.759630  0.239325   \n",
       "1  14.208351  105.230597    19.483138  0.457302  0.362556  0.761423  0.258175   \n",
       "2  14.107114  104.868543    19.310421  0.454216  0.356416  0.754543  0.259662   \n",
       "3  14.003704  105.413940    19.582579  0.454457  0.356385  0.761146  0.286124   \n",
       "4  13.394161  107.573524    19.943051  0.459660  0.360429  0.778448  0.319660   \n",
       "5  13.579292  107.965750    19.848674  0.464970  0.365740  0.770899  0.334044   \n",
       "6  13.136090  109.837921    20.715439  0.466041  0.359145  0.774183  0.355668   \n",
       "7  13.303003  108.828559    20.981070  0.460740  0.363135  0.778817  0.388725   \n",
       "8  12.990334  111.543512    20.403845  0.471528  0.371379  0.783682  0.386247   \n",
       "9  12.784716  110.406235    20.440425  0.463415  0.360067  0.779784  0.409083   \n",
       "\n",
       "    PTS/FGA   FTA/FGA      TRU%   AST_TOV  \n",
       "0  1.213324  0.274513  0.536682  1.589477  \n",
       "1  1.228457  0.290225  0.539812  1.611458  \n",
       "2  1.209340  0.276705  0.534427  1.616029  \n",
       "3  1.220774  0.275366  0.539784  1.607180  \n",
       "4  1.247821  0.274094  0.552038  1.737304  \n",
       "5  1.248301  0.254032  0.556946  1.712224  \n",
       "6  1.264321  0.264529  0.561595  1.800824  \n",
       "7  1.267529  0.263649  0.563229  1.792645  \n",
       "8  1.283233  0.250519  0.573385  1.913647  \n",
       "9  1.264561  0.244448  0.566502  1.959291  "
      ]
     },
     "execution_count": 108,
     "metadata": {},
     "output_type": "execute_result"
    }
   ],
   "source": [
    "rs_change_df = rs_df.groupby('season_start_year')[total_cols].sum().reset_index()\n",
    "playoffs_change_df = playoffs_df.groupby('season_start_year')[total_cols].sum().reset_index()\n",
    "\n",
    "for i in [rs_change_df,playoffs_change_df]:\n",
    "    i['POSS_est'] = i['FGA'] - i['OREB'] + i['TOV'] + 0.44*i['FTA']\n",
    "    i['POSS_per_48'] = (i['POSS_est']/i['MIN'])*48\n",
    "\n",
    "    i['FG%'] = i['FGM'] / i['FGA']\n",
    "    i['3PT%'] = i['FG3M'] / i['FG3A']\n",
    "    i['FT%'] = i['FTM'] / i['FTA']\n",
    "    i['FG3A%']= i['FG3A'] / i['FGA']\n",
    "    i['PTS/FGA'] = i['PTS']/i['FGA']\n",
    "    i['FTA/FGA'] = i['FTA'] / i['FGA']\n",
    "    i['TRU%'] = 0.5*i['PTS'] / (i['FGA']+0.475*i['FTA'])\n",
    "    i['AST_TOV'] = i['AST'] / i['TOV']\n",
    "    for col in total_cols:\n",
    "        i[col] = 100 * i[col]/i['POSS_est']\n",
    "    i.drop(columns=['MIN','POSS_est'],inplace=True)\n",
    "rs_change_df"
   ]
  },
  {
   "cell_type": "code",
   "execution_count": 109,
   "id": "ecf67f69",
   "metadata": {},
   "outputs": [
    {
     "data": {
      "text/html": [
       "<div>\n",
       "<style scoped>\n",
       "    .dataframe tbody tr th:only-of-type {\n",
       "        vertical-align: middle;\n",
       "    }\n",
       "\n",
       "    .dataframe tbody tr th {\n",
       "        vertical-align: top;\n",
       "    }\n",
       "\n",
       "    .dataframe thead th {\n",
       "        text-align: right;\n",
       "    }\n",
       "</style>\n",
       "<table border=\"1\" class=\"dataframe\">\n",
       "  <thead>\n",
       "    <tr style=\"text-align: right;\">\n",
       "      <th></th>\n",
       "      <th>season_start_year</th>\n",
       "      <th>FGM</th>\n",
       "      <th>FGA</th>\n",
       "      <th>FG3M</th>\n",
       "      <th>FG3A</th>\n",
       "      <th>FTM</th>\n",
       "      <th>FTA</th>\n",
       "      <th>OREB</th>\n",
       "      <th>DREB</th>\n",
       "      <th>REB</th>\n",
       "      <th>AST</th>\n",
       "      <th>STL</th>\n",
       "      <th>BLK</th>\n",
       "      <th>TOV</th>\n",
       "      <th>PTS</th>\n",
       "      <th>POSS_per_48</th>\n",
       "      <th>FG%</th>\n",
       "      <th>3PT%</th>\n",
       "      <th>FT%</th>\n",
       "      <th>FG3A%</th>\n",
       "      <th>PTS/FGA</th>\n",
       "      <th>FTA/FGA</th>\n",
       "      <th>TRU%</th>\n",
       "      <th>AST_TOV</th>\n",
       "    </tr>\n",
       "  </thead>\n",
       "  <tbody>\n",
       "    <tr>\n",
       "      <th>0</th>\n",
       "      <td>2012</td>\n",
       "      <td>-5.896</td>\n",
       "      <td>-2.288</td>\n",
       "      <td>-1.289</td>\n",
       "      <td>5.640</td>\n",
       "      <td>8.666</td>\n",
       "      <td>10.829</td>\n",
       "      <td>-6.963</td>\n",
       "      <td>1.463</td>\n",
       "      <td>-0.846</td>\n",
       "      <td>-10.572</td>\n",
       "      <td>-7.955</td>\n",
       "      <td>-2.529</td>\n",
       "      <td>0.289</td>\n",
       "      <td>-3.100</td>\n",
       "      <td>-3.264</td>\n",
       "      <td>-3.693</td>\n",
       "      <td>-6.558</td>\n",
       "      <td>-1.951</td>\n",
       "      <td>8.113</td>\n",
       "      <td>-0.832</td>\n",
       "      <td>13.424</td>\n",
       "      <td>-2.344</td>\n",
       "      <td>-10.829</td>\n",
       "    </tr>\n",
       "    <tr>\n",
       "      <th>1</th>\n",
       "      <td>2013</td>\n",
       "      <td>-1.115</td>\n",
       "      <td>0.799</td>\n",
       "      <td>4.519</td>\n",
       "      <td>7.908</td>\n",
       "      <td>6.638</td>\n",
       "      <td>7.014</td>\n",
       "      <td>8.186</td>\n",
       "      <td>0.819</td>\n",
       "      <td>2.599</td>\n",
       "      <td>-8.321</td>\n",
       "      <td>-9.111</td>\n",
       "      <td>-0.042</td>\n",
       "      <td>-3.990</td>\n",
       "      <td>0.604</td>\n",
       "      <td>-4.998</td>\n",
       "      <td>-1.898</td>\n",
       "      <td>-3.140</td>\n",
       "      <td>-0.351</td>\n",
       "      <td>7.053</td>\n",
       "      <td>-0.193</td>\n",
       "      <td>6.166</td>\n",
       "      <td>-0.933</td>\n",
       "      <td>-4.511</td>\n",
       "    </tr>\n",
       "    <tr>\n",
       "      <th>2</th>\n",
       "      <td>2014</td>\n",
       "      <td>-3.602</td>\n",
       "      <td>0.456</td>\n",
       "      <td>6.962</td>\n",
       "      <td>12.348</td>\n",
       "      <td>2.216</td>\n",
       "      <td>4.145</td>\n",
       "      <td>-1.525</td>\n",
       "      <td>1.860</td>\n",
       "      <td>0.959</td>\n",
       "      <td>-3.358</td>\n",
       "      <td>-2.815</td>\n",
       "      <td>4.672</td>\n",
       "      <td>-7.138</td>\n",
       "      <td>-1.946</td>\n",
       "      <td>-0.278</td>\n",
       "      <td>-4.040</td>\n",
       "      <td>-4.794</td>\n",
       "      <td>-1.853</td>\n",
       "      <td>11.838</td>\n",
       "      <td>-2.392</td>\n",
       "      <td>3.672</td>\n",
       "      <td>-2.806</td>\n",
       "      <td>4.071</td>\n",
       "    </tr>\n",
       "    <tr>\n",
       "      <th>3</th>\n",
       "      <td>2015</td>\n",
       "      <td>-4.382</td>\n",
       "      <td>0.708</td>\n",
       "      <td>1.590</td>\n",
       "      <td>6.089</td>\n",
       "      <td>1.086</td>\n",
       "      <td>4.233</td>\n",
       "      <td>0.461</td>\n",
       "      <td>-1.419</td>\n",
       "      <td>-0.949</td>\n",
       "      <td>-8.928</td>\n",
       "      <td>-6.954</td>\n",
       "      <td>3.545</td>\n",
       "      <td>-7.172</td>\n",
       "      <td>-3.110</td>\n",
       "      <td>-3.528</td>\n",
       "      <td>-5.054</td>\n",
       "      <td>-4.241</td>\n",
       "      <td>-3.019</td>\n",
       "      <td>5.343</td>\n",
       "      <td>-3.791</td>\n",
       "      <td>3.500</td>\n",
       "      <td>-4.179</td>\n",
       "      <td>-1.891</td>\n",
       "    </tr>\n",
       "    <tr>\n",
       "      <th>4</th>\n",
       "      <td>2016</td>\n",
       "      <td>-1.288</td>\n",
       "      <td>-0.416</td>\n",
       "      <td>3.236</td>\n",
       "      <td>5.483</td>\n",
       "      <td>5.065</td>\n",
       "      <td>5.621</td>\n",
       "      <td>1.343</td>\n",
       "      <td>-1.871</td>\n",
       "      <td>-1.333</td>\n",
       "      <td>-6.103</td>\n",
       "      <td>-1.255</td>\n",
       "      <td>0.445</td>\n",
       "      <td>-0.686</td>\n",
       "      <td>0.149</td>\n",
       "      <td>-2.872</td>\n",
       "      <td>-0.876</td>\n",
       "      <td>-2.130</td>\n",
       "      <td>-0.527</td>\n",
       "      <td>5.923</td>\n",
       "      <td>0.567</td>\n",
       "      <td>6.062</td>\n",
       "      <td>-0.131</td>\n",
       "      <td>-5.455</td>\n",
       "    </tr>\n",
       "    <tr>\n",
       "      <th>5</th>\n",
       "      <td>2017</td>\n",
       "      <td>-6.603</td>\n",
       "      <td>0.334</td>\n",
       "      <td>3.776</td>\n",
       "      <td>12.428</td>\n",
       "      <td>11.375</td>\n",
       "      <td>10.327</td>\n",
       "      <td>5.362</td>\n",
       "      <td>0.554</td>\n",
       "      <td>1.534</td>\n",
       "      <td>-3.387</td>\n",
       "      <td>-8.467</td>\n",
       "      <td>-4.001</td>\n",
       "      <td>-5.636</td>\n",
       "      <td>-2.962</td>\n",
       "      <td>-0.081</td>\n",
       "      <td>-6.914</td>\n",
       "      <td>-7.696</td>\n",
       "      <td>0.950</td>\n",
       "      <td>12.054</td>\n",
       "      <td>-3.285</td>\n",
       "      <td>9.959</td>\n",
       "      <td>-4.311</td>\n",
       "      <td>2.384</td>\n",
       "    </tr>\n",
       "    <tr>\n",
       "      <th>6</th>\n",
       "      <td>2018</td>\n",
       "      <td>-6.418</td>\n",
       "      <td>-2.675</td>\n",
       "      <td>17.618</td>\n",
       "      <td>17.617</td>\n",
       "      <td>5.999</td>\n",
       "      <td>4.324</td>\n",
       "      <td>-15.397</td>\n",
       "      <td>0.367</td>\n",
       "      <td>-3.281</td>\n",
       "      <td>-5.995</td>\n",
       "      <td>-6.807</td>\n",
       "      <td>-13.233</td>\n",
       "      <td>2.498</td>\n",
       "      <td>-2.084</td>\n",
       "      <td>-2.817</td>\n",
       "      <td>-3.846</td>\n",
       "      <td>0.001</td>\n",
       "      <td>1.607</td>\n",
       "      <td>20.850</td>\n",
       "      <td>0.608</td>\n",
       "      <td>7.191</td>\n",
       "      <td>-0.193</td>\n",
       "      <td>-8.286</td>\n",
       "    </tr>\n",
       "    <tr>\n",
       "      <th>7</th>\n",
       "      <td>2019</td>\n",
       "      <td>2.067</td>\n",
       "      <td>2.662</td>\n",
       "      <td>4.319</td>\n",
       "      <td>3.832</td>\n",
       "      <td>3.417</td>\n",
       "      <td>2.187</td>\n",
       "      <td>10.838</td>\n",
       "      <td>1.591</td>\n",
       "      <td>3.619</td>\n",
       "      <td>-8.089</td>\n",
       "      <td>-10.544</td>\n",
       "      <td>-2.622</td>\n",
       "      <td>-11.389</td>\n",
       "      <td>2.463</td>\n",
       "      <td>-5.835</td>\n",
       "      <td>-0.580</td>\n",
       "      <td>0.468</td>\n",
       "      <td>1.204</td>\n",
       "      <td>1.140</td>\n",
       "      <td>-0.195</td>\n",
       "      <td>-0.463</td>\n",
       "      <td>-0.143</td>\n",
       "      <td>3.723</td>\n",
       "    </tr>\n",
       "    <tr>\n",
       "      <th>8</th>\n",
       "      <td>2020</td>\n",
       "      <td>-5.096</td>\n",
       "      <td>-1.813</td>\n",
       "      <td>-4.320</td>\n",
       "      <td>1.089</td>\n",
       "      <td>10.684</td>\n",
       "      <td>10.079</td>\n",
       "      <td>-0.231</td>\n",
       "      <td>-2.858</td>\n",
       "      <td>-2.220</td>\n",
       "      <td>-9.050</td>\n",
       "      <td>-6.181</td>\n",
       "      <td>1.154</td>\n",
       "      <td>4.528</td>\n",
       "      <td>-2.736</td>\n",
       "      <td>-3.329</td>\n",
       "      <td>-3.344</td>\n",
       "      <td>-5.351</td>\n",
       "      <td>0.549</td>\n",
       "      <td>2.956</td>\n",
       "      <td>-0.940</td>\n",
       "      <td>12.112</td>\n",
       "      <td>-2.200</td>\n",
       "      <td>-12.990</td>\n",
       "    </tr>\n",
       "    <tr>\n",
       "      <th>9</th>\n",
       "      <td>2021</td>\n",
       "      <td>NaN</td>\n",
       "      <td>NaN</td>\n",
       "      <td>NaN</td>\n",
       "      <td>NaN</td>\n",
       "      <td>NaN</td>\n",
       "      <td>NaN</td>\n",
       "      <td>NaN</td>\n",
       "      <td>NaN</td>\n",
       "      <td>NaN</td>\n",
       "      <td>NaN</td>\n",
       "      <td>NaN</td>\n",
       "      <td>NaN</td>\n",
       "      <td>NaN</td>\n",
       "      <td>NaN</td>\n",
       "      <td>NaN</td>\n",
       "      <td>NaN</td>\n",
       "      <td>NaN</td>\n",
       "      <td>NaN</td>\n",
       "      <td>NaN</td>\n",
       "      <td>NaN</td>\n",
       "      <td>NaN</td>\n",
       "      <td>NaN</td>\n",
       "      <td>NaN</td>\n",
       "    </tr>\n",
       "  </tbody>\n",
       "</table>\n",
       "</div>"
      ],
      "text/plain": [
       "   season_start_year    FGM    FGA    FG3M    FG3A     FTM     FTA    OREB  \\\n",
       "0               2012 -5.896 -2.288  -1.289   5.640   8.666  10.829  -6.963   \n",
       "1               2013 -1.115  0.799   4.519   7.908   6.638   7.014   8.186   \n",
       "2               2014 -3.602  0.456   6.962  12.348   2.216   4.145  -1.525   \n",
       "3               2015 -4.382  0.708   1.590   6.089   1.086   4.233   0.461   \n",
       "4               2016 -1.288 -0.416   3.236   5.483   5.065   5.621   1.343   \n",
       "5               2017 -6.603  0.334   3.776  12.428  11.375  10.327   5.362   \n",
       "6               2018 -6.418 -2.675  17.618  17.617   5.999   4.324 -15.397   \n",
       "7               2019  2.067  2.662   4.319   3.832   3.417   2.187  10.838   \n",
       "8               2020 -5.096 -1.813  -4.320   1.089  10.684  10.079  -0.231   \n",
       "9               2021    NaN    NaN     NaN     NaN     NaN     NaN     NaN   \n",
       "\n",
       "    DREB    REB     AST     STL     BLK     TOV    PTS  POSS_per_48    FG%  \\\n",
       "0  1.463 -0.846 -10.572  -7.955  -2.529   0.289 -3.100       -3.264 -3.693   \n",
       "1  0.819  2.599  -8.321  -9.111  -0.042  -3.990  0.604       -4.998 -1.898   \n",
       "2  1.860  0.959  -3.358  -2.815   4.672  -7.138 -1.946       -0.278 -4.040   \n",
       "3 -1.419 -0.949  -8.928  -6.954   3.545  -7.172 -3.110       -3.528 -5.054   \n",
       "4 -1.871 -1.333  -6.103  -1.255   0.445  -0.686  0.149       -2.872 -0.876   \n",
       "5  0.554  1.534  -3.387  -8.467  -4.001  -5.636 -2.962       -0.081 -6.914   \n",
       "6  0.367 -3.281  -5.995  -6.807 -13.233   2.498 -2.084       -2.817 -3.846   \n",
       "7  1.591  3.619  -8.089 -10.544  -2.622 -11.389  2.463       -5.835 -0.580   \n",
       "8 -2.858 -2.220  -9.050  -6.181   1.154   4.528 -2.736       -3.329 -3.344   \n",
       "9    NaN    NaN     NaN     NaN     NaN     NaN    NaN          NaN    NaN   \n",
       "\n",
       "    3PT%    FT%   FG3A%  PTS/FGA  FTA/FGA   TRU%  AST_TOV  \n",
       "0 -6.558 -1.951   8.113   -0.832   13.424 -2.344  -10.829  \n",
       "1 -3.140 -0.351   7.053   -0.193    6.166 -0.933   -4.511  \n",
       "2 -4.794 -1.853  11.838   -2.392    3.672 -2.806    4.071  \n",
       "3 -4.241 -3.019   5.343   -3.791    3.500 -4.179   -1.891  \n",
       "4 -2.130 -0.527   5.923    0.567    6.062 -0.131   -5.455  \n",
       "5 -7.696  0.950  12.054   -3.285    9.959 -4.311    2.384  \n",
       "6  0.001  1.607  20.850    0.608    7.191 -0.193   -8.286  \n",
       "7  0.468  1.204   1.140   -0.195   -0.463 -0.143    3.723  \n",
       "8 -5.351  0.549   2.956   -0.940   12.112 -2.200  -12.990  \n",
       "9    NaN    NaN     NaN      NaN      NaN    NaN      NaN  "
      ]
     },
     "execution_count": 109,
     "metadata": {},
     "output_type": "execute_result"
    }
   ],
   "source": [
    "comp_change_df = round(100*(playoffs_change_df - rs_change_df)/rs_change_df,3)\n",
    "comp_change_df['season_start_year'] = list(range(2012,2022))\n",
    "comp_change_df"
   ]
  },
  {
   "cell_type": "code",
   "execution_count": 112,
   "id": "27f34a90",
   "metadata": {},
   "outputs": [
    {
     "data": {
      "text/html": [
       "<div>\n",
       "<style scoped>\n",
       "    .dataframe tbody tr th:only-of-type {\n",
       "        vertical-align: middle;\n",
       "    }\n",
       "\n",
       "    .dataframe tbody tr th {\n",
       "        vertical-align: top;\n",
       "    }\n",
       "\n",
       "    .dataframe thead th {\n",
       "        text-align: right;\n",
       "    }\n",
       "</style>\n",
       "<table border=\"1\" class=\"dataframe\">\n",
       "  <thead>\n",
       "    <tr style=\"text-align: right;\">\n",
       "      <th></th>\n",
       "      <th>season_start_year</th>\n",
       "      <th>FGM</th>\n",
       "      <th>FGA</th>\n",
       "      <th>FG3M</th>\n",
       "      <th>FG3A</th>\n",
       "      <th>FTM</th>\n",
       "      <th>FTA</th>\n",
       "      <th>OREB</th>\n",
       "      <th>DREB</th>\n",
       "      <th>REB</th>\n",
       "      <th>AST</th>\n",
       "      <th>STL</th>\n",
       "      <th>BLK</th>\n",
       "      <th>TOV</th>\n",
       "      <th>PTS</th>\n",
       "      <th>FG%</th>\n",
       "      <th>3PT%</th>\n",
       "      <th>FT%</th>\n",
       "      <th>FG3A%</th>\n",
       "      <th>PTS/FGA</th>\n",
       "      <th>FTA/FGA</th>\n",
       "      <th>TRU%</th>\n",
       "      <th>AST_TOV</th>\n",
       "    </tr>\n",
       "  </thead>\n",
       "  <tbody>\n",
       "    <tr>\n",
       "      <th>0</th>\n",
       "      <td>2012</td>\n",
       "      <td>38.791317</td>\n",
       "      <td>85.858791</td>\n",
       "      <td>7.571296</td>\n",
       "      <td>21.211575</td>\n",
       "      <td>18.702743</td>\n",
       "      <td>24.828474</td>\n",
       "      <td>11.265849</td>\n",
       "      <td>32.280301</td>\n",
       "      <td>43.513296</td>\n",
       "      <td>22.012011</td>\n",
       "      <td>7.783352</td>\n",
       "      <td>5.208812</td>\n",
       "      <td>14.482530</td>\n",
       "      <td>103.829791</td>\n",
       "      <td>0.013494</td>\n",
       "      <td>0.356942</td>\n",
       "      <td>0.753278</td>\n",
       "      <td>0.247052</td>\n",
       "      <td>1.209309</td>\n",
       "      <td>0.289178</td>\n",
       "      <td>0.531630</td>\n",
       "      <td>1.519901</td>\n",
       "    </tr>\n",
       "    <tr>\n",
       "      <th>1</th>\n",
       "      <td>2013</td>\n",
       "      <td>39.016808</td>\n",
       "      <td>85.905449</td>\n",
       "      <td>8.147621</td>\n",
       "      <td>22.740587</td>\n",
       "      <td>19.378831</td>\n",
       "      <td>25.484197</td>\n",
       "      <td>11.124224</td>\n",
       "      <td>32.526290</td>\n",
       "      <td>43.641004</td>\n",
       "      <td>22.215164</td>\n",
       "      <td>7.638840</td>\n",
       "      <td>4.750203</td>\n",
       "      <td>14.005729</td>\n",
       "      <td>105.457836</td>\n",
       "      <td>0.010798</td>\n",
       "      <td>0.358285</td>\n",
       "      <td>0.760425</td>\n",
       "      <td>0.264716</td>\n",
       "      <td>1.227604</td>\n",
       "      <td>0.296654</td>\n",
       "      <td>0.537993</td>\n",
       "      <td>1.586148</td>\n",
       "    </tr>\n",
       "    <tr>\n",
       "      <th>2</th>\n",
       "      <td>2014</td>\n",
       "      <td>38.882896</td>\n",
       "      <td>86.856320</td>\n",
       "      <td>8.224084</td>\n",
       "      <td>23.505883</td>\n",
       "      <td>18.247706</td>\n",
       "      <td>24.348524</td>\n",
       "      <td>11.318529</td>\n",
       "      <td>33.965108</td>\n",
       "      <td>45.190803</td>\n",
       "      <td>22.525182</td>\n",
       "      <td>7.871793</td>\n",
       "      <td>5.101074</td>\n",
       "      <td>13.748859</td>\n",
       "      <td>104.142367</td>\n",
       "      <td>0.010656</td>\n",
       "      <td>0.349873</td>\n",
       "      <td>0.749438</td>\n",
       "      <td>0.270630</td>\n",
       "      <td>1.199019</td>\n",
       "      <td>0.280331</td>\n",
       "      <td>0.529061</td>\n",
       "      <td>1.638331</td>\n",
       "    </tr>\n",
       "    <tr>\n",
       "      <th>3</th>\n",
       "      <td>2015</td>\n",
       "      <td>38.646033</td>\n",
       "      <td>86.562164</td>\n",
       "      <td>8.853706</td>\n",
       "      <td>25.228659</td>\n",
       "      <td>18.166633</td>\n",
       "      <td>24.127002</td>\n",
       "      <td>10.833357</td>\n",
       "      <td>34.122815</td>\n",
       "      <td>44.922860</td>\n",
       "      <td>21.809478</td>\n",
       "      <td>7.885294</td>\n",
       "      <td>5.137100</td>\n",
       "      <td>13.655312</td>\n",
       "      <td>104.276713</td>\n",
       "      <td>0.010623</td>\n",
       "      <td>0.350938</td>\n",
       "      <td>0.752959</td>\n",
       "      <td>0.291451</td>\n",
       "      <td>1.204645</td>\n",
       "      <td>0.278725</td>\n",
       "      <td>0.531902</td>\n",
       "      <td>1.597142</td>\n",
       "    </tr>\n",
       "    <tr>\n",
       "      <th>4</th>\n",
       "      <td>2016</td>\n",
       "      <td>39.448806</td>\n",
       "      <td>86.084032</td>\n",
       "      <td>10.044760</td>\n",
       "      <td>28.084991</td>\n",
       "      <td>18.719464</td>\n",
       "      <td>24.093051</td>\n",
       "      <td>10.047078</td>\n",
       "      <td>33.201258</td>\n",
       "      <td>43.185744</td>\n",
       "      <td>22.773995</td>\n",
       "      <td>7.687151</td>\n",
       "      <td>4.708264</td>\n",
       "      <td>13.362104</td>\n",
       "      <td>107.629381</td>\n",
       "      <td>0.010623</td>\n",
       "      <td>0.357656</td>\n",
       "      <td>0.776965</td>\n",
       "      <td>0.326251</td>\n",
       "      <td>1.250283</td>\n",
       "      <td>0.279878</td>\n",
       "      <td>0.551786</td>\n",
       "      <td>1.704372</td>\n",
       "    </tr>\n",
       "    <tr>\n",
       "      <th>5</th>\n",
       "      <td>2017</td>\n",
       "      <td>40.215301</td>\n",
       "      <td>86.490179</td>\n",
       "      <td>10.566795</td>\n",
       "      <td>28.891539</td>\n",
       "      <td>16.937612</td>\n",
       "      <td>21.971249</td>\n",
       "      <td>9.736821</td>\n",
       "      <td>33.825272</td>\n",
       "      <td>43.539039</td>\n",
       "      <td>23.250792</td>\n",
       "      <td>7.800216</td>\n",
       "      <td>4.856883</td>\n",
       "      <td>13.579292</td>\n",
       "      <td>107.965750</td>\n",
       "      <td>0.017866</td>\n",
       "      <td>0.365740</td>\n",
       "      <td>0.770899</td>\n",
       "      <td>0.334044</td>\n",
       "      <td>1.248301</td>\n",
       "      <td>0.254032</td>\n",
       "      <td>0.556946</td>\n",
       "      <td>1.712224</td>\n",
       "    </tr>\n",
       "    <tr>\n",
       "      <th>6</th>\n",
       "      <td>2018</td>\n",
       "      <td>39.440639</td>\n",
       "      <td>86.840817</td>\n",
       "      <td>11.050149</td>\n",
       "      <td>31.464870</td>\n",
       "      <td>18.175014</td>\n",
       "      <td>23.431139</td>\n",
       "      <td>10.171423</td>\n",
       "      <td>33.825141</td>\n",
       "      <td>43.954831</td>\n",
       "      <td>23.229426</td>\n",
       "      <td>7.259340</td>\n",
       "      <td>4.736772</td>\n",
       "      <td>13.020906</td>\n",
       "      <td>108.025292</td>\n",
       "      <td>0.010530</td>\n",
       "      <td>0.351190</td>\n",
       "      <td>0.775678</td>\n",
       "      <td>0.362328</td>\n",
       "      <td>1.243946</td>\n",
       "      <td>0.269817</td>\n",
       "      <td>0.551315</td>\n",
       "      <td>1.784010</td>\n",
       "    </tr>\n",
       "    <tr>\n",
       "      <th>7</th>\n",
       "      <td>2019</td>\n",
       "      <td>38.967935</td>\n",
       "      <td>85.396241</td>\n",
       "      <td>12.449648</td>\n",
       "      <td>34.424890</td>\n",
       "      <td>18.064546</td>\n",
       "      <td>23.109882</td>\n",
       "      <td>8.924639</td>\n",
       "      <td>33.106375</td>\n",
       "      <td>42.008591</td>\n",
       "      <td>23.278060</td>\n",
       "      <td>7.099349</td>\n",
       "      <td>4.379352</td>\n",
       "      <td>13.360050</td>\n",
       "      <td>108.376065</td>\n",
       "      <td>0.010232</td>\n",
       "      <td>0.361647</td>\n",
       "      <td>0.781681</td>\n",
       "      <td>0.403120</td>\n",
       "      <td>1.269096</td>\n",
       "      <td>0.270619</td>\n",
       "      <td>0.562271</td>\n",
       "      <td>1.742363</td>\n",
       "    </tr>\n",
       "    <tr>\n",
       "      <th>8</th>\n",
       "      <td>2020</td>\n",
       "      <td>40.759959</td>\n",
       "      <td>87.377622</td>\n",
       "      <td>12.533564</td>\n",
       "      <td>33.975668</td>\n",
       "      <td>17.499182</td>\n",
       "      <td>22.279975</td>\n",
       "      <td>9.724232</td>\n",
       "      <td>33.280728</td>\n",
       "      <td>43.009889</td>\n",
       "      <td>23.765964</td>\n",
       "      <td>7.109582</td>\n",
       "      <td>4.504789</td>\n",
       "      <td>12.543421</td>\n",
       "      <td>111.530485</td>\n",
       "      <td>0.011496</td>\n",
       "      <td>0.368898</td>\n",
       "      <td>0.785422</td>\n",
       "      <td>0.388837</td>\n",
       "      <td>1.276419</td>\n",
       "      <td>0.254985</td>\n",
       "      <td>0.569262</td>\n",
       "      <td>1.894695</td>\n",
       "    </tr>\n",
       "    <tr>\n",
       "      <th>9</th>\n",
       "      <td>2021</td>\n",
       "      <td>39.868267</td>\n",
       "      <td>86.565524</td>\n",
       "      <td>12.507885</td>\n",
       "      <td>35.043304</td>\n",
       "      <td>17.493270</td>\n",
       "      <td>22.337977</td>\n",
       "      <td>9.479634</td>\n",
       "      <td>33.061490</td>\n",
       "      <td>42.573209</td>\n",
       "      <td>24.124818</td>\n",
       "      <td>7.307784</td>\n",
       "      <td>4.511526</td>\n",
       "      <td>13.085400</td>\n",
       "      <td>109.680926</td>\n",
       "      <td>0.011367</td>\n",
       "      <td>0.356927</td>\n",
       "      <td>0.783118</td>\n",
       "      <td>0.404818</td>\n",
       "      <td>1.267028</td>\n",
       "      <td>0.258047</td>\n",
       "      <td>0.564341</td>\n",
       "      <td>1.843644</td>\n",
       "    </tr>\n",
       "  </tbody>\n",
       "</table>\n",
       "</div>"
      ],
      "text/plain": [
       "   season_start_year        FGM        FGA       FG3M       FG3A        FTM  \\\n",
       "0               2012  38.791317  85.858791   7.571296  21.211575  18.702743   \n",
       "1               2013  39.016808  85.905449   8.147621  22.740587  19.378831   \n",
       "2               2014  38.882896  86.856320   8.224084  23.505883  18.247706   \n",
       "3               2015  38.646033  86.562164   8.853706  25.228659  18.166633   \n",
       "4               2016  39.448806  86.084032  10.044760  28.084991  18.719464   \n",
       "5               2017  40.215301  86.490179  10.566795  28.891539  16.937612   \n",
       "6               2018  39.440639  86.840817  11.050149  31.464870  18.175014   \n",
       "7               2019  38.967935  85.396241  12.449648  34.424890  18.064546   \n",
       "8               2020  40.759959  87.377622  12.533564  33.975668  17.499182   \n",
       "9               2021  39.868267  86.565524  12.507885  35.043304  17.493270   \n",
       "\n",
       "         FTA       OREB       DREB        REB        AST       STL       BLK  \\\n",
       "0  24.828474  11.265849  32.280301  43.513296  22.012011  7.783352  5.208812   \n",
       "1  25.484197  11.124224  32.526290  43.641004  22.215164  7.638840  4.750203   \n",
       "2  24.348524  11.318529  33.965108  45.190803  22.525182  7.871793  5.101074   \n",
       "3  24.127002  10.833357  34.122815  44.922860  21.809478  7.885294  5.137100   \n",
       "4  24.093051  10.047078  33.201258  43.185744  22.773995  7.687151  4.708264   \n",
       "5  21.971249   9.736821  33.825272  43.539039  23.250792  7.800216  4.856883   \n",
       "6  23.431139  10.171423  33.825141  43.954831  23.229426  7.259340  4.736772   \n",
       "7  23.109882   8.924639  33.106375  42.008591  23.278060  7.099349  4.379352   \n",
       "8  22.279975   9.724232  33.280728  43.009889  23.765964  7.109582  4.504789   \n",
       "9  22.337977   9.479634  33.061490  42.573209  24.124818  7.307784  4.511526   \n",
       "\n",
       "         TOV         PTS       FG%      3PT%       FT%     FG3A%   PTS/FGA  \\\n",
       "0  14.482530  103.829791  0.013494  0.356942  0.753278  0.247052  1.209309   \n",
       "1  14.005729  105.457836  0.010798  0.358285  0.760425  0.264716  1.227604   \n",
       "2  13.748859  104.142367  0.010656  0.349873  0.749438  0.270630  1.199019   \n",
       "3  13.655312  104.276713  0.010623  0.350938  0.752959  0.291451  1.204645   \n",
       "4  13.362104  107.629381  0.010623  0.357656  0.776965  0.326251  1.250283   \n",
       "5  13.579292  107.965750  0.017866  0.365740  0.770899  0.334044  1.248301   \n",
       "6  13.020906  108.025292  0.010530  0.351190  0.775678  0.362328  1.243946   \n",
       "7  13.360050  108.376065  0.010232  0.361647  0.781681  0.403120  1.269096   \n",
       "8  12.543421  111.530485  0.011496  0.368898  0.785422  0.388837  1.276419   \n",
       "9  13.085400  109.680926  0.011367  0.356927  0.783118  0.404818  1.267028   \n",
       "\n",
       "    FTA/FGA      TRU%   AST_TOV  \n",
       "0  0.289178  0.531630  1.519901  \n",
       "1  0.296654  0.537993  1.586148  \n",
       "2  0.280331  0.529061  1.638331  \n",
       "3  0.278725  0.531902  1.597142  \n",
       "4  0.279878  0.551786  1.704372  \n",
       "5  0.254032  0.556946  1.712224  \n",
       "6  0.269817  0.551315  1.784010  \n",
       "7  0.270619  0.562271  1.742363  \n",
       "8  0.254985  0.569262  1.894695  \n",
       "9  0.258047  0.564341  1.843644  "
      ]
     },
     "execution_count": 112,
     "metadata": {},
     "output_type": "execute_result"
    }
   ],
   "source": [
    "change_per100_df"
   ]
  },
  {
   "cell_type": "code",
   "execution_count": 115,
   "id": "24911828",
   "metadata": {},
   "outputs": [
    {
     "data": {
      "application/vnd.plotly.v1+json": {
       "config": {
        "plotlyServerURL": "https://plot.ly"
       },
       "data": [
        {
         "name": "FGM",
         "type": "scatter",
         "x": [
          2012,
          2013,
          2014,
          2015,
          2016,
          2017,
          2018,
          2019,
          2020,
          2021
         ],
         "y": [
          -5.896,
          -1.115,
          -3.602,
          -4.382,
          -1.288,
          -6.603,
          -6.418,
          2.067,
          -5.096,
          null
         ]
        },
        {
         "name": "FGA",
         "type": "scatter",
         "x": [
          2012,
          2013,
          2014,
          2015,
          2016,
          2017,
          2018,
          2019,
          2020,
          2021
         ],
         "y": [
          -2.288,
          0.799,
          0.456,
          0.708,
          -0.416,
          0.334,
          -2.675,
          2.662,
          -1.813,
          null
         ]
        },
        {
         "name": "FG3M",
         "type": "scatter",
         "x": [
          2012,
          2013,
          2014,
          2015,
          2016,
          2017,
          2018,
          2019,
          2020,
          2021
         ],
         "y": [
          -1.289,
          4.519,
          6.962,
          1.59,
          3.236,
          3.776,
          17.618,
          4.319,
          -4.32,
          null
         ]
        },
        {
         "name": "FG3A",
         "type": "scatter",
         "x": [
          2012,
          2013,
          2014,
          2015,
          2016,
          2017,
          2018,
          2019,
          2020,
          2021
         ],
         "y": [
          5.64,
          7.908,
          12.348,
          6.089,
          5.483,
          12.428,
          17.617,
          3.832,
          1.089,
          null
         ]
        },
        {
         "name": "FTM",
         "type": "scatter",
         "x": [
          2012,
          2013,
          2014,
          2015,
          2016,
          2017,
          2018,
          2019,
          2020,
          2021
         ],
         "y": [
          8.666,
          6.638,
          2.216,
          1.086,
          5.065,
          11.375,
          5.999,
          3.417,
          10.684,
          null
         ]
        },
        {
         "name": "FTA",
         "type": "scatter",
         "x": [
          2012,
          2013,
          2014,
          2015,
          2016,
          2017,
          2018,
          2019,
          2020,
          2021
         ],
         "y": [
          10.829,
          7.014,
          4.145,
          4.233,
          5.621,
          10.327,
          4.324,
          2.187,
          10.079,
          null
         ]
        },
        {
         "name": "OREB",
         "type": "scatter",
         "x": [
          2012,
          2013,
          2014,
          2015,
          2016,
          2017,
          2018,
          2019,
          2020,
          2021
         ],
         "y": [
          -6.963,
          8.186,
          -1.525,
          0.461,
          1.343,
          5.362,
          -15.397,
          10.838,
          -0.231,
          null
         ]
        },
        {
         "name": "DREB",
         "type": "scatter",
         "x": [
          2012,
          2013,
          2014,
          2015,
          2016,
          2017,
          2018,
          2019,
          2020,
          2021
         ],
         "y": [
          1.463,
          0.819,
          1.86,
          -1.419,
          -1.871,
          0.554,
          0.367,
          1.591,
          -2.858,
          null
         ]
        },
        {
         "name": "REB",
         "type": "scatter",
         "x": [
          2012,
          2013,
          2014,
          2015,
          2016,
          2017,
          2018,
          2019,
          2020,
          2021
         ],
         "y": [
          -0.846,
          2.599,
          0.959,
          -0.949,
          -1.333,
          1.534,
          -3.281,
          3.619,
          -2.22,
          null
         ]
        },
        {
         "name": "AST",
         "type": "scatter",
         "x": [
          2012,
          2013,
          2014,
          2015,
          2016,
          2017,
          2018,
          2019,
          2020,
          2021
         ],
         "y": [
          -10.572,
          -8.321,
          -3.358,
          -8.928,
          -6.103,
          -3.387,
          -5.995,
          -8.089,
          -9.05,
          null
         ]
        },
        {
         "name": "STL",
         "type": "scatter",
         "x": [
          2012,
          2013,
          2014,
          2015,
          2016,
          2017,
          2018,
          2019,
          2020,
          2021
         ],
         "y": [
          -7.955,
          -9.111,
          -2.815,
          -6.954,
          -1.255,
          -8.467,
          -6.807,
          -10.544,
          -6.181,
          null
         ]
        },
        {
         "name": "BLK",
         "type": "scatter",
         "x": [
          2012,
          2013,
          2014,
          2015,
          2016,
          2017,
          2018,
          2019,
          2020,
          2021
         ],
         "y": [
          -2.529,
          -0.042,
          4.672,
          3.545,
          0.445,
          -4.001,
          -13.233,
          -2.622,
          1.154,
          null
         ]
        },
        {
         "name": "TOV",
         "type": "scatter",
         "x": [
          2012,
          2013,
          2014,
          2015,
          2016,
          2017,
          2018,
          2019,
          2020,
          2021
         ],
         "y": [
          0.289,
          -3.99,
          -7.138,
          -7.172,
          -0.686,
          -5.636,
          2.498,
          -11.389,
          4.528,
          null
         ]
        },
        {
         "name": "PTS",
         "type": "scatter",
         "x": [
          2012,
          2013,
          2014,
          2015,
          2016,
          2017,
          2018,
          2019,
          2020,
          2021
         ],
         "y": [
          -3.1,
          0.604,
          -1.946,
          -3.11,
          0.149,
          -2.962,
          -2.084,
          2.463,
          -2.736,
          null
         ]
        },
        {
         "name": "POSS_per_48",
         "type": "scatter",
         "x": [
          2012,
          2013,
          2014,
          2015,
          2016,
          2017,
          2018,
          2019,
          2020,
          2021
         ],
         "y": [
          -3.264,
          -4.998,
          -0.278,
          -3.528,
          -2.872,
          -0.081,
          -2.817,
          -5.835,
          -3.329,
          null
         ]
        },
        {
         "name": "FG%",
         "type": "scatter",
         "x": [
          2012,
          2013,
          2014,
          2015,
          2016,
          2017,
          2018,
          2019,
          2020,
          2021
         ],
         "y": [
          -3.693,
          -1.898,
          -4.04,
          -5.054,
          -0.876,
          -6.914,
          -3.846,
          -0.58,
          -3.344,
          null
         ]
        },
        {
         "name": "3PT%",
         "type": "scatter",
         "x": [
          2012,
          2013,
          2014,
          2015,
          2016,
          2017,
          2018,
          2019,
          2020,
          2021
         ],
         "y": [
          -6.558,
          -3.14,
          -4.794,
          -4.241,
          -2.13,
          -7.696,
          0.001,
          0.468,
          -5.351,
          null
         ]
        },
        {
         "name": "FT%",
         "type": "scatter",
         "x": [
          2012,
          2013,
          2014,
          2015,
          2016,
          2017,
          2018,
          2019,
          2020,
          2021
         ],
         "y": [
          -1.951,
          -0.351,
          -1.853,
          -3.019,
          -0.527,
          0.95,
          1.607,
          1.204,
          0.549,
          null
         ]
        },
        {
         "name": "FG3A%",
         "type": "scatter",
         "x": [
          2012,
          2013,
          2014,
          2015,
          2016,
          2017,
          2018,
          2019,
          2020,
          2021
         ],
         "y": [
          8.113,
          7.053,
          11.838,
          5.343,
          5.923,
          12.054,
          20.85,
          1.14,
          2.956,
          null
         ]
        },
        {
         "name": "PTS/FGA",
         "type": "scatter",
         "x": [
          2012,
          2013,
          2014,
          2015,
          2016,
          2017,
          2018,
          2019,
          2020,
          2021
         ],
         "y": [
          -0.832,
          -0.193,
          -2.392,
          -3.791,
          0.567,
          -3.285,
          0.608,
          -0.195,
          -0.94,
          null
         ]
        },
        {
         "name": "FTA/FGA",
         "type": "scatter",
         "x": [
          2012,
          2013,
          2014,
          2015,
          2016,
          2017,
          2018,
          2019,
          2020,
          2021
         ],
         "y": [
          13.424,
          6.166,
          3.672,
          3.5,
          6.062,
          9.959,
          7.191,
          -0.463,
          12.112,
          null
         ]
        },
        {
         "name": "TRU%",
         "type": "scatter",
         "x": [
          2012,
          2013,
          2014,
          2015,
          2016,
          2017,
          2018,
          2019,
          2020,
          2021
         ],
         "y": [
          -2.344,
          -0.933,
          -2.806,
          -4.179,
          -0.131,
          -4.311,
          -0.193,
          -0.143,
          -2.2,
          null
         ]
        },
        {
         "name": "AST_TOV",
         "type": "scatter",
         "x": [
          2012,
          2013,
          2014,
          2015,
          2016,
          2017,
          2018,
          2019,
          2020,
          2021
         ],
         "y": [
          -10.829,
          -4.511,
          4.071,
          -1.891,
          -5.455,
          2.384,
          -8.286,
          3.723,
          -12.99,
          null
         ]
        }
       ],
       "layout": {
        "template": {
         "data": {
          "bar": [
           {
            "error_x": {
             "color": "#2a3f5f"
            },
            "error_y": {
             "color": "#2a3f5f"
            },
            "marker": {
             "line": {
              "color": "#E5ECF6",
              "width": 0.5
             },
             "pattern": {
              "fillmode": "overlay",
              "size": 10,
              "solidity": 0.2
             }
            },
            "type": "bar"
           }
          ],
          "barpolar": [
           {
            "marker": {
             "line": {
              "color": "#E5ECF6",
              "width": 0.5
             },
             "pattern": {
              "fillmode": "overlay",
              "size": 10,
              "solidity": 0.2
             }
            },
            "type": "barpolar"
           }
          ],
          "carpet": [
           {
            "aaxis": {
             "endlinecolor": "#2a3f5f",
             "gridcolor": "white",
             "linecolor": "white",
             "minorgridcolor": "white",
             "startlinecolor": "#2a3f5f"
            },
            "baxis": {
             "endlinecolor": "#2a3f5f",
             "gridcolor": "white",
             "linecolor": "white",
             "minorgridcolor": "white",
             "startlinecolor": "#2a3f5f"
            },
            "type": "carpet"
           }
          ],
          "choropleth": [
           {
            "colorbar": {
             "outlinewidth": 0,
             "ticks": ""
            },
            "type": "choropleth"
           }
          ],
          "contour": [
           {
            "colorbar": {
             "outlinewidth": 0,
             "ticks": ""
            },
            "colorscale": [
             [
              0,
              "#0d0887"
             ],
             [
              0.1111111111111111,
              "#46039f"
             ],
             [
              0.2222222222222222,
              "#7201a8"
             ],
             [
              0.3333333333333333,
              "#9c179e"
             ],
             [
              0.4444444444444444,
              "#bd3786"
             ],
             [
              0.5555555555555556,
              "#d8576b"
             ],
             [
              0.6666666666666666,
              "#ed7953"
             ],
             [
              0.7777777777777778,
              "#fb9f3a"
             ],
             [
              0.8888888888888888,
              "#fdca26"
             ],
             [
              1,
              "#f0f921"
             ]
            ],
            "type": "contour"
           }
          ],
          "contourcarpet": [
           {
            "colorbar": {
             "outlinewidth": 0,
             "ticks": ""
            },
            "type": "contourcarpet"
           }
          ],
          "heatmap": [
           {
            "colorbar": {
             "outlinewidth": 0,
             "ticks": ""
            },
            "colorscale": [
             [
              0,
              "#0d0887"
             ],
             [
              0.1111111111111111,
              "#46039f"
             ],
             [
              0.2222222222222222,
              "#7201a8"
             ],
             [
              0.3333333333333333,
              "#9c179e"
             ],
             [
              0.4444444444444444,
              "#bd3786"
             ],
             [
              0.5555555555555556,
              "#d8576b"
             ],
             [
              0.6666666666666666,
              "#ed7953"
             ],
             [
              0.7777777777777778,
              "#fb9f3a"
             ],
             [
              0.8888888888888888,
              "#fdca26"
             ],
             [
              1,
              "#f0f921"
             ]
            ],
            "type": "heatmap"
           }
          ],
          "heatmapgl": [
           {
            "colorbar": {
             "outlinewidth": 0,
             "ticks": ""
            },
            "colorscale": [
             [
              0,
              "#0d0887"
             ],
             [
              0.1111111111111111,
              "#46039f"
             ],
             [
              0.2222222222222222,
              "#7201a8"
             ],
             [
              0.3333333333333333,
              "#9c179e"
             ],
             [
              0.4444444444444444,
              "#bd3786"
             ],
             [
              0.5555555555555556,
              "#d8576b"
             ],
             [
              0.6666666666666666,
              "#ed7953"
             ],
             [
              0.7777777777777778,
              "#fb9f3a"
             ],
             [
              0.8888888888888888,
              "#fdca26"
             ],
             [
              1,
              "#f0f921"
             ]
            ],
            "type": "heatmapgl"
           }
          ],
          "histogram": [
           {
            "marker": {
             "pattern": {
              "fillmode": "overlay",
              "size": 10,
              "solidity": 0.2
             }
            },
            "type": "histogram"
           }
          ],
          "histogram2d": [
           {
            "colorbar": {
             "outlinewidth": 0,
             "ticks": ""
            },
            "colorscale": [
             [
              0,
              "#0d0887"
             ],
             [
              0.1111111111111111,
              "#46039f"
             ],
             [
              0.2222222222222222,
              "#7201a8"
             ],
             [
              0.3333333333333333,
              "#9c179e"
             ],
             [
              0.4444444444444444,
              "#bd3786"
             ],
             [
              0.5555555555555556,
              "#d8576b"
             ],
             [
              0.6666666666666666,
              "#ed7953"
             ],
             [
              0.7777777777777778,
              "#fb9f3a"
             ],
             [
              0.8888888888888888,
              "#fdca26"
             ],
             [
              1,
              "#f0f921"
             ]
            ],
            "type": "histogram2d"
           }
          ],
          "histogram2dcontour": [
           {
            "colorbar": {
             "outlinewidth": 0,
             "ticks": ""
            },
            "colorscale": [
             [
              0,
              "#0d0887"
             ],
             [
              0.1111111111111111,
              "#46039f"
             ],
             [
              0.2222222222222222,
              "#7201a8"
             ],
             [
              0.3333333333333333,
              "#9c179e"
             ],
             [
              0.4444444444444444,
              "#bd3786"
             ],
             [
              0.5555555555555556,
              "#d8576b"
             ],
             [
              0.6666666666666666,
              "#ed7953"
             ],
             [
              0.7777777777777778,
              "#fb9f3a"
             ],
             [
              0.8888888888888888,
              "#fdca26"
             ],
             [
              1,
              "#f0f921"
             ]
            ],
            "type": "histogram2dcontour"
           }
          ],
          "mesh3d": [
           {
            "colorbar": {
             "outlinewidth": 0,
             "ticks": ""
            },
            "type": "mesh3d"
           }
          ],
          "parcoords": [
           {
            "line": {
             "colorbar": {
              "outlinewidth": 0,
              "ticks": ""
             }
            },
            "type": "parcoords"
           }
          ],
          "pie": [
           {
            "automargin": true,
            "type": "pie"
           }
          ],
          "scatter": [
           {
            "fillpattern": {
             "fillmode": "overlay",
             "size": 10,
             "solidity": 0.2
            },
            "type": "scatter"
           }
          ],
          "scatter3d": [
           {
            "line": {
             "colorbar": {
              "outlinewidth": 0,
              "ticks": ""
             }
            },
            "marker": {
             "colorbar": {
              "outlinewidth": 0,
              "ticks": ""
             }
            },
            "type": "scatter3d"
           }
          ],
          "scattercarpet": [
           {
            "marker": {
             "colorbar": {
              "outlinewidth": 0,
              "ticks": ""
             }
            },
            "type": "scattercarpet"
           }
          ],
          "scattergeo": [
           {
            "marker": {
             "colorbar": {
              "outlinewidth": 0,
              "ticks": ""
             }
            },
            "type": "scattergeo"
           }
          ],
          "scattergl": [
           {
            "marker": {
             "colorbar": {
              "outlinewidth": 0,
              "ticks": ""
             }
            },
            "type": "scattergl"
           }
          ],
          "scattermapbox": [
           {
            "marker": {
             "colorbar": {
              "outlinewidth": 0,
              "ticks": ""
             }
            },
            "type": "scattermapbox"
           }
          ],
          "scatterpolar": [
           {
            "marker": {
             "colorbar": {
              "outlinewidth": 0,
              "ticks": ""
             }
            },
            "type": "scatterpolar"
           }
          ],
          "scatterpolargl": [
           {
            "marker": {
             "colorbar": {
              "outlinewidth": 0,
              "ticks": ""
             }
            },
            "type": "scatterpolargl"
           }
          ],
          "scatterternary": [
           {
            "marker": {
             "colorbar": {
              "outlinewidth": 0,
              "ticks": ""
             }
            },
            "type": "scatterternary"
           }
          ],
          "surface": [
           {
            "colorbar": {
             "outlinewidth": 0,
             "ticks": ""
            },
            "colorscale": [
             [
              0,
              "#0d0887"
             ],
             [
              0.1111111111111111,
              "#46039f"
             ],
             [
              0.2222222222222222,
              "#7201a8"
             ],
             [
              0.3333333333333333,
              "#9c179e"
             ],
             [
              0.4444444444444444,
              "#bd3786"
             ],
             [
              0.5555555555555556,
              "#d8576b"
             ],
             [
              0.6666666666666666,
              "#ed7953"
             ],
             [
              0.7777777777777778,
              "#fb9f3a"
             ],
             [
              0.8888888888888888,
              "#fdca26"
             ],
             [
              1,
              "#f0f921"
             ]
            ],
            "type": "surface"
           }
          ],
          "table": [
           {
            "cells": {
             "fill": {
              "color": "#EBF0F8"
             },
             "line": {
              "color": "white"
             }
            },
            "header": {
             "fill": {
              "color": "#C8D4E3"
             },
             "line": {
              "color": "white"
             }
            },
            "type": "table"
           }
          ]
         },
         "layout": {
          "annotationdefaults": {
           "arrowcolor": "#2a3f5f",
           "arrowhead": 0,
           "arrowwidth": 1
          },
          "autotypenumbers": "strict",
          "coloraxis": {
           "colorbar": {
            "outlinewidth": 0,
            "ticks": ""
           }
          },
          "colorscale": {
           "diverging": [
            [
             0,
             "#8e0152"
            ],
            [
             0.1,
             "#c51b7d"
            ],
            [
             0.2,
             "#de77ae"
            ],
            [
             0.3,
             "#f1b6da"
            ],
            [
             0.4,
             "#fde0ef"
            ],
            [
             0.5,
             "#f7f7f7"
            ],
            [
             0.6,
             "#e6f5d0"
            ],
            [
             0.7,
             "#b8e186"
            ],
            [
             0.8,
             "#7fbc41"
            ],
            [
             0.9,
             "#4d9221"
            ],
            [
             1,
             "#276419"
            ]
           ],
           "sequential": [
            [
             0,
             "#0d0887"
            ],
            [
             0.1111111111111111,
             "#46039f"
            ],
            [
             0.2222222222222222,
             "#7201a8"
            ],
            [
             0.3333333333333333,
             "#9c179e"
            ],
            [
             0.4444444444444444,
             "#bd3786"
            ],
            [
             0.5555555555555556,
             "#d8576b"
            ],
            [
             0.6666666666666666,
             "#ed7953"
            ],
            [
             0.7777777777777778,
             "#fb9f3a"
            ],
            [
             0.8888888888888888,
             "#fdca26"
            ],
            [
             1,
             "#f0f921"
            ]
           ],
           "sequentialminus": [
            [
             0,
             "#0d0887"
            ],
            [
             0.1111111111111111,
             "#46039f"
            ],
            [
             0.2222222222222222,
             "#7201a8"
            ],
            [
             0.3333333333333333,
             "#9c179e"
            ],
            [
             0.4444444444444444,
             "#bd3786"
            ],
            [
             0.5555555555555556,
             "#d8576b"
            ],
            [
             0.6666666666666666,
             "#ed7953"
            ],
            [
             0.7777777777777778,
             "#fb9f3a"
            ],
            [
             0.8888888888888888,
             "#fdca26"
            ],
            [
             1,
             "#f0f921"
            ]
           ]
          },
          "colorway": [
           "#636efa",
           "#EF553B",
           "#00cc96",
           "#ab63fa",
           "#FFA15A",
           "#19d3f3",
           "#FF6692",
           "#B6E880",
           "#FF97FF",
           "#FECB52"
          ],
          "font": {
           "color": "#2a3f5f"
          },
          "geo": {
           "bgcolor": "white",
           "lakecolor": "white",
           "landcolor": "#E5ECF6",
           "showlakes": true,
           "showland": true,
           "subunitcolor": "white"
          },
          "hoverlabel": {
           "align": "left"
          },
          "hovermode": "closest",
          "mapbox": {
           "style": "light"
          },
          "paper_bgcolor": "white",
          "plot_bgcolor": "#E5ECF6",
          "polar": {
           "angularaxis": {
            "gridcolor": "white",
            "linecolor": "white",
            "ticks": ""
           },
           "bgcolor": "#E5ECF6",
           "radialaxis": {
            "gridcolor": "white",
            "linecolor": "white",
            "ticks": ""
           }
          },
          "scene": {
           "xaxis": {
            "backgroundcolor": "#E5ECF6",
            "gridcolor": "white",
            "gridwidth": 2,
            "linecolor": "white",
            "showbackground": true,
            "ticks": "",
            "zerolinecolor": "white"
           },
           "yaxis": {
            "backgroundcolor": "#E5ECF6",
            "gridcolor": "white",
            "gridwidth": 2,
            "linecolor": "white",
            "showbackground": true,
            "ticks": "",
            "zerolinecolor": "white"
           },
           "zaxis": {
            "backgroundcolor": "#E5ECF6",
            "gridcolor": "white",
            "gridwidth": 2,
            "linecolor": "white",
            "showbackground": true,
            "ticks": "",
            "zerolinecolor": "white"
           }
          },
          "shapedefaults": {
           "line": {
            "color": "#2a3f5f"
           }
          },
          "ternary": {
           "aaxis": {
            "gridcolor": "white",
            "linecolor": "white",
            "ticks": ""
           },
           "baxis": {
            "gridcolor": "white",
            "linecolor": "white",
            "ticks": ""
           },
           "bgcolor": "#E5ECF6",
           "caxis": {
            "gridcolor": "white",
            "linecolor": "white",
            "ticks": ""
           }
          },
          "title": {
           "x": 0.05
          },
          "xaxis": {
           "automargin": true,
           "gridcolor": "white",
           "linecolor": "white",
           "ticks": "",
           "title": {
            "standoff": 15
           },
           "zerolinecolor": "white",
           "zerolinewidth": 2
          },
          "yaxis": {
           "automargin": true,
           "gridcolor": "white",
           "linecolor": "white",
           "ticks": "",
           "title": {
            "standoff": 15
           },
           "zerolinecolor": "white",
           "zerolinewidth": 2
          }
         }
        }
       }
      },
      "text/html": [
       "<div>                            <div id=\"c8b26906-50b3-4337-8d41-0a04968f6d1d\" class=\"plotly-graph-div\" style=\"height:525px; width:100%;\"></div>            <script type=\"text/javascript\">                require([\"plotly\"], function(Plotly) {                    window.PLOTLYENV=window.PLOTLYENV || {};                                    if (document.getElementById(\"c8b26906-50b3-4337-8d41-0a04968f6d1d\")) {                    Plotly.newPlot(                        \"c8b26906-50b3-4337-8d41-0a04968f6d1d\",                        [{\"name\":\"FGM\",\"x\":[2012,2013,2014,2015,2016,2017,2018,2019,2020,2021],\"y\":[-5.896,-1.115,-3.602,-4.382,-1.288,-6.603,-6.418,2.067,-5.096,null],\"type\":\"scatter\"},{\"name\":\"FGA\",\"x\":[2012,2013,2014,2015,2016,2017,2018,2019,2020,2021],\"y\":[-2.288,0.799,0.456,0.708,-0.416,0.334,-2.675,2.662,-1.813,null],\"type\":\"scatter\"},{\"name\":\"FG3M\",\"x\":[2012,2013,2014,2015,2016,2017,2018,2019,2020,2021],\"y\":[-1.289,4.519,6.962,1.59,3.236,3.776,17.618,4.319,-4.32,null],\"type\":\"scatter\"},{\"name\":\"FG3A\",\"x\":[2012,2013,2014,2015,2016,2017,2018,2019,2020,2021],\"y\":[5.64,7.908,12.348,6.089,5.483,12.428,17.617,3.832,1.089,null],\"type\":\"scatter\"},{\"name\":\"FTM\",\"x\":[2012,2013,2014,2015,2016,2017,2018,2019,2020,2021],\"y\":[8.666,6.638,2.216,1.086,5.065,11.375,5.999,3.417,10.684,null],\"type\":\"scatter\"},{\"name\":\"FTA\",\"x\":[2012,2013,2014,2015,2016,2017,2018,2019,2020,2021],\"y\":[10.829,7.014,4.145,4.233,5.621,10.327,4.324,2.187,10.079,null],\"type\":\"scatter\"},{\"name\":\"OREB\",\"x\":[2012,2013,2014,2015,2016,2017,2018,2019,2020,2021],\"y\":[-6.963,8.186,-1.525,0.461,1.343,5.362,-15.397,10.838,-0.231,null],\"type\":\"scatter\"},{\"name\":\"DREB\",\"x\":[2012,2013,2014,2015,2016,2017,2018,2019,2020,2021],\"y\":[1.463,0.819,1.86,-1.419,-1.871,0.554,0.367,1.591,-2.858,null],\"type\":\"scatter\"},{\"name\":\"REB\",\"x\":[2012,2013,2014,2015,2016,2017,2018,2019,2020,2021],\"y\":[-0.846,2.599,0.959,-0.949,-1.333,1.534,-3.281,3.619,-2.22,null],\"type\":\"scatter\"},{\"name\":\"AST\",\"x\":[2012,2013,2014,2015,2016,2017,2018,2019,2020,2021],\"y\":[-10.572,-8.321,-3.358,-8.928,-6.103,-3.387,-5.995,-8.089,-9.05,null],\"type\":\"scatter\"},{\"name\":\"STL\",\"x\":[2012,2013,2014,2015,2016,2017,2018,2019,2020,2021],\"y\":[-7.955,-9.111,-2.815,-6.954,-1.255,-8.467,-6.807,-10.544,-6.181,null],\"type\":\"scatter\"},{\"name\":\"BLK\",\"x\":[2012,2013,2014,2015,2016,2017,2018,2019,2020,2021],\"y\":[-2.529,-0.042,4.672,3.545,0.445,-4.001,-13.233,-2.622,1.154,null],\"type\":\"scatter\"},{\"name\":\"TOV\",\"x\":[2012,2013,2014,2015,2016,2017,2018,2019,2020,2021],\"y\":[0.289,-3.99,-7.138,-7.172,-0.686,-5.636,2.498,-11.389,4.528,null],\"type\":\"scatter\"},{\"name\":\"PTS\",\"x\":[2012,2013,2014,2015,2016,2017,2018,2019,2020,2021],\"y\":[-3.1,0.604,-1.946,-3.11,0.149,-2.962,-2.084,2.463,-2.736,null],\"type\":\"scatter\"},{\"name\":\"POSS_per_48\",\"x\":[2012,2013,2014,2015,2016,2017,2018,2019,2020,2021],\"y\":[-3.264,-4.998,-0.278,-3.528,-2.872,-0.081,-2.817,-5.835,-3.329,null],\"type\":\"scatter\"},{\"name\":\"FG%\",\"x\":[2012,2013,2014,2015,2016,2017,2018,2019,2020,2021],\"y\":[-3.693,-1.898,-4.04,-5.054,-0.876,-6.914,-3.846,-0.58,-3.344,null],\"type\":\"scatter\"},{\"name\":\"3PT%\",\"x\":[2012,2013,2014,2015,2016,2017,2018,2019,2020,2021],\"y\":[-6.558,-3.14,-4.794,-4.241,-2.13,-7.696,0.001,0.468,-5.351,null],\"type\":\"scatter\"},{\"name\":\"FT%\",\"x\":[2012,2013,2014,2015,2016,2017,2018,2019,2020,2021],\"y\":[-1.951,-0.351,-1.853,-3.019,-0.527,0.95,1.607,1.204,0.549,null],\"type\":\"scatter\"},{\"name\":\"FG3A%\",\"x\":[2012,2013,2014,2015,2016,2017,2018,2019,2020,2021],\"y\":[8.113,7.053,11.838,5.343,5.923,12.054,20.85,1.14,2.956,null],\"type\":\"scatter\"},{\"name\":\"PTS/FGA\",\"x\":[2012,2013,2014,2015,2016,2017,2018,2019,2020,2021],\"y\":[-0.832,-0.193,-2.392,-3.791,0.567,-3.285,0.608,-0.195,-0.94,null],\"type\":\"scatter\"},{\"name\":\"FTA/FGA\",\"x\":[2012,2013,2014,2015,2016,2017,2018,2019,2020,2021],\"y\":[13.424,6.166,3.672,3.5,6.062,9.959,7.191,-0.463,12.112,null],\"type\":\"scatter\"},{\"name\":\"TRU%\",\"x\":[2012,2013,2014,2015,2016,2017,2018,2019,2020,2021],\"y\":[-2.344,-0.933,-2.806,-4.179,-0.131,-4.311,-0.193,-0.143,-2.2,null],\"type\":\"scatter\"},{\"name\":\"AST_TOV\",\"x\":[2012,2013,2014,2015,2016,2017,2018,2019,2020,2021],\"y\":[-10.829,-4.511,4.071,-1.891,-5.455,2.384,-8.286,3.723,-12.99,null],\"type\":\"scatter\"}],                        {\"template\":{\"data\":{\"histogram2dcontour\":[{\"type\":\"histogram2dcontour\",\"colorbar\":{\"outlinewidth\":0,\"ticks\":\"\"},\"colorscale\":[[0.0,\"#0d0887\"],[0.1111111111111111,\"#46039f\"],[0.2222222222222222,\"#7201a8\"],[0.3333333333333333,\"#9c179e\"],[0.4444444444444444,\"#bd3786\"],[0.5555555555555556,\"#d8576b\"],[0.6666666666666666,\"#ed7953\"],[0.7777777777777778,\"#fb9f3a\"],[0.8888888888888888,\"#fdca26\"],[1.0,\"#f0f921\"]]}],\"choropleth\":[{\"type\":\"choropleth\",\"colorbar\":{\"outlinewidth\":0,\"ticks\":\"\"}}],\"histogram2d\":[{\"type\":\"histogram2d\",\"colorbar\":{\"outlinewidth\":0,\"ticks\":\"\"},\"colorscale\":[[0.0,\"#0d0887\"],[0.1111111111111111,\"#46039f\"],[0.2222222222222222,\"#7201a8\"],[0.3333333333333333,\"#9c179e\"],[0.4444444444444444,\"#bd3786\"],[0.5555555555555556,\"#d8576b\"],[0.6666666666666666,\"#ed7953\"],[0.7777777777777778,\"#fb9f3a\"],[0.8888888888888888,\"#fdca26\"],[1.0,\"#f0f921\"]]}],\"heatmap\":[{\"type\":\"heatmap\",\"colorbar\":{\"outlinewidth\":0,\"ticks\":\"\"},\"colorscale\":[[0.0,\"#0d0887\"],[0.1111111111111111,\"#46039f\"],[0.2222222222222222,\"#7201a8\"],[0.3333333333333333,\"#9c179e\"],[0.4444444444444444,\"#bd3786\"],[0.5555555555555556,\"#d8576b\"],[0.6666666666666666,\"#ed7953\"],[0.7777777777777778,\"#fb9f3a\"],[0.8888888888888888,\"#fdca26\"],[1.0,\"#f0f921\"]]}],\"heatmapgl\":[{\"type\":\"heatmapgl\",\"colorbar\":{\"outlinewidth\":0,\"ticks\":\"\"},\"colorscale\":[[0.0,\"#0d0887\"],[0.1111111111111111,\"#46039f\"],[0.2222222222222222,\"#7201a8\"],[0.3333333333333333,\"#9c179e\"],[0.4444444444444444,\"#bd3786\"],[0.5555555555555556,\"#d8576b\"],[0.6666666666666666,\"#ed7953\"],[0.7777777777777778,\"#fb9f3a\"],[0.8888888888888888,\"#fdca26\"],[1.0,\"#f0f921\"]]}],\"contourcarpet\":[{\"type\":\"contourcarpet\",\"colorbar\":{\"outlinewidth\":0,\"ticks\":\"\"}}],\"contour\":[{\"type\":\"contour\",\"colorbar\":{\"outlinewidth\":0,\"ticks\":\"\"},\"colorscale\":[[0.0,\"#0d0887\"],[0.1111111111111111,\"#46039f\"],[0.2222222222222222,\"#7201a8\"],[0.3333333333333333,\"#9c179e\"],[0.4444444444444444,\"#bd3786\"],[0.5555555555555556,\"#d8576b\"],[0.6666666666666666,\"#ed7953\"],[0.7777777777777778,\"#fb9f3a\"],[0.8888888888888888,\"#fdca26\"],[1.0,\"#f0f921\"]]}],\"surface\":[{\"type\":\"surface\",\"colorbar\":{\"outlinewidth\":0,\"ticks\":\"\"},\"colorscale\":[[0.0,\"#0d0887\"],[0.1111111111111111,\"#46039f\"],[0.2222222222222222,\"#7201a8\"],[0.3333333333333333,\"#9c179e\"],[0.4444444444444444,\"#bd3786\"],[0.5555555555555556,\"#d8576b\"],[0.6666666666666666,\"#ed7953\"],[0.7777777777777778,\"#fb9f3a\"],[0.8888888888888888,\"#fdca26\"],[1.0,\"#f0f921\"]]}],\"mesh3d\":[{\"type\":\"mesh3d\",\"colorbar\":{\"outlinewidth\":0,\"ticks\":\"\"}}],\"scatter\":[{\"fillpattern\":{\"fillmode\":\"overlay\",\"size\":10,\"solidity\":0.2},\"type\":\"scatter\"}],\"parcoords\":[{\"type\":\"parcoords\",\"line\":{\"colorbar\":{\"outlinewidth\":0,\"ticks\":\"\"}}}],\"scatterpolargl\":[{\"type\":\"scatterpolargl\",\"marker\":{\"colorbar\":{\"outlinewidth\":0,\"ticks\":\"\"}}}],\"bar\":[{\"error_x\":{\"color\":\"#2a3f5f\"},\"error_y\":{\"color\":\"#2a3f5f\"},\"marker\":{\"line\":{\"color\":\"#E5ECF6\",\"width\":0.5},\"pattern\":{\"fillmode\":\"overlay\",\"size\":10,\"solidity\":0.2}},\"type\":\"bar\"}],\"scattergeo\":[{\"type\":\"scattergeo\",\"marker\":{\"colorbar\":{\"outlinewidth\":0,\"ticks\":\"\"}}}],\"scatterpolar\":[{\"type\":\"scatterpolar\",\"marker\":{\"colorbar\":{\"outlinewidth\":0,\"ticks\":\"\"}}}],\"histogram\":[{\"marker\":{\"pattern\":{\"fillmode\":\"overlay\",\"size\":10,\"solidity\":0.2}},\"type\":\"histogram\"}],\"scattergl\":[{\"type\":\"scattergl\",\"marker\":{\"colorbar\":{\"outlinewidth\":0,\"ticks\":\"\"}}}],\"scatter3d\":[{\"type\":\"scatter3d\",\"line\":{\"colorbar\":{\"outlinewidth\":0,\"ticks\":\"\"}},\"marker\":{\"colorbar\":{\"outlinewidth\":0,\"ticks\":\"\"}}}],\"scattermapbox\":[{\"type\":\"scattermapbox\",\"marker\":{\"colorbar\":{\"outlinewidth\":0,\"ticks\":\"\"}}}],\"scatterternary\":[{\"type\":\"scatterternary\",\"marker\":{\"colorbar\":{\"outlinewidth\":0,\"ticks\":\"\"}}}],\"scattercarpet\":[{\"type\":\"scattercarpet\",\"marker\":{\"colorbar\":{\"outlinewidth\":0,\"ticks\":\"\"}}}],\"carpet\":[{\"aaxis\":{\"endlinecolor\":\"#2a3f5f\",\"gridcolor\":\"white\",\"linecolor\":\"white\",\"minorgridcolor\":\"white\",\"startlinecolor\":\"#2a3f5f\"},\"baxis\":{\"endlinecolor\":\"#2a3f5f\",\"gridcolor\":\"white\",\"linecolor\":\"white\",\"minorgridcolor\":\"white\",\"startlinecolor\":\"#2a3f5f\"},\"type\":\"carpet\"}],\"table\":[{\"cells\":{\"fill\":{\"color\":\"#EBF0F8\"},\"line\":{\"color\":\"white\"}},\"header\":{\"fill\":{\"color\":\"#C8D4E3\"},\"line\":{\"color\":\"white\"}},\"type\":\"table\"}],\"barpolar\":[{\"marker\":{\"line\":{\"color\":\"#E5ECF6\",\"width\":0.5},\"pattern\":{\"fillmode\":\"overlay\",\"size\":10,\"solidity\":0.2}},\"type\":\"barpolar\"}],\"pie\":[{\"automargin\":true,\"type\":\"pie\"}]},\"layout\":{\"autotypenumbers\":\"strict\",\"colorway\":[\"#636efa\",\"#EF553B\",\"#00cc96\",\"#ab63fa\",\"#FFA15A\",\"#19d3f3\",\"#FF6692\",\"#B6E880\",\"#FF97FF\",\"#FECB52\"],\"font\":{\"color\":\"#2a3f5f\"},\"hovermode\":\"closest\",\"hoverlabel\":{\"align\":\"left\"},\"paper_bgcolor\":\"white\",\"plot_bgcolor\":\"#E5ECF6\",\"polar\":{\"bgcolor\":\"#E5ECF6\",\"angularaxis\":{\"gridcolor\":\"white\",\"linecolor\":\"white\",\"ticks\":\"\"},\"radialaxis\":{\"gridcolor\":\"white\",\"linecolor\":\"white\",\"ticks\":\"\"}},\"ternary\":{\"bgcolor\":\"#E5ECF6\",\"aaxis\":{\"gridcolor\":\"white\",\"linecolor\":\"white\",\"ticks\":\"\"},\"baxis\":{\"gridcolor\":\"white\",\"linecolor\":\"white\",\"ticks\":\"\"},\"caxis\":{\"gridcolor\":\"white\",\"linecolor\":\"white\",\"ticks\":\"\"}},\"coloraxis\":{\"colorbar\":{\"outlinewidth\":0,\"ticks\":\"\"}},\"colorscale\":{\"sequential\":[[0.0,\"#0d0887\"],[0.1111111111111111,\"#46039f\"],[0.2222222222222222,\"#7201a8\"],[0.3333333333333333,\"#9c179e\"],[0.4444444444444444,\"#bd3786\"],[0.5555555555555556,\"#d8576b\"],[0.6666666666666666,\"#ed7953\"],[0.7777777777777778,\"#fb9f3a\"],[0.8888888888888888,\"#fdca26\"],[1.0,\"#f0f921\"]],\"sequentialminus\":[[0.0,\"#0d0887\"],[0.1111111111111111,\"#46039f\"],[0.2222222222222222,\"#7201a8\"],[0.3333333333333333,\"#9c179e\"],[0.4444444444444444,\"#bd3786\"],[0.5555555555555556,\"#d8576b\"],[0.6666666666666666,\"#ed7953\"],[0.7777777777777778,\"#fb9f3a\"],[0.8888888888888888,\"#fdca26\"],[1.0,\"#f0f921\"]],\"diverging\":[[0,\"#8e0152\"],[0.1,\"#c51b7d\"],[0.2,\"#de77ae\"],[0.3,\"#f1b6da\"],[0.4,\"#fde0ef\"],[0.5,\"#f7f7f7\"],[0.6,\"#e6f5d0\"],[0.7,\"#b8e186\"],[0.8,\"#7fbc41\"],[0.9,\"#4d9221\"],[1,\"#276419\"]]},\"xaxis\":{\"gridcolor\":\"white\",\"linecolor\":\"white\",\"ticks\":\"\",\"title\":{\"standoff\":15},\"zerolinecolor\":\"white\",\"automargin\":true,\"zerolinewidth\":2},\"yaxis\":{\"gridcolor\":\"white\",\"linecolor\":\"white\",\"ticks\":\"\",\"title\":{\"standoff\":15},\"zerolinecolor\":\"white\",\"automargin\":true,\"zerolinewidth\":2},\"scene\":{\"xaxis\":{\"backgroundcolor\":\"#E5ECF6\",\"gridcolor\":\"white\",\"linecolor\":\"white\",\"showbackground\":true,\"ticks\":\"\",\"zerolinecolor\":\"white\",\"gridwidth\":2},\"yaxis\":{\"backgroundcolor\":\"#E5ECF6\",\"gridcolor\":\"white\",\"linecolor\":\"white\",\"showbackground\":true,\"ticks\":\"\",\"zerolinecolor\":\"white\",\"gridwidth\":2},\"zaxis\":{\"backgroundcolor\":\"#E5ECF6\",\"gridcolor\":\"white\",\"linecolor\":\"white\",\"showbackground\":true,\"ticks\":\"\",\"zerolinecolor\":\"white\",\"gridwidth\":2}},\"shapedefaults\":{\"line\":{\"color\":\"#2a3f5f\"}},\"annotationdefaults\":{\"arrowcolor\":\"#2a3f5f\",\"arrowhead\":0,\"arrowwidth\":1},\"geo\":{\"bgcolor\":\"white\",\"landcolor\":\"#E5ECF6\",\"subunitcolor\":\"white\",\"showland\":true,\"showlakes\":true,\"lakecolor\":\"white\"},\"title\":{\"x\":0.05},\"mapbox\":{\"style\":\"light\"}}}},                        {\"responsive\": true}                    ).then(function(){\n",
       "                            \n",
       "var gd = document.getElementById('c8b26906-50b3-4337-8d41-0a04968f6d1d');\n",
       "var x = new MutationObserver(function (mutations, observer) {{\n",
       "        var display = window.getComputedStyle(gd).display;\n",
       "        if (!display || display === 'none') {{\n",
       "            console.log([gd, 'removed!']);\n",
       "            Plotly.purge(gd);\n",
       "            observer.disconnect();\n",
       "        }}\n",
       "}});\n",
       "\n",
       "// Listen for the removal of the full notebook cells\n",
       "var notebookContainer = gd.closest('#notebook-container');\n",
       "if (notebookContainer) {{\n",
       "    x.observe(notebookContainer, {childList: true});\n",
       "}}\n",
       "\n",
       "// Listen for the clearing of the current output cell\n",
       "var outputEl = gd.closest('.output');\n",
       "if (outputEl) {{\n",
       "    x.observe(outputEl, {childList: true});\n",
       "}}\n",
       "\n",
       "                        })                };                });            </script>        </div>"
      ]
     },
     "metadata": {},
     "output_type": "display_data"
    }
   ],
   "source": [
    "fig = go.Figure()\n",
    "for col in comp_change_df.columns[1:]:\n",
    "    fig.add_trace(go.Scatter(x=comp_change_df['season_start_year'],\n",
    "                            y=comp_change_df[col], name=col))\n",
    "fig.show()"
   ]
  },
  {
   "cell_type": "code",
   "execution_count": null,
   "id": "159e4ee9",
   "metadata": {},
   "outputs": [],
   "source": []
  }
 ],
 "metadata": {
  "kernelspec": {
   "display_name": "AI3ANN",
   "language": "python",
   "name": "ai3ann"
  },
  "language_info": {
   "codemirror_mode": {
    "name": "ipython",
    "version": 3
   },
   "file_extension": ".py",
   "mimetype": "text/x-python",
   "name": "python",
   "nbconvert_exporter": "python",
   "pygments_lexer": "ipython3",
   "version": "3.9.12"
  }
 },
 "nbformat": 4,
 "nbformat_minor": 5
}
